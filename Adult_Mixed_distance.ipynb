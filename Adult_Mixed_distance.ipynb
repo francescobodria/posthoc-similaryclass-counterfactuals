{
 "cells": [
  {
   "cell_type": "code",
   "execution_count": 1,
   "id": "2aa08d80-31c9-40a1-889c-dc6465739914",
   "metadata": {},
   "outputs": [],
   "source": [
    "import pandas as pd\n",
    "import numpy as np\n",
    "import torch\n",
    "import torch.nn as nn\n",
    "import torch.nn.functional as F\n",
    "from torch.utils.data import TensorDataset, DataLoader\n",
    "from tqdm.notebook import tqdm\n",
    "import time\n",
    "import os\n",
    "\n",
    "rnd = 384\n",
    "np.random.seed(rnd)"
   ]
  },
  {
   "cell_type": "code",
   "execution_count": 2,
   "id": "6392e3ab-2ef1-4409-b1db-9c09cb231175",
   "metadata": {},
   "outputs": [],
   "source": [
    "from sklearn.preprocessing import OrdinalEncoder, MinMaxScaler\n",
    "from sklearn.model_selection import train_test_split\n",
    "\n",
    "df = pd.read_csv('./data/adult_clear.csv')\n",
    "df = df[df[\"workclass\"] != \"?\"]\n",
    "df = df[df[\"occupation\"] != \"?\"]\n",
    "df = df[df[\"native-country\"] != \"?\"]\n",
    "df.replace(['Divorced', 'Married-AF-spouse',\n",
    "            'Married-civ-spouse', 'Married-spouse-absent',\n",
    "            'Never-married', 'Separated', 'Widowed'],\n",
    "           ['notmarried', 'married', 'married', 'married',\n",
    "            'notmarried', 'notmarried', 'notmarried'], inplace=True)\n",
    "df['education'].replace(['Preschool', '10th', '11th', '12th', '1st-4th', '5th-6th', '7th-8th', '9th'], 'dropout',\n",
    "                        inplace=True)\n",
    "df['education'].replace(['HS-Grad', 'HS-grad'], 'HighGrad', inplace=True)\n",
    "df['education'].replace(['Some-college', 'Assoc-acdm', 'Assoc-voc'], 'CommunityCollege', inplace=True)\n",
    "df = df[df.race == 'White']\n",
    "# excludes 10 observations\n",
    "df = df[df['workclass'] != 'Never-worked']\n",
    "# excludes 14 observations\n",
    "df = df[df['occupation'] != 'Armed-Forces']\n",
    "# excludes 21 observations\n",
    "df = df[df['workclass'] != 'Without-pay']\n",
    "df.drop(['fnlwgt', 'educational-num', 'relationship', 'race', 'capital-gain', 'capital-loss'],\n",
    "            axis=1, inplace=True)\n",
    "df['workclass'].replace(['Local-gov', 'State-gov', 'Federal-gov'], 'Gov', inplace=True)\n",
    "df['workclass'].replace(['Private', 'Self-emp-not-inc', 'Self-emp-inc'], 'Private', inplace=True)\n",
    "df['occupation'].replace(\n",
    "    ['Craft-repair', 'Machine-op-inspct', 'Handlers-cleaners', 'Transport-moving', 'Adm-clerical',\n",
    "     'Farming-fishing'], 'BlueCollar', inplace=True)\n",
    "df['occupation'].replace(['Other-service', 'Protective-serv', 'Tech-support', 'Priv-house-serv'], 'Services',\n",
    "                         inplace=True)\n",
    "df['occupation'].replace(['Exec-managerial'], 'ExecManagerial', inplace=True)\n",
    "df['occupation'].replace(['Prof-specialty'], 'ProfSpecialty', inplace=True)\n",
    "df['education'].replace(['Prof-school'], 'ProfSchool', inplace=True)\n",
    "df['native-country'].replace(['Cambodia', 'Canada', 'China', 'Columbia', 'Cuba', 'Dominican-Republic', 'Ecuador', \\\n",
    "                              'El-Salvador', 'England', 'France', 'Germany', 'Greece', 'Guatemala', 'Haiti',\\\n",
    "                              'Holand-Netherlands', 'Honduras', 'Hong', 'Hungary', 'India', 'Iran', 'Ireland',\\\n",
    "                              'Italy', 'Jamaica', 'Japan', 'Mexico', 'Nicaragua', 'Outlying-US(Guam-USVI-etc)',\\\n",
    "                              'Peru', 'Philippines', 'Poland', 'Portugal', 'Puerto-Rico', 'Scotland', 'South',\\\n",
    "                              'Taiwan','Thailand', 'Trinadad&Tobago', 'Vietnam','Yugoslavia'], 'Non_US', inplace=True)\n",
    "df.rename(columns={'hours-per-week': 'hoursPerWeek'}, inplace=True)\n",
    "df.rename(columns={'marital-status': 'marital_status'}, inplace=True)\n",
    "df.rename(columns={'native-country': 'native_country'}, inplace=True)\n",
    "columns_titles = [\"age\",\"hoursPerWeek\",\"education\",\"marital_status\",\"occupation\",\"gender\",\"native_country\",\"income\"]\n",
    "df=df.reindex(columns=columns_titles)\n",
    "df = df[~df.duplicated()]\n",
    "X = df.copy()\n",
    "enc = OrdinalEncoder()\n",
    "std = MinMaxScaler(feature_range=(-1,1))\n",
    "X.iloc[:,2:] = enc.fit_transform(X.values[:,2:]).astype(int)\n",
    "X.iloc[:,:2] = std.fit_transform(X.values[:,:2])\n",
    "X.drop(['income'], axis=1, inplace=True)\n",
    "y = df[\"income\"].apply(lambda x: \">50K\" in x).astype(int)\n",
    "\n",
    "X_train, X_test, y_train, y_test = train_test_split(X, y, test_size=0.2, stratify=y, random_state=rnd)"
   ]
  },
  {
   "cell_type": "code",
   "execution_count": 3,
   "id": "5d65b740-5e84-4ffe-aa8d-de5e20d37bc8",
   "metadata": {},
   "outputs": [
    {
     "data": {
      "text/html": [
       "<div>\n",
       "<style scoped>\n",
       "    .dataframe tbody tr th:only-of-type {\n",
       "        vertical-align: middle;\n",
       "    }\n",
       "\n",
       "    .dataframe tbody tr th {\n",
       "        vertical-align: top;\n",
       "    }\n",
       "\n",
       "    .dataframe thead th {\n",
       "        text-align: right;\n",
       "    }\n",
       "</style>\n",
       "<table border=\"1\" class=\"dataframe\">\n",
       "  <thead>\n",
       "    <tr style=\"text-align: right;\">\n",
       "      <th></th>\n",
       "      <th>age</th>\n",
       "      <th>hoursPerWeek</th>\n",
       "      <th>education</th>\n",
       "      <th>marital_status</th>\n",
       "      <th>occupation</th>\n",
       "      <th>gender</th>\n",
       "      <th>native_country</th>\n",
       "    </tr>\n",
       "  </thead>\n",
       "  <tbody>\n",
       "    <tr>\n",
       "      <th>17534</th>\n",
       "      <td>-0.041096</td>\n",
       "      <td>-0.142857</td>\n",
       "      <td>3</td>\n",
       "      <td>1</td>\n",
       "      <td>0</td>\n",
       "      <td>0</td>\n",
       "      <td>1</td>\n",
       "    </tr>\n",
       "    <tr>\n",
       "      <th>14204</th>\n",
       "      <td>-0.342466</td>\n",
       "      <td>-0.040816</td>\n",
       "      <td>3</td>\n",
       "      <td>1</td>\n",
       "      <td>0</td>\n",
       "      <td>1</td>\n",
       "      <td>1</td>\n",
       "    </tr>\n",
       "    <tr>\n",
       "      <th>18447</th>\n",
       "      <td>-0.178082</td>\n",
       "      <td>-0.204082</td>\n",
       "      <td>3</td>\n",
       "      <td>0</td>\n",
       "      <td>3</td>\n",
       "      <td>1</td>\n",
       "      <td>1</td>\n",
       "    </tr>\n",
       "    <tr>\n",
       "      <th>10398</th>\n",
       "      <td>0.013699</td>\n",
       "      <td>-0.204082</td>\n",
       "      <td>1</td>\n",
       "      <td>1</td>\n",
       "      <td>3</td>\n",
       "      <td>0</td>\n",
       "      <td>1</td>\n",
       "    </tr>\n",
       "    <tr>\n",
       "      <th>24516</th>\n",
       "      <td>-0.753425</td>\n",
       "      <td>-0.367347</td>\n",
       "      <td>6</td>\n",
       "      <td>1</td>\n",
       "      <td>2</td>\n",
       "      <td>0</td>\n",
       "      <td>1</td>\n",
       "    </tr>\n",
       "    <tr>\n",
       "      <th>...</th>\n",
       "      <td>...</td>\n",
       "      <td>...</td>\n",
       "      <td>...</td>\n",
       "      <td>...</td>\n",
       "      <td>...</td>\n",
       "      <td>...</td>\n",
       "      <td>...</td>\n",
       "    </tr>\n",
       "    <tr>\n",
       "      <th>35701</th>\n",
       "      <td>-0.150685</td>\n",
       "      <td>-0.714286</td>\n",
       "      <td>3</td>\n",
       "      <td>1</td>\n",
       "      <td>2</td>\n",
       "      <td>1</td>\n",
       "      <td>1</td>\n",
       "    </tr>\n",
       "    <tr>\n",
       "      <th>11005</th>\n",
       "      <td>-0.671233</td>\n",
       "      <td>-0.204082</td>\n",
       "      <td>6</td>\n",
       "      <td>1</td>\n",
       "      <td>0</td>\n",
       "      <td>0</td>\n",
       "      <td>1</td>\n",
       "    </tr>\n",
       "    <tr>\n",
       "      <th>952</th>\n",
       "      <td>-0.369863</td>\n",
       "      <td>-0.204082</td>\n",
       "      <td>3</td>\n",
       "      <td>0</td>\n",
       "      <td>0</td>\n",
       "      <td>0</td>\n",
       "      <td>1</td>\n",
       "    </tr>\n",
       "    <tr>\n",
       "      <th>47357</th>\n",
       "      <td>-0.095890</td>\n",
       "      <td>0.102041</td>\n",
       "      <td>4</td>\n",
       "      <td>0</td>\n",
       "      <td>3</td>\n",
       "      <td>1</td>\n",
       "      <td>1</td>\n",
       "    </tr>\n",
       "    <tr>\n",
       "      <th>1102</th>\n",
       "      <td>-0.561644</td>\n",
       "      <td>0.530612</td>\n",
       "      <td>1</td>\n",
       "      <td>0</td>\n",
       "      <td>0</td>\n",
       "      <td>1</td>\n",
       "      <td>1</td>\n",
       "    </tr>\n",
       "  </tbody>\n",
       "</table>\n",
       "<p>16270 rows × 7 columns</p>\n",
       "</div>"
      ],
      "text/plain": [
       "            age  hoursPerWeek  education  marital_status  occupation  gender  \\\n",
       "17534 -0.041096     -0.142857          3               1           0       0   \n",
       "14204 -0.342466     -0.040816          3               1           0       1   \n",
       "18447 -0.178082     -0.204082          3               0           3       1   \n",
       "10398  0.013699     -0.204082          1               1           3       0   \n",
       "24516 -0.753425     -0.367347          6               1           2       0   \n",
       "...         ...           ...        ...             ...         ...     ...   \n",
       "35701 -0.150685     -0.714286          3               1           2       1   \n",
       "11005 -0.671233     -0.204082          6               1           0       0   \n",
       "952   -0.369863     -0.204082          3               0           0       0   \n",
       "47357 -0.095890      0.102041          4               0           3       1   \n",
       "1102  -0.561644      0.530612          1               0           0       1   \n",
       "\n",
       "       native_country  \n",
       "17534               1  \n",
       "14204               1  \n",
       "18447               1  \n",
       "10398               1  \n",
       "24516               1  \n",
       "...               ...  \n",
       "35701               1  \n",
       "11005               1  \n",
       "952                 1  \n",
       "47357               1  \n",
       "1102                1  \n",
       "\n",
       "[16270 rows x 7 columns]"
      ]
     },
     "execution_count": 3,
     "metadata": {},
     "output_type": "execute_result"
    }
   ],
   "source": [
    "X_train"
   ]
  },
  {
   "cell_type": "code",
   "execution_count": 4,
   "id": "33baf3fb",
   "metadata": {},
   "outputs": [
    {
     "name": "stdout",
     "output_type": "stream",
     "text": [
      "[16:16:15] WARNING: /Users/runner/miniforge3/conda-bld/xgboost-split_1645117948562/work/src/learner.cc:1115: Starting in XGBoost 1.3.0, the default evaluation metric used with the objective 'binary:logistic' was changed from 'error' to 'logloss'. Explicitly set eval_metric if you'd like to restore the old behavior.\n"
     ]
    },
    {
     "name": "stderr",
     "output_type": "stream",
     "text": [
      "/Users/francescobodria/anaconda3/envs/latent_space/lib/python3.8/site-packages/xgboost/compat.py:36: FutureWarning: pandas.Int64Index is deprecated and will be removed from pandas in a future version. Use pandas.Index with the appropriate dtype instead.\n",
      "  from pandas import MultiIndex, Int64Index\n"
     ]
    }
   ],
   "source": [
    "import xgboost as xgb\n",
    "dtrain = xgb.DMatrix(X_train.values, y_train.values)\n",
    "# train model\n",
    "bst = xgb.train({'objective':'binary:logistic'}, dtrain, 20)\n",
    "bst.save_model('black_box.bst')"
   ]
  },
  {
   "cell_type": "code",
   "execution_count": 5,
   "id": "42dc6acf",
   "metadata": {},
   "outputs": [],
   "source": [
    "def predict(x, return_proba=False):\n",
    "    if len(x.shape)==1:\n",
    "        d = xgb.DMatrix(x.reshape(1,-1))\n",
    "    else:\n",
    "        d = xgb.DMatrix(x)\n",
    "    if return_proba:\n",
    "        return bst.predict(d)\n",
    "    else: return np.round(bst.predict(d)).astype(int)"
   ]
  },
  {
   "cell_type": "code",
   "execution_count": 6,
   "id": "cf2c6879",
   "metadata": {},
   "outputs": [
    {
     "name": "stdout",
     "output_type": "stream",
     "text": [
      "train acc: 0.7878918254456054\n",
      "test acc: 0.7647492625368731\n"
     ]
    }
   ],
   "source": [
    "dtest = xgb.DMatrix(X_test.values)\n",
    "y_train_pred = bst.predict(dtrain)\n",
    "y_test_pred = bst.predict(dtest)\n",
    "print('train acc:',np.mean(np.round(y_train_pred)==y_train))\n",
    "print('test acc:',np.mean(np.round(y_test_pred)==y_test))"
   ]
  },
  {
   "cell_type": "code",
   "execution_count": 7,
   "id": "29e2b442",
   "metadata": {},
   "outputs": [],
   "source": [
    "X_train = np.hstack((X_train.values,y_train_pred.reshape(-1,1)))\n",
    "X_test = np.hstack((X_test.values,y_test_pred.reshape(-1,1)))"
   ]
  },
  {
   "cell_type": "code",
   "execution_count": 8,
   "id": "b33fe1e2-7f55-4af9-b03b-e96ccd62cec6",
   "metadata": {},
   "outputs": [],
   "source": [
    "latent_dim = 2\n",
    "batch_size = 1024\n",
    "sigma = 1\n",
    "max_epochs = 1000\n",
    "early_stopping = 3\n",
    "learning_rate = 1e-3\n",
    "idx_cat = [2,3,4,5,6]\n",
    "\n",
    "similarity_KLD = torch.nn.KLDivLoss(reduction='batchmean')\n",
    "\n",
    "def compute_similarity(X, sigma, idx_cat=None):\n",
    "    if idx_cat:\n",
    "        X_cat = X[:, idx_cat]\n",
    "        X_cont = X[:, np.delete(range(X.shape[1]),idx_cat)]\n",
    "        h = X_cat.shape[1]\n",
    "        m = X.shape[1]\n",
    "        D_cont = torch.cdist(X_cont,X_cont)\n",
    "        D_cat = torch.cdist(X_cat, X_cat, p=0)/h\n",
    "        D = h/m * D_cat + ((m-h)/m) * D_cont\n",
    "    else:\n",
    "        D = torch.cdist(X,X)\n",
    "    M = torch.exp((-D**2)/(2*sigma**2))\n",
    "    return M / (torch.ones([M.shape[0],M.shape[1]])*(torch.sum(M, axis = 0)-1)).transpose(0,1)\n",
    "\n",
    "def loss_function(X, Z, idx_cat, sigma=1):\n",
    "    Sx = compute_similarity(X, sigma, idx_cat)\n",
    "    Sz = compute_similarity(Z, 1)\n",
    "    loss = similarity_KLD(torch.log(Sx), Sz)\n",
    "    return loss\n",
    "\n",
    "class LinearModel(nn.Module):\n",
    "    def __init__(self, input_shape, latent_dim=2):\n",
    "        super(LinearModel, self).__init__()\n",
    "\n",
    "        # encoding components\n",
    "        self.fc1 = nn.Linear(input_shape, latent_dim)\n",
    "\n",
    "    def encode(self, x):\n",
    "        x = self.fc1(x)\n",
    "        return x\n",
    "\n",
    "    def forward(self, x):\n",
    "        z = self.encode(x)\n",
    "        return z\n",
    "\n",
    "# Create Model\n",
    "model = LinearModel(X_train.shape[1], latent_dim=latent_dim)"
   ]
  },
  {
   "cell_type": "code",
   "execution_count": 9,
   "id": "e9a2e8eb",
   "metadata": {},
   "outputs": [
    {
     "data": {
      "application/vnd.jupyter.widget-view+json": {
       "model_id": "c1c528c492f34af390f056316e948ae0",
       "version_major": 2,
       "version_minor": 0
      },
      "text/plain": [
       "Epoch: 000 Train Sim Loss 0.00000 Test Sim Loss 0.00000 Early Stopping 0"
      ]
     },
     "metadata": {},
     "output_type": "display_data"
    }
   ],
   "source": [
    "train_dataset = TensorDataset(torch.tensor(X_train).float())\n",
    "train_loader = DataLoader(train_dataset, batch_size=batch_size, shuffle=True) \n",
    "test_dataset = TensorDataset(torch.tensor(X_test).float())\n",
    "test_loader = DataLoader(test_dataset, batch_size=batch_size, shuffle=False) \n",
    "\n",
    "def check_and_clear(dir_name):\n",
    "    if not os.path.exists(dir_name):\n",
    "        os.mkdir(dir_name)\n",
    "    else:\n",
    "        os.system('rm -r ' + dir_name)\n",
    "        os.mkdir(dir_name)\n",
    "\n",
    "check_and_clear('./models/weights')\n",
    "\n",
    "model_params = list(model.parameters())\n",
    "optimizer = torch.optim.Adam(model_params, lr=learning_rate)\n",
    "\n",
    "# record training process\n",
    "epoch_train_losses = []\n",
    "epoch_test_losses = []\n",
    "\n",
    "#validation parameters\n",
    "epoch = 1\n",
    "best = np.inf\n",
    "\n",
    "# progress bar\n",
    "pbar = tqdm(bar_format=\"{postfix[0]} {postfix[1][value]:03d} {postfix[2]} {postfix[3][value]:.5f} {postfix[4]} {postfix[5][value]:.5f} {postfix[6]} {postfix[7][value]:d}\",\n",
    "            postfix=[\"Epoch:\", {'value':0}, \"Train Sim Loss\", {'value':0}, \"Test Sim Loss\", {'value':0}, \"Early Stopping\", {\"value\":0}])\n",
    "\n",
    "# start training\n",
    "while epoch <= max_epochs:\n",
    "\n",
    "    # ------- TRAIN ------- #\n",
    "    # set model as training mode\n",
    "    model.train()\n",
    "    batch_loss = []\n",
    "\n",
    "    for batch, (X_batch,) in enumerate(train_loader):\n",
    "        optimizer.zero_grad()\n",
    "        Z_batch = model(X_batch)  #\n",
    "        loss  = loss_function(X_batch, Z_batch, idx_cat, sigma) \n",
    "        loss.backward()\n",
    "        optimizer.step()\n",
    "        batch_loss.append(loss.item())\n",
    "\n",
    "    # save result\n",
    "    epoch_train_losses.append(np.mean(batch_loss))\n",
    "    pbar.postfix[3][\"value\"] = np.mean(batch_loss)\n",
    "\n",
    "    # -------- VALIDATION --------\n",
    "\n",
    "    # set model as testing mode\n",
    "    model.eval()\n",
    "    batch_loss = []\n",
    "\n",
    "    with torch.no_grad():\n",
    "        for batch, (X_batch,) in enumerate(test_loader):\n",
    "            Z_batch = model(X_batch)\n",
    "            loss = loss_function(X_batch, Z_batch, idx_cat, sigma)\n",
    "            batch_loss.append(loss.item())\n",
    "\n",
    "    # save information\n",
    "    epoch_test_losses.append(np.mean(batch_loss))\n",
    "    pbar.postfix[5][\"value\"] = np.mean(batch_loss)\n",
    "    pbar.postfix[1][\"value\"] = epoch\n",
    "\n",
    "    if epoch_test_losses[-1] < best:\n",
    "        wait = 0\n",
    "        best = epoch_test_losses[-1]\n",
    "        best_epoch = epoch\n",
    "        torch.save(model.state_dict(), f'./models/weights/LinearTransparent.pt')\n",
    "    else:\n",
    "        wait += 1\n",
    "    pbar.postfix[7][\"value\"] = wait\n",
    "    if wait == early_stopping:\n",
    "        break    \n",
    "    epoch += 1\n",
    "    pbar.update()\n",
    "\n",
    "model.load_state_dict(torch.load(f'./models/weights/LinearTransparent.pt'))\n",
    "with torch.no_grad():\n",
    "    model.eval()\n",
    "    Z_train = model(torch.tensor(X_train).float()).cpu().detach().numpy()\n",
    "    Z_test = model(torch.tensor(X_test).float()).cpu().detach().numpy()\n",
    "\n",
    "torch.save(model.state_dict(), f'./models/adult_mixed_dist_{latent_dim}.pt')"
   ]
  },
  {
   "cell_type": "code",
   "execution_count": 10,
   "id": "d0569976-ce37-4a06-947a-b29d89dfbdbd",
   "metadata": {},
   "outputs": [],
   "source": [
    "model.load_state_dict(torch.load(f'./models/adult_mixed_dist_{latent_dim}.pt'))\n",
    "with torch.no_grad():\n",
    "    model.eval()\n",
    "    Z_train = model(torch.tensor(X_train).float()).cpu().detach().numpy()\n",
    "    Z_test = model(torch.tensor(X_test).float()).cpu().detach().numpy()"
   ]
  },
  {
   "cell_type": "code",
   "execution_count": 11,
   "id": "bc840642",
   "metadata": {},
   "outputs": [
    {
     "data": {
      "image/png": "[encoded data removed]",
      "text/plain": [
       "<Figure size 432x288 with 1 Axes>"
      ]
     },
     "metadata": {
      "needs_background": "light"
     },
     "output_type": "display_data"
    }
   ],
   "source": [
    "idx = 0\n",
    "plt.scatter(Z_train[:,0],Z_train[:,1],c=y_train_pred,cmap='coolwarm')\n",
    "plt.plot(Z_test[idx,0],Z_test[idx,1],'kX',markersize=20)\n",
    "plt.grid()"
   ]
  },
  {
   "cell_type": "code",
   "execution_count": 12,
   "id": "3aa76917-497a-4070-8682-357bce7d2868",
   "metadata": {},
   "outputs": [
    {
     "data": {
      "text/plain": [
       "array([0.03505402], dtype=float32)"
      ]
     },
     "execution_count": 12,
     "metadata": {},
     "output_type": "execute_result"
    }
   ],
   "source": [
    "idx = 0\n",
    "predict(X_test[idx:idx+1,:-1],return_proba=True)"
   ]
  },
  {
   "cell_type": "code",
   "execution_count": 13,
   "id": "c87db2a8",
   "metadata": {},
   "outputs": [],
   "source": [
    "y_contrib = model.fc1.weight.detach().numpy()[:,-1]"
   ]
  },
  {
   "cell_type": "code",
   "execution_count": 14,
   "id": "1820e664",
   "metadata": {},
   "outputs": [
    {
     "data": {
      "image/png": "[encoded data removed]",
      "text/plain": [
       "<Figure size 432x288 with 1 Axes>"
      ]
     },
     "metadata": {
      "needs_background": "light"
     },
     "output_type": "display_data"
    }
   ],
   "source": [
    "plt.scatter(Z_train[:,0], Z_train[:,1], c=y_train_pred, cmap='coolwarm')\n",
    "plt.plot(Z_test[idx,0], Z_test[idx,1], 'kX', markersize=20)\n",
    "m = +2\n",
    "plt.plot(Z_test[idx,0]+m*y_contrib[0], Z_test[idx,1]+m*y_contrib[1], 'mX', markersize=20)\n",
    "plt.grid()"
   ]
  },
  {
   "cell_type": "code",
   "execution_count": 15,
   "id": "df36f3af",
   "metadata": {},
   "outputs": [
    {
     "data": {
      "text/plain": [
       "array([0.28057063, 0.15774645, 0.21404687, 0.10454444, 0.05220185,\n",
       "       0.28814995, 0.02719215, 0.03031424, 0.04824249, 0.09493919],\n",
       "      dtype=float32)"
      ]
     },
     "execution_count": 15,
     "metadata": {},
     "output_type": "execute_result"
    }
   ],
   "source": [
    "from scipy.spatial.distance import cdist\n",
    "neigh = np.argsort(cdist(Z_train,Z_test[idx:idx+1]).ravel())[:10]\n",
    "predict(X_train[neigh,:-1],return_proba=True)"
   ]
  },
  {
   "cell_type": "code",
   "execution_count": 37,
   "id": "0dd652c6",
   "metadata": {},
   "outputs": [
    {
     "data": {
      "text/plain": [
       "array([0.800528  , 0.5764874 , 0.81812507, 0.74369   , 0.7649184 ,\n",
       "       0.72940433, 0.6592708 , 0.81812507, 0.6276643 , 0.58063734],\n",
       "      dtype=float32)"
      ]
     },
     "execution_count": 37,
     "metadata": {},
     "output_type": "execute_result"
    }
   ],
   "source": [
    "from scipy.spatial.distance import cdist\n",
    "m = +2\n",
    "neigh = np.argsort(cdist(Z_train,Z_test[idx:idx+1]+m*y_contrib).ravel())[:10]\n",
    "predict(X_train[neigh,:-1],return_proba=True)"
   ]
  },
  {
   "cell_type": "code",
   "execution_count": 38,
   "id": "5f654b59",
   "metadata": {},
   "outputs": [
    {
     "data": {
      "text/html": [
       "<div>\n",
       "<style scoped>\n",
       "    .dataframe tbody tr th:only-of-type {\n",
       "        vertical-align: middle;\n",
       "    }\n",
       "\n",
       "    .dataframe tbody tr th {\n",
       "        vertical-align: top;\n",
       "    }\n",
       "\n",
       "    .dataframe thead th {\n",
       "        text-align: right;\n",
       "    }\n",
       "</style>\n",
       "<table border=\"1\" class=\"dataframe\">\n",
       "  <thead>\n",
       "    <tr style=\"text-align: right;\">\n",
       "      <th></th>\n",
       "      <th>age</th>\n",
       "      <th>hoursPerWeek</th>\n",
       "      <th>education</th>\n",
       "      <th>marital_status</th>\n",
       "      <th>occupation</th>\n",
       "      <th>gender</th>\n",
       "      <th>native_country</th>\n",
       "      <th>income</th>\n",
       "    </tr>\n",
       "  </thead>\n",
       "  <tbody>\n",
       "    <tr>\n",
       "      <th>0</th>\n",
       "      <td>-0.534247</td>\n",
       "      <td>-0.653061</td>\n",
       "      <td>0.0</td>\n",
       "      <td>1.0</td>\n",
       "      <td>0.0</td>\n",
       "      <td>1.0</td>\n",
       "      <td>1.0</td>\n",
       "      <td>0.035054</td>\n",
       "    </tr>\n",
       "    <tr>\n",
       "      <th>1</th>\n",
       "      <td>-0.095890</td>\n",
       "      <td>0.000000</td>\n",
       "      <td>2.0</td>\n",
       "      <td>0.0</td>\n",
       "      <td>2.0</td>\n",
       "      <td>1.0</td>\n",
       "      <td>1.0</td>\n",
       "      <td>0.800528</td>\n",
       "    </tr>\n",
       "    <tr>\n",
       "      <th>2</th>\n",
       "      <td>0.041096</td>\n",
       "      <td>0.204082</td>\n",
       "      <td>0.0</td>\n",
       "      <td>0.0</td>\n",
       "      <td>0.0</td>\n",
       "      <td>1.0</td>\n",
       "      <td>1.0</td>\n",
       "      <td>0.576487</td>\n",
       "    </tr>\n",
       "    <tr>\n",
       "      <th>3</th>\n",
       "      <td>-0.123288</td>\n",
       "      <td>0.000000</td>\n",
       "      <td>4.0</td>\n",
       "      <td>0.0</td>\n",
       "      <td>2.0</td>\n",
       "      <td>1.0</td>\n",
       "      <td>1.0</td>\n",
       "      <td>0.818125</td>\n",
       "    </tr>\n",
       "    <tr>\n",
       "      <th>4</th>\n",
       "      <td>-0.068493</td>\n",
       "      <td>0.000000</td>\n",
       "      <td>0.0</td>\n",
       "      <td>0.0</td>\n",
       "      <td>1.0</td>\n",
       "      <td>1.0</td>\n",
       "      <td>1.0</td>\n",
       "      <td>0.743690</td>\n",
       "    </tr>\n",
       "    <tr>\n",
       "      <th>5</th>\n",
       "      <td>-0.068493</td>\n",
       "      <td>0.102041</td>\n",
       "      <td>4.0</td>\n",
       "      <td>0.0</td>\n",
       "      <td>3.0</td>\n",
       "      <td>1.0</td>\n",
       "      <td>1.0</td>\n",
       "      <td>0.764918</td>\n",
       "    </tr>\n",
       "    <tr>\n",
       "      <th>6</th>\n",
       "      <td>-0.041096</td>\n",
       "      <td>0.040816</td>\n",
       "      <td>0.0</td>\n",
       "      <td>0.0</td>\n",
       "      <td>2.0</td>\n",
       "      <td>1.0</td>\n",
       "      <td>1.0</td>\n",
       "      <td>0.729404</td>\n",
       "    </tr>\n",
       "    <tr>\n",
       "      <th>7</th>\n",
       "      <td>-0.013699</td>\n",
       "      <td>0.102041</td>\n",
       "      <td>1.0</td>\n",
       "      <td>0.0</td>\n",
       "      <td>1.0</td>\n",
       "      <td>1.0</td>\n",
       "      <td>1.0</td>\n",
       "      <td>0.659271</td>\n",
       "    </tr>\n",
       "    <tr>\n",
       "      <th>8</th>\n",
       "      <td>-0.095890</td>\n",
       "      <td>0.000000</td>\n",
       "      <td>4.0</td>\n",
       "      <td>0.0</td>\n",
       "      <td>2.0</td>\n",
       "      <td>1.0</td>\n",
       "      <td>1.0</td>\n",
       "      <td>0.818125</td>\n",
       "    </tr>\n",
       "    <tr>\n",
       "      <th>9</th>\n",
       "      <td>0.013699</td>\n",
       "      <td>0.204082</td>\n",
       "      <td>1.0</td>\n",
       "      <td>0.0</td>\n",
       "      <td>1.0</td>\n",
       "      <td>1.0</td>\n",
       "      <td>1.0</td>\n",
       "      <td>0.627664</td>\n",
       "    </tr>\n",
       "    <tr>\n",
       "      <th>10</th>\n",
       "      <td>0.013699</td>\n",
       "      <td>0.204082</td>\n",
       "      <td>3.0</td>\n",
       "      <td>0.0</td>\n",
       "      <td>1.0</td>\n",
       "      <td>1.0</td>\n",
       "      <td>1.0</td>\n",
       "      <td>0.580637</td>\n",
       "    </tr>\n",
       "  </tbody>\n",
       "</table>\n",
       "</div>"
      ],
      "text/plain": [
       "         age  hoursPerWeek  education  marital_status  occupation  gender  \\\n",
       "0  -0.534247     -0.653061        0.0             1.0         0.0     1.0   \n",
       "1  -0.095890      0.000000        2.0             0.0         2.0     1.0   \n",
       "2   0.041096      0.204082        0.0             0.0         0.0     1.0   \n",
       "3  -0.123288      0.000000        4.0             0.0         2.0     1.0   \n",
       "4  -0.068493      0.000000        0.0             0.0         1.0     1.0   \n",
       "5  -0.068493      0.102041        4.0             0.0         3.0     1.0   \n",
       "6  -0.041096      0.040816        0.0             0.0         2.0     1.0   \n",
       "7  -0.013699      0.102041        1.0             0.0         1.0     1.0   \n",
       "8  -0.095890      0.000000        4.0             0.0         2.0     1.0   \n",
       "9   0.013699      0.204082        1.0             0.0         1.0     1.0   \n",
       "10  0.013699      0.204082        3.0             0.0         1.0     1.0   \n",
       "\n",
       "    native_country    income  \n",
       "0              1.0  0.035054  \n",
       "1              1.0  0.800528  \n",
       "2              1.0  0.576487  \n",
       "3              1.0  0.818125  \n",
       "4              1.0  0.743690  \n",
       "5              1.0  0.764918  \n",
       "6              1.0  0.729404  \n",
       "7              1.0  0.659271  \n",
       "8              1.0  0.818125  \n",
       "9              1.0  0.627664  \n",
       "10             1.0  0.580637  "
      ]
     },
     "execution_count": 38,
     "metadata": {},
     "output_type": "execute_result"
    }
   ],
   "source": [
    "pd.DataFrame(np.vstack((X_test[idx],X_train[neigh])),columns=df.columns)"
   ]
  },
  {
   "cell_type": "code",
   "execution_count": 39,
   "id": "ed688b29",
   "metadata": {},
   "outputs": [
    {
     "data": {
      "text/plain": [
       "array([[0.78657774, 0.56213854, 0.78725728, 0.65136917, 0.80581075,\n",
       "        0.6619518 , 0.79102965, 0.79120698, 0.81650175, 0.80789344]])"
      ]
     },
     "execution_count": 39,
     "metadata": {},
     "output_type": "execute_result"
    }
   ],
   "source": [
    "x = X_train[neigh]\n",
    "x_cont = x[:,[0,1,7]]\n",
    "x_cat = x[:,[2,3,4,5,6]]\n",
    "(5/8)*cdist(X_test[idx:idx+1,[2,3,4,5,6]], x_cat, metric='hamming') + (3/8)*cdist(X_test[idx:idx+1,[0,1,-1]], x_cont, metric='euclidean')"
   ]
  },
  {
   "cell_type": "code",
   "execution_count": 50,
   "id": "53980d06",
   "metadata": {},
   "outputs": [
    {
     "data": {
      "text/html": [
       "<div>\n",
       "<style scoped>\n",
       "    .dataframe tbody tr th:only-of-type {\n",
       "        vertical-align: middle;\n",
       "    }\n",
       "\n",
       "    .dataframe tbody tr th {\n",
       "        vertical-align: top;\n",
       "    }\n",
       "\n",
       "    .dataframe thead th {\n",
       "        text-align: right;\n",
       "    }\n",
       "</style>\n",
       "<table border=\"1\" class=\"dataframe\">\n",
       "  <thead>\n",
       "    <tr style=\"text-align: right;\">\n",
       "      <th></th>\n",
       "      <th>age</th>\n",
       "      <th>hoursPerWeek</th>\n",
       "      <th>education</th>\n",
       "      <th>marital_status</th>\n",
       "      <th>occupation</th>\n",
       "      <th>gender</th>\n",
       "      <th>native_country</th>\n",
       "      <th>income</th>\n",
       "    </tr>\n",
       "  </thead>\n",
       "  <tbody>\n",
       "    <tr>\n",
       "      <th>0</th>\n",
       "      <td>-0.534247</td>\n",
       "      <td>-0.653061</td>\n",
       "      <td>0.0</td>\n",
       "      <td>1.0</td>\n",
       "      <td>0.0</td>\n",
       "      <td>1.0</td>\n",
       "      <td>1.0</td>\n",
       "      <td>0.035054</td>\n",
       "    </tr>\n",
       "    <tr>\n",
       "      <th>1</th>\n",
       "      <td>-0.534247</td>\n",
       "      <td>-0.204082</td>\n",
       "      <td>5.0</td>\n",
       "      <td>1.0</td>\n",
       "      <td>2.0</td>\n",
       "      <td>0.0</td>\n",
       "      <td>1.0</td>\n",
       "      <td>0.538844</td>\n",
       "    </tr>\n",
       "    <tr>\n",
       "      <th>2</th>\n",
       "      <td>-0.534247</td>\n",
       "      <td>-0.061224</td>\n",
       "      <td>5.0</td>\n",
       "      <td>1.0</td>\n",
       "      <td>2.0</td>\n",
       "      <td>0.0</td>\n",
       "      <td>1.0</td>\n",
       "      <td>0.550823</td>\n",
       "    </tr>\n",
       "    <tr>\n",
       "      <th>3</th>\n",
       "      <td>-0.534247</td>\n",
       "      <td>0.204082</td>\n",
       "      <td>5.0</td>\n",
       "      <td>1.0</td>\n",
       "      <td>2.0</td>\n",
       "      <td>0.0</td>\n",
       "      <td>1.0</td>\n",
       "      <td>0.574973</td>\n",
       "    </tr>\n",
       "    <tr>\n",
       "      <th>4</th>\n",
       "      <td>-0.424658</td>\n",
       "      <td>0.000000</td>\n",
       "      <td>5.0</td>\n",
       "      <td>1.0</td>\n",
       "      <td>2.0</td>\n",
       "      <td>0.0</td>\n",
       "      <td>1.0</td>\n",
       "      <td>0.610117</td>\n",
       "    </tr>\n",
       "    <tr>\n",
       "      <th>5</th>\n",
       "      <td>-0.397260</td>\n",
       "      <td>0.204082</td>\n",
       "      <td>2.0</td>\n",
       "      <td>1.0</td>\n",
       "      <td>1.0</td>\n",
       "      <td>0.0</td>\n",
       "      <td>0.0</td>\n",
       "      <td>0.545286</td>\n",
       "    </tr>\n",
       "    <tr>\n",
       "      <th>6</th>\n",
       "      <td>-0.369863</td>\n",
       "      <td>-0.204082</td>\n",
       "      <td>5.0</td>\n",
       "      <td>1.0</td>\n",
       "      <td>2.0</td>\n",
       "      <td>0.0</td>\n",
       "      <td>1.0</td>\n",
       "      <td>0.559132</td>\n",
       "    </tr>\n",
       "    <tr>\n",
       "      <th>7</th>\n",
       "      <td>-0.315068</td>\n",
       "      <td>-0.102041</td>\n",
       "      <td>2.0</td>\n",
       "      <td>1.0</td>\n",
       "      <td>2.0</td>\n",
       "      <td>0.0</td>\n",
       "      <td>1.0</td>\n",
       "      <td>0.532931</td>\n",
       "    </tr>\n",
       "    <tr>\n",
       "      <th>8</th>\n",
       "      <td>-0.369863</td>\n",
       "      <td>0.000000</td>\n",
       "      <td>5.0</td>\n",
       "      <td>1.0</td>\n",
       "      <td>2.0</td>\n",
       "      <td>0.0</td>\n",
       "      <td>1.0</td>\n",
       "      <td>0.610117</td>\n",
       "    </tr>\n",
       "    <tr>\n",
       "      <th>9</th>\n",
       "      <td>-0.342466</td>\n",
       "      <td>-0.102041</td>\n",
       "      <td>5.0</td>\n",
       "      <td>1.0</td>\n",
       "      <td>2.0</td>\n",
       "      <td>0.0</td>\n",
       "      <td>1.0</td>\n",
       "      <td>0.586528</td>\n",
       "    </tr>\n",
       "    <tr>\n",
       "      <th>10</th>\n",
       "      <td>-0.315068</td>\n",
       "      <td>0.204082</td>\n",
       "      <td>2.0</td>\n",
       "      <td>1.0</td>\n",
       "      <td>2.0</td>\n",
       "      <td>0.0</td>\n",
       "      <td>1.0</td>\n",
       "      <td>0.523892</td>\n",
       "    </tr>\n",
       "  </tbody>\n",
       "</table>\n",
       "</div>"
      ],
      "text/plain": [
       "         age  hoursPerWeek  education  marital_status  occupation  gender  \\\n",
       "0  -0.534247     -0.653061        0.0             1.0         0.0     1.0   \n",
       "1  -0.534247     -0.204082        5.0             1.0         2.0     0.0   \n",
       "2  -0.534247     -0.061224        5.0             1.0         2.0     0.0   \n",
       "3  -0.534247      0.204082        5.0             1.0         2.0     0.0   \n",
       "4  -0.424658      0.000000        5.0             1.0         2.0     0.0   \n",
       "5  -0.397260      0.204082        2.0             1.0         1.0     0.0   \n",
       "6  -0.369863     -0.204082        5.0             1.0         2.0     0.0   \n",
       "7  -0.315068     -0.102041        2.0             1.0         2.0     0.0   \n",
       "8  -0.369863      0.000000        5.0             1.0         2.0     0.0   \n",
       "9  -0.342466     -0.102041        5.0             1.0         2.0     0.0   \n",
       "10 -0.315068      0.204082        2.0             1.0         2.0     0.0   \n",
       "\n",
       "    native_country    income  \n",
       "0              1.0  0.035054  \n",
       "1              1.0  0.538844  \n",
       "2              1.0  0.550823  \n",
       "3              1.0  0.574973  \n",
       "4              1.0  0.610117  \n",
       "5              0.0  0.545286  \n",
       "6              1.0  0.559132  \n",
       "7              1.0  0.532931  \n",
       "8              1.0  0.610117  \n",
       "9              1.0  0.586528  \n",
       "10             1.0  0.523892  "
      ]
     },
     "execution_count": 50,
     "metadata": {},
     "output_type": "execute_result"
    }
   ],
   "source": [
    "neigh = np.argsort(cdist(Z_train[y_train_pred>0.5],Z_test[idx:idx+1]).ravel())[:10]\n",
    "pd.DataFrame(np.vstack((X_test[idx],X_train[y_train_pred>0.5][neigh])),columns=df.columns)"
   ]
  },
  {
   "cell_type": "code",
   "execution_count": 51,
   "id": "dd00b8b3",
   "metadata": {},
   "outputs": [
    {
     "data": {
      "text/plain": [
       "array([[0.54336735, 0.59693878, 0.69642857, 0.62332213, 0.82550759,\n",
       "        0.55429731, 0.59737928, 0.62753707, 0.59379037, 0.70677073]])"
      ]
     },
     "execution_count": 51,
     "metadata": {},
     "output_type": "execute_result"
    }
   ],
   "source": [
    "x = X_train[y_train_pred>0.5][neigh]\n",
    "x_cont = x[:,[0,1]]\n",
    "x_cat = x[:,[2,3,4,5,6]]\n",
    "(5/8)*cdist(X_test[idx:idx+1,[2,3,4,5,6]], x_cat, metric='hamming') + (3/8)*cdist(X_test[idx:idx+1,[0,1]], x_cont, metric='euclidean')"
   ]
  },
  {
   "cell_type": "markdown",
   "id": "0ab344c7",
   "metadata": {},
   "source": [
    "# Lagrange Multipliers"
   ]
  },
  {
   "cell_type": "code",
   "execution_count": 52,
   "id": "14aa03bc",
   "metadata": {},
   "outputs": [
    {
     "data": {
      "text/plain": [
       "array([-0.10439104,  0.67729336], dtype=float32)"
      ]
     },
     "execution_count": 52,
     "metadata": {},
     "output_type": "execute_result"
    }
   ],
   "source": [
    "q = X_test[0].copy()\n",
    "v = np.array(Z_test[idx,:]+m*y_contrib)\n",
    "v"
   ]
  },
  {
   "cell_type": "code",
   "execution_count": 53,
   "id": "afc08d0b",
   "metadata": {},
   "outputs": [
    {
     "data": {
      "text/plain": [
       "array([[ 0.3581095 , -0.26620793,  0.00341975,  0.0993959 ,  0.00262481,\n",
       "        -0.16217908,  0.04940028, -0.0840246 ],\n",
       "       [ 0.3340445 ,  0.08518743,  0.0005477 , -0.18182224, -0.00411317,\n",
       "         0.11448195,  0.04664631,  0.30498004]], dtype=float32)"
      ]
     },
     "execution_count": 53,
     "metadata": {},
     "output_type": "execute_result"
    }
   ],
   "source": [
    "w = model.fc1.weight.detach().numpy()\n",
    "b = model.fc1.bias.detach().numpy()\n",
    "w"
   ]
  },
  {
   "cell_type": "code",
   "execution_count": 54,
   "id": "ed1dcf82",
   "metadata": {},
   "outputs": [],
   "source": [
    "def compute_cf(q, indexes):\n",
    "    #indexes.append(-1)\n",
    "    q_pred = predict(q[:-1],return_proba=True)\n",
    "    q_cf = q.copy()\n",
    "    q_cf_pred = predict(q_cf[:-1],return_proba=True)\n",
    "    while np.round(q_pred) == np.round(q_cf_pred):\n",
    "        c_l = [v[l] - np.sum(q_cf*w[l,:]) - b[l] for l in range(latent_dim)]\n",
    "        M = []\n",
    "        for l in range(latent_dim):\n",
    "            M.append([np.sum(w[k,indexes]*w[l,indexes]) for k in range(latent_dim)])\n",
    "        M = np.vstack(M)\n",
    "        lambda_k = np.linalg.solve(M, c_l)\n",
    "        delta_i = [np.sum(lambda_k*w[:,i]) for i in indexes]\n",
    "        print(delta_i)\n",
    "        q_cf[indexes] += delta_i\n",
    "        if predict(q_cf[:-1],return_proba=True) == q_cf_pred:\n",
    "            return q_cf\n",
    "        q_cf_pred = predict(q_cf[:-1],return_proba=True) \n",
    "        print(q_cf_pred)\n",
    "        q_cf[-1] = q_cf_pred\n",
    "    return q_cf"
   ]
  },
  {
   "cell_type": "code",
   "execution_count": 57,
   "id": "068d0d3e",
   "metadata": {},
   "outputs": [
    {
     "name": "stdout",
     "output_type": "stream",
     "text": [
      "[-3.4003168339919685, -1.660659280089896]\n",
      "[0.54616076]\n",
      "[0.54616076]\n"
     ]
    },
    {
     "data": {
      "text/html": [
       "<div>\n",
       "<style scoped>\n",
       "    .dataframe tbody tr th:only-of-type {\n",
       "        vertical-align: middle;\n",
       "    }\n",
       "\n",
       "    .dataframe tbody tr th {\n",
       "        vertical-align: top;\n",
       "    }\n",
       "\n",
       "    .dataframe thead th {\n",
       "        text-align: right;\n",
       "    }\n",
       "</style>\n",
       "<table border=\"1\" class=\"dataframe\">\n",
       "  <thead>\n",
       "    <tr style=\"text-align: right;\">\n",
       "      <th></th>\n",
       "      <th>age</th>\n",
       "      <th>hoursPerWeek</th>\n",
       "      <th>education</th>\n",
       "      <th>marital_status</th>\n",
       "      <th>occupation</th>\n",
       "      <th>gender</th>\n",
       "      <th>native_country</th>\n",
       "      <th>income</th>\n",
       "    </tr>\n",
       "  </thead>\n",
       "  <tbody>\n",
       "    <tr>\n",
       "      <th>0</th>\n",
       "      <td>-0.534247</td>\n",
       "      <td>-0.653061</td>\n",
       "      <td>0.0</td>\n",
       "      <td>1.000000</td>\n",
       "      <td>0.0</td>\n",
       "      <td>1.000000</td>\n",
       "      <td>1.0</td>\n",
       "      <td>0.035054</td>\n",
       "    </tr>\n",
       "    <tr>\n",
       "      <th>1</th>\n",
       "      <td>-0.534247</td>\n",
       "      <td>-0.653061</td>\n",
       "      <td>0.0</td>\n",
       "      <td>-3.400317</td>\n",
       "      <td>0.0</td>\n",
       "      <td>-0.660659</td>\n",
       "      <td>1.0</td>\n",
       "      <td>0.546161</td>\n",
       "    </tr>\n",
       "  </tbody>\n",
       "</table>\n",
       "</div>"
      ],
      "text/plain": [
       "        age  hoursPerWeek  education  marital_status  occupation    gender  \\\n",
       "0 -0.534247     -0.653061        0.0        1.000000         0.0  1.000000   \n",
       "1 -0.534247     -0.653061        0.0       -3.400317         0.0 -0.660659   \n",
       "\n",
       "   native_country    income  \n",
       "0             1.0  0.035054  \n",
       "1             1.0  0.546161  "
      ]
     },
     "execution_count": 57,
     "metadata": {},
     "output_type": "execute_result"
    }
   ],
   "source": [
    "idx = 0\n",
    "q = X_test[idx,:].copy()\n",
    "q[3] = 0\n",
    "q_cf = compute_cf(q, [3,5])\n",
    "q_cf[-1] = predict(q_cf[:-1],return_proba=True) \n",
    "print(predict(q_cf[:-1],return_proba=True))\n",
    "q[3] = 1\n",
    "pd.DataFrame([q,q_cf], columns = df.columns)\n"
   ]
  },
  {
   "cell_type": "code",
   "execution_count": 82,
   "id": "1f85f325",
   "metadata": {},
   "outputs": [
    {
     "data": {
      "text/plain": [
       "array([2.29220706])"
      ]
     },
     "execution_count": 82,
     "metadata": {},
     "output_type": "execute_result"
    }
   ],
   "source": [
    "sorted(cdist(X_train[:,:-1], q_cf[:-1].reshape(1,-1)))[0]"
   ]
  },
  {
   "cell_type": "code",
   "execution_count": 83,
   "id": "18b42a25",
   "metadata": {},
   "outputs": [
    {
     "data": {
      "text/plain": [
       "5.986797284334898"
      ]
     },
     "execution_count": 83,
     "metadata": {},
     "output_type": "execute_result"
    }
   ],
   "source": [
    "np.sum(np.abs(q[:-1]-q_cf[:-1]))"
   ]
  },
  {
   "cell_type": "markdown",
   "id": "2709a0cd",
   "metadata": {},
   "source": [
    "# Growing Spheres"
   ]
  },
  {
   "cell_type": "code",
   "execution_count": 40,
   "id": "64709340",
   "metadata": {},
   "outputs": [
    {
     "name": "stdout",
     "output_type": "stream",
     "text": [
      "0\n",
      "0 ennemies found in initial sphere. Zooming in...\n",
      "Exploring...\n",
      "Final number of iterations:  45\n",
      "Final radius:  (0.8020000000000004, 0.8200000000000004)\n",
      "Final number of ennemies:  1\n",
      "Feature selection...\n",
      "Reduced 5 coordinates\n",
      "[1]\n"
     ]
    }
   ],
   "source": [
    "from growingspheres import counterfactuals as cf\n",
    "\n",
    "q = X_test[idx,:-1].reshape(1,-1).copy()\n",
    "pred = int(predict(q))\n",
    "print(pred)\n",
    "\n",
    "CF = cf.CounterfactualExplanation(q, predict, method='GS')\n",
    "CF.fit(n_in_layer=2000, first_radius=0.1, dicrease_radius=10, sparse=True, verbose=True)\n",
    "q_cf_GS = CF.enemy\n",
    "print(predict(q_cf_GS))"
   ]
  },
  {
   "cell_type": "code",
   "execution_count": 41,
   "id": "784f6fa8",
   "metadata": {},
   "outputs": [
    {
     "data": {
      "text/html": [
       "<div>\n",
       "<style scoped>\n",
       "    .dataframe tbody tr th:only-of-type {\n",
       "        vertical-align: middle;\n",
       "    }\n",
       "\n",
       "    .dataframe tbody tr th {\n",
       "        vertical-align: top;\n",
       "    }\n",
       "\n",
       "    .dataframe thead th {\n",
       "        text-align: right;\n",
       "    }\n",
       "</style>\n",
       "<table border=\"1\" class=\"dataframe\">\n",
       "  <thead>\n",
       "    <tr style=\"text-align: right;\">\n",
       "      <th></th>\n",
       "      <th>age</th>\n",
       "      <th>hoursPerWeek</th>\n",
       "      <th>education</th>\n",
       "      <th>marital_status</th>\n",
       "      <th>occupation</th>\n",
       "      <th>gender</th>\n",
       "      <th>native_country</th>\n",
       "    </tr>\n",
       "  </thead>\n",
       "  <tbody>\n",
       "    <tr>\n",
       "      <th>0</th>\n",
       "      <td>-0.534247</td>\n",
       "      <td>-0.653061</td>\n",
       "      <td>0.0</td>\n",
       "      <td>1.00000</td>\n",
       "      <td>0.0</td>\n",
       "      <td>1.000000</td>\n",
       "      <td>1.0</td>\n",
       "    </tr>\n",
       "    <tr>\n",
       "      <th>1</th>\n",
       "      <td>-0.534247</td>\n",
       "      <td>-0.653061</td>\n",
       "      <td>0.0</td>\n",
       "      <td>0.44423</td>\n",
       "      <td>0.0</td>\n",
       "      <td>0.462684</td>\n",
       "      <td>1.0</td>\n",
       "    </tr>\n",
       "  </tbody>\n",
       "</table>\n",
       "</div>"
      ],
      "text/plain": [
       "        age  hoursPerWeek  education  marital_status  occupation    gender  \\\n",
       "0 -0.534247     -0.653061        0.0         1.00000         0.0  1.000000   \n",
       "1 -0.534247     -0.653061        0.0         0.44423         0.0  0.462684   \n",
       "\n",
       "   native_country  \n",
       "0             1.0  \n",
       "1             1.0  "
      ]
     },
     "execution_count": 41,
     "metadata": {},
     "output_type": "execute_result"
    }
   ],
   "source": [
    "pd.DataFrame(np.vstack([q,q_cf_GS.reshape(1,-1)]), columns = df.columns[:-1])"
   ]
  },
  {
   "cell_type": "code",
   "execution_count": 42,
   "id": "ff77b27f",
   "metadata": {},
   "outputs": [
    {
     "data": {
      "text/plain": [
       "array([0.64504675])"
      ]
     },
     "execution_count": 42,
     "metadata": {},
     "output_type": "execute_result"
    }
   ],
   "source": [
    "sorted(cdist(X_train[:,:-1], q_cf_GS.reshape(1,-1)))[0]"
   ]
  },
  {
   "cell_type": "code",
   "execution_count": 48,
   "id": "517bb396",
   "metadata": {},
   "outputs": [
    {
     "data": {
      "text/plain": [
       "array([[0.25]])"
      ]
     },
     "execution_count": 48,
     "metadata": {},
     "output_type": "execute_result"
    }
   ],
   "source": [
    "q_cf_GS_cont = q_cf_GS[[0,1]].reshape(1,-1)\n",
    "q_cf_GS_cat = q_cf_GS[[2,3,4,5,6]].reshape(1,-1)\n",
    "(5/8)*cdist(X_test[idx:idx+1,[2,3,4,5,6]], q_cf_GS_cat, metric='hamming') + (3/8)*cdist(X_test[idx:idx+1,[0,1]], q_cf_GS_cont, metric='euclidean')"
   ]
  },
  {
   "cell_type": "code",
   "execution_count": null,
   "id": "d7c5ad06",
   "metadata": {},
   "outputs": [],
   "source": []
  }
 ],
 "metadata": {
  "kernelspec": {
   "display_name": "Python 3",
   "language": "python",
   "name": "python3"
  },
  "language_info": {
   "codemirror_mode": {
    "name": "ipython",
    "version": 3
   },
   "file_extension": ".py",
   "mimetype": "text/x-python",
   "name": "python",
   "nbconvert_exporter": "python",
   "pygments_lexer": "ipython3",
   "version": "3.8.0"
  }
 },
 "nbformat": 4,
 "nbformat_minor": 5
}
