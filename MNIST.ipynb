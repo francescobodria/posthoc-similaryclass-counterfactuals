{
 "cells": [
  {
   "cell_type": "code",
   "execution_count": 1,
   "id": "2aa08d80-31c9-40a1-889c-dc6465739914",
   "metadata": {},
   "outputs": [
    {
     "data": {
      "text/plain": [
       "<torch._C.Generator at 0x7fe1910c9230>"
      ]
     },
     "execution_count": 1,
     "metadata": {},
     "output_type": "execute_result"
    }
   ],
   "source": [
    "from tqdm.notebook import tqdm\n",
    "import matplotlib.pyplot as plt\n",
    "import numpy as np\n",
    "import pandas as pd\n",
    "pd.set_option('display.max_columns', None)\n",
    "import time\n",
    "import warnings\n",
    "warnings.filterwarnings(\"ignore\")\n",
    "\n",
    "import torch\n",
    "random_seed = 42\n",
    "torch.backends.cudnn.enabled = False\n",
    "torch.manual_seed(random_seed)"
   ]
  },
  {
   "cell_type": "code",
   "execution_count": 2,
   "id": "6392e3ab-2ef1-4409-b1db-9c09cb231175",
   "metadata": {},
   "outputs": [],
   "source": [
    "from exp.data import load_image_dataset, load_tabular_dataset\n",
    "\n",
    "dataset_name = 'MNIST'\n",
    "\n",
    "X_train, X_test, Y_train, Y_test, _, _ = load_image_dataset(dataset_name, './data/')"
   ]
  },
  {
   "cell_type": "code",
   "execution_count": 3,
   "id": "721a241f",
   "metadata": {},
   "outputs": [],
   "source": [
    "X_train = X_train.reshape(-1,1,28,28)\n",
    "X_test = X_test.reshape(-1,1,28,28)\n",
    "Y_train = torch.nn.functional.one_hot(torch.tensor(Y_train)).numpy()\n",
    "Y_test = torch.nn.functional.one_hot(torch.tensor(Y_test)).numpy()"
   ]
  },
  {
   "cell_type": "code",
   "execution_count": 4,
   "id": "53dd4e70",
   "metadata": {},
   "outputs": [],
   "source": [
    "import torch.nn as nn\n",
    "import torch.nn.functional as F\n",
    "from torch.utils.data import TensorDataset, DataLoader\n",
    "import pytorch_lightning as pl\n",
    "\n",
    "class DataModule(pl.LightningDataModule):\n",
    "    def __init__(self, batch_size, X_train, Y_train, X_test, Y_test):\n",
    "        self.batch_size = batch_size\n",
    "        self.X_train = X_train\n",
    "        self.Y_train = Y_train\n",
    "        self.X_test = X_test\n",
    "        self.Y_test = Y_test\n",
    "\n",
    "    def train_dataloader(self):\n",
    "        train_dataset = TensorDataset(torch.tensor(self.X_train).float(),torch.tensor(self.Y_train,dtype=torch.long).float())\n",
    "        return DataLoader(train_dataset, batch_size=self.batch_size, shuffle=True) \n",
    "\n",
    "    def val_dataloader(self):\n",
    "        print(self.X_test.shape)\n",
    "        print(self.Y_test.shape)\n",
    "        val_dataset = TensorDataset(torch.tensor(self.X_test).float(),torch.tensor(self.Y_test,dtype=torch.long).float())\n",
    "        return DataLoader(val_dataset, batch_size=self.batch_size, shuffle=False) \n",
    "\n",
    "class Lit_CNN_Network(pl.LightningModule):\n",
    "    def __init__(self):\n",
    "        super().__init__()\n",
    "        self.conv1 = nn.Sequential(         \n",
    "            nn.Conv2d(\n",
    "                in_channels=1,              \n",
    "                out_channels=16,            \n",
    "                kernel_size=5,              \n",
    "                stride=1,                   \n",
    "                padding=2,                  \n",
    "            ),                              \n",
    "            nn.ReLU(),                      \n",
    "            nn.MaxPool2d(kernel_size=2),    \n",
    "        )\n",
    "        self.conv2 = nn.Sequential(         \n",
    "            nn.Conv2d(16, 32, 5, 1, 2),     \n",
    "            nn.ReLU(),                      \n",
    "            nn.MaxPool2d(2),                \n",
    "        )\n",
    "        self.out = nn.Linear(32 * 7 * 7, 10)\n",
    "        self.loss = nn.CrossEntropyLoss()\n",
    "        self.example_input_array = torch.randn([1,1,28,28])\n",
    "\n",
    "    def forward(self, x):\n",
    "        x = self.conv1(x)\n",
    "        x = self.conv2(x)\n",
    "        x = x.view(x.size(0), -1)       \n",
    "        return torch.sigmoid(self.out(x))\n",
    "        \n",
    "    def training_step(self, batch, batch_idx):\n",
    "        x, y = batch\n",
    "        y_pred = self.forward(x)\n",
    "        loss = self.loss(y_pred, y)\n",
    "        self.log('train_loss', loss)\n",
    "        return loss\n",
    "\n",
    "    def validation_step(self, batch, batch_idx):\n",
    "        x, y = batch\n",
    "        y_pred = self.forward(x)\n",
    "        loss = self.loss(y_pred, y)\n",
    "        self.log('val_loss', loss)\n",
    "        return loss\n",
    "\n",
    "    def configure_optimizers(self):\n",
    "        optimizer = torch.optim.Adam(self.parameters(), lr=1e-3)\n",
    "        return optimizer"
   ]
  },
  {
   "cell_type": "code",
   "execution_count": 17,
   "id": "c81d0f24",
   "metadata": {},
   "outputs": [
    {
     "name": "stderr",
     "output_type": "stream",
     "text": [
      "GPU available: False, used: False\n",
      "TPU available: False, using: 0 TPU cores\n",
      "IPU available: False, using: 0 IPUs\n",
      "\n",
      "  | Name  | Type             | Params | In sizes        | Out sizes      \n",
      "-------------------------------------------------------------------------------\n",
      "0 | conv1 | Sequential       | 416    | [1, 1, 28, 28]  | [1, 16, 14, 14]\n",
      "1 | conv2 | Sequential       | 12.8 K | [1, 16, 14, 14] | [1, 32, 7, 7]  \n",
      "2 | out   | Linear           | 15.7 K | [1, 1568]       | [1, 10]        \n",
      "3 | loss  | CrossEntropyLoss | 0      | ?               | ?              \n",
      "-------------------------------------------------------------------------------\n",
      "28.9 K    Trainable params\n",
      "0         Non-trainable params\n",
      "28.9 K    Total params\n",
      "0.116     Total estimated model params size (MB)\n"
     ]
    },
    {
     "name": "stdout",
     "output_type": "stream",
     "text": [
      "Validation sanity check: 0it [00:00, ?it/s](10000, 1, 28, 28)\n",
      "(10000, 10)\n",
      "                                                              "
     ]
    },
    {
     "name": "stderr",
     "output_type": "stream",
     "text": [
      "/Users/francescobodria/anaconda3/envs/latent_space/lib/python3.8/site-packages/pytorch_lightning/trainer/data_loading.py:132: UserWarning: The dataloader, val_dataloader 0, does not have many workers which may be a bottleneck. Consider increasing the value of the `num_workers` argument` (try 8 which is the number of cpus on this machine) in the `DataLoader` init to improve performance.\n",
      "  rank_zero_warn(\n"
     ]
    },
    {
     "name": "stdout",
     "output_type": "stream",
     "text": [
      "                                                                      "
     ]
    },
    {
     "name": "stderr",
     "output_type": "stream",
     "text": [
      "/Users/francescobodria/anaconda3/envs/latent_space/lib/python3.8/site-packages/pytorch_lightning/trainer/data_loading.py:132: UserWarning: The dataloader, train_dataloader, does not have many workers which may be a bottleneck. Consider increasing the value of the `num_workers` argument` (try 8 which is the number of cpus on this machine) in the `DataLoader` init to improve performance.\n",
      "  rank_zero_warn(\n"
     ]
    },
    {
     "name": "stdout",
     "output_type": "stream",
     "text": [
      "Epoch 2:  29%|██▉       | 20/69 [13:49<33:52, 41.47s/it, loss=1.55, v_num=0]\n",
      "Epoch 42: 100%|██████████| 69/69 [00:42<00:00,  1.64it/s, loss=1.47, v_num=0]\n"
     ]
    }
   ],
   "source": [
    "from pytorch_lightning.callbacks.early_stopping import EarlyStopping\n",
    "from pytorch_lightning.callbacks.progress import TQDMProgressBar\n",
    "from pytorch_lightning.loggers import TensorBoardLogger\n",
    "\n",
    "net = Lit_CNN_Network()\n",
    "BATCH_SIZE = 1024\n",
    "dm = DataModule(BATCH_SIZE, X_train, Y_train, X_test, Y_test)\n",
    "bar = TQDMProgressBar(refresh_rate=20)\n",
    "es = EarlyStopping(monitor=\"val_loss\", mode=\"min\", patience=5)\n",
    "logger = TensorBoardLogger(\"lightning_logs\", name=\"MNIST_model\", version=0, log_graph=True)\n",
    "trainer = pl.Trainer(callbacks=[bar, es], \n",
    "                     max_epochs=100, \n",
    "                     log_every_n_steps=10, \n",
    "                     logger=logger, \n",
    "                     enable_checkpointing=False)\n",
    "\n",
    "trainer.fit(net, dm)\n",
    "#trainer.save_checkpoint(\"MNIST_black_box.ckpt\")"
   ]
  },
  {
   "cell_type": "code",
   "execution_count": 5,
   "id": "425dcc8f",
   "metadata": {},
   "outputs": [],
   "source": [
    "net = Lit_CNN_Network()\n",
    "net.eval()\n",
    "net = net.load_from_checkpoint(checkpoint_path=\"MNIST_black_box.ckpt\")"
   ]
  },
  {
   "cell_type": "code",
   "execution_count": 6,
   "id": "0514938d",
   "metadata": {},
   "outputs": [
    {
     "name": "stdout",
     "output_type": "stream",
     "text": [
      "0.9922833333333333\n",
      "0.9901\n"
     ]
    }
   ],
   "source": [
    "from sklearn.metrics import accuracy_score\n",
    "\n",
    "print(accuracy_score(np.argmax(net(torch.tensor(X_train).float()).detach().numpy(),axis=1),np.argmax(Y_train,axis=1)))\n",
    "print(accuracy_score(np.argmax(net(torch.tensor(X_test).float()).detach().numpy(),axis=1),np.argmax(Y_test,axis=1)))"
   ]
  },
  {
   "cell_type": "code",
   "execution_count": 7,
   "id": "e31ac6ff",
   "metadata": {},
   "outputs": [],
   "source": [
    "def predict(x, return_proba=False):\n",
    "    if len(x.shape)==2:\n",
    "        x = x.reshape(-1,1,28,28)\n",
    "    elif len(x.shape)==3:\n",
    "        x = x.reshape(-1,1,28,28)\n",
    "    net.eval()\n",
    "    if return_proba:\n",
    "        return net(torch.tensor(x).float()).detach().numpy()\n",
    "    else: return np.argmax(net(torch.tensor(x).float()).detach().numpy(),axis=1).astype(int).ravel()\n",
    "\n",
    "y_test_pred = predict(X_test, return_proba=True)\n",
    "y_train_pred = predict(X_train, return_proba=True)"
   ]
  },
  {
   "cell_type": "code",
   "execution_count": 8,
   "id": "443fe09d",
   "metadata": {},
   "outputs": [],
   "source": [
    "X_train = np.hstack((X_train.reshape(-1,28*28),y_train_pred))\n",
    "X_test = np.hstack((X_test.reshape(-1,28*28),y_test_pred))"
   ]
  },
  {
   "cell_type": "code",
   "execution_count": 34,
   "id": "feb1370f",
   "metadata": {},
   "outputs": [],
   "source": [
    "latent_dim = 2\n",
    "batch_size = 256\n",
    "sigma = 4\n",
    "max_epochs = 1000\n",
    "early_stopping = 3\n",
    "learning_rate = 1e-3\n",
    "\n",
    "similarity_KLD = torch.nn.KLDivLoss(reduction='batchmean')\n",
    "\n",
    "def compute_similarity(X, sigma, alpha=1):\n",
    "    D_features = torch.cdist(X[:,:-10],X[:,:-10])\n",
    "    D_class = torch.cdist(X[:,-10:],X[:,-10:])\n",
    "    D = D_features + alpha * D_class\n",
    "    M = torch.exp((-D**2)/(2*sigma**2))\n",
    "    return M / (torch.ones([M.shape[0],M.shape[1]])*(torch.sum(M, axis = 0)-1)).transpose(0,1)\n",
    "\n",
    "def loss_function(X, Z, sigma=1):\n",
    "    Sx = compute_similarity(X, sigma)\n",
    "    Sz = compute_similarity(Z, 1)\n",
    "    loss = similarity_KLD(torch.log(Sx), Sz)\n",
    "    return loss\n",
    "\n",
    "class LinearModel(nn.Module):\n",
    "    def __init__(self, input_shape, latent_dim=2):\n",
    "        super(LinearModel, self).__init__()\n",
    "\n",
    "        # encoding components\n",
    "        self.fc1 = nn.Linear(input_shape, latent_dim)\n",
    "\n",
    "    def encode(self, x):\n",
    "        x = self.fc1(x)\n",
    "        return x\n",
    "\n",
    "    def forward(self, x):\n",
    "        z = self.encode(x)\n",
    "        return z\n",
    "\n",
    "# Create Model\n",
    "model = LinearModel(X_train.shape[1], latent_dim=latent_dim)"
   ]
  },
  {
   "cell_type": "code",
   "execution_count": 35,
   "id": "e20915d5",
   "metadata": {},
   "outputs": [
    {
     "data": {
      "application/vnd.jupyter.widget-view+json": {
       "model_id": "caad84295c7247d2a4a82513fb7d9942",
       "version_major": 2,
       "version_minor": 0
      },
      "text/plain": [
       "Epoch: 000 Train Sim Loss 0.00000 Test Sim Loss 0.00000 Early Stopping 0"
      ]
     },
     "metadata": {},
     "output_type": "display_data"
    }
   ],
   "source": [
    "train_dataset = TensorDataset(torch.tensor(X_train).float())\n",
    "train_loader = DataLoader(train_dataset, batch_size=batch_size, shuffle=True) \n",
    "test_dataset = TensorDataset(torch.tensor(X_test).float())\n",
    "test_loader = DataLoader(test_dataset, batch_size=batch_size, shuffle=False) \n",
    "\n",
    "def check_and_clear(dir_name):\n",
    "    if not os.path.exists(dir_name):\n",
    "        os.mkdir(dir_name)\n",
    "    else:\n",
    "        os.system('rm -r ' + dir_name)\n",
    "        os.mkdir(dir_name)\n",
    "\n",
    "check_and_clear('./models/weights')\n",
    "\n",
    "model_params = list(model.parameters())\n",
    "optimizer = torch.optim.Adam(model_params, lr=learning_rate)\n",
    "\n",
    "# record training process\n",
    "epoch_train_losses = []\n",
    "epoch_test_losses = []\n",
    "\n",
    "#validation parameters\n",
    "epoch = 1\n",
    "best = np.inf\n",
    "\n",
    "# progress bar\n",
    "pbar = tqdm(bar_format=\"{postfix[0]} {postfix[1][value]:03d} {postfix[2]} {postfix[3][value]:.5f} {postfix[4]} {postfix[5][value]:.5f} {postfix[6]} {postfix[7][value]:d}\",\n",
    "            postfix=[\"Epoch:\", {'value':0}, \"Train Sim Loss\", {'value':0}, \"Test Sim Loss\", {'value':0}, \"Early Stopping\", {\"value\":0}])\n",
    "\n",
    "# start training\n",
    "while epoch <= max_epochs:\n",
    "\n",
    "    # ------- TRAIN ------- #\n",
    "    # set model as training mode\n",
    "    model.train()\n",
    "    batch_loss = []\n",
    "\n",
    "    for batch, (X_batch,) in enumerate(train_loader):\n",
    "        optimizer.zero_grad()\n",
    "        Z_batch = model(X_batch)  #\n",
    "        loss  = loss_function(X_batch, Z_batch, sigma) \n",
    "        loss.backward()\n",
    "        optimizer.step()\n",
    "        batch_loss.append(loss.item())\n",
    "\n",
    "    # save result\n",
    "    epoch_train_losses.append(np.mean(batch_loss))\n",
    "    pbar.postfix[3][\"value\"] = np.mean(batch_loss)\n",
    "\n",
    "    # -------- VALIDATION --------\n",
    "\n",
    "    # set model as testing mode\n",
    "    model.eval()\n",
    "    batch_loss = []\n",
    "\n",
    "    with torch.no_grad():\n",
    "        for batch, (X_batch,) in enumerate(test_loader):\n",
    "            Z_batch = model(X_batch)\n",
    "            loss = loss_function(X_batch, Z_batch, sigma)\n",
    "            batch_loss.append(loss.item())\n",
    "\n",
    "    # save information\n",
    "    epoch_test_losses.append(np.mean(batch_loss))\n",
    "    pbar.postfix[5][\"value\"] = np.mean(batch_loss)\n",
    "    pbar.postfix[1][\"value\"] = epoch\n",
    "\n",
    "    if epoch_test_losses[-1] < best:\n",
    "        wait = 0\n",
    "        best = epoch_test_losses[-1]\n",
    "        best_epoch = epoch\n",
    "        torch.save(model.state_dict(), f'./models/weights/LinearTransparent.pt')\n",
    "    else:\n",
    "        wait += 1\n",
    "    pbar.postfix[7][\"value\"] = wait\n",
    "    if wait == early_stopping:\n",
    "        break    \n",
    "    epoch += 1\n",
    "    pbar.update()\n",
    "\n",
    "model.load_state_dict(torch.load(f'./models/weights/LinearTransparent.pt'))\n",
    "with torch.no_grad():\n",
    "    model.eval()\n",
    "    Z_train = model(torch.tensor(X_train).float()).cpu().detach().numpy()\n",
    "    Z_test = model(torch.tensor(X_test).float()).cpu().detach().numpy()\n",
    "\n",
    "torch.save(model.state_dict(), f'./models/MNIST_{latent_dim}.pt')"
   ]
  },
  {
   "cell_type": "code",
   "execution_count": 36,
   "id": "e3959a45",
   "metadata": {},
   "outputs": [],
   "source": [
    "model.load_state_dict(torch.load(f'./models/MNIST_{latent_dim}.pt'))\n",
    "with torch.no_grad():\n",
    "    model.eval()\n",
    "    Z_train = model(torch.tensor(X_train).float()).cpu().detach().numpy()\n",
    "    Z_test = model(torch.tensor(X_test).float()).cpu().detach().numpy()"
   ]
  },
  {
   "cell_type": "code",
   "execution_count": 37,
   "id": "418bf130",
   "metadata": {},
   "outputs": [
    {
     "data": {
      "image/png": "[encoded data removed]",
      "text/plain": [
       "<Figure size 432x288 with 2 Axes>"
      ]
     },
     "metadata": {
      "needs_background": "light"
     },
     "output_type": "display_data"
    }
   ],
   "source": [
    "idx = 2\n",
    "plt.scatter(Z_train[:,0],Z_train[:,1],c=np.argmax(y_train_pred,axis=1),cmap='tab10')\n",
    "plt.plot(Z_test[idx,0],Z_test[idx,1],'kX',markersize=20)\n",
    "plt.colorbar()\n",
    "plt.grid(True)"
   ]
  },
  {
   "cell_type": "code",
   "execution_count": 41,
   "id": "58333af7",
   "metadata": {},
   "outputs": [
    {
     "data": {
      "text/plain": [
       "1"
      ]
     },
     "execution_count": 41,
     "metadata": {},
     "output_type": "execute_result"
    }
   ],
   "source": [
    "idx = 2\n",
    "pred = np.argmax(predict(X_test[idx:idx+1,:-10], return_proba=True))\n",
    "pred"
   ]
  },
  {
   "cell_type": "code",
   "execution_count": 43,
   "id": "669859ef",
   "metadata": {},
   "outputs": [
    {
     "data": {
      "text/plain": [
       "array([[ 0.36061326, -0.0878802 , -0.17428079,  0.19382901, -0.14141314,\n",
       "        -0.00148826, -0.06055902, -0.4208743 ,  0.08774716, -0.08426017],\n",
       "       [-0.54898554,  0.15314876,  0.8732812 ,  0.00954962, -0.19375813,\n",
       "        -0.06132353, -0.38182083,  0.1237724 ,  0.00497548, -0.10358167]],\n",
       "      dtype=float32)"
      ]
     },
     "execution_count": 43,
     "metadata": {},
     "output_type": "execute_result"
    }
   ],
   "source": [
    "y_contrib = model.fc1.weight[:,-10:].detach().numpy()\n",
    "y_contrib"
   ]
  },
  {
   "cell_type": "code",
   "execution_count": 76,
   "id": "e4602c47",
   "metadata": {},
   "outputs": [
    {
     "data": {
      "image/png": "[encoded data removed]",
      "text/plain": [
       "<Figure size 432x288 with 2 Axes>"
      ]
     },
     "metadata": {
      "needs_background": "light"
     },
     "output_type": "display_data"
    }
   ],
   "source": [
    "plt.scatter(Z_train[:,0],Z_train[:,1],c=np.argmax(y_train_pred,axis=1),cmap='tab10')\n",
    "plt.colorbar()\n",
    "c = np.mean(Z_train,axis=0)\n",
    "for i in range(10):\n",
    "    plt.quiver(c[0],c[1],y_contrib[0,i]*2,y_contrib[1,i]*2,angles='xy', scale_units='xy', scale=1, color='k')\n",
    "plt.grid()"
   ]
  },
  {
   "cell_type": "markdown",
   "id": "0b17f8a7-702d-423f-b31a-1c9723c655f1",
   "metadata": {},
   "source": [
    "# Growing Spheres"
   ]
  },
  {
   "cell_type": "code",
   "execution_count": 21,
   "id": "c6eef470-e793-40e2-99ee-fcf3b451bd3c",
   "metadata": {},
   "outputs": [
    {
     "data": {
      "text/plain": [
       "7"
      ]
     },
     "execution_count": 21,
     "metadata": {},
     "output_type": "execute_result"
    }
   ],
   "source": [
    "from growingspheres import counterfactuals as cf\n",
    "\n",
    "idx = 0\n",
    "q = X_test[idx].copy().reshape(-1,28*28)\n",
    "pred = int(predict(q))\n",
    "pred"
   ]
  },
  {
   "cell_type": "code",
   "execution_count": 22,
   "id": "84fbc16e",
   "metadata": {},
   "outputs": [
    {
     "data": {
      "text/plain": [
       "<matplotlib.image.AxesImage at 0x7fb323337640>"
      ]
     },
     "execution_count": 22,
     "metadata": {},
     "output_type": "execute_result"
    },
    {
     "data": {
      "image/png": "[encoded data removed]",
      "text/plain": [
       "<Figure size 432x288 with 1 Axes>"
      ]
     },
     "metadata": {
      "needs_background": "light"
     },
     "output_type": "display_data"
    }
   ],
   "source": [
    "plt.imshow(q.reshape(28,28),cmap='gray')"
   ]
  },
  {
   "cell_type": "code",
   "execution_count": 27,
   "id": "179f893e-aa7a-4af5-b52b-0132af508bd0",
   "metadata": {},
   "outputs": [
    {
     "name": "stdout",
     "output_type": "stream",
     "text": [
      "0 ennemies found in initial sphere. Zooming in...\n",
      "Exploring...\n",
      "Final number of iterations:  9\n",
      "Final radius:  (15.400000000000002, 17.200000000000003)\n",
      "Final number of ennemies:  8\n",
      "Feature selection...\n",
      "Reduced 727 coordinates\n"
     ]
    }
   ],
   "source": [
    "CF = cf.CounterfactualExplanation(q, predict, method='GS', target_class=8)\n",
    "CF.fit(n_in_layer=2000, first_radius=10, dicrease_radius=10, sparse=True, verbose=True)\n",
    "q_cf_GS = CF.enemy"
   ]
  },
  {
   "cell_type": "code",
   "execution_count": 28,
   "id": "d36a38d3-21b1-4845-8146-c7115243df80",
   "metadata": {},
   "outputs": [
    {
     "data": {
      "text/plain": [
       "array([8])"
      ]
     },
     "execution_count": 28,
     "metadata": {},
     "output_type": "execute_result"
    }
   ],
   "source": [
    "predict(q_cf_GS.reshape(1,-1))"
   ]
  },
  {
   "cell_type": "code",
   "execution_count": 29,
   "id": "35db78a0-faf1-4171-a978-c2ff2fcbc198",
   "metadata": {},
   "outputs": [
    {
     "data": {
      "image/png": "[encoded data removed]",
      "text/plain": [
       "<Figure size 432x288 with 1 Axes>"
      ]
     },
     "metadata": {
      "needs_background": "light"
     },
     "output_type": "display_data"
    }
   ],
   "source": [
    "plt.imshow(q_cf_GS.reshape(28,28),cmap='gray')\n",
    "plt.axis(False);"
   ]
  },
  {
   "cell_type": "code",
   "execution_count": 30,
   "id": "deed8301-411c-45d0-89a6-40e4e8b75027",
   "metadata": {},
   "outputs": [
    {
     "data": {
      "image/png": "[encoded data removed]",
      "text/plain": [
       "<Figure size 432x288 with 1 Axes>"
      ]
     },
     "metadata": {
      "needs_background": "light"
     },
     "output_type": "display_data"
    }
   ],
   "source": [
    "plt.imshow(np.clip(q_cf_GS,0,1).reshape(28,28),cmap='gray')\n",
    "plt.axis(False);"
   ]
  },
  {
   "cell_type": "code",
   "execution_count": 46,
   "id": "d046e1dc",
   "metadata": {},
   "outputs": [
    {
     "name": "stdout",
     "output_type": "stream",
     "text": [
      "dis_dist: 6.758667258464617\n",
      "dis_count: 0.07270408163265306\n",
      "impl: 6.758667258464617\n"
     ]
    }
   ],
   "source": [
    "from scipy.spatial.distance import cdist,euclidean\n",
    "\n",
    "print('dis_dist:', euclidean(q_cf_GS,q))\n",
    "print('dis_count:', np.mean(q_cf_GS!=q))\n",
    "print('impl:',np.min(cdist(q_cf_GS.reshape(1,-1),X_test.reshape(-1,28*28))))"
   ]
  },
  {
   "cell_type": "code",
   "execution_count": null,
   "id": "d3c565c7-af6b-4840-b4fb-b2e23cd82bae",
   "metadata": {},
   "outputs": [],
   "source": [
    "from tqdm.notebook import tqdm\n",
    "\n",
    "gs_cf = []\n",
    "for i in tqdm(range(100)):\n",
    "    q = X_test[i].reshape(1,-1).copy()\n",
    "    def predict(q):\n",
    "        return neigh.predict(model(torch.tensor(q).float()).detach())\n",
    "    pred = int(predict(q))\n",
    "    if pred == 7:\n",
    "        target_class = 9\n",
    "    else:\n",
    "        target_class = 7\n",
    "    CF = cf.CounterfactualExplanation(q, predict, method='GS', target_class=target_class)\n",
    "    CF.fit(n_in_layer=2000, first_radius=10, dicrease_radius=10, caps=[0,1], sparse=True, verbose=False)\n",
    "    gs_cf.append(CF.enemy)\n",
    "gs_cf = np.vstack(gs_cf)"
   ]
  },
  {
   "cell_type": "code",
   "execution_count": null,
   "id": "91a48003-e20a-4aec-8682-4910e7fa753e",
   "metadata": {},
   "outputs": [],
   "source": [
    "from scipy.spatial.distance import cdist,euclidean\n",
    "\n",
    "print('dis_dist:',np.mean(np.diag(cdist(gs_cf,X_test[:100].copy()))))\n",
    "print('dis_count:', np.mean(np.mean(gs_cf[:100]!=X_test[:100].copy(),axis=1)))\n",
    "print('impl:',np.mean(np.min(cdist(gs_cf,X_test),axis=1)))"
   ]
  },
  {
   "cell_type": "code",
   "execution_count": null,
   "id": "61397b81-aad2-4448-9ec0-025f6172843e",
   "metadata": {},
   "outputs": [],
   "source": []
  },
  {
   "cell_type": "code",
   "execution_count": null,
   "id": "1bd71330-2557-4344-8ee4-59b95c7dcd4b",
   "metadata": {},
   "outputs": [],
   "source": []
  }
 ],
 "metadata": {
  "kernelspec": {
   "display_name": "Python 3",
   "language": "python",
   "name": "python3"
  },
  "language_info": {
   "codemirror_mode": {
    "name": "ipython",
    "version": 3
   },
   "file_extension": ".py",
   "mimetype": "text/x-python",
   "name": "python",
   "nbconvert_exporter": "python",
   "pygments_lexer": "ipython3",
   "version": "3.8.0"
  }
 },
 "nbformat": 4,
 "nbformat_minor": 5
}
