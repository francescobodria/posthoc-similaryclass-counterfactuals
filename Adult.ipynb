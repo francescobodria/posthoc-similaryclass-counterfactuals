{
 "cells": [
  {
   "cell_type": "code",
   "execution_count": 1,
   "id": "2aa08d80-31c9-40a1-889c-dc6465739914",
   "metadata": {},
   "outputs": [],
   "source": [
    "import pandas as pd\n",
    "import numpy as np\n",
    "import torch\n",
    "import torch.nn as nn\n",
    "import torch.nn.functional as F\n",
    "from torch.utils.data import TensorDataset, DataLoader\n",
    "from tqdm.notebook import tqdm\n",
    "import time\n",
    "import os\n",
    "\n",
    "rnd = 384\n",
    "np.random.seed(rnd)"
   ]
  },
  {
   "cell_type": "code",
   "execution_count": 2,
   "id": "6392e3ab-2ef1-4409-b1db-9c09cb231175",
   "metadata": {},
   "outputs": [],
   "source": [
    "from sklearn.preprocessing import OrdinalEncoder, MinMaxScaler\n",
    "from sklearn.model_selection import train_test_split\n",
    "\n",
    "df = pd.read_csv('./data/adult_clear.csv')\n",
    "df = df[df[\"workclass\"] != \"?\"]\n",
    "df = df[df[\"occupation\"] != \"?\"]\n",
    "df = df[df[\"native-country\"] != \"?\"]\n",
    "df.replace(['Divorced', 'Married-AF-spouse',\n",
    "            'Married-civ-spouse', 'Married-spouse-absent',\n",
    "            'Never-married', 'Separated', 'Widowed'],\n",
    "           ['notmarried', 'married', 'married', 'married',\n",
    "            'notmarried', 'notmarried', 'notmarried'], inplace=True)\n",
    "df['education'].replace(['Preschool', '10th', '11th', '12th', '1st-4th', '5th-6th', '7th-8th', '9th'], 'dropout',\n",
    "                        inplace=True)\n",
    "df['education'].replace(['HS-Grad', 'HS-grad'], 'HighGrad', inplace=True)\n",
    "df['education'].replace(['Some-college', 'Assoc-acdm', 'Assoc-voc'], 'CommunityCollege', inplace=True)\n",
    "df = df[df.race == 'White']\n",
    "# excludes 10 observations\n",
    "df = df[df['workclass'] != 'Never-worked']\n",
    "# excludes 14 observations\n",
    "df = df[df['occupation'] != 'Armed-Forces']\n",
    "# excludes 21 observations\n",
    "df = df[df['workclass'] != 'Without-pay']\n",
    "df.drop(['fnlwgt', 'educational-num', 'relationship', 'race', 'capital-gain', 'capital-loss'],\n",
    "            axis=1, inplace=True)\n",
    "df['workclass'].replace(['Local-gov', 'State-gov', 'Federal-gov'], 'Gov', inplace=True)\n",
    "df['workclass'].replace(['Private', 'Self-emp-not-inc', 'Self-emp-inc'], 'Private', inplace=True)\n",
    "df['occupation'].replace(\n",
    "    ['Craft-repair', 'Machine-op-inspct', 'Handlers-cleaners', 'Transport-moving', 'Adm-clerical',\n",
    "     'Farming-fishing'], 'BlueCollar', inplace=True)\n",
    "df['occupation'].replace(['Other-service', 'Protective-serv', 'Tech-support', 'Priv-house-serv'], 'Services',\n",
    "                         inplace=True)\n",
    "df['occupation'].replace(['Exec-managerial'], 'ExecManagerial', inplace=True)\n",
    "df['occupation'].replace(['Prof-specialty'], 'ProfSpecialty', inplace=True)\n",
    "df['education'].replace(['Prof-school'], 'ProfSchool', inplace=True)\n",
    "df['native-country'].replace(['Cambodia', 'Canada', 'China', 'Columbia', 'Cuba', 'Dominican-Republic', 'Ecuador', \\\n",
    "                              'El-Salvador', 'England', 'France', 'Germany', 'Greece', 'Guatemala', 'Haiti',\\\n",
    "                              'Holand-Netherlands', 'Honduras', 'Hong', 'Hungary', 'India', 'Iran', 'Ireland',\\\n",
    "                              'Italy', 'Jamaica', 'Japan', 'Mexico', 'Nicaragua', 'Outlying-US(Guam-USVI-etc)',\\\n",
    "                              'Peru', 'Philippines', 'Poland', 'Portugal', 'Puerto-Rico', 'Scotland', 'South',\\\n",
    "                              'Taiwan','Thailand', 'Trinadad&Tobago', 'Vietnam','Yugoslavia'], 'Non_US', inplace=True)\n",
    "df.rename(columns={'hours-per-week': 'hoursPerWeek'}, inplace=True)\n",
    "df.rename(columns={'marital-status': 'marital_status'}, inplace=True)\n",
    "df.rename(columns={'native-country': 'native_country'}, inplace=True)\n",
    "columns_titles = [\"age\",\"hoursPerWeek\",\"education\",\"marital_status\",\"occupation\",\"gender\",\"native_country\",\"income\"]\n",
    "df=df.reindex(columns=columns_titles)\n",
    "X = df.copy()\n",
    "enc = OrdinalEncoder()\n",
    "std = MinMaxScaler(feature_range=(-1,1))\n",
    "X.iloc[:,2:] = enc.fit_transform(X.values[:,2:]).astype(int)\n",
    "X.iloc[:,:2] = std.fit_transform(X.values[:,:2])\n",
    "X.drop(['income'], axis=1, inplace=True)\n",
    "y = df[\"income\"].apply(lambda x: \">50K\" in x).astype(int)\n",
    "\n",
    "X_train, X_test, y_train, y_test = train_test_split(X, y, test_size=0.2, stratify=y, random_state=rnd)"
   ]
  },
  {
   "cell_type": "code",
   "execution_count": 3,
   "id": "5d65b740-5e84-4ffe-aa8d-de5e20d37bc8",
   "metadata": {},
   "outputs": [
    {
     "data": {
      "text/html": [
       "<div>\n",
       "<style scoped>\n",
       "    .dataframe tbody tr th:only-of-type {\n",
       "        vertical-align: middle;\n",
       "    }\n",
       "\n",
       "    .dataframe tbody tr th {\n",
       "        vertical-align: top;\n",
       "    }\n",
       "\n",
       "    .dataframe thead th {\n",
       "        text-align: right;\n",
       "    }\n",
       "</style>\n",
       "<table border=\"1\" class=\"dataframe\">\n",
       "  <thead>\n",
       "    <tr style=\"text-align: right;\">\n",
       "      <th></th>\n",
       "      <th>age</th>\n",
       "      <th>hoursPerWeek</th>\n",
       "      <th>education</th>\n",
       "      <th>marital_status</th>\n",
       "      <th>occupation</th>\n",
       "      <th>gender</th>\n",
       "      <th>native_country</th>\n",
       "    </tr>\n",
       "  </thead>\n",
       "  <tbody>\n",
       "    <tr>\n",
       "      <th>3646</th>\n",
       "      <td>0.506849</td>\n",
       "      <td>-0.510204</td>\n",
       "      <td>3</td>\n",
       "      <td>1</td>\n",
       "      <td>4</td>\n",
       "      <td>0</td>\n",
       "      <td>1</td>\n",
       "    </tr>\n",
       "    <tr>\n",
       "      <th>22522</th>\n",
       "      <td>-0.561644</td>\n",
       "      <td>-0.204082</td>\n",
       "      <td>1</td>\n",
       "      <td>0</td>\n",
       "      <td>2</td>\n",
       "      <td>0</td>\n",
       "      <td>1</td>\n",
       "    </tr>\n",
       "    <tr>\n",
       "      <th>40214</th>\n",
       "      <td>0.479452</td>\n",
       "      <td>-0.204082</td>\n",
       "      <td>1</td>\n",
       "      <td>1</td>\n",
       "      <td>0</td>\n",
       "      <td>0</td>\n",
       "      <td>1</td>\n",
       "    </tr>\n",
       "    <tr>\n",
       "      <th>30368</th>\n",
       "      <td>-0.616438</td>\n",
       "      <td>-0.204082</td>\n",
       "      <td>1</td>\n",
       "      <td>1</td>\n",
       "      <td>0</td>\n",
       "      <td>1</td>\n",
       "      <td>1</td>\n",
       "    </tr>\n",
       "    <tr>\n",
       "      <th>28758</th>\n",
       "      <td>-0.808219</td>\n",
       "      <td>0.000000</td>\n",
       "      <td>1</td>\n",
       "      <td>0</td>\n",
       "      <td>0</td>\n",
       "      <td>1</td>\n",
       "      <td>1</td>\n",
       "    </tr>\n",
       "    <tr>\n",
       "      <th>...</th>\n",
       "      <td>...</td>\n",
       "      <td>...</td>\n",
       "      <td>...</td>\n",
       "      <td>...</td>\n",
       "      <td>...</td>\n",
       "      <td>...</td>\n",
       "      <td>...</td>\n",
       "    </tr>\n",
       "    <tr>\n",
       "      <th>23011</th>\n",
       "      <td>-0.397260</td>\n",
       "      <td>-0.204082</td>\n",
       "      <td>3</td>\n",
       "      <td>1</td>\n",
       "      <td>0</td>\n",
       "      <td>1</td>\n",
       "      <td>1</td>\n",
       "    </tr>\n",
       "    <tr>\n",
       "      <th>6421</th>\n",
       "      <td>-0.616438</td>\n",
       "      <td>0.000000</td>\n",
       "      <td>5</td>\n",
       "      <td>1</td>\n",
       "      <td>2</td>\n",
       "      <td>1</td>\n",
       "      <td>1</td>\n",
       "    </tr>\n",
       "    <tr>\n",
       "      <th>18605</th>\n",
       "      <td>0.260274</td>\n",
       "      <td>0.000000</td>\n",
       "      <td>4</td>\n",
       "      <td>0</td>\n",
       "      <td>1</td>\n",
       "      <td>1</td>\n",
       "      <td>1</td>\n",
       "    </tr>\n",
       "    <tr>\n",
       "      <th>28637</th>\n",
       "      <td>-0.534247</td>\n",
       "      <td>0.244898</td>\n",
       "      <td>0</td>\n",
       "      <td>1</td>\n",
       "      <td>3</td>\n",
       "      <td>1</td>\n",
       "      <td>1</td>\n",
       "    </tr>\n",
       "    <tr>\n",
       "      <th>985</th>\n",
       "      <td>-0.479452</td>\n",
       "      <td>-0.163265</td>\n",
       "      <td>3</td>\n",
       "      <td>1</td>\n",
       "      <td>0</td>\n",
       "      <td>1</td>\n",
       "      <td>1</td>\n",
       "    </tr>\n",
       "  </tbody>\n",
       "</table>\n",
       "<p>31097 rows × 7 columns</p>\n",
       "</div>"
      ],
      "text/plain": [
       "            age  hoursPerWeek  education  marital_status  occupation  gender  \\\n",
       "3646   0.506849     -0.510204          3               1           4       0   \n",
       "22522 -0.561644     -0.204082          1               0           2       0   \n",
       "40214  0.479452     -0.204082          1               1           0       0   \n",
       "30368 -0.616438     -0.204082          1               1           0       1   \n",
       "28758 -0.808219      0.000000          1               0           0       1   \n",
       "...         ...           ...        ...             ...         ...     ...   \n",
       "23011 -0.397260     -0.204082          3               1           0       1   \n",
       "6421  -0.616438      0.000000          5               1           2       1   \n",
       "18605  0.260274      0.000000          4               0           1       1   \n",
       "28637 -0.534247      0.244898          0               1           3       1   \n",
       "985   -0.479452     -0.163265          3               1           0       1   \n",
       "\n",
       "       native_country  \n",
       "3646                1  \n",
       "22522               1  \n",
       "40214               1  \n",
       "30368               1  \n",
       "28758               1  \n",
       "...               ...  \n",
       "23011               1  \n",
       "6421                1  \n",
       "18605               1  \n",
       "28637               1  \n",
       "985                 1  \n",
       "\n",
       "[31097 rows x 7 columns]"
      ]
     },
     "execution_count": 3,
     "metadata": {},
     "output_type": "execute_result"
    }
   ],
   "source": [
    "X_train"
   ]
  },
  {
   "cell_type": "code",
   "execution_count": 4,
   "id": "33baf3fb",
   "metadata": {},
   "outputs": [
    {
     "name": "stdout",
     "output_type": "stream",
     "text": [
      "[11:13:40] WARNING: /Users/runner/miniforge3/conda-bld/xgboost-split_1645117948562/work/src/learner.cc:1115: Starting in XGBoost 1.3.0, the default evaluation metric used with the objective 'binary:logistic' was changed from 'error' to 'logloss'. Explicitly set eval_metric if you'd like to restore the old behavior.\n"
     ]
    },
    {
     "name": "stderr",
     "output_type": "stream",
     "text": [
      "/Users/francescobodria/anaconda3/envs/latent_space/lib/python3.8/site-packages/xgboost/compat.py:36: FutureWarning: pandas.Int64Index is deprecated and will be removed from pandas in a future version. Use pandas.Index with the appropriate dtype instead.\n",
      "  from pandas import MultiIndex, Int64Index\n"
     ]
    }
   ],
   "source": [
    "import xgboost as xgb\n",
    "dtrain = xgb.DMatrix(X_train.values, y_train.values)\n",
    "# train model\n",
    "bst = xgb.train({'objective':'binary:logistic'}, dtrain, 20)\n",
    "bst.save_model('black_box.bst')"
   ]
  },
  {
   "cell_type": "code",
   "execution_count": 92,
   "id": "42dc6acf",
   "metadata": {},
   "outputs": [],
   "source": [
    "def predict(x):\n",
    "    if len(x.shape)==1:\n",
    "        d = xgb.DMatrix(x.reshape(1,-1))\n",
    "    else:\n",
    "        d = xgb.DMatrix(x)\n",
    "    return bst.predict(d)"
   ]
  },
  {
   "cell_type": "code",
   "execution_count": 6,
   "id": "cf2c6879",
   "metadata": {},
   "outputs": [
    {
     "name": "stdout",
     "output_type": "stream",
     "text": [
      "train acc: 0.8285043573335048\n",
      "test acc: 0.8189067524115755\n"
     ]
    }
   ],
   "source": [
    "dtest = xgb.DMatrix(X_test.values)\n",
    "y_train_pred = bst.predict(dtrain)\n",
    "y_test_pred = bst.predict(dtest)\n",
    "print('train acc:',np.mean(np.round(y_train_pred)==y_train))\n",
    "print('test acc:',np.mean(np.round(y_test_pred)==y_test))"
   ]
  },
  {
   "cell_type": "code",
   "execution_count": 7,
   "id": "29e2b442",
   "metadata": {},
   "outputs": [],
   "source": [
    "X_train = np.hstack((X_train.values,y_train_pred.reshape(-1,1)))\n",
    "X_test = np.hstack((X_test.values,y_test_pred.reshape(-1,1)))"
   ]
  },
  {
   "cell_type": "code",
   "execution_count": 8,
   "id": "b33fe1e2-7f55-4af9-b03b-e96ccd62cec6",
   "metadata": {},
   "outputs": [],
   "source": [
    "latent_dim = 2 \n",
    "batch_size = 4096\n",
    "sigma = 3\n",
    "max_epochs = 2000\n",
    "early_stopping = 3\n",
    "learning_rate = 1e-3\n",
    "\n",
    "similarity_KLD = torch.nn.KLDivLoss(reduction='batchmean')\n",
    "    \n",
    "def loss_function(X, Z, sigma=1):\n",
    "    Sx = compute_similarity(X, sigma)\n",
    "    Sz = compute_similarity(Z, 1)\n",
    "    loss = similarity_KLD(torch.log(Sx), Sz)\n",
    "    return loss\n",
    "\n",
    "class LinearModel(nn.Module):\n",
    "    def __init__(self, input_shape, latent_dim=2):\n",
    "        super(LinearModel, self).__init__()\n",
    "\n",
    "        # encoding components\n",
    "        self.fc1 = nn.Linear(input_shape, latent_dim)\n",
    "\n",
    "    def encode(self, x):\n",
    "        x = self.fc1(x)\n",
    "        return x\n",
    "\n",
    "    def forward(self, x):\n",
    "        z = self.encode(x)\n",
    "        return z\n",
    "\n",
    "# Create Model\n",
    "model = LinearModel(X_train.shape[1], latent_dim=latent_dim)"
   ]
  },
  {
   "cell_type": "code",
   "execution_count": null,
   "id": "e9a2e8eb",
   "metadata": {},
   "outputs": [],
   "source": [
    "def compute_similarity(X,sigma=5):\n",
    "    M = torch.exp((-torch.cdist(X,X)**2)/(2*sigma**2))\n",
    "    return M / (torch.ones([M.shape[0],M.shape[1]])*(torch.sum(M, axis = 0)-1)).transpose(0,1)\n",
    "\n",
    "train_dataset = TensorDataset(torch.tensor(X_train).float())\n",
    "train_loader = DataLoader(train_dataset, batch_size=batch_size, shuffle=True) \n",
    "test_dataset = TensorDataset(torch.tensor(X_test).float())\n",
    "test_loader = DataLoader(test_dataset, batch_size=batch_size, shuffle=False) \n",
    "\n",
    "def check_and_clear(dir_name):\n",
    "    if not os.path.exists(dir_name):\n",
    "        os.mkdir(dir_name)\n",
    "    else:\n",
    "        os.system('rm -r ' + dir_name)\n",
    "        os.mkdir(dir_name)\n",
    "\n",
    "check_and_clear('./models/weights')\n",
    "\n",
    "model_params = list(model.parameters())\n",
    "optimizer = torch.optim.Adam(model_params, lr=learning_rate)\n",
    "\n",
    "# record training process\n",
    "epoch_train_losses = []\n",
    "epoch_test_losses = []\n",
    "\n",
    "#validation parameters\n",
    "epoch = 1\n",
    "best = np.inf\n",
    "\n",
    "# progress bar\n",
    "pbar = tqdm(bar_format=\"{postfix[0]} {postfix[1][value]:03d} {postfix[2]} {postfix[3][value]:.5f} {postfix[4]} {postfix[5][value]:.5f} {postfix[6]} {postfix[7][value]:d}\",\n",
    "            postfix=[\"Epoch:\", {'value':0}, \"Train Sim Loss\", {'value':0}, \"Test Sim Loss\", {'value':0}, \"Early Stopping\", {\"value\":0}])\n",
    "\n",
    "# start training\n",
    "while epoch <= max_epochs:\n",
    "\n",
    "    # ------- TRAIN ------- #\n",
    "    # set model as training mode\n",
    "    model.train()\n",
    "    batch_loss = []\n",
    "\n",
    "    for batch, (X_batch,) in enumerate(train_loader):\n",
    "        optimizer.zero_grad()\n",
    "        Z_batch = model(X_batch)  #\n",
    "        loss  = loss_function(X_batch, Z_batch, sigma) \n",
    "        loss.backward()\n",
    "        optimizer.step()\n",
    "        batch_loss.append(loss.item())\n",
    "\n",
    "    # save result\n",
    "    epoch_train_losses.append(np.mean(batch_loss))\n",
    "    pbar.postfix[3][\"value\"] = np.mean(batch_loss)\n",
    "\n",
    "    # -------- VALIDATION --------\n",
    "\n",
    "    # set model as testing mode\n",
    "    model.eval()\n",
    "    batch_loss = []\n",
    "\n",
    "    with torch.no_grad():\n",
    "        for batch, (X_batch,) in enumerate(test_loader):\n",
    "            Z_batch = model(X_batch)\n",
    "            loss = loss_function(X_batch, Z_batch, sigma)\n",
    "            batch_loss.append(loss.item())\n",
    "\n",
    "    # save information\n",
    "    epoch_test_losses.append(np.mean(batch_loss))\n",
    "    pbar.postfix[5][\"value\"] = np.mean(batch_loss)\n",
    "    pbar.postfix[1][\"value\"] = epoch\n",
    "\n",
    "    if epoch_test_losses[-1] < best:\n",
    "        wait = 0\n",
    "        best = epoch_test_losses[-1]\n",
    "        best_epoch = epoch\n",
    "        torch.save(model.state_dict(), f'./models/weights/LinearTransparent.pt')\n",
    "    else:\n",
    "        wait += 1\n",
    "    pbar.postfix[7][\"value\"] = wait\n",
    "    if wait == early_stopping:\n",
    "        break    \n",
    "    epoch += 1\n",
    "    pbar.update()\n",
    "\n",
    "model.load_state_dict(torch.load(f'./models/weights/LinearTransparent.pt'))\n",
    "with torch.no_grad():\n",
    "    model.eval()\n",
    "    Z_train = model(torch.tensor(X_train).float()).cpu().detach().numpy()\n",
    "    Z_test = model(torch.tensor(X_test).float()).cpu().detach().numpy()\n",
    "\n",
    "torch.save(model.state_dict(), f'./models/adult_{latent_dim}.pt')"
   ]
  },
  {
   "cell_type": "code",
   "execution_count": 9,
   "id": "d0569976-ce37-4a06-947a-b29d89dfbdbd",
   "metadata": {},
   "outputs": [],
   "source": [
    "model.load_state_dict(torch.load(f'./models/adult_{latent_dim}.pt'))\n",
    "with torch.no_grad():\n",
    "    model.eval()\n",
    "    Z_train = model(torch.tensor(X_train).float()).cpu().detach().numpy()\n",
    "    Z_test = model(torch.tensor(X_test).float()).cpu().detach().numpy()"
   ]
  },
  {
   "cell_type": "code",
   "execution_count": 10,
   "id": "bc840642",
   "metadata": {},
   "outputs": [
    {
     "data": {
      "image/png": "[encoded data removed]",
      "text/plain": [
       "<Figure size 432x288 with 1 Axes>"
      ]
     },
     "metadata": {
      "needs_background": "light"
     },
     "output_type": "display_data"
    }
   ],
   "source": [
    "plt.scatter(Z_train[:,0],Z_train[:,1],c=y_train_pred,cmap='coolwarm')\n",
    "plt.grid()"
   ]
  },
  {
   "cell_type": "code",
   "execution_count": 11,
   "id": "7ec144a7",
   "metadata": {},
   "outputs": [
    {
     "data": {
      "image/png": "[encoded data removed]",
      "text/plain": [
       "<Figure size 432x288 with 1 Axes>"
      ]
     },
     "metadata": {
      "needs_background": "light"
     },
     "output_type": "display_data"
    }
   ],
   "source": [
    "idx = 0\n",
    "plt.scatter(Z_train[:,0],Z_train[:,1],c=y_train_pred,cmap='coolwarm')\n",
    "plt.plot(Z_test[idx,0],Z_test[idx,1],'kX',markersize=20)\n",
    "offset = 0.02\n",
    "plt.axis([Z_test[idx,0]-offset,Z_test[idx,0]+offset,Z_test[idx,1]-offset,Z_test[idx,1]+offset])\n",
    "plt.grid()"
   ]
  },
  {
   "cell_type": "code",
   "execution_count": 12,
   "id": "3aa76917-497a-4070-8682-357bce7d2868",
   "metadata": {},
   "outputs": [
    {
     "data": {
      "text/plain": [
       "array([0.67922497], dtype=float32)"
      ]
     },
     "execution_count": 12,
     "metadata": {},
     "output_type": "execute_result"
    }
   ],
   "source": [
    "predict(X_test[idx:idx+1,:-1])"
   ]
  },
  {
   "cell_type": "code",
   "execution_count": 13,
   "id": "c87db2a8",
   "metadata": {},
   "outputs": [],
   "source": [
    "y_contrib = model.fc1.weight.detach().numpy()[:,-1]"
   ]
  },
  {
   "cell_type": "code",
   "execution_count": 14,
   "id": "1820e664",
   "metadata": {},
   "outputs": [
    {
     "data": {
      "image/png": "[encoded data removed]",
      "text/plain": [
       "<Figure size 432x288 with 1 Axes>"
      ]
     },
     "metadata": {
      "needs_background": "light"
     },
     "output_type": "display_data"
    }
   ],
   "source": [
    "plt.scatter(Z_train[:,0], Z_train[:,1], c=y_train_pred, cmap='coolwarm')\n",
    "plt.plot(Z_test[idx,0], Z_test[idx,1], 'kX', markersize=20)\n",
    "m = -1\n",
    "plt.plot(Z_test[idx,0]+m*y_contrib[0], Z_test[idx,1]+m*y_contrib[1], 'kX', markersize=20)\n",
    "offset = 0.01\n",
    "plt.axis([Z_test[idx,0]-offset,Z_test[idx,0]+offset,Z_test[idx,1]-offset,Z_test[idx,1]+offset])\n",
    "plt.grid()"
   ]
  },
  {
   "cell_type": "code",
   "execution_count": 15,
   "id": "df36f3af",
   "metadata": {},
   "outputs": [
    {
     "data": {
      "text/plain": [
       "array([0.67922497, 0.67922497, 0.67922497, 0.6879743 , 0.63992363,\n",
       "       0.63992363, 0.69939625, 0.67922497, 0.69939625, 0.69939625],\n",
       "      dtype=float32)"
      ]
     },
     "execution_count": 15,
     "metadata": {},
     "output_type": "execute_result"
    }
   ],
   "source": [
    "from scipy.spatial.distance import cdist\n",
    "neigh = np.argsort(cdist(Z_train,Z_test[idx:idx+1]).ravel())[:10]\n",
    "predict(X_train[neigh,:-1])"
   ]
  },
  {
   "cell_type": "code",
   "execution_count": 16,
   "id": "0dd652c6",
   "metadata": {},
   "outputs": [
    {
     "data": {
      "text/plain": [
       "array([0.1896082 , 0.20896077, 0.3477488 , 0.33565715, 0.33565715,\n",
       "       0.2550969 , 0.1896082 , 0.35430622, 0.35430622, 0.3107313 ],\n",
       "      dtype=float32)"
      ]
     },
     "execution_count": 16,
     "metadata": {},
     "output_type": "execute_result"
    }
   ],
   "source": [
    "from scipy.spatial.distance import cdist\n",
    "neigh = np.argsort(cdist(Z_train,Z_test[idx:idx+1]+m*y_contrib).ravel())[:10]\n",
    "predict(X_train[neigh,:-1])"
   ]
  },
  {
   "cell_type": "code",
   "execution_count": 17,
   "id": "5f654b59",
   "metadata": {},
   "outputs": [
    {
     "data": {
      "text/html": [
       "<div>\n",
       "<style scoped>\n",
       "    .dataframe tbody tr th:only-of-type {\n",
       "        vertical-align: middle;\n",
       "    }\n",
       "\n",
       "    .dataframe tbody tr th {\n",
       "        vertical-align: top;\n",
       "    }\n",
       "\n",
       "    .dataframe thead th {\n",
       "        text-align: right;\n",
       "    }\n",
       "</style>\n",
       "<table border=\"1\" class=\"dataframe\">\n",
       "  <thead>\n",
       "    <tr style=\"text-align: right;\">\n",
       "      <th></th>\n",
       "      <th>age</th>\n",
       "      <th>hoursPerWeek</th>\n",
       "      <th>education</th>\n",
       "      <th>marital_status</th>\n",
       "      <th>occupation</th>\n",
       "      <th>gender</th>\n",
       "      <th>native_country</th>\n",
       "      <th>income</th>\n",
       "    </tr>\n",
       "  </thead>\n",
       "  <tbody>\n",
       "    <tr>\n",
       "      <th>0</th>\n",
       "      <td>0.095890</td>\n",
       "      <td>0.000000</td>\n",
       "      <td>3.0</td>\n",
       "      <td>0.0</td>\n",
       "      <td>1.0</td>\n",
       "      <td>1.0</td>\n",
       "      <td>1.0</td>\n",
       "      <td>0.679225</td>\n",
       "    </tr>\n",
       "    <tr>\n",
       "      <th>1</th>\n",
       "      <td>-0.178082</td>\n",
       "      <td>-0.510204</td>\n",
       "      <td>3.0</td>\n",
       "      <td>0.0</td>\n",
       "      <td>1.0</td>\n",
       "      <td>1.0</td>\n",
       "      <td>1.0</td>\n",
       "      <td>0.189608</td>\n",
       "    </tr>\n",
       "    <tr>\n",
       "      <th>2</th>\n",
       "      <td>-0.068493</td>\n",
       "      <td>-0.408163</td>\n",
       "      <td>3.0</td>\n",
       "      <td>0.0</td>\n",
       "      <td>1.0</td>\n",
       "      <td>1.0</td>\n",
       "      <td>1.0</td>\n",
       "      <td>0.208961</td>\n",
       "    </tr>\n",
       "    <tr>\n",
       "      <th>3</th>\n",
       "      <td>-0.041096</td>\n",
       "      <td>0.204082</td>\n",
       "      <td>3.0</td>\n",
       "      <td>1.0</td>\n",
       "      <td>1.0</td>\n",
       "      <td>1.0</td>\n",
       "      <td>1.0</td>\n",
       "      <td>0.347749</td>\n",
       "    </tr>\n",
       "    <tr>\n",
       "      <th>4</th>\n",
       "      <td>0.041096</td>\n",
       "      <td>0.204082</td>\n",
       "      <td>3.0</td>\n",
       "      <td>1.0</td>\n",
       "      <td>1.0</td>\n",
       "      <td>1.0</td>\n",
       "      <td>1.0</td>\n",
       "      <td>0.335657</td>\n",
       "    </tr>\n",
       "    <tr>\n",
       "      <th>5</th>\n",
       "      <td>0.041096</td>\n",
       "      <td>0.204082</td>\n",
       "      <td>3.0</td>\n",
       "      <td>1.0</td>\n",
       "      <td>1.0</td>\n",
       "      <td>1.0</td>\n",
       "      <td>1.0</td>\n",
       "      <td>0.335657</td>\n",
       "    </tr>\n",
       "    <tr>\n",
       "      <th>6</th>\n",
       "      <td>0.123288</td>\n",
       "      <td>0.408163</td>\n",
       "      <td>3.0</td>\n",
       "      <td>1.0</td>\n",
       "      <td>1.0</td>\n",
       "      <td>1.0</td>\n",
       "      <td>1.0</td>\n",
       "      <td>0.255097</td>\n",
       "    </tr>\n",
       "    <tr>\n",
       "      <th>7</th>\n",
       "      <td>-0.232877</td>\n",
       "      <td>-0.510204</td>\n",
       "      <td>3.0</td>\n",
       "      <td>0.0</td>\n",
       "      <td>1.0</td>\n",
       "      <td>1.0</td>\n",
       "      <td>1.0</td>\n",
       "      <td>0.189608</td>\n",
       "    </tr>\n",
       "    <tr>\n",
       "      <th>8</th>\n",
       "      <td>0.150685</td>\n",
       "      <td>0.204082</td>\n",
       "      <td>3.0</td>\n",
       "      <td>1.0</td>\n",
       "      <td>1.0</td>\n",
       "      <td>1.0</td>\n",
       "      <td>1.0</td>\n",
       "      <td>0.354306</td>\n",
       "    </tr>\n",
       "    <tr>\n",
       "      <th>9</th>\n",
       "      <td>0.150685</td>\n",
       "      <td>0.204082</td>\n",
       "      <td>3.0</td>\n",
       "      <td>1.0</td>\n",
       "      <td>1.0</td>\n",
       "      <td>1.0</td>\n",
       "      <td>1.0</td>\n",
       "      <td>0.354306</td>\n",
       "    </tr>\n",
       "    <tr>\n",
       "      <th>10</th>\n",
       "      <td>-0.123288</td>\n",
       "      <td>0.204082</td>\n",
       "      <td>3.0</td>\n",
       "      <td>1.0</td>\n",
       "      <td>1.0</td>\n",
       "      <td>1.0</td>\n",
       "      <td>1.0</td>\n",
       "      <td>0.310731</td>\n",
       "    </tr>\n",
       "  </tbody>\n",
       "</table>\n",
       "</div>"
      ],
      "text/plain": [
       "         age  hoursPerWeek  education  marital_status  occupation  gender  \\\n",
       "0   0.095890      0.000000        3.0             0.0         1.0     1.0   \n",
       "1  -0.178082     -0.510204        3.0             0.0         1.0     1.0   \n",
       "2  -0.068493     -0.408163        3.0             0.0         1.0     1.0   \n",
       "3  -0.041096      0.204082        3.0             1.0         1.0     1.0   \n",
       "4   0.041096      0.204082        3.0             1.0         1.0     1.0   \n",
       "5   0.041096      0.204082        3.0             1.0         1.0     1.0   \n",
       "6   0.123288      0.408163        3.0             1.0         1.0     1.0   \n",
       "7  -0.232877     -0.510204        3.0             0.0         1.0     1.0   \n",
       "8   0.150685      0.204082        3.0             1.0         1.0     1.0   \n",
       "9   0.150685      0.204082        3.0             1.0         1.0     1.0   \n",
       "10 -0.123288      0.204082        3.0             1.0         1.0     1.0   \n",
       "\n",
       "    native_country    income  \n",
       "0              1.0  0.679225  \n",
       "1              1.0  0.189608  \n",
       "2              1.0  0.208961  \n",
       "3              1.0  0.347749  \n",
       "4              1.0  0.335657  \n",
       "5              1.0  0.335657  \n",
       "6              1.0  0.255097  \n",
       "7              1.0  0.189608  \n",
       "8              1.0  0.354306  \n",
       "9              1.0  0.354306  \n",
       "10             1.0  0.310731  "
      ]
     },
     "execution_count": 17,
     "metadata": {},
     "output_type": "execute_result"
    }
   ],
   "source": [
    "pd.DataFrame(np.vstack((X_test[idx],X_train[neigh])),columns=df.columns)"
   ]
  },
  {
   "cell_type": "code",
   "execution_count": 69,
   "id": "0f80aa0c",
   "metadata": {},
   "outputs": [
    {
     "data": {
      "text/plain": [
       "torch.Size([2, 8])"
      ]
     },
     "execution_count": 69,
     "metadata": {},
     "output_type": "execute_result"
    }
   ],
   "source": [
    "model.fc1.weight.shape"
   ]
  },
  {
   "cell_type": "code",
   "execution_count": 95,
   "id": "14aa03bc",
   "metadata": {},
   "outputs": [
    {
     "data": {
      "text/plain": [
       "array([ 1.01137692, -0.11502723])"
      ]
     },
     "execution_count": 95,
     "metadata": {},
     "output_type": "execute_result"
    }
   ],
   "source": [
    "v = np.array([Z_test[idx,0]+m*y_contrib[0],Z_test[idx,1]+m*y_contrib[1]])\n",
    "v"
   ]
  },
  {
   "cell_type": "code",
   "execution_count": 96,
   "id": "afc08d0b",
   "metadata": {},
   "outputs": [
    {
     "data": {
      "text/plain": [
       "array([[ 0.00096203, -0.00487722,  0.3162447 ,  0.00448946,  0.1055403 ,\n",
       "        -0.000927  , -0.00766923, -0.00427491],\n",
       "       [ 0.002935  ,  0.00487809,  0.10541356, -0.0045248 , -0.31597713,\n",
       "         0.0130301 , -0.00680402,  0.0054218 ]], dtype=float32)"
      ]
     },
     "execution_count": 96,
     "metadata": {},
     "output_type": "execute_result"
    }
   ],
   "source": [
    "w = model.fc1.weight.detach().numpy()\n",
    "b = model.fc1.bias.detach().numpy()\n",
    "w"
   ]
  },
  {
   "cell_type": "code",
   "execution_count": 97,
   "id": "2e2c6070",
   "metadata": {},
   "outputs": [
    {
     "data": {
      "text/plain": [
       "[0.004274898189084553, -0.005421782211050941]"
      ]
     },
     "execution_count": 97,
     "metadata": {},
     "output_type": "execute_result"
    }
   ],
   "source": [
    "q = X_test[0,:].copy()\n",
    "c_l = [v[l] - np.sum(q*w[l,:]) - b[l] for l in range(2)]\n",
    "c_l"
   ]
  },
  {
   "cell_type": "code",
   "execution_count": 98,
   "id": "ed1dcf82",
   "metadata": {},
   "outputs": [
    {
     "data": {
      "text/plain": [
       "array([[ 2.4712821e-05, -2.0967978e-05],\n",
       "       [-2.0967978e-05,  3.2410026e-05]], dtype=float32)"
      ]
     },
     "execution_count": 98,
     "metadata": {},
     "output_type": "execute_result"
    }
   ],
   "source": [
    "l = 0\n",
    "k = 0\n",
    "M = []\n",
    "for l in range(2):\n",
    "    M.append([np.sum(w[k,:2]*w[l,:2]) for k in range(2)])\n",
    "M = np.vstack(M)\n",
    "M"
   ]
  },
  {
   "cell_type": "code",
   "execution_count": 99,
   "id": "971bf8b4",
   "metadata": {},
   "outputs": [
    {
     "data": {
      "text/plain": [
       "array([  68.82546207, -122.75989727])"
      ]
     },
     "execution_count": 99,
     "metadata": {},
     "output_type": "execute_result"
    }
   ],
   "source": [
    "lambda_k = np.linalg.solve(M,c_l)\n",
    "lambda_k"
   ]
  },
  {
   "cell_type": "code",
   "execution_count": 103,
   "id": "01e6c508",
   "metadata": {},
   "outputs": [
    {
     "data": {
      "text/plain": [
       "[-0.29408786569235557, -0.9345114257126175]"
      ]
     },
     "execution_count": 103,
     "metadata": {},
     "output_type": "execute_result"
    }
   ],
   "source": [
    "delta_i = [np.sum(lambda_k*w[:,i]) for i in range(2)]\n",
    "delta_i"
   ]
  },
  {
   "cell_type": "code",
   "execution_count": 104,
   "id": "543fefec",
   "metadata": {},
   "outputs": [
    {
     "data": {
      "text/html": [
       "<div>\n",
       "<style scoped>\n",
       "    .dataframe tbody tr th:only-of-type {\n",
       "        vertical-align: middle;\n",
       "    }\n",
       "\n",
       "    .dataframe tbody tr th {\n",
       "        vertical-align: top;\n",
       "    }\n",
       "\n",
       "    .dataframe thead th {\n",
       "        text-align: right;\n",
       "    }\n",
       "</style>\n",
       "<table border=\"1\" class=\"dataframe\">\n",
       "  <thead>\n",
       "    <tr style=\"text-align: right;\">\n",
       "      <th></th>\n",
       "      <th>0</th>\n",
       "      <th>1</th>\n",
       "      <th>2</th>\n",
       "      <th>3</th>\n",
       "      <th>4</th>\n",
       "      <th>5</th>\n",
       "      <th>6</th>\n",
       "      <th>7</th>\n",
       "    </tr>\n",
       "  </thead>\n",
       "  <tbody>\n",
       "    <tr>\n",
       "      <th>0</th>\n",
       "      <td>0.095890</td>\n",
       "      <td>0.000000</td>\n",
       "      <td>3.0</td>\n",
       "      <td>0.0</td>\n",
       "      <td>1.0</td>\n",
       "      <td>1.0</td>\n",
       "      <td>1.0</td>\n",
       "      <td>0.679225</td>\n",
       "    </tr>\n",
       "    <tr>\n",
       "      <th>1</th>\n",
       "      <td>-0.198197</td>\n",
       "      <td>-0.934511</td>\n",
       "      <td>3.0</td>\n",
       "      <td>0.0</td>\n",
       "      <td>1.0</td>\n",
       "      <td>1.0</td>\n",
       "      <td>1.0</td>\n",
       "      <td>0.679225</td>\n",
       "    </tr>\n",
       "  </tbody>\n",
       "</table>\n",
       "</div>"
      ],
      "text/plain": [
       "          0         1    2    3    4    5    6         7\n",
       "0  0.095890  0.000000  3.0  0.0  1.0  1.0  1.0  0.679225\n",
       "1 -0.198197 -0.934511  3.0  0.0  1.0  1.0  1.0  0.679225"
      ]
     },
     "execution_count": 104,
     "metadata": {},
     "output_type": "execute_result"
    }
   ],
   "source": [
    "q_cf = X_test[0, :].copy()\n",
    "q_cf[:2]+=delta_i\n",
    "z_q_cf = model(torch.tensor(q_cf).float()).cpu().detach().numpy()\n",
    "pd.DataFrame([q,q_cf])"
   ]
  },
  {
   "cell_type": "code",
   "execution_count": 105,
   "id": "448483c4",
   "metadata": {},
   "outputs": [
    {
     "data": {
      "image/png": "[encoded data removed]",
      "text/plain": [
       "<Figure size 432x288 with 1 Axes>"
      ]
     },
     "metadata": {
      "needs_background": "light"
     },
     "output_type": "display_data"
    }
   ],
   "source": [
    "plt.scatter(Z_train[:,0], Z_train[:,1], c=y_train_pred, cmap='coolwarm')\n",
    "plt.plot(Z_test[idx,0], Z_test[idx,1], 'kX', markersize=20)\n",
    "m = -1\n",
    "plt.plot(Z_test[idx,0]+m*y_contrib[0], Z_test[idx,1]+m*y_contrib[1], 'kX', markersize=20)\n",
    "plt.plot(z_q_cf[0], z_q_cf[1], 'mX', markersize=20)\n",
    "offset = 0.01\n",
    "plt.axis([Z_test[idx,0]-offset,Z_test[idx,0]+offset,Z_test[idx,1]-offset,Z_test[idx,1]+offset])\n",
    "plt.grid()"
   ]
  },
  {
   "cell_type": "code",
   "execution_count": 107,
   "id": "9cb724dc",
   "metadata": {},
   "outputs": [
    {
     "data": {
      "text/plain": [
       "array([0.67922497], dtype=float32)"
      ]
     },
     "execution_count": 107,
     "metadata": {},
     "output_type": "execute_result"
    }
   ],
   "source": [
    "predict(q[:-1])"
   ]
  },
  {
   "cell_type": "code",
   "execution_count": 108,
   "id": "5b3324c3",
   "metadata": {},
   "outputs": [
    {
     "data": {
      "text/plain": [
       "array([0.16659574], dtype=float32)"
      ]
     },
     "execution_count": 108,
     "metadata": {},
     "output_type": "execute_result"
    }
   ],
   "source": [
    "predict(q_cf[:-1])"
   ]
  },
  {
   "cell_type": "code",
   "execution_count": 109,
   "id": "7d52efff",
   "metadata": {},
   "outputs": [
    {
     "data": {
      "text/plain": [
       "array([0.1896082 , 0.20896077, 0.3477488 , 0.33565715, 0.33565715,\n",
       "       0.2550969 , 0.1896082 , 0.35430622, 0.35430622, 0.3107313 ],\n",
       "      dtype=float32)"
      ]
     },
     "execution_count": 109,
     "metadata": {},
     "output_type": "execute_result"
    }
   ],
   "source": [
    "from scipy.spatial.distance import cdist\n",
    "neigh = np.argsort(cdist(Z_train,z_q_cf.reshape(1,-1)).ravel())[:10]\n",
    "predict(X_train[neigh,:-1])"
   ]
  },
  {
   "cell_type": "code",
   "execution_count": 110,
   "id": "dc8fdac1",
   "metadata": {},
   "outputs": [
    {
     "data": {
      "text/html": [
       "<div>\n",
       "<style scoped>\n",
       "    .dataframe tbody tr th:only-of-type {\n",
       "        vertical-align: middle;\n",
       "    }\n",
       "\n",
       "    .dataframe tbody tr th {\n",
       "        vertical-align: top;\n",
       "    }\n",
       "\n",
       "    .dataframe thead th {\n",
       "        text-align: right;\n",
       "    }\n",
       "</style>\n",
       "<table border=\"1\" class=\"dataframe\">\n",
       "  <thead>\n",
       "    <tr style=\"text-align: right;\">\n",
       "      <th></th>\n",
       "      <th>age</th>\n",
       "      <th>hoursPerWeek</th>\n",
       "      <th>education</th>\n",
       "      <th>marital_status</th>\n",
       "      <th>occupation</th>\n",
       "      <th>gender</th>\n",
       "      <th>native_country</th>\n",
       "      <th>income</th>\n",
       "    </tr>\n",
       "  </thead>\n",
       "  <tbody>\n",
       "    <tr>\n",
       "      <th>0</th>\n",
       "      <td>0.095890</td>\n",
       "      <td>0.000000</td>\n",
       "      <td>3.0</td>\n",
       "      <td>0.0</td>\n",
       "      <td>1.0</td>\n",
       "      <td>1.0</td>\n",
       "      <td>1.0</td>\n",
       "      <td>0.679225</td>\n",
       "    </tr>\n",
       "    <tr>\n",
       "      <th>1</th>\n",
       "      <td>-0.178082</td>\n",
       "      <td>-0.510204</td>\n",
       "      <td>3.0</td>\n",
       "      <td>0.0</td>\n",
       "      <td>1.0</td>\n",
       "      <td>1.0</td>\n",
       "      <td>1.0</td>\n",
       "      <td>0.189608</td>\n",
       "    </tr>\n",
       "    <tr>\n",
       "      <th>2</th>\n",
       "      <td>-0.068493</td>\n",
       "      <td>-0.408163</td>\n",
       "      <td>3.0</td>\n",
       "      <td>0.0</td>\n",
       "      <td>1.0</td>\n",
       "      <td>1.0</td>\n",
       "      <td>1.0</td>\n",
       "      <td>0.208961</td>\n",
       "    </tr>\n",
       "    <tr>\n",
       "      <th>3</th>\n",
       "      <td>-0.041096</td>\n",
       "      <td>0.204082</td>\n",
       "      <td>3.0</td>\n",
       "      <td>1.0</td>\n",
       "      <td>1.0</td>\n",
       "      <td>1.0</td>\n",
       "      <td>1.0</td>\n",
       "      <td>0.347749</td>\n",
       "    </tr>\n",
       "    <tr>\n",
       "      <th>4</th>\n",
       "      <td>0.041096</td>\n",
       "      <td>0.204082</td>\n",
       "      <td>3.0</td>\n",
       "      <td>1.0</td>\n",
       "      <td>1.0</td>\n",
       "      <td>1.0</td>\n",
       "      <td>1.0</td>\n",
       "      <td>0.335657</td>\n",
       "    </tr>\n",
       "    <tr>\n",
       "      <th>5</th>\n",
       "      <td>0.041096</td>\n",
       "      <td>0.204082</td>\n",
       "      <td>3.0</td>\n",
       "      <td>1.0</td>\n",
       "      <td>1.0</td>\n",
       "      <td>1.0</td>\n",
       "      <td>1.0</td>\n",
       "      <td>0.335657</td>\n",
       "    </tr>\n",
       "    <tr>\n",
       "      <th>6</th>\n",
       "      <td>0.123288</td>\n",
       "      <td>0.408163</td>\n",
       "      <td>3.0</td>\n",
       "      <td>1.0</td>\n",
       "      <td>1.0</td>\n",
       "      <td>1.0</td>\n",
       "      <td>1.0</td>\n",
       "      <td>0.255097</td>\n",
       "    </tr>\n",
       "    <tr>\n",
       "      <th>7</th>\n",
       "      <td>-0.232877</td>\n",
       "      <td>-0.510204</td>\n",
       "      <td>3.0</td>\n",
       "      <td>0.0</td>\n",
       "      <td>1.0</td>\n",
       "      <td>1.0</td>\n",
       "      <td>1.0</td>\n",
       "      <td>0.189608</td>\n",
       "    </tr>\n",
       "    <tr>\n",
       "      <th>8</th>\n",
       "      <td>0.150685</td>\n",
       "      <td>0.204082</td>\n",
       "      <td>3.0</td>\n",
       "      <td>1.0</td>\n",
       "      <td>1.0</td>\n",
       "      <td>1.0</td>\n",
       "      <td>1.0</td>\n",
       "      <td>0.354306</td>\n",
       "    </tr>\n",
       "    <tr>\n",
       "      <th>9</th>\n",
       "      <td>0.150685</td>\n",
       "      <td>0.204082</td>\n",
       "      <td>3.0</td>\n",
       "      <td>1.0</td>\n",
       "      <td>1.0</td>\n",
       "      <td>1.0</td>\n",
       "      <td>1.0</td>\n",
       "      <td>0.354306</td>\n",
       "    </tr>\n",
       "    <tr>\n",
       "      <th>10</th>\n",
       "      <td>-0.123288</td>\n",
       "      <td>0.204082</td>\n",
       "      <td>3.0</td>\n",
       "      <td>1.0</td>\n",
       "      <td>1.0</td>\n",
       "      <td>1.0</td>\n",
       "      <td>1.0</td>\n",
       "      <td>0.310731</td>\n",
       "    </tr>\n",
       "  </tbody>\n",
       "</table>\n",
       "</div>"
      ],
      "text/plain": [
       "         age  hoursPerWeek  education  marital_status  occupation  gender  \\\n",
       "0   0.095890      0.000000        3.0             0.0         1.0     1.0   \n",
       "1  -0.178082     -0.510204        3.0             0.0         1.0     1.0   \n",
       "2  -0.068493     -0.408163        3.0             0.0         1.0     1.0   \n",
       "3  -0.041096      0.204082        3.0             1.0         1.0     1.0   \n",
       "4   0.041096      0.204082        3.0             1.0         1.0     1.0   \n",
       "5   0.041096      0.204082        3.0             1.0         1.0     1.0   \n",
       "6   0.123288      0.408163        3.0             1.0         1.0     1.0   \n",
       "7  -0.232877     -0.510204        3.0             0.0         1.0     1.0   \n",
       "8   0.150685      0.204082        3.0             1.0         1.0     1.0   \n",
       "9   0.150685      0.204082        3.0             1.0         1.0     1.0   \n",
       "10 -0.123288      0.204082        3.0             1.0         1.0     1.0   \n",
       "\n",
       "    native_country    income  \n",
       "0              1.0  0.679225  \n",
       "1              1.0  0.189608  \n",
       "2              1.0  0.208961  \n",
       "3              1.0  0.347749  \n",
       "4              1.0  0.335657  \n",
       "5              1.0  0.335657  \n",
       "6              1.0  0.255097  \n",
       "7              1.0  0.189608  \n",
       "8              1.0  0.354306  \n",
       "9              1.0  0.354306  \n",
       "10             1.0  0.310731  "
      ]
     },
     "execution_count": 110,
     "metadata": {},
     "output_type": "execute_result"
    }
   ],
   "source": [
    "pd.DataFrame(np.vstack((q,X_train[neigh])),columns=df.columns)"
   ]
  },
  {
   "cell_type": "code",
   "execution_count": 113,
   "id": "2a8e6b97",
   "metadata": {},
   "outputs": [],
   "source": [
    "X_pred_0 = X_train[y_train_pred<=0.5]"
   ]
  },
  {
   "cell_type": "code",
   "execution_count": 124,
   "id": "71f55c4c",
   "metadata": {},
   "outputs": [
    {
     "data": {
      "text/html": [
       "<div>\n",
       "<style scoped>\n",
       "    .dataframe tbody tr th:only-of-type {\n",
       "        vertical-align: middle;\n",
       "    }\n",
       "\n",
       "    .dataframe tbody tr th {\n",
       "        vertical-align: top;\n",
       "    }\n",
       "\n",
       "    .dataframe thead th {\n",
       "        text-align: right;\n",
       "    }\n",
       "</style>\n",
       "<table border=\"1\" class=\"dataframe\">\n",
       "  <thead>\n",
       "    <tr style=\"text-align: right;\">\n",
       "      <th></th>\n",
       "      <th>age</th>\n",
       "      <th>hoursPerWeek</th>\n",
       "      <th>education</th>\n",
       "      <th>marital_status</th>\n",
       "      <th>occupation</th>\n",
       "      <th>gender</th>\n",
       "      <th>native_country</th>\n",
       "      <th>income</th>\n",
       "    </tr>\n",
       "  </thead>\n",
       "  <tbody>\n",
       "    <tr>\n",
       "      <th>0</th>\n",
       "      <td>0.095890</td>\n",
       "      <td>0.000000</td>\n",
       "      <td>3.0</td>\n",
       "      <td>0.0</td>\n",
       "      <td>1.0</td>\n",
       "      <td>1.0</td>\n",
       "      <td>1.0</td>\n",
       "      <td>0.679225</td>\n",
       "    </tr>\n",
       "    <tr>\n",
       "      <th>1</th>\n",
       "      <td>0.068493</td>\n",
       "      <td>-0.306122</td>\n",
       "      <td>3.0</td>\n",
       "      <td>0.0</td>\n",
       "      <td>1.0</td>\n",
       "      <td>1.0</td>\n",
       "      <td>1.0</td>\n",
       "      <td>0.443434</td>\n",
       "    </tr>\n",
       "    <tr>\n",
       "      <th>2</th>\n",
       "      <td>-0.013699</td>\n",
       "      <td>-0.306122</td>\n",
       "      <td>3.0</td>\n",
       "      <td>0.0</td>\n",
       "      <td>1.0</td>\n",
       "      <td>1.0</td>\n",
       "      <td>1.0</td>\n",
       "      <td>0.456739</td>\n",
       "    </tr>\n",
       "    <tr>\n",
       "      <th>3</th>\n",
       "      <td>-0.013699</td>\n",
       "      <td>-0.306122</td>\n",
       "      <td>3.0</td>\n",
       "      <td>0.0</td>\n",
       "      <td>1.0</td>\n",
       "      <td>1.0</td>\n",
       "      <td>1.0</td>\n",
       "      <td>0.456739</td>\n",
       "    </tr>\n",
       "    <tr>\n",
       "      <th>4</th>\n",
       "      <td>0.397260</td>\n",
       "      <td>-0.204082</td>\n",
       "      <td>3.0</td>\n",
       "      <td>0.0</td>\n",
       "      <td>1.0</td>\n",
       "      <td>1.0</td>\n",
       "      <td>1.0</td>\n",
       "      <td>0.460933</td>\n",
       "    </tr>\n",
       "    <tr>\n",
       "      <th>5</th>\n",
       "      <td>0.205479</td>\n",
       "      <td>-0.306122</td>\n",
       "      <td>3.0</td>\n",
       "      <td>0.0</td>\n",
       "      <td>1.0</td>\n",
       "      <td>1.0</td>\n",
       "      <td>1.0</td>\n",
       "      <td>0.389730</td>\n",
       "    </tr>\n",
       "    <tr>\n",
       "      <th>6</th>\n",
       "      <td>-0.123288</td>\n",
       "      <td>-0.306122</td>\n",
       "      <td>3.0</td>\n",
       "      <td>0.0</td>\n",
       "      <td>1.0</td>\n",
       "      <td>1.0</td>\n",
       "      <td>1.0</td>\n",
       "      <td>0.440966</td>\n",
       "    </tr>\n",
       "    <tr>\n",
       "      <th>7</th>\n",
       "      <td>0.369863</td>\n",
       "      <td>-0.265306</td>\n",
       "      <td>3.0</td>\n",
       "      <td>0.0</td>\n",
       "      <td>1.0</td>\n",
       "      <td>1.0</td>\n",
       "      <td>1.0</td>\n",
       "      <td>0.445882</td>\n",
       "    </tr>\n",
       "    <tr>\n",
       "      <th>8</th>\n",
       "      <td>0.369863</td>\n",
       "      <td>-0.306122</td>\n",
       "      <td>3.0</td>\n",
       "      <td>0.0</td>\n",
       "      <td>1.0</td>\n",
       "      <td>1.0</td>\n",
       "      <td>1.0</td>\n",
       "      <td>0.389730</td>\n",
       "    </tr>\n",
       "    <tr>\n",
       "      <th>9</th>\n",
       "      <td>0.397260</td>\n",
       "      <td>-0.265306</td>\n",
       "      <td>3.0</td>\n",
       "      <td>0.0</td>\n",
       "      <td>1.0</td>\n",
       "      <td>1.0</td>\n",
       "      <td>1.0</td>\n",
       "      <td>0.350050</td>\n",
       "    </tr>\n",
       "    <tr>\n",
       "      <th>10</th>\n",
       "      <td>-0.095890</td>\n",
       "      <td>-0.367347</td>\n",
       "      <td>3.0</td>\n",
       "      <td>0.0</td>\n",
       "      <td>1.0</td>\n",
       "      <td>1.0</td>\n",
       "      <td>1.0</td>\n",
       "      <td>0.360499</td>\n",
       "    </tr>\n",
       "  </tbody>\n",
       "</table>\n",
       "</div>"
      ],
      "text/plain": [
       "         age  hoursPerWeek  education  marital_status  occupation  gender  \\\n",
       "0   0.095890      0.000000        3.0             0.0         1.0     1.0   \n",
       "1   0.068493     -0.306122        3.0             0.0         1.0     1.0   \n",
       "2  -0.013699     -0.306122        3.0             0.0         1.0     1.0   \n",
       "3  -0.013699     -0.306122        3.0             0.0         1.0     1.0   \n",
       "4   0.397260     -0.204082        3.0             0.0         1.0     1.0   \n",
       "5   0.205479     -0.306122        3.0             0.0         1.0     1.0   \n",
       "6  -0.123288     -0.306122        3.0             0.0         1.0     1.0   \n",
       "7   0.369863     -0.265306        3.0             0.0         1.0     1.0   \n",
       "8   0.369863     -0.306122        3.0             0.0         1.0     1.0   \n",
       "9   0.397260     -0.265306        3.0             0.0         1.0     1.0   \n",
       "10 -0.095890     -0.367347        3.0             0.0         1.0     1.0   \n",
       "\n",
       "    native_country    income  \n",
       "0              1.0  0.679225  \n",
       "1              1.0  0.443434  \n",
       "2              1.0  0.456739  \n",
       "3              1.0  0.456739  \n",
       "4              1.0  0.460933  \n",
       "5              1.0  0.389730  \n",
       "6              1.0  0.440966  \n",
       "7              1.0  0.445882  \n",
       "8              1.0  0.389730  \n",
       "9              1.0  0.350050  \n",
       "10             1.0  0.360499  "
      ]
     },
     "execution_count": 124,
     "metadata": {},
     "output_type": "execute_result"
    }
   ],
   "source": [
    "X_pred_0_neigh = np.argsort(cdist(X_pred_0,X_test[0,:].reshape(1,-1)).ravel())[:10]\n",
    "pd.DataFrame(np.vstack((q,X_train[y_train_pred<=0.5][X_pred_0_neigh])),columns=df.columns)"
   ]
  },
  {
   "cell_type": "code",
   "execution_count": null,
   "id": "d31fbc3b",
   "metadata": {},
   "outputs": [],
   "source": []
  }
 ],
 "metadata": {
  "kernelspec": {
   "display_name": "Python 3",
   "language": "python",
   "name": "python3"
  },
  "language_info": {
   "codemirror_mode": {
    "name": "ipython",
    "version": 3
   },
   "file_extension": ".py",
   "mimetype": "text/x-python",
   "name": "python",
   "nbconvert_exporter": "python",
   "pygments_lexer": "ipython3",
   "version": "3.8.0"
  }
 },
 "nbformat": 4,
 "nbformat_minor": 5
}
