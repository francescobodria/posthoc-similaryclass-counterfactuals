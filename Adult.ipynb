{
 "cells": [
  {
   "cell_type": "code",
   "execution_count": 1,
   "id": "2aa08d80-31c9-40a1-889c-dc6465739914",
   "metadata": {},
   "outputs": [
    {
     "data": {
      "text/plain": [
       "<torch._C.Generator at 0x7fce0a008ed0>"
      ]
     },
     "execution_count": 1,
     "metadata": {},
     "output_type": "execute_result"
    }
   ],
   "source": [
    "import pandas as pd\n",
    "import pickle\n",
    "import numpy as np\n",
    "import torch\n",
    "import torch.nn as nn\n",
    "import torch.nn.functional as F\n",
    "from torch.utils.data import TensorDataset, DataLoader\n",
    "from tqdm.notebook import tqdm\n",
    "import time\n",
    "import matplotlib.pyplot as plt\n",
    "import os\n",
    "\n",
    "rnd = 384\n",
    "np.random.seed(rnd)\n",
    "torch.manual_seed(rnd)"
   ]
  },
  {
   "cell_type": "code",
   "execution_count": 2,
   "id": "6392e3ab-2ef1-4409-b1db-9c09cb231175",
   "metadata": {},
   "outputs": [],
   "source": [
    "from sklearn.preprocessing import OrdinalEncoder, MinMaxScaler, OneHotEncoder\n",
    "from sklearn.model_selection import train_test_split\n",
    "\n",
    "df = pd.read_csv('./data/adult_clear.csv')\n",
    "df = df[df[\"workclass\"] != \"?\"]\n",
    "df = df[df[\"occupation\"] != \"?\"]\n",
    "df = df[df[\"native-country\"] != \"?\"]\n",
    "df.replace(['Divorced', 'Married-AF-spouse',\n",
    "            'Married-civ-spouse', 'Married-spouse-absent',\n",
    "            'Never-married', 'Separated', 'Widowed'],\n",
    "           ['notmarried', 'married', 'married', 'married',\n",
    "            'notmarried', 'notmarried', 'notmarried'], inplace=True)\n",
    "df['education'].replace(['Preschool', '10th', '11th', '12th', '1st-4th', '5th-6th', '7th-8th', '9th'], 'dropout',\n",
    "                        inplace=True)\n",
    "df['education'].replace(['HS-Grad', 'HS-grad'], 'HighGrad', inplace=True)\n",
    "df['education'].replace(['Some-college', 'Assoc-acdm', 'Assoc-voc'], 'CommunityCollege', inplace=True)\n",
    "df = df[df.race == 'White']\n",
    "# excludes 10 observations\n",
    "df = df[df['workclass'] != 'Never-worked']\n",
    "# excludes 14 observations\n",
    "df = df[df['occupation'] != 'Armed-Forces']\n",
    "# excludes 21 observations\n",
    "df = df[df['workclass'] != 'Without-pay']\n",
    "df.drop(['fnlwgt', 'educational-num', 'relationship', 'race', 'capital-gain', 'capital-loss'],\n",
    "            axis=1, inplace=True)\n",
    "df['workclass'].replace(['Local-gov', 'State-gov', 'Federal-gov'], 'Gov', inplace=True)\n",
    "df['workclass'].replace(['Private', 'Self-emp-not-inc', 'Self-emp-inc'], 'Private', inplace=True)\n",
    "df['occupation'].replace(\n",
    "    ['Craft-repair', 'Machine-op-inspct', 'Handlers-cleaners', 'Transport-moving', 'Adm-clerical',\n",
    "     'Farming-fishing'], 'BlueCollar', inplace=True)\n",
    "df['occupation'].replace(['Other-service', 'Protective-serv', 'Tech-support', 'Priv-house-serv'], 'Services',\n",
    "                         inplace=True)\n",
    "df['occupation'].replace(['Exec-managerial'], 'ExecManagerial', inplace=True)\n",
    "df['occupation'].replace(['Prof-specialty'], 'ProfSpecialty', inplace=True)\n",
    "df['education'].replace(['Prof-school'], 'ProfSchool', inplace=True)\n",
    "df['native-country'].replace(['Cambodia', 'Canada', 'China', 'Columbia', 'Cuba', 'Dominican-Republic', 'Ecuador', \\\n",
    "                              'El-Salvador', 'England', 'France', 'Germany', 'Greece', 'Guatemala', 'Haiti',\\\n",
    "                              'Holand-Netherlands', 'Honduras', 'Hong', 'Hungary', 'India', 'Iran', 'Ireland',\\\n",
    "                              'Italy', 'Jamaica', 'Japan', 'Mexico', 'Nicaragua', 'Outlying-US(Guam-USVI-etc)',\\\n",
    "                              'Peru', 'Philippines', 'Poland', 'Portugal', 'Puerto-Rico', 'Scotland', 'South',\\\n",
    "                              'Taiwan','Thailand', 'Trinadad&Tobago', 'Vietnam','Yugoslavia'], 'Non_US', inplace=True)\n",
    "df.rename(columns={'hours-per-week': 'hoursPerWeek'}, inplace=True)\n",
    "df.rename(columns={'marital-status': 'marital_status'}, inplace=True)\n",
    "df.rename(columns={'native-country': 'native_country'}, inplace=True)\n",
    "columns_titles = [\"age\",\"hoursPerWeek\",\"education\",\"marital_status\",\"occupation\",\"gender\",\"native_country\",\"income\"]\n",
    "df=df.reindex(columns=columns_titles)\n",
    "df = df[~df.duplicated()]\n",
    "X = df.copy()\n",
    "ord_enc = OrdinalEncoder()\n",
    "#X.iloc[:,[3,5,6,7]] = ord_enc.fit_transform(X.values[:,[3,5,6,7]]).astype(int)\n",
    "X.iloc[:,2:] = ord_enc.fit_transform(X.values[:,2:]).astype(int)\n",
    "std = MinMaxScaler(feature_range=(-1,1))\n",
    "X.iloc[:,:2] = std.fit_transform(X.values[:,:2])\n",
    "#hot_enc = OneHotEncoder(handle_unknown='ignore')\n",
    "#hot_enc.fit(X.iloc[:,[2,4]])\n",
    "#X[np.hstack(hot_enc.categories_).tolist()]=hot_enc.transform(X.iloc[:,[2,4]]).toarray().astype(int)\n",
    "#X.drop(['education'], axis=1, inplace=True)\n",
    "#X.drop(['occupation'], axis=1, inplace=True)\n",
    "X.drop(['income'], axis=1, inplace=True)\n",
    "y = df[\"income\"].apply(lambda x: \">50K\" in x).astype(int)\n",
    "\n",
    "X_train, X_test, y_train, y_test = train_test_split(X, y, test_size=0.2, stratify=y, random_state=rnd)"
   ]
  },
  {
   "cell_type": "code",
   "execution_count": 3,
   "id": "a7975bd1",
   "metadata": {},
   "outputs": [
    {
     "data": {
      "text/html": [
       "<div>\n",
       "<style scoped>\n",
       "    .dataframe tbody tr th:only-of-type {\n",
       "        vertical-align: middle;\n",
       "    }\n",
       "\n",
       "    .dataframe tbody tr th {\n",
       "        vertical-align: top;\n",
       "    }\n",
       "\n",
       "    .dataframe thead th {\n",
       "        text-align: right;\n",
       "    }\n",
       "</style>\n",
       "<table border=\"1\" class=\"dataframe\">\n",
       "  <thead>\n",
       "    <tr style=\"text-align: right;\">\n",
       "      <th></th>\n",
       "      <th>age</th>\n",
       "      <th>hoursPerWeek</th>\n",
       "      <th>education</th>\n",
       "      <th>marital_status</th>\n",
       "      <th>occupation</th>\n",
       "      <th>gender</th>\n",
       "      <th>native_country</th>\n",
       "    </tr>\n",
       "  </thead>\n",
       "  <tbody>\n",
       "    <tr>\n",
       "      <th>17534</th>\n",
       "      <td>-0.041096</td>\n",
       "      <td>-0.142857</td>\n",
       "      <td>3</td>\n",
       "      <td>1</td>\n",
       "      <td>0</td>\n",
       "      <td>0</td>\n",
       "      <td>1</td>\n",
       "    </tr>\n",
       "    <tr>\n",
       "      <th>14204</th>\n",
       "      <td>-0.342466</td>\n",
       "      <td>-0.040816</td>\n",
       "      <td>3</td>\n",
       "      <td>1</td>\n",
       "      <td>0</td>\n",
       "      <td>1</td>\n",
       "      <td>1</td>\n",
       "    </tr>\n",
       "    <tr>\n",
       "      <th>18447</th>\n",
       "      <td>-0.178082</td>\n",
       "      <td>-0.204082</td>\n",
       "      <td>3</td>\n",
       "      <td>0</td>\n",
       "      <td>3</td>\n",
       "      <td>1</td>\n",
       "      <td>1</td>\n",
       "    </tr>\n",
       "    <tr>\n",
       "      <th>10398</th>\n",
       "      <td>0.013699</td>\n",
       "      <td>-0.204082</td>\n",
       "      <td>1</td>\n",
       "      <td>1</td>\n",
       "      <td>3</td>\n",
       "      <td>0</td>\n",
       "      <td>1</td>\n",
       "    </tr>\n",
       "    <tr>\n",
       "      <th>24516</th>\n",
       "      <td>-0.753425</td>\n",
       "      <td>-0.367347</td>\n",
       "      <td>6</td>\n",
       "      <td>1</td>\n",
       "      <td>2</td>\n",
       "      <td>0</td>\n",
       "      <td>1</td>\n",
       "    </tr>\n",
       "    <tr>\n",
       "      <th>...</th>\n",
       "      <td>...</td>\n",
       "      <td>...</td>\n",
       "      <td>...</td>\n",
       "      <td>...</td>\n",
       "      <td>...</td>\n",
       "      <td>...</td>\n",
       "      <td>...</td>\n",
       "    </tr>\n",
       "    <tr>\n",
       "      <th>35701</th>\n",
       "      <td>-0.150685</td>\n",
       "      <td>-0.714286</td>\n",
       "      <td>3</td>\n",
       "      <td>1</td>\n",
       "      <td>2</td>\n",
       "      <td>1</td>\n",
       "      <td>1</td>\n",
       "    </tr>\n",
       "    <tr>\n",
       "      <th>11005</th>\n",
       "      <td>-0.671233</td>\n",
       "      <td>-0.204082</td>\n",
       "      <td>6</td>\n",
       "      <td>1</td>\n",
       "      <td>0</td>\n",
       "      <td>0</td>\n",
       "      <td>1</td>\n",
       "    </tr>\n",
       "    <tr>\n",
       "      <th>952</th>\n",
       "      <td>-0.369863</td>\n",
       "      <td>-0.204082</td>\n",
       "      <td>3</td>\n",
       "      <td>0</td>\n",
       "      <td>0</td>\n",
       "      <td>0</td>\n",
       "      <td>1</td>\n",
       "    </tr>\n",
       "    <tr>\n",
       "      <th>47357</th>\n",
       "      <td>-0.095890</td>\n",
       "      <td>0.102041</td>\n",
       "      <td>4</td>\n",
       "      <td>0</td>\n",
       "      <td>3</td>\n",
       "      <td>1</td>\n",
       "      <td>1</td>\n",
       "    </tr>\n",
       "    <tr>\n",
       "      <th>1102</th>\n",
       "      <td>-0.561644</td>\n",
       "      <td>0.530612</td>\n",
       "      <td>1</td>\n",
       "      <td>0</td>\n",
       "      <td>0</td>\n",
       "      <td>1</td>\n",
       "      <td>1</td>\n",
       "    </tr>\n",
       "  </tbody>\n",
       "</table>\n",
       "<p>16270 rows × 7 columns</p>\n",
       "</div>"
      ],
      "text/plain": [
       "            age  hoursPerWeek  education  marital_status  occupation  gender  \\\n",
       "17534 -0.041096     -0.142857          3               1           0       0   \n",
       "14204 -0.342466     -0.040816          3               1           0       1   \n",
       "18447 -0.178082     -0.204082          3               0           3       1   \n",
       "10398  0.013699     -0.204082          1               1           3       0   \n",
       "24516 -0.753425     -0.367347          6               1           2       0   \n",
       "...         ...           ...        ...             ...         ...     ...   \n",
       "35701 -0.150685     -0.714286          3               1           2       1   \n",
       "11005 -0.671233     -0.204082          6               1           0       0   \n",
       "952   -0.369863     -0.204082          3               0           0       0   \n",
       "47357 -0.095890      0.102041          4               0           3       1   \n",
       "1102  -0.561644      0.530612          1               0           0       1   \n",
       "\n",
       "       native_country  \n",
       "17534               1  \n",
       "14204               1  \n",
       "18447               1  \n",
       "10398               1  \n",
       "24516               1  \n",
       "...               ...  \n",
       "35701               1  \n",
       "11005               1  \n",
       "952                 1  \n",
       "47357               1  \n",
       "1102                1  \n",
       "\n",
       "[16270 rows x 7 columns]"
      ]
     },
     "execution_count": 3,
     "metadata": {},
     "output_type": "execute_result"
    }
   ],
   "source": [
    "X_train"
   ]
  },
  {
   "cell_type": "markdown",
   "id": "16ef74ab",
   "metadata": {},
   "source": [
    "### XGBOOST"
   ]
  },
  {
   "cell_type": "code",
   "execution_count": 4,
   "id": "33baf3fb",
   "metadata": {},
   "outputs": [
    {
     "name": "stdout",
     "output_type": "stream",
     "text": [
      "XGBOOST\n",
      "train acc: 0.8020897357098955\n",
      "test acc: 0.7573746312684366\n"
     ]
    }
   ],
   "source": [
    "from xgboost import XGBClassifier\n",
    "clf_xgb = XGBClassifier(n_estimators=60, reg_lambda=3, use_label_encoder=False, eval_metric='logloss')\n",
    "clf_xgb.fit(X_train, y_train)\n",
    "pickle.dump(clf_xgb,open('./BlackBoxes/adult_xgboost.p','wb'))\n",
    "\n",
    "clf_xgb = pickle.load(open('./BlackBoxes/adult_xgboost.p','rb'))\n",
    "def predict(x, return_proba=False):\n",
    "    if return_proba:\n",
    "        return clf_xgb.predict_proba(x)[:,1].ravel()\n",
    "    else: return clf_xgb.predict(x).ravel().ravel()\n",
    "y_train_pred = predict(X_train)\n",
    "y_test_pred = predict(X_test)\n",
    "print('XGBOOST')\n",
    "print('train acc:',np.mean(np.round(y_train_pred)==y_train))\n",
    "print('test acc:',np.mean(np.round(y_test_pred)==y_test))"
   ]
  },
  {
   "cell_type": "markdown",
   "id": "4eee0d50",
   "metadata": {},
   "source": [
    "### RF"
   ]
  },
  {
   "cell_type": "code",
   "execution_count": 5,
   "id": "9184d565",
   "metadata": {},
   "outputs": [
    {
     "data": {
      "text/plain": [
       "RandomForestClassifier(max_depth=7, random_state=384)"
      ]
     },
     "execution_count": 5,
     "metadata": {},
     "output_type": "execute_result"
    }
   ],
   "source": [
    "from sklearn.ensemble import RandomForestClassifier\n",
    "\n",
    "clf_rf = RandomForestClassifier(max_depth=7,random_state=rnd)\n",
    "clf_rf.fit(X_train, y_train)\n",
    "\n",
    "pickle.dump(clf_rf,open('./BlackBoxes/adult_rf.p','wb'))\n",
    "clf_rf"
   ]
  },
  {
   "cell_type": "code",
   "execution_count": 6,
   "id": "275e38f8",
   "metadata": {},
   "outputs": [
    {
     "name": "stdout",
     "output_type": "stream",
     "text": [
      "train acc: 0.7719729563614014\n",
      "test acc: 0.7635201573254671\n"
     ]
    }
   ],
   "source": [
    "clf_rf = pickle.load(open('./BlackBoxes/adult_rf.p','rb'))\n",
    "\n",
    "def predict(x, return_proba=False):\n",
    "    if return_proba:\n",
    "        return clf_rf.predict_proba(x)[:,1].ravel()\n",
    "    else: return clf_rf.predict(x).ravel().ravel()\n",
    "\n",
    "y_test_pred = predict(X_test, return_proba=True)\n",
    "y_train_pred = predict(X_train, return_proba=True)\n",
    "print('train acc:',np.mean(np.round(y_train_pred)==y_train))\n",
    "print('test acc:',np.mean(np.round(y_test_pred)==y_test))"
   ]
  },
  {
   "cell_type": "markdown",
   "id": "1508d5a9",
   "metadata": {},
   "source": [
    "### SVC"
   ]
  },
  {
   "cell_type": "code",
   "execution_count": 7,
   "id": "357bb92c",
   "metadata": {},
   "outputs": [
    {
     "name": "stderr",
     "output_type": "stream",
     "text": [
      "/Users/francescobodria/anaconda3/envs/latent_space/lib/python3.7/site-packages/sklearn/base.py:444: UserWarning: X has feature names, but SVC was fitted without feature names\n",
      "  f\"X has feature names, but {self.__class__.__name__} was fitted without\"\n",
      "/Users/francescobodria/anaconda3/envs/latent_space/lib/python3.7/site-packages/sklearn/base.py:444: UserWarning: X has feature names, but SVC was fitted without feature names\n",
      "  f\"X has feature names, but {self.__class__.__name__} was fitted without\"\n"
     ]
    },
    {
     "name": "stdout",
     "output_type": "stream",
     "text": [
      "SVC\n",
      "train acc: 0.7648432698217579\n",
      "test acc: 0.7625368731563422\n"
     ]
    }
   ],
   "source": [
    "#from sklearn.svm import SVC\n",
    "#clf_svc = SVC(gamma='auto', probability=True)\n",
    "#clf_svc.fit(X_train, y_train)\n",
    "#pickle.dump(clf_svc,open('./BlackBoxes/adult_svc.p','wb'))\n",
    "\n",
    "clf_svc = pickle.load(open('./BlackBoxes/adult_svc.p','rb'))\n",
    "\n",
    "def predict(x, return_proba=False):\n",
    "    if return_proba:\n",
    "        return clf_svc.predict_proba(x)[:,1].ravel()\n",
    "    else: return clf_svc.predict(x).ravel().ravel()\n",
    "\n",
    "y_train_pred = predict(X_train, return_proba=True)\n",
    "y_test_pred = predict(X_test, return_proba=True)\n",
    "print('SVC')\n",
    "print('train acc:',np.mean(np.round(y_train_pred)==y_train))\n",
    "print('test acc:',np.mean(np.round(y_test_pred)==y_test))"
   ]
  },
  {
   "cell_type": "markdown",
   "id": "4e800724",
   "metadata": {},
   "source": [
    "### NN tf"
   ]
  },
  {
   "cell_type": "code",
   "execution_count": 9,
   "id": "20607e82",
   "metadata": {},
   "outputs": [
    {
     "name": "stderr",
     "output_type": "stream",
     "text": [
      "2022-03-24 17:45:33.059329: I tensorflow/core/platform/cpu_feature_guard.cc:142] This TensorFlow binary is optimized with oneAPI Deep Neural Network Library (oneDNN) to use the following CPU instructions in performance-critical operations:  SSE4.2\n",
      "To enable them in other operations, rebuild TensorFlow with the appropriate compiler flags.\n",
      "2022-03-24 17:45:33.062305: I tensorflow/compiler/mlir/mlir_graph_optimization_pass.cc:258] None of the MLIR optimization passes are enabled (registered 0 passes)\n",
      "/Users/francescobodria/anaconda3/envs/latent_space/lib/python3.7/site-packages/tensorflow/python/keras/engine/training.py:2366: UserWarning: `Model.state_updates` will be removed in a future version. This property should not be used in TensorFlow 2.0, as `updates` are applied automatically.\n",
      "  warnings.warn('`Model.state_updates` will be removed in a future version. '\n"
     ]
    },
    {
     "data": {
      "image/png": "[encoded data removed]",
      "text/plain": [
       "<Figure size 432x288 with 1 Axes>"
      ]
     },
     "metadata": {
      "needs_background": "light"
     },
     "output_type": "display_data"
    },
    {
     "name": "stdout",
     "output_type": "stream",
     "text": [
      "NN\n",
      "0.7637369391518132\n",
      "0.7502458210422812\n",
      "---------------\n"
     ]
    }
   ],
   "source": [
    "# ### NN tf\n",
    "\n",
    "import tensorflow as tf\n",
    "from tensorflow import keras\n",
    "from tensorflow.keras.callbacks import EarlyStopping\n",
    "\n",
    "BATCH_SIZE = 1024\n",
    "train_dataset = tf.data.Dataset.from_tensor_slices((X_train, y_train)).shuffle(2048).batch(BATCH_SIZE)\n",
    "test_dataset = tf.data.Dataset.from_tensor_slices((X_test, y_test)).batch(BATCH_SIZE)\n",
    "\n",
    "clf_nn = keras.Sequential([\n",
    "    keras.layers.Dense(units=10, activation='relu'),\n",
    "    keras.layers.Dense(units=5, activation='relu'),\n",
    "    keras.layers.Dense(units=1, activation='sigmoid'),\n",
    "])\n",
    "\n",
    "early_stopping = EarlyStopping(patience=5)\n",
    "\n",
    "clf_nn.compile(optimizer='adam', \n",
    "              loss='binary_crossentropy',\n",
    "              metrics=['accuracy'])\n",
    "\n",
    "history = clf_nn.fit(\n",
    "    train_dataset,\n",
    "    validation_data=test_dataset,\n",
    "    epochs=1000,\n",
    "    callbacks=[early_stopping],\n",
    "    verbose=0\n",
    "    )\n",
    "\n",
    "def plot_metric(history, metric):\n",
    "    train_metrics = history.history[metric]\n",
    "    val_metrics = history.history['val_'+metric]\n",
    "    epochs = range(1, len(train_metrics) + 1)\n",
    "    plt.plot(epochs, train_metrics)\n",
    "    plt.plot(epochs, val_metrics)\n",
    "    plt.title('Training and validation '+ metric)\n",
    "    plt.xlabel(\"Epochs\")\n",
    "    plt.ylabel(metric)\n",
    "    plt.grid()\n",
    "    plt.legend([\"train_\"+metric, 'val_'+metric])\n",
    "    plt.show()\n",
    "\n",
    "plot_metric(history, 'loss')\n",
    "clf_nn.save_weights('./blackboxes/adult_tf_nn')\n",
    "\n",
    "from sklearn.metrics import accuracy_score\n",
    "clf_nn.load_weights('./blackboxes/adult_tf_nn')\n",
    "clf_nn.trainable = False\n",
    "\n",
    "def predict(x, return_proba=False):\n",
    "    if return_proba:\n",
    "        return clf_nn.predict(x).ravel()\n",
    "    else: return np.round(clf_nn.predict(x).ravel()).astype(int).ravel()\n",
    "\n",
    "print('NN')\n",
    "print(accuracy_score(np.round(predict(X_train, return_proba = True)),y_train))\n",
    "print(accuracy_score(np.round(predict(X_test, return_proba = True)),y_test))\n",
    "print('---------------')"
   ]
  },
  {
   "cell_type": "code",
   "execution_count": 5,
   "id": "6cd323dc",
   "metadata": {},
   "outputs": [],
   "source": [
    "black_box = 'xgb'\n",
    "\n",
    "if black_box=='xgb':\n",
    "    def predict(x, return_proba=False):\n",
    "        if return_proba:\n",
    "            return clf_xgb.predict_proba(x)[:,1].ravel()\n",
    "        else: return clf_xgb.predict(x).ravel().ravel()\n",
    "    y_test_pred = predict(X_test, return_proba=True)\n",
    "    y_train_pred = predict(X_train, return_proba=True)\n",
    "elif black_box=='rf':\n",
    "    def predict(x, return_proba=False):\n",
    "        if return_proba:\n",
    "            return clf_rf.predict_proba(x)[:,1].ravel()\n",
    "        else: return clf_rf.predict(x).ravel().ravel()\n",
    "    y_test_pred = predict(X_test, return_proba=True)\n",
    "    y_train_pred = predict(X_train, return_proba=True)\n",
    "elif black_box=='svc':\n",
    "    def predict(x, return_proba=False):\n",
    "        if return_proba:\n",
    "            return clf_svc.predict_proba(x)[:,1].ravel()\n",
    "        else: return clf_svc.predict(x).ravel().ravel()\n",
    "    y_test_pred = predict(X_test, return_proba=True)\n",
    "    y_train_pred = predict(X_train, return_proba=True)\n",
    "elif black_box=='nn':\n",
    "    def predict(x, return_proba=False):\n",
    "        if return_proba:\n",
    "            return clf_nn.predict(x).ravel()\n",
    "        else: return np.round(clf_nn.predict(x).ravel()).astype(int).ravel()\n",
    "    y_test_pred = predict(X_test, return_proba=True)\n",
    "    y_train_pred = predict(X_train, return_proba=True)"
   ]
  },
  {
   "cell_type": "markdown",
   "id": "a22029e8",
   "metadata": {},
   "source": [
    "# Latent Space"
   ]
  },
  {
   "cell_type": "code",
   "execution_count": 6,
   "id": "0138a28d",
   "metadata": {},
   "outputs": [],
   "source": [
    "X_train = np.hstack((X_train,y_train_pred.reshape(-1,1)))\n",
    "X_test = np.hstack((X_test,y_test_pred.reshape(-1,1)))"
   ]
  },
  {
   "cell_type": "code",
   "execution_count": 7,
   "id": "b33fe1e2-7f55-4af9-b03b-e96ccd62cec6",
   "metadata": {},
   "outputs": [],
   "source": [
    "latent_dim = 4\n",
    "batch_size = 1024\n",
    "sigma = 1\n",
    "max_epochs = 1000\n",
    "early_stopping = 3\n",
    "learning_rate = 1e-3\n",
    "idx_cat = [2,3,4,5,6]\n",
    "\n",
    "similarity_KLD = torch.nn.KLDivLoss(reduction='batchmean')\n",
    "\n",
    "def compute_similarity(X, sigma, idx_cat=None):\n",
    "    if idx_cat:\n",
    "        X_cat = X[:, idx_cat]\n",
    "        X_cont = X[:, np.delete(range(X.shape[1]),idx_cat)]\n",
    "        h = X_cat.shape[1]\n",
    "        m = X.shape[1]\n",
    "        D_cont = torch.cdist(X_cont,X_cont)\n",
    "        D_cat = torch.cdist(X_cat, X_cat, p=0)/h\n",
    "        D = h/m * D_cat + ((m-h)/m) * D_cont\n",
    "    else:\n",
    "        D = torch.cdist(X,X)\n",
    "    M = torch.exp((-D**2)/(2*sigma**2))\n",
    "    return M / (torch.ones([M.shape[0],M.shape[1]])*(torch.sum(M, axis = 0)-1)).transpose(0,1)\n",
    "\n",
    "def loss_function(X, Z, idx_cat, sigma=1):\n",
    "    Sx = compute_similarity(X, sigma, idx_cat)\n",
    "    Sz = compute_similarity(Z, 1)\n",
    "    loss = similarity_KLD(torch.log(Sx), Sz)\n",
    "    return loss\n",
    "\n",
    "class LinearModel(nn.Module):\n",
    "    def __init__(self, input_shape, latent_dim=2):\n",
    "        super(LinearModel, self).__init__()\n",
    "\n",
    "        # encoding components\n",
    "        self.fc1 = nn.Linear(input_shape, latent_dim)\n",
    "\n",
    "    def encode(self, x):\n",
    "        x = self.fc1(x)\n",
    "        return x\n",
    "\n",
    "    def forward(self, x):\n",
    "        z = self.encode(x)\n",
    "        return z\n",
    "\n",
    "# Create Model\n",
    "model = LinearModel(X_train.shape[1], latent_dim=latent_dim)"
   ]
  },
  {
   "cell_type": "code",
   "execution_count": 8,
   "id": "e9a2e8eb",
   "metadata": {},
   "outputs": [
    {
     "data": {
      "application/vnd.jupyter.widget-view+json": {
       "model_id": "4e311836d86d431890f72dec7bc24497",
       "version_major": 2,
       "version_minor": 0
      },
      "text/plain": [
       "Epoch: 000 Train Sim Loss 0.00000 Test Sim Loss 0.00000 Early Stopping 0"
      ]
     },
     "metadata": {},
     "output_type": "display_data"
    }
   ],
   "source": [
    "train_dataset = TensorDataset(torch.tensor(X_train).float())\n",
    "train_loader = DataLoader(train_dataset, batch_size=batch_size, shuffle=True) \n",
    "test_dataset = TensorDataset(torch.tensor(X_test).float())\n",
    "test_loader = DataLoader(test_dataset, batch_size=batch_size, shuffle=False) \n",
    "\n",
    "def check_and_clear(dir_name):\n",
    "    if not os.path.exists(dir_name):\n",
    "        os.mkdir(dir_name)\n",
    "    else:\n",
    "        os.system('rm -r ' + dir_name)\n",
    "        os.mkdir(dir_name)\n",
    "\n",
    "check_and_clear('./models/weights')\n",
    "\n",
    "model_params = list(model.parameters())\n",
    "optimizer = torch.optim.Adam(model_params, lr=learning_rate)\n",
    "\n",
    "# record training process\n",
    "epoch_train_losses = []\n",
    "epoch_test_losses = []\n",
    "\n",
    "#validation parameters\n",
    "epoch = 1\n",
    "best = np.inf\n",
    "\n",
    "# progress bar\n",
    "pbar = tqdm(bar_format=\"{postfix[0]} {postfix[1][value]:03d} {postfix[2]} {postfix[3][value]:.5f} {postfix[4]} {postfix[5][value]:.5f} {postfix[6]} {postfix[7][value]:d}\",\n",
    "            postfix=[\"Epoch:\", {'value':0}, \"Train Sim Loss\", {'value':0}, \"Test Sim Loss\", {'value':0}, \"Early Stopping\", {\"value\":0}])\n",
    "\n",
    "# start training\n",
    "while epoch <= max_epochs:\n",
    "\n",
    "    # ------- TRAIN ------- #\n",
    "    # set model as training mode\n",
    "    model.train()\n",
    "    batch_loss = []\n",
    "\n",
    "    for batch, (X_batch,) in enumerate(train_loader):\n",
    "        optimizer.zero_grad()\n",
    "        Z_batch = model(X_batch)  #\n",
    "        loss  = loss_function(X_batch, Z_batch, idx_cat, sigma) \n",
    "        loss.backward()\n",
    "        optimizer.step()\n",
    "        batch_loss.append(loss.item())\n",
    "\n",
    "    # save result\n",
    "    epoch_train_losses.append(np.mean(batch_loss))\n",
    "    pbar.postfix[3][\"value\"] = np.mean(batch_loss)\n",
    "\n",
    "    # -------- VALIDATION --------\n",
    "\n",
    "    # set model as testing mode\n",
    "    model.eval()\n",
    "    batch_loss = []\n",
    "\n",
    "    with torch.no_grad():\n",
    "        for batch, (X_batch,) in enumerate(test_loader):\n",
    "            Z_batch = model(X_batch)\n",
    "            loss = loss_function(X_batch, Z_batch, idx_cat, sigma)\n",
    "            batch_loss.append(loss.item())\n",
    "\n",
    "    # save information\n",
    "    epoch_test_losses.append(np.mean(batch_loss))\n",
    "    pbar.postfix[5][\"value\"] = np.mean(batch_loss)\n",
    "    pbar.postfix[1][\"value\"] = epoch\n",
    "\n",
    "    if epoch_test_losses[-1] < best:\n",
    "        wait = 0\n",
    "        best = epoch_test_losses[-1]\n",
    "        best_epoch = epoch\n",
    "        torch.save(model.state_dict(), f'./models/weights/LinearTransparent.pt')\n",
    "    else:\n",
    "        wait += 1\n",
    "    pbar.postfix[7][\"value\"] = wait\n",
    "    if wait == early_stopping:\n",
    "        break    \n",
    "    epoch += 1\n",
    "    pbar.update()\n",
    "\n",
    "model.load_state_dict(torch.load(f'./models/weights/LinearTransparent.pt'))\n",
    "with torch.no_grad():\n",
    "    model.eval()\n",
    "    Z_train = model(torch.tensor(X_train).float()).cpu().detach().numpy()\n",
    "    Z_test = model(torch.tensor(X_test).float()).cpu().detach().numpy()\n",
    "\n",
    "torch.save(model.state_dict(), f'./models/adult_latent_{black_box}_{latent_dim}.pt')"
   ]
  },
  {
   "cell_type": "code",
   "execution_count": 9,
   "id": "d0569976-ce37-4a06-947a-b29d89dfbdbd",
   "metadata": {},
   "outputs": [],
   "source": [
    "model.load_state_dict(torch.load(f'./models/adult_latent_{black_box}_{latent_dim}.pt'))\n",
    "with torch.no_grad():\n",
    "    model.eval()\n",
    "    Z_train = model(torch.tensor(X_train).float()).cpu().detach().numpy()\n",
    "    Z_test = model(torch.tensor(X_test).float()).cpu().detach().numpy()"
   ]
  },
  {
   "cell_type": "code",
   "execution_count": 15,
   "id": "bc840642",
   "metadata": {},
   "outputs": [
    {
     "data": {
      "image/png": "[encoded data removed]",
      "text/plain": [
       "<Figure size 432x288 with 1 Axes>"
      ]
     },
     "metadata": {
      "needs_background": "light"
     },
     "output_type": "display_data"
    }
   ],
   "source": [
    "idx = 0\n",
    "plt.scatter(Z_train[:,0],Z_train[:,1],c=y_train_pred,cmap='coolwarm')\n",
    "plt.plot(Z_test[idx,0],Z_test[idx,1],'kX',markersize=20)\n",
    "plt.grid()"
   ]
  },
  {
   "cell_type": "code",
   "execution_count": 16,
   "id": "3aa76917-497a-4070-8682-357bce7d2868",
   "metadata": {},
   "outputs": [
    {
     "data": {
      "text/plain": [
       "array([0.01908733], dtype=float32)"
      ]
     },
     "execution_count": 16,
     "metadata": {},
     "output_type": "execute_result"
    }
   ],
   "source": [
    "idx = 0\n",
    "predict(X_test[idx:idx+1,:-1],return_proba=True)"
   ]
  },
  {
   "cell_type": "code",
   "execution_count": 10,
   "id": "c87db2a8",
   "metadata": {},
   "outputs": [],
   "source": [
    "y_contrib = model.fc1.weight.detach().numpy()[:,-1]"
   ]
  },
  {
   "cell_type": "code",
   "execution_count": 18,
   "id": "1820e664",
   "metadata": {},
   "outputs": [
    {
     "data": {
      "image/png": "[encoded data removed]",
      "text/plain": [
       "<Figure size 432x288 with 1 Axes>"
      ]
     },
     "metadata": {
      "needs_background": "light"
     },
     "output_type": "display_data"
    }
   ],
   "source": [
    "plt.scatter(Z_train[:,0], Z_train[:,1], c=y_train_pred, cmap='coolwarm')\n",
    "plt.plot(Z_test[idx,0], Z_test[idx,1], 'kX', markersize=20)\n",
    "m = +1\n",
    "plt.plot(Z_test[idx,0]+m*y_contrib[0], Z_test[idx,1]+m*y_contrib[1], 'rX', markersize=20)\n",
    "plt.quiver(Z_test[idx,0], Z_test[idx,1], m*y_contrib[0],m*y_contrib[1], angles='xy', scale_units='xy', scale=1, color='m')\n",
    "plt.grid()"
   ]
  },
  {
   "cell_type": "markdown",
   "id": "c22b8b4c",
   "metadata": {},
   "source": [
    "### Other Explanation"
   ]
  },
  {
   "cell_type": "code",
   "execution_count": 14,
   "id": "c8c49d0c",
   "metadata": {},
   "outputs": [
    {
     "data": {
      "image/png": "[encoded data removed]",
      "text/plain": [
       "<Figure size 432x288 with 1 Axes>"
      ]
     },
     "metadata": {
      "needs_background": "light"
     },
     "output_type": "display_data"
    }
   ],
   "source": [
    "import math\n",
    "\n",
    "idx = 0\n",
    "m = +2\n",
    "p_in = Z_test[idx,:]\n",
    "p_fin = Z_test[idx,:]+m*y_contrib\n",
    "\n",
    "eps = 0.01\n",
    "delta = math.sqrt((eps**2)/2)\n",
    "\n",
    "rule_1 = (Z_train[:,0]-(p_in[0]+delta))/(p_fin[0]-p_in[0])>(Z_train[:,1]-(p_in[1]+delta))/(p_fin[1]-p_in[1])\n",
    "rule_2 = (Z_train[:,0]-(p_in[0]-delta))/(p_fin[0]-p_in[0])<(Z_train[:,1]-(p_in[1]-delta))/(p_fin[1]-p_in[1])\n",
    "rule_3 = Z_train[:,1]>Z_train[:,0]-p_in[0]+p_in[1]\n",
    "rule_4 = Z_train[:,1]<Z_train[:,0]-p_fin[0]+p_fin[1]\n",
    "rule = rule_1*rule_2*rule_3*rule_4\n",
    "neigh_eps_train = X_train[rule,:]\n",
    "\n",
    "plt.scatter(Z_train[rule,0], Z_train[rule,1], c=y_train_pred[rule], cmap='coolwarm')\n",
    "plt.plot(p_in[0], p_in[1], 'kX', markersize=20)\n",
    "plt.plot(p_fin[0], p_fin[1], 'mX', markersize=20)\n",
    "plt.grid()\n",
    "\n",
    "rule_1 = (Z_test[:,0]-(p_in[0]+delta))/(p_fin[0]-p_in[0])>(Z_test[:,1]-(p_in[1]+delta))/(p_fin[1]-p_in[1])\n",
    "rule_2 = (Z_test[:,0]-(p_in[0]-delta))/(p_fin[0]-p_in[0])<(Z_test[:,1]-(p_in[1]-delta))/(p_fin[1]-p_in[1])\n",
    "rule_3 = Z_test[:,1]>Z_test[:,0]-p_in[0]+p_in[1]\n",
    "rule_4 = Z_test[:,1]<Z_test[:,0]-p_fin[0]+p_fin[1]\n",
    "rule = rule_1*rule_2*rule_3*rule_4\n",
    "neigh_eps_test = X_test[rule,:]\n"
   ]
  },
  {
   "cell_type": "code",
   "execution_count": 59,
   "id": "fab04d15",
   "metadata": {},
   "outputs": [
    {
     "name": "stdout",
     "output_type": "stream",
     "text": [
      "train acc: 0.9312169312169312\n",
      "test acc: 0.8295454545454546\n"
     ]
    },
    {
     "data": {
      "image/png": "[encoded data removed]",
      "text/plain": [
       "<Figure size 2160x360 with 1 Axes>"
      ]
     },
     "metadata": {
      "needs_background": "light"
     },
     "output_type": "display_data"
    }
   ],
   "source": [
    "from sklearn.tree import DecisionTreeClassifier\n",
    "from sklearn import tree\n",
    "\n",
    "clf = DecisionTreeClassifier(max_depth=6,min_samples_leaf=5)\n",
    "clf.fit(neigh_eps_train[:,:-1],np.round(neigh_eps_train[:,-1]))\n",
    "plt.figure(figsize=(30,5))\n",
    "print('train acc:', clf.score(neigh_eps_train[:,:-1], np.round(neigh_eps_train[:,-1])))\n",
    "print('test acc:', clf.score(neigh_eps_test[:,:-1], np.round(neigh_eps_test[:,-1])))\n",
    "tree.plot_tree(clf,filled=True,rounded=True);"
   ]
  },
  {
   "cell_type": "code",
   "execution_count": 33,
   "id": "df7eb5f5",
   "metadata": {},
   "outputs": [
    {
     "data": {
      "text/html": [
       "<div>\n",
       "<style scoped>\n",
       "    .dataframe tbody tr th:only-of-type {\n",
       "        vertical-align: middle;\n",
       "    }\n",
       "\n",
       "    .dataframe tbody tr th {\n",
       "        vertical-align: top;\n",
       "    }\n",
       "\n",
       "    .dataframe thead th {\n",
       "        text-align: right;\n",
       "    }\n",
       "</style>\n",
       "<table border=\"1\" class=\"dataframe\">\n",
       "  <thead>\n",
       "    <tr style=\"text-align: right;\">\n",
       "      <th></th>\n",
       "      <th>age</th>\n",
       "      <th>hoursPerWeek</th>\n",
       "      <th>education</th>\n",
       "      <th>marital_status</th>\n",
       "      <th>occupation</th>\n",
       "      <th>gender</th>\n",
       "      <th>native_country</th>\n",
       "      <th>income</th>\n",
       "    </tr>\n",
       "  </thead>\n",
       "  <tbody>\n",
       "    <tr>\n",
       "      <th>0</th>\n",
       "      <td>-0.534247</td>\n",
       "      <td>-0.653061</td>\n",
       "      <td>0.0</td>\n",
       "      <td>1.0</td>\n",
       "      <td>0.0</td>\n",
       "      <td>1.0</td>\n",
       "      <td>1.0</td>\n",
       "      <td>0.035054</td>\n",
       "    </tr>\n",
       "  </tbody>\n",
       "</table>\n",
       "</div>"
      ],
      "text/plain": [
       "        age  hoursPerWeek  education  marital_status  occupation  gender  \\\n",
       "0 -0.534247     -0.653061        0.0             1.0         0.0     1.0   \n",
       "\n",
       "   native_country    income  \n",
       "0             1.0  0.035054  "
      ]
     },
     "execution_count": 33,
     "metadata": {},
     "output_type": "execute_result"
    }
   ],
   "source": [
    "pd.DataFrame([q], columns = df.columns)"
   ]
  },
  {
   "cell_type": "code",
   "execution_count": 58,
   "id": "4dd06611",
   "metadata": {},
   "outputs": [
    {
     "data": {
      "text/html": [
       "<div>\n",
       "<style scoped>\n",
       "    .dataframe tbody tr th:only-of-type {\n",
       "        vertical-align: middle;\n",
       "    }\n",
       "\n",
       "    .dataframe tbody tr th {\n",
       "        vertical-align: top;\n",
       "    }\n",
       "\n",
       "    .dataframe thead th {\n",
       "        text-align: right;\n",
       "    }\n",
       "</style>\n",
       "<table border=\"1\" class=\"dataframe\">\n",
       "  <thead>\n",
       "    <tr style=\"text-align: right;\">\n",
       "      <th></th>\n",
       "      <th>age</th>\n",
       "      <th>hoursPerWeek</th>\n",
       "      <th>education</th>\n",
       "      <th>marital_status</th>\n",
       "      <th>occupation</th>\n",
       "      <th>gender</th>\n",
       "      <th>native_country</th>\n",
       "      <th>income</th>\n",
       "    </tr>\n",
       "  </thead>\n",
       "  <tbody>\n",
       "    <tr>\n",
       "      <th>0</th>\n",
       "      <td>-0.095890</td>\n",
       "      <td>0.204082</td>\n",
       "      <td>0.0</td>\n",
       "      <td>1.0</td>\n",
       "      <td>2.0</td>\n",
       "      <td>1.0</td>\n",
       "      <td>1.0</td>\n",
       "      <td>0.528033</td>\n",
       "    </tr>\n",
       "    <tr>\n",
       "      <th>1</th>\n",
       "      <td>-0.068493</td>\n",
       "      <td>0.204082</td>\n",
       "      <td>0.0</td>\n",
       "      <td>1.0</td>\n",
       "      <td>1.0</td>\n",
       "      <td>1.0</td>\n",
       "      <td>1.0</td>\n",
       "      <td>0.542199</td>\n",
       "    </tr>\n",
       "  </tbody>\n",
       "</table>\n",
       "</div>"
      ],
      "text/plain": [
       "        age  hoursPerWeek  education  marital_status  occupation  gender  \\\n",
       "0 -0.095890      0.204082        0.0             1.0         2.0     1.0   \n",
       "1 -0.068493      0.204082        0.0             1.0         1.0     1.0   \n",
       "\n",
       "   native_country    income  \n",
       "0             1.0  0.528033  \n",
       "1             1.0  0.542199  "
      ]
     },
     "execution_count": 58,
     "metadata": {},
     "output_type": "execute_result"
    }
   ],
   "source": [
    "p = neigh_eps_train[(neigh_eps_train[:,3]==1)*(neigh_eps_train[:,2]<=3.5)*(neigh_eps_train[:,0]>=-0.123)*(neigh_eps_train[:,2]<=0.5)]\n",
    "pd.DataFrame(p, columns = df.columns)"
   ]
  },
  {
   "cell_type": "code",
   "execution_count": 63,
   "id": "636764a9",
   "metadata": {},
   "outputs": [
    {
     "name": "stdout",
     "output_type": "stream",
     "text": [
      "original: [0.03505402]\n",
      "mod: [0.53541255]\n"
     ]
    }
   ],
   "source": [
    "q = X_test[idx,:].copy()\n",
    "print('original:', predict(q[:-1],return_proba=True))\n",
    "q_mod = q.copy()\n",
    "#q_mod[0] = 0\n",
    "q_mod[1] = -0.388\n",
    "#q_mod[2] = 0\n",
    "q_mod[3] = 0\n",
    "q_mod[4] = 1\n",
    "#q_mod[5] = 0\n",
    "#q_mod[6] = 0\n",
    "print('mod:', predict(q_mod[:-1],return_proba=True))"
   ]
  },
  {
   "cell_type": "markdown",
   "id": "0ab344c7",
   "metadata": {},
   "source": [
    "### Counterfactual Explanation"
   ]
  },
  {
   "cell_type": "code",
   "execution_count": 11,
   "id": "14aa03bc",
   "metadata": {},
   "outputs": [
    {
     "data": {
      "text/plain": [
       "array([0.01908733], dtype=float32)"
      ]
     },
     "execution_count": 11,
     "metadata": {},
     "output_type": "execute_result"
    }
   ],
   "source": [
    "q = X_test[0].copy()\n",
    "predict(q[:-1].reshape(1,-1),return_proba=True)"
   ]
  },
  {
   "cell_type": "code",
   "execution_count": 12,
   "id": "afc08d0b",
   "metadata": {},
   "outputs": [
    {
     "data": {
      "text/plain": [
       "array([[ 2.71472782e-01, -2.50575393e-01,  8.31824541e-03,\n",
       "         5.32785617e-02, -4.70234500e-03,  6.17954880e-02,\n",
       "        -1.66067466e-01, -3.57267648e-01],\n",
       "       [-3.93777996e-01, -2.09443793e-01,  9.73296992e-05,\n",
       "        -1.18505783e-01, -4.81776253e-04,  9.92484167e-02,\n",
       "        -1.41381860e-01, -1.24278814e-01],\n",
       "       [-1.03133554e-02, -3.14325601e-01, -3.97749525e-03,\n",
       "        -2.54526436e-02,  1.03908526e-02, -2.89191604e-01,\n",
       "         6.95494264e-02,  7.83690736e-02],\n",
       "       [-2.15956450e-01,  1.01995647e-01,  2.13711668e-04,\n",
       "         2.63749480e-01,  1.98521791e-03, -1.06469885e-01,\n",
       "         1.92065239e-02, -2.90232748e-01]], dtype=float32)"
      ]
     },
     "execution_count": 12,
     "metadata": {},
     "output_type": "execute_result"
    }
   ],
   "source": [
    "w = model.fc1.weight.detach().numpy()\n",
    "b = model.fc1.bias.detach().numpy()\n",
    "w"
   ]
  },
  {
   "cell_type": "code",
   "execution_count": 34,
   "id": "ed1dcf82",
   "metadata": {},
   "outputs": [],
   "source": [
    "def compute_cf(q, indexes):\n",
    "    q_pred = predict(q[:-1].reshape(1,-1),return_proba=True)\n",
    "    q_cf = q.copy()\n",
    "    q_cf_preds = []\n",
    "    q_cf_preds.append(float(predict(q_cf[:-1].reshape(1,-1),return_proba=True)))\n",
    "    if q_pred > 0.5:\n",
    "        m = -1\n",
    "    else:\n",
    "        m = +1\n",
    "    v = np.array(model(torch.tensor(q).float()).detach().numpy()+m*y_contrib)\n",
    "    while np.round(q_pred) == np.round(q_cf_preds[-1]):\n",
    "        c_l = [v[l] - np.sum(q_cf*w[l,:]) - b[l] for l in range(latent_dim)]\n",
    "        M = []\n",
    "        for l in range(latent_dim):\n",
    "            M.append([np.sum(w[k,indexes]*w[l,indexes]) for k in range(latent_dim)])\n",
    "        M = np.vstack(M)\n",
    "        lambda_k = np.linalg.solve(M, c_l)\n",
    "        delta_i = [np.sum(lambda_k*w[:,i]) for i in indexes]\n",
    "        #print(delta_i)\n",
    "        q_cf[indexes] += delta_i\n",
    "        q_cf[2] = np.round(np.clip(q_cf[2],0,6))\n",
    "        q_cf[3] = np.round(np.clip(q_cf[3],0,1))\n",
    "        q_cf[4] = np.round(np.clip(q_cf[4],0,4))\n",
    "        q_cf[5] = np.round(np.clip(q_cf[5],0,1))\n",
    "        q_cf[6] = np.round(np.clip(q_cf[6],0,1))\n",
    "        if float(predict(q_cf[:-1].reshape(1,-1),return_proba=True)) in q_cf_preds:\n",
    "            return q_cf\n",
    "        q_cf_preds.append(float(predict(q_cf[:-1].reshape(1,-1),return_proba=True)))\n",
    "        q_cf[-1] = q_cf_preds[-1]\n",
    "    return q_cf"
   ]
  },
  {
   "cell_type": "code",
   "execution_count": 35,
   "id": "068d0d3e",
   "metadata": {},
   "outputs": [
    {
     "name": "stdout",
     "output_type": "stream",
     "text": [
      "[0.01908733]\n",
      "[0.31817025]\n"
     ]
    },
    {
     "data": {
      "text/html": [
       "<div>\n",
       "<style scoped>\n",
       "    .dataframe tbody tr th:only-of-type {\n",
       "        vertical-align: middle;\n",
       "    }\n",
       "\n",
       "    .dataframe tbody tr th {\n",
       "        vertical-align: top;\n",
       "    }\n",
       "\n",
       "    .dataframe thead th {\n",
       "        text-align: right;\n",
       "    }\n",
       "</style>\n",
       "<table border=\"1\" class=\"dataframe\">\n",
       "  <thead>\n",
       "    <tr style=\"text-align: right;\">\n",
       "      <th></th>\n",
       "      <th>age</th>\n",
       "      <th>hoursPerWeek</th>\n",
       "      <th>education</th>\n",
       "      <th>marital_status</th>\n",
       "      <th>occupation</th>\n",
       "      <th>gender</th>\n",
       "      <th>native_country</th>\n",
       "      <th>income</th>\n",
       "    </tr>\n",
       "  </thead>\n",
       "  <tbody>\n",
       "    <tr>\n",
       "      <th>0</th>\n",
       "      <td>-0.534247</td>\n",
       "      <td>-0.653061</td>\n",
       "      <td>0.0</td>\n",
       "      <td>1.0</td>\n",
       "      <td>0.0</td>\n",
       "      <td>1.0</td>\n",
       "      <td>1.0</td>\n",
       "      <td>0.019087</td>\n",
       "    </tr>\n",
       "    <tr>\n",
       "      <th>1</th>\n",
       "      <td>-0.477334</td>\n",
       "      <td>-0.220342</td>\n",
       "      <td>0.0</td>\n",
       "      <td>0.0</td>\n",
       "      <td>0.0</td>\n",
       "      <td>1.0</td>\n",
       "      <td>1.0</td>\n",
       "      <td>0.318170</td>\n",
       "    </tr>\n",
       "  </tbody>\n",
       "</table>\n",
       "</div>"
      ],
      "text/plain": [
       "        age  hoursPerWeek  education  marital_status  occupation  gender  \\\n",
       "0 -0.534247     -0.653061        0.0             1.0         0.0     1.0   \n",
       "1 -0.477334     -0.220342        0.0             0.0         0.0     1.0   \n",
       "\n",
       "   native_country    income  \n",
       "0             1.0  0.019087  \n",
       "1             1.0  0.318170  "
      ]
     },
     "execution_count": 35,
     "metadata": {},
     "output_type": "execute_result"
    }
   ],
   "source": [
    "idx = 0\n",
    "q = X_test[idx,:].copy()\n",
    "print(predict(q[:-1].reshape(1,-1),return_proba=True))\n",
    "q_cf = compute_cf(q, [0,1,2,3,4,5,6])\n",
    "q_cf[-1] = predict(q_cf[:-1].reshape(1,-1),return_proba=True) \n",
    "print(predict(q_cf[:-1].reshape(1,-1),return_proba=True))\n",
    "pd.DataFrame([q,q_cf], columns = list(X.columns)+['income'])\n"
   ]
  },
  {
   "cell_type": "code",
   "execution_count": 36,
   "id": "b01f3fc1",
   "metadata": {},
   "outputs": [],
   "source": [
    "from itertools import combinations\n",
    "\n",
    "q = X_test[idx,:].copy()\n",
    "q_cfs = []\n",
    "for i in range(1,8):\n",
    "    for indexes in  list(combinations([0,1,2,3,4,5,6],i)):    \n",
    "        q_cf = compute_cf(q, list(indexes))\n",
    "        q_cf_pred = predict(q_cf[:-1].reshape(1,-1),return_proba=True)\n",
    "        if q_cf_pred>0.5:\n",
    "            q_cfs.append(q_cf)\n",
    "        #q_cfs.append([list(indexes),q_cf_pred])\n",
    "        \n",
    "q_cfs = np.vstack(q_cfs)"
   ]
  },
  {
   "cell_type": "code",
   "execution_count": 37,
   "id": "78548051",
   "metadata": {},
   "outputs": [
    {
     "name": "stdout",
     "output_type": "stream",
     "text": [
      "0.4\n",
      "0.03802956938139353\n"
     ]
    }
   ],
   "source": [
    "from scipy.spatial.distance import cdist, euclidean\n",
    "\n",
    "print(np.min(cdist(q_cfs[:,[2,3,4,5,6]],q[[2,3,4,5,6]].reshape(1,-1),metric='hamming') + cdist(q_cfs[:,[0,1]],q[[0,1]].reshape(1,-1),metric='euclidean')))\n",
    "print(np.min(cdist(q_cfs[:,[2,3,4,5,6]],X_train[:,[2,3,4,5,6]],metric='hamming') + cdist(q_cfs[:,[0,1]],X_train[:,[0,1]],metric='euclidean'))\n",
    ")"
   ]
  },
  {
   "cell_type": "code",
   "execution_count": 38,
   "id": "aa132581",
   "metadata": {},
   "outputs": [
    {
     "data": {
      "text/plain": [
       "(14, 8)"
      ]
     },
     "execution_count": 38,
     "metadata": {},
     "output_type": "execute_result"
    }
   ],
   "source": [
    "q_cfs.shape"
   ]
  },
  {
   "cell_type": "code",
   "execution_count": 31,
   "id": "0b831391",
   "metadata": {},
   "outputs": [
    {
     "data": {
      "application/vnd.jupyter.widget-view+json": {
       "model_id": "e2f20d851d4645dcae7a4713189dda8e",
       "version_major": 2,
       "version_minor": 0
      },
      "text/plain": [
       "  0%|          | 0/100 [00:00<?, ?it/s]"
      ]
     },
     "metadata": {},
     "output_type": "display_data"
    }
   ],
   "source": [
    "from itertools import combinations\n",
    "from tqdm.notebook import tqdm\n",
    "\n",
    "d_dist = []\n",
    "d_impl = []\n",
    "\n",
    "for idx in tqdm(range(100)):\n",
    "    q = X_test[idx,:].copy()\n",
    "    q_pred = np.round(predict(q[:-1].reshape(1,-1),return_proba=True))\n",
    "    q_cfs = []\n",
    "    for i in range(1,8):\n",
    "        for indexes in  list(combinations([0,1,2,3,4,5,6],i)):    \n",
    "            q_cf = compute_cf(q, list(indexes))\n",
    "            q_cf_pred = predict(q_cf[:-1].reshape(1,-1),return_proba=True)\n",
    "            if q_pred:\n",
    "                if q_cf_pred < 0.5:\n",
    "                    #q_cfs.append([list(indexes),q_cf_pred,q_cf])\n",
    "                    q_cfs.append(q_cf)\n",
    "            else:\n",
    "                if q_cf_pred > 0.5:\n",
    "                    #q_cfs.append([list(indexes),q_cf_pred,q_cf])\n",
    "                    q_cfs.append(q_cf)\n",
    "    if len(q_cfs)<1:\n",
    "        continue\n",
    "    else:\n",
    "        q_cfs = np.vstack(q_cfs)\n",
    "        d_dist.append(np.min(cdist(q_cfs[:,[2,3,4,5,6]],q[[2,3,4,5,6]].reshape(1,-1),metric='hamming') + cdist(q_cfs[:,[0,1]],q[[0,1]].reshape(1,-1),metric='euclidean')))\n",
    "        d_impl.append(np.min(cdist(q_cfs[:,[2,3,4,5,6]],X_train[:,[2,3,4,5,6]],metric='hamming') + cdist(q_cfs[:,[0,1]],X_train[:,[0,1]],metric='euclidean')))"
   ]
  },
  {
   "cell_type": "code",
   "execution_count": 32,
   "id": "18531147",
   "metadata": {},
   "outputs": [
    {
     "name": "stdout",
     "output_type": "stream",
     "text": [
      "0.3590394125683637\n",
      "0.029419894307571533\n"
     ]
    }
   ],
   "source": [
    "print(np.mean(np.array(d_dist)))\n",
    "print(np.mean(np.array(d_impl)))"
   ]
  },
  {
   "cell_type": "code",
   "execution_count": 33,
   "id": "9968ce1c",
   "metadata": {},
   "outputs": [
    {
     "name": "stdout",
     "output_type": "stream",
     "text": [
      "99\n"
     ]
    }
   ],
   "source": [
    "print(len(d_dist))"
   ]
  },
  {
   "cell_type": "markdown",
   "id": "2709a0cd",
   "metadata": {},
   "source": [
    "# Growing Spheres"
   ]
  },
  {
   "cell_type": "code",
   "execution_count": 47,
   "id": "64709340",
   "metadata": {},
   "outputs": [
    {
     "name": "stdout",
     "output_type": "stream",
     "text": [
      "0\n",
      "0 ennemies found in initial sphere. Zooming in...\n",
      "Exploring...\n",
      "Final number of iterations:  42\n",
      "Final radius:  (0.7480000000000003, 0.7660000000000003)\n",
      "Final number of ennemies:  1\n",
      "Feature selection...\n",
      "Reduced 5 coordinates\n",
      "[1]\n"
     ]
    }
   ],
   "source": [
    "from growingspheres import counterfactuals as cf\n",
    "\n",
    "idx = 0\n",
    "q = X_test[idx,:-1].reshape(1,-1).copy()\n",
    "pred = int(predict(q))\n",
    "print(pred)\n",
    "\n",
    "CF = cf.CounterfactualExplanation(q, predict, method='GS')\n",
    "CF.fit(n_in_layer=2000, first_radius=0.1, dicrease_radius=10, sparse=True, verbose=True)\n",
    "q_cf_GS = CF.enemy\n",
    "print(predict(q_cf_GS.reshape(1,-1)))"
   ]
  },
  {
   "cell_type": "code",
   "execution_count": 48,
   "id": "784f6fa8",
   "metadata": {},
   "outputs": [
    {
     "data": {
      "text/html": [
       "<div>\n",
       "<style scoped>\n",
       "    .dataframe tbody tr th:only-of-type {\n",
       "        vertical-align: middle;\n",
       "    }\n",
       "\n",
       "    .dataframe tbody tr th {\n",
       "        vertical-align: top;\n",
       "    }\n",
       "\n",
       "    .dataframe thead th {\n",
       "        text-align: right;\n",
       "    }\n",
       "</style>\n",
       "<table border=\"1\" class=\"dataframe\">\n",
       "  <thead>\n",
       "    <tr style=\"text-align: right;\">\n",
       "      <th></th>\n",
       "      <th>age</th>\n",
       "      <th>hoursPerWeek</th>\n",
       "      <th>education</th>\n",
       "      <th>marital_status</th>\n",
       "      <th>occupation</th>\n",
       "      <th>gender</th>\n",
       "      <th>native_country</th>\n",
       "    </tr>\n",
       "  </thead>\n",
       "  <tbody>\n",
       "    <tr>\n",
       "      <th>0</th>\n",
       "      <td>-0.534247</td>\n",
       "      <td>-0.653061</td>\n",
       "      <td>0.0</td>\n",
       "      <td>1.000000</td>\n",
       "      <td>0.0</td>\n",
       "      <td>1.0</td>\n",
       "      <td>1.0</td>\n",
       "    </tr>\n",
       "    <tr>\n",
       "      <th>1</th>\n",
       "      <td>-0.534247</td>\n",
       "      <td>-0.119183</td>\n",
       "      <td>0.0</td>\n",
       "      <td>0.477352</td>\n",
       "      <td>0.0</td>\n",
       "      <td>1.0</td>\n",
       "      <td>1.0</td>\n",
       "    </tr>\n",
       "  </tbody>\n",
       "</table>\n",
       "</div>"
      ],
      "text/plain": [
       "        age  hoursPerWeek  education  marital_status  occupation  gender  \\\n",
       "0 -0.534247     -0.653061        0.0        1.000000         0.0     1.0   \n",
       "1 -0.534247     -0.119183        0.0        0.477352         0.0     1.0   \n",
       "\n",
       "   native_country  \n",
       "0             1.0  \n",
       "1             1.0  "
      ]
     },
     "execution_count": 48,
     "metadata": {},
     "output_type": "execute_result"
    }
   ],
   "source": [
    "pd.DataFrame(np.vstack([q,q_cf_GS.reshape(1,-1)]), columns = df.columns[:-1])"
   ]
  },
  {
   "cell_type": "code",
   "execution_count": 49,
   "id": "d7c5ad06",
   "metadata": {},
   "outputs": [
    {
     "name": "stdout",
     "output_type": "stream",
     "text": [
      "0.733877731605663\n",
      "0.23231843483336345\n"
     ]
    }
   ],
   "source": [
    "from scipy.spatial.distance import cdist, euclidean\n",
    "\n",
    "print(float(cdist(q_cf_GS[[2,3,4,5,6]].reshape(1,-1),q[:,[2,3,4,5,6]],metric='hamming') + cdist(q_cf_GS[[0,1]].reshape(1,-1),q[:,[0,1]],metric='euclidean')))\n",
    "print(np.min(cdist(q_cf_GS[[2,3,4,5,6]].reshape(1,-1),X_train[:,[2,3,4,5,6]],metric='hamming') + cdist(q_cf_GS[[0,1]].reshape(1,-1),X_train[:,[0,1]],metric='euclidean')))"
   ]
  },
  {
   "cell_type": "code",
   "execution_count": 50,
   "id": "27d07830",
   "metadata": {},
   "outputs": [
    {
     "data": {
      "application/vnd.jupyter.widget-view+json": {
       "model_id": "fb87d9ccce4849e2868c18cc1faf7894",
       "version_major": 2,
       "version_minor": 0
      },
      "text/plain": [
       "  0%|          | 0/100 [00:00<?, ?it/s]"
      ]
     },
     "metadata": {},
     "output_type": "display_data"
    }
   ],
   "source": [
    "d_dist_GS = []\n",
    "d_impl_GS = []\n",
    "\n",
    "for idx in tqdm(range(100)):\n",
    "    q = X_test[idx,:-1].reshape(1,-1).copy()\n",
    "    CF = cf.CounterfactualExplanation(q, predict, method='GS')\n",
    "    CF.fit(n_in_layer=2000, first_radius=0.1, dicrease_radius=10, sparse=True, verbose=False)\n",
    "    q_cf_GS = CF.enemy\n",
    "    d_dist_GS.append(float(cdist(q_cf_GS[[2,3,4,5,6]].reshape(1,-1),q[:,[2,3,4,5,6]],metric='hamming') + cdist(q_cf_GS[[0,1]].reshape(1,-1),q[:,[0,1]],metric='euclidean')))\n",
    "    d_impl_GS.append(np.min(cdist(q_cf_GS[[2,3,4,5,6]].reshape(1,-1),X_train[:,[2,3,4,5,6]],metric='hamming') + cdist(q_cf_GS[[0,1]].reshape(1,-1),X_train[:,[0,1]],metric='euclidean')))"
   ]
  },
  {
   "cell_type": "code",
   "execution_count": 51,
   "id": "e280a734",
   "metadata": {},
   "outputs": [
    {
     "name": "stdout",
     "output_type": "stream",
     "text": [
      "0.3003364908782644\n",
      "0.1709238847241318\n"
     ]
    }
   ],
   "source": [
    "print(np.mean(np.array(d_dist_GS)))\n",
    "print(np.mean(np.array(d_impl_GS)))"
   ]
  },
  {
   "cell_type": "code",
   "execution_count": 52,
   "id": "7b2bb395",
   "metadata": {},
   "outputs": [
    {
     "data": {
      "text/plain": [
       "100"
      ]
     },
     "execution_count": 52,
     "metadata": {},
     "output_type": "execute_result"
    }
   ],
   "source": [
    "len(d_dist_GS)"
   ]
  },
  {
   "cell_type": "markdown",
   "id": "6b1771cb",
   "metadata": {},
   "source": [
    "# FAT"
   ]
  },
  {
   "cell_type": "code",
   "execution_count": 47,
   "id": "75a1edb5",
   "metadata": {},
   "outputs": [],
   "source": [
    "import fatf.utils.data.datasets as fatf_datasets\n",
    "import fatf.utils.models as fatf_models\n",
    "\n",
    "import fatf.transparency.predictions.counterfactuals as fatf_cf\n",
    "\n",
    "class FAT_wrapper():\n",
    "    def __init__(self,model):\n",
    "        self.model = model\n",
    "\n",
    "    def predict(self,x):\n",
    "        return np.round(self.model.predict(x).ravel()).astype(int).ravel()\n",
    "\n",
    "    def fit(self, x, y):\n",
    "        pass\n",
    "\n",
    "    def predict_proba(self,x):\n",
    "        return self.model.predict(x).ravel()\n",
    "\n",
    "fat_model = FAT_wrapper(clf_xgb)\n",
    "\n",
    "# Create a Counterfactual Explainer\n",
    "cf_explainer = fatf_cf.CounterfactualExplainer(\n",
    "    model=fat_model,\n",
    "    dataset=X_train[:,:-1],\n",
    "    categorical_indices=[],\n",
    "    default_numerical_step_size=0.1)"
   ]
  },
  {
   "cell_type": "code",
   "execution_count": 48,
   "id": "b79b52cb",
   "metadata": {},
   "outputs": [],
   "source": [
    "dp_1_cf_tuple = cf_explainer.explain_instance(X_test[0,:-1])\n",
    "dp_1_cfs, dp_1_cfs_distances, dp_1_cfs_predictions = dp_1_cf_tuple"
   ]
  },
  {
   "cell_type": "code",
   "execution_count": 51,
   "id": "52d6e386",
   "metadata": {},
   "outputs": [
    {
     "data": {
      "text/plain": [
       "array([0])"
      ]
     },
     "execution_count": 51,
     "metadata": {},
     "output_type": "execute_result"
    }
   ],
   "source": [
    "predict(X_test[0:1,:-1])"
   ]
  },
  {
   "cell_type": "code",
   "execution_count": 52,
   "id": "f181078c",
   "metadata": {},
   "outputs": [
    {
     "data": {
      "text/plain": [
       "array([1, 1, 1, 1, 1, 1, 1])"
      ]
     },
     "execution_count": 52,
     "metadata": {},
     "output_type": "execute_result"
    }
   ],
   "source": [
    "dp_1_cfs_predictions"
   ]
  },
  {
   "cell_type": "code",
   "execution_count": 63,
   "id": "532b3894",
   "metadata": {},
   "outputs": [
    {
     "name": "stdout",
     "output_type": "stream",
     "text": [
      "1.1314234404279264\n",
      "0.14243367073469587\n"
     ]
    }
   ],
   "source": [
    "from scipy.spatial.distance import cdist, euclidean\n",
    "\n",
    "print(np.mean(cdist(dp_1_cfs[:,[2,3,4,5,6]],X_test[0:1,[2,3,4,5,6]],metric='hamming') + cdist(dp_1_cfs[:,[0,1]],X_test[0:1,[0,1]],metric='euclidean')))\n",
    "print(np.min(cdist(dp_1_cfs[:,[2,3,4,5,6]],X_train[:,[2,3,4,5,6]],metric='hamming') + cdist(dp_1_cfs[:,[0,1]],X_train[:,[0,1]],metric='euclidean')))"
   ]
  },
  {
   "cell_type": "code",
   "execution_count": 67,
   "id": "7afeb28c",
   "metadata": {},
   "outputs": [
    {
     "data": {
      "application/vnd.jupyter.widget-view+json": {
       "model_id": "a02f7428dab34eae8735630d1e00db72",
       "version_major": 2,
       "version_minor": 0
      },
      "text/plain": [
       "  0%|          | 0/100 [00:00<?, ?it/s]"
      ]
     },
     "metadata": {},
     "output_type": "display_data"
    }
   ],
   "source": [
    "import fatf.utils.data.datasets as fatf_datasets\n",
    "import fatf.utils.models as fatf_models\n",
    "import fatf.transparency.predictions.counterfactuals as fatf_cf\n",
    "\n",
    "# Create a Counterfactual Explainer\n",
    "if black_box =='xgb':\n",
    "    cf_explainer = fatf_cf.CounterfactualExplainer(\n",
    "        model=clf_xgb,\n",
    "        dataset=X_train[:,:-1],\n",
    "        categorical_indices=[],\n",
    "        default_numerical_step_size=0.1)\n",
    "elif black_box == 'rf':\n",
    "    cf_explainer = fatf_cf.CounterfactualExplainer(\n",
    "        model=clf_rf,\n",
    "        dataset=X_train[:,:-1],\n",
    "        categorical_indices=[],\n",
    "        default_numerical_step_size=0.1)\n",
    "elif black_box == 'svc':\n",
    "    cf_explainer = fatf_cf.CounterfactualExplainer(\n",
    "        model=clf_svc,\n",
    "        dataset=X_train[:,:-1],\n",
    "        categorical_indices=[],\n",
    "        default_numerical_step_size=0.1)\n",
    "elif black_box == 'nn':\n",
    "    class FAT_wrapper():\n",
    "        def __init__(self,model):\n",
    "            self.model = model\n",
    "\n",
    "        def predict(self,x):\n",
    "            return np.round(self.model.predict(x).ravel()).astype(int).ravel()\n",
    "\n",
    "        def fit(self, x, y):\n",
    "            pass\n",
    "\n",
    "        def predict_proba(self,x):\n",
    "            return self.model.predict(x).ravel()\n",
    "    fat_model = FAT_wrapper(clf_nn)\n",
    "    cf_explainer = fatf_cf.CounterfactualExplainer(\n",
    "        model=fat_model,\n",
    "        dataset=X_train[:,:-1],\n",
    "        categorical_indices=[],\n",
    "        default_numerical_step_size=0.1)\n",
    "\n",
    "d_dist_fat = []\n",
    "d_count_fat = []\n",
    "d_impl_fat = []\n",
    "num_fat = []\n",
    "div_dist_fat = []\n",
    "div_count_fat = []\n",
    "\n",
    "for i in tqdm(range(100)):\n",
    "    q = X_test[i,:-1].copy()\n",
    "    dp_1_cf_tuple = cf_explainer.explain_instance(q)\n",
    "    q_cfs_fat, _, _ = dp_1_cf_tuple\n",
    "    if len(q_cfs_fat) > 0:\n",
    "        d_dist_fat.append(np.min(cdist(q_cfs_fat[:,[2,3,4,5,6]],q[[2,3,4,5,6]].reshape(1,-1),metric='hamming') + cdist(q_cfs_fat[:,[0,1]],q[[0,1]].reshape(1,-1),metric='euclidean')))\n",
    "        d_impl_fat.append(np.min(cdist(q_cfs_fat[:,[2,3,4,5,6]],X_train[:,[2,3,4,5,6]],metric='hamming') + cdist(q_cfs_fat[:,[0,1]],X_train[:,[0,1]],metric='euclidean')))\n",
    "        d_count_fat.append(np.min(np.sum(q_cfs_fat!=q.reshape(1,-1),axis=1)))\n",
    "        num_fat.append(len(q_cfs_fat))\n",
    "        div_dist_fat.append(1/(q_cfs_fat.shape[0]**2)*np.sum(cdist(q_cfs_fat, q_cfs_fat)))\n",
    "        div_count_fat.append(23/(q_cfs_fat.shape[0]**2)*np.sum(cdist(q_cfs_fat, q_cfs_fat, metric='hamming')))"
   ]
  },
  {
   "cell_type": "code",
   "execution_count": 68,
   "id": "71769cf3",
   "metadata": {},
   "outputs": [
    {
     "name": "stdout",
     "output_type": "stream",
     "text": [
      "d_dist: \t 0.31216 0.2834\n",
      "d_count: \t 1.31959 0.46632\n",
      "implicity: \t 0.12712 0.10877\n",
      "number: \t 9.36082 \t 4.83157\n",
      "div_dist: \t 0.95512 0.54152\n",
      "div_count: \t 7.36396 2.13249\n",
      "success_rate: \t 9.7\n"
     ]
    }
   ],
   "source": [
    "print('d_dist: \\t',    np.round(np.mean(d_dist_fat),5),   np.round(np.std(d_dist_fat),5))\n",
    "print('d_count: \\t',   np.round(np.mean(d_count_fat),5),  np.round(np.std(d_count_fat),5))\n",
    "print('implicity: \\t', np.round(np.mean(d_impl_fat),5),   np.round(np.std(d_impl_fat),5))\n",
    "print('number: \\t',    np.round(np.mean(num_fat),5),'\\t', np.round(np.std(num_fat),5))\n",
    "print('div_dist: \\t',  np.round(np.mean(div_dist_fat),5), np.round(np.std(div_dist_fat),5))\n",
    "print('div_count: \\t', np.round(np.mean(div_count_fat),5),np.round(np.std(div_count_fat),5))\n",
    "print('success_rate: \\t', len(d_dist_fat)/10)"
   ]
  },
  {
   "cell_type": "markdown",
   "id": "b8e6a97f",
   "metadata": {},
   "source": [
    "# DICE"
   ]
  },
  {
   "cell_type": "code",
   "execution_count": 10,
   "id": "c8bb9d36",
   "metadata": {},
   "outputs": [],
   "source": [
    "import dice_ml\n",
    "\n",
    "dataset = pd.concat((X_train,y_train),axis=1)\n",
    "d = dice_ml.Data(dataframe=dataset, continuous_features=['age', 'hoursPerWeek'], outcome_name='income')"
   ]
  },
  {
   "cell_type": "code",
   "execution_count": 11,
   "id": "91a1a360",
   "metadata": {},
   "outputs": [],
   "source": [
    "m = dice_ml.Model(model=clf_rf, backend='sklearn')"
   ]
  },
  {
   "cell_type": "code",
   "execution_count": 12,
   "id": "56ee0364",
   "metadata": {},
   "outputs": [],
   "source": [
    "# initiate DiCE\n",
    "exp_random = dice_ml.Dice(d, m, method='random')"
   ]
  },
  {
   "cell_type": "code",
   "execution_count": 13,
   "id": "3a53be3a",
   "metadata": {},
   "outputs": [
    {
     "data": {
      "text/html": [
       "<div>\n",
       "<style scoped>\n",
       "    .dataframe tbody tr th:only-of-type {\n",
       "        vertical-align: middle;\n",
       "    }\n",
       "\n",
       "    .dataframe tbody tr th {\n",
       "        vertical-align: top;\n",
       "    }\n",
       "\n",
       "    .dataframe thead th {\n",
       "        text-align: right;\n",
       "    }\n",
       "</style>\n",
       "<table border=\"1\" class=\"dataframe\">\n",
       "  <thead>\n",
       "    <tr style=\"text-align: right;\">\n",
       "      <th></th>\n",
       "      <th>age</th>\n",
       "      <th>hoursPerWeek</th>\n",
       "      <th>marital_status</th>\n",
       "      <th>gender</th>\n",
       "      <th>native_country</th>\n",
       "      <th>Bachelors</th>\n",
       "      <th>CommunityCollege</th>\n",
       "      <th>Doctorate</th>\n",
       "      <th>HighGrad</th>\n",
       "      <th>Masters</th>\n",
       "      <th>ProfSchool</th>\n",
       "      <th>dropout</th>\n",
       "      <th>BlueCollar</th>\n",
       "      <th>ExecManagerial</th>\n",
       "      <th>ProfSpecialty</th>\n",
       "      <th>Sales</th>\n",
       "      <th>Services</th>\n",
       "      <th>income</th>\n",
       "    </tr>\n",
       "  </thead>\n",
       "  <tbody>\n",
       "    <tr>\n",
       "      <th>46220</th>\n",
       "      <td>0.342466</td>\n",
       "      <td>0.000000</td>\n",
       "      <td>0</td>\n",
       "      <td>1</td>\n",
       "      <td>1</td>\n",
       "      <td>0</td>\n",
       "      <td>0</td>\n",
       "      <td>0</td>\n",
       "      <td>0</td>\n",
       "      <td>0</td>\n",
       "      <td>0</td>\n",
       "      <td>1</td>\n",
       "      <td>0</td>\n",
       "      <td>1</td>\n",
       "      <td>0</td>\n",
       "      <td>0</td>\n",
       "      <td>0</td>\n",
       "      <td>0</td>\n",
       "    </tr>\n",
       "    <tr>\n",
       "      <th>15910</th>\n",
       "      <td>-0.534247</td>\n",
       "      <td>0.612245</td>\n",
       "      <td>0</td>\n",
       "      <td>1</td>\n",
       "      <td>1</td>\n",
       "      <td>0</td>\n",
       "      <td>1</td>\n",
       "      <td>0</td>\n",
       "      <td>0</td>\n",
       "      <td>0</td>\n",
       "      <td>0</td>\n",
       "      <td>0</td>\n",
       "      <td>0</td>\n",
       "      <td>0</td>\n",
       "      <td>0</td>\n",
       "      <td>0</td>\n",
       "      <td>1</td>\n",
       "      <td>0</td>\n",
       "    </tr>\n",
       "    <tr>\n",
       "      <th>2746</th>\n",
       "      <td>-0.726027</td>\n",
       "      <td>-0.367347</td>\n",
       "      <td>1</td>\n",
       "      <td>0</td>\n",
       "      <td>1</td>\n",
       "      <td>0</td>\n",
       "      <td>0</td>\n",
       "      <td>0</td>\n",
       "      <td>1</td>\n",
       "      <td>0</td>\n",
       "      <td>0</td>\n",
       "      <td>0</td>\n",
       "      <td>0</td>\n",
       "      <td>0</td>\n",
       "      <td>0</td>\n",
       "      <td>0</td>\n",
       "      <td>1</td>\n",
       "      <td>0</td>\n",
       "    </tr>\n",
       "    <tr>\n",
       "      <th>40636</th>\n",
       "      <td>-0.424658</td>\n",
       "      <td>0.204082</td>\n",
       "      <td>0</td>\n",
       "      <td>0</td>\n",
       "      <td>1</td>\n",
       "      <td>0</td>\n",
       "      <td>0</td>\n",
       "      <td>0</td>\n",
       "      <td>1</td>\n",
       "      <td>0</td>\n",
       "      <td>0</td>\n",
       "      <td>0</td>\n",
       "      <td>1</td>\n",
       "      <td>0</td>\n",
       "      <td>0</td>\n",
       "      <td>0</td>\n",
       "      <td>0</td>\n",
       "      <td>0</td>\n",
       "    </tr>\n",
       "    <tr>\n",
       "      <th>6931</th>\n",
       "      <td>-0.041096</td>\n",
       "      <td>0.693878</td>\n",
       "      <td>1</td>\n",
       "      <td>1</td>\n",
       "      <td>1</td>\n",
       "      <td>0</td>\n",
       "      <td>1</td>\n",
       "      <td>0</td>\n",
       "      <td>0</td>\n",
       "      <td>0</td>\n",
       "      <td>0</td>\n",
       "      <td>0</td>\n",
       "      <td>1</td>\n",
       "      <td>0</td>\n",
       "      <td>0</td>\n",
       "      <td>0</td>\n",
       "      <td>0</td>\n",
       "      <td>0</td>\n",
       "    </tr>\n",
       "    <tr>\n",
       "      <th>...</th>\n",
       "      <td>...</td>\n",
       "      <td>...</td>\n",
       "      <td>...</td>\n",
       "      <td>...</td>\n",
       "      <td>...</td>\n",
       "      <td>...</td>\n",
       "      <td>...</td>\n",
       "      <td>...</td>\n",
       "      <td>...</td>\n",
       "      <td>...</td>\n",
       "      <td>...</td>\n",
       "      <td>...</td>\n",
       "      <td>...</td>\n",
       "      <td>...</td>\n",
       "      <td>...</td>\n",
       "      <td>...</td>\n",
       "      <td>...</td>\n",
       "      <td>...</td>\n",
       "    </tr>\n",
       "    <tr>\n",
       "      <th>39461</th>\n",
       "      <td>-0.561644</td>\n",
       "      <td>-0.102041</td>\n",
       "      <td>0</td>\n",
       "      <td>1</td>\n",
       "      <td>1</td>\n",
       "      <td>0</td>\n",
       "      <td>0</td>\n",
       "      <td>0</td>\n",
       "      <td>0</td>\n",
       "      <td>0</td>\n",
       "      <td>0</td>\n",
       "      <td>1</td>\n",
       "      <td>1</td>\n",
       "      <td>0</td>\n",
       "      <td>0</td>\n",
       "      <td>0</td>\n",
       "      <td>0</td>\n",
       "      <td>0</td>\n",
       "    </tr>\n",
       "    <tr>\n",
       "      <th>16951</th>\n",
       "      <td>-0.150685</td>\n",
       "      <td>-0.204082</td>\n",
       "      <td>1</td>\n",
       "      <td>1</td>\n",
       "      <td>1</td>\n",
       "      <td>0</td>\n",
       "      <td>1</td>\n",
       "      <td>0</td>\n",
       "      <td>0</td>\n",
       "      <td>0</td>\n",
       "      <td>0</td>\n",
       "      <td>0</td>\n",
       "      <td>0</td>\n",
       "      <td>1</td>\n",
       "      <td>0</td>\n",
       "      <td>0</td>\n",
       "      <td>0</td>\n",
       "      <td>0</td>\n",
       "    </tr>\n",
       "    <tr>\n",
       "      <th>28487</th>\n",
       "      <td>-0.123288</td>\n",
       "      <td>0.000000</td>\n",
       "      <td>0</td>\n",
       "      <td>1</td>\n",
       "      <td>0</td>\n",
       "      <td>0</td>\n",
       "      <td>0</td>\n",
       "      <td>0</td>\n",
       "      <td>1</td>\n",
       "      <td>0</td>\n",
       "      <td>0</td>\n",
       "      <td>0</td>\n",
       "      <td>1</td>\n",
       "      <td>0</td>\n",
       "      <td>0</td>\n",
       "      <td>0</td>\n",
       "      <td>0</td>\n",
       "      <td>0</td>\n",
       "    </tr>\n",
       "    <tr>\n",
       "      <th>11005</th>\n",
       "      <td>-0.671233</td>\n",
       "      <td>-0.204082</td>\n",
       "      <td>1</td>\n",
       "      <td>0</td>\n",
       "      <td>1</td>\n",
       "      <td>0</td>\n",
       "      <td>0</td>\n",
       "      <td>0</td>\n",
       "      <td>0</td>\n",
       "      <td>0</td>\n",
       "      <td>0</td>\n",
       "      <td>1</td>\n",
       "      <td>1</td>\n",
       "      <td>0</td>\n",
       "      <td>0</td>\n",
       "      <td>0</td>\n",
       "      <td>0</td>\n",
       "      <td>0</td>\n",
       "    </tr>\n",
       "    <tr>\n",
       "      <th>952</th>\n",
       "      <td>-0.369863</td>\n",
       "      <td>-0.204082</td>\n",
       "      <td>0</td>\n",
       "      <td>0</td>\n",
       "      <td>1</td>\n",
       "      <td>0</td>\n",
       "      <td>0</td>\n",
       "      <td>0</td>\n",
       "      <td>1</td>\n",
       "      <td>0</td>\n",
       "      <td>0</td>\n",
       "      <td>0</td>\n",
       "      <td>1</td>\n",
       "      <td>0</td>\n",
       "      <td>0</td>\n",
       "      <td>0</td>\n",
       "      <td>0</td>\n",
       "      <td>0</td>\n",
       "    </tr>\n",
       "  </tbody>\n",
       "</table>\n",
       "<p>10169 rows × 18 columns</p>\n",
       "</div>"
      ],
      "text/plain": [
       "            age  hoursPerWeek  marital_status  gender  native_country  \\\n",
       "46220  0.342466      0.000000               0       1               1   \n",
       "15910 -0.534247      0.612245               0       1               1   \n",
       "2746  -0.726027     -0.367347               1       0               1   \n",
       "40636 -0.424658      0.204082               0       0               1   \n",
       "6931  -0.041096      0.693878               1       1               1   \n",
       "...         ...           ...             ...     ...             ...   \n",
       "39461 -0.561644     -0.102041               0       1               1   \n",
       "16951 -0.150685     -0.204082               1       1               1   \n",
       "28487 -0.123288      0.000000               0       1               0   \n",
       "11005 -0.671233     -0.204082               1       0               1   \n",
       "952   -0.369863     -0.204082               0       0               1   \n",
       "\n",
       "       Bachelors  CommunityCollege  Doctorate  HighGrad  Masters  ProfSchool  \\\n",
       "46220          0                 0          0         0        0           0   \n",
       "15910          0                 1          0         0        0           0   \n",
       "2746           0                 0          0         1        0           0   \n",
       "40636          0                 0          0         1        0           0   \n",
       "6931           0                 1          0         0        0           0   \n",
       "...          ...               ...        ...       ...      ...         ...   \n",
       "39461          0                 0          0         0        0           0   \n",
       "16951          0                 1          0         0        0           0   \n",
       "28487          0                 0          0         1        0           0   \n",
       "11005          0                 0          0         0        0           0   \n",
       "952            0                 0          0         1        0           0   \n",
       "\n",
       "       dropout  BlueCollar  ExecManagerial  ProfSpecialty  Sales  Services  \\\n",
       "46220        1           0               1              0      0         0   \n",
       "15910        0           0               0              0      0         1   \n",
       "2746         0           0               0              0      0         1   \n",
       "40636        0           1               0              0      0         0   \n",
       "6931         0           1               0              0      0         0   \n",
       "...        ...         ...             ...            ...    ...       ...   \n",
       "39461        1           1               0              0      0         0   \n",
       "16951        0           0               1              0      0         0   \n",
       "28487        0           1               0              0      0         0   \n",
       "11005        1           1               0              0      0         0   \n",
       "952          0           1               0              0      0         0   \n",
       "\n",
       "       income  \n",
       "46220       0  \n",
       "15910       0  \n",
       "2746        0  \n",
       "40636       0  \n",
       "6931        0  \n",
       "...       ...  \n",
       "39461       0  \n",
       "16951       0  \n",
       "28487       0  \n",
       "11005       0  \n",
       "952         0  \n",
       "\n",
       "[10169 rows x 18 columns]"
      ]
     },
     "execution_count": 13,
     "metadata": {},
     "output_type": "execute_result"
    }
   ],
   "source": [
    "dataset"
   ]
  },
  {
   "cell_type": "code",
   "execution_count": 14,
   "id": "f85720e6",
   "metadata": {},
   "outputs": [
    {
     "name": "stderr",
     "output_type": "stream",
     "text": [
      "100%|██████████| 1/1 [00:00<00:00, 10.11it/s]"
     ]
    },
    {
     "name": "stdout",
     "output_type": "stream",
     "text": [
      "Diverse Counterfactuals found! total time taken: 00 min 00 sec\n"
     ]
    },
    {
     "name": "stderr",
     "output_type": "stream",
     "text": [
      "\n"
     ]
    }
   ],
   "source": [
    "query_instances = dataset.iloc[0:1,:-1]\n",
    "\n",
    "# generate counterfactuals\n",
    "dice_exp_random = exp_random.generate_counterfactuals(query_instances, \n",
    "                                                      total_CFs=1, \n",
    "                                                      desired_class=\"opposite\", \n",
    "                                                      verbose=True,\n",
    "                                                      permitted_range={'age':[-1, 1], 'hoursPerWeek':[-1, 1]})\n",
    "\n",
    "#dice_exp_random.visualize_as_dataframe(show_only_changes=True)"
   ]
  },
  {
   "cell_type": "code",
   "execution_count": null,
   "id": "e7367517",
   "metadata": {},
   "outputs": [],
   "source": []
  }
 ],
 "metadata": {
  "kernelspec": {
   "display_name": "Python 3",
   "language": "python",
   "name": "python3"
  },
  "language_info": {
   "codemirror_mode": {
    "name": "ipython",
    "version": 3
   },
   "file_extension": ".py",
   "mimetype": "text/x-python",
   "name": "python",
   "nbconvert_exporter": "python",
   "pygments_lexer": "ipython3",
   "version": "3.7.12"
  }
 },
 "nbformat": 4,
 "nbformat_minor": 5
}
