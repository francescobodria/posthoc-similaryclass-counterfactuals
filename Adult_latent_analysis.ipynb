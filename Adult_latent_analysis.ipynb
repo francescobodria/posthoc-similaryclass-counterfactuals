{
 "cells": [
  {
   "cell_type": "code",
   "execution_count": 1,
   "metadata": {},
   "outputs": [
    {
     "data": {
      "text/plain": [
       "<torch._C.Generator at 0x7fdb612f3ed0>"
      ]
     },
     "execution_count": 1,
     "metadata": {},
     "output_type": "execute_result"
    }
   ],
   "source": [
    "import pandas as pd\n",
    "import pickle\n",
    "import numpy as np\n",
    "import torch\n",
    "import torch.nn as nn\n",
    "import torch.nn.functional as F\n",
    "from torch.utils.data import TensorDataset, DataLoader\n",
    "from tqdm.notebook import tqdm\n",
    "import time\n",
    "import matplotlib.pyplot as plt\n",
    "import os\n",
    "\n",
    "rnd = 384\n",
    "np.random.seed(rnd)\n",
    "torch.manual_seed(rnd)"
   ]
  },
  {
   "cell_type": "code",
   "execution_count": 2,
   "metadata": {},
   "outputs": [],
   "source": [
    "from sklearn.preprocessing import OrdinalEncoder, MinMaxScaler, OneHotEncoder\n",
    "from sklearn.model_selection import train_test_split\n",
    "\n",
    "df = pd.read_csv('./data/adult_clear.csv')\n",
    "df = df[df[\"workclass\"] != \"?\"]\n",
    "df = df[df[\"occupation\"] != \"?\"]\n",
    "df = df[df[\"native-country\"] != \"?\"]\n",
    "df.replace(['Divorced', 'Married-AF-spouse',\n",
    "            'Married-civ-spouse', 'Married-spouse-absent',\n",
    "            'Never-married', 'Separated', 'Widowed'],\n",
    "           ['notmarried', 'married', 'married', 'married',\n",
    "            'notmarried', 'notmarried', 'notmarried'], inplace=True)\n",
    "df['education'].replace(['Preschool', '10th', '11th', '12th', '1st-4th', '5th-6th', '7th-8th', '9th'], 'dropout',\n",
    "                        inplace=True)\n",
    "df['education'].replace(['HS-Grad', 'HS-grad'], 'HighGrad', inplace=True)\n",
    "df['education'].replace(['Some-college', 'Assoc-acdm', 'Assoc-voc'], 'CommunityCollege', inplace=True)\n",
    "df = df[df.race == 'White']\n",
    "# excludes 10 observations\n",
    "df = df[df['workclass'] != 'Never-worked']\n",
    "# excludes 14 observations\n",
    "df = df[df['occupation'] != 'Armed-Forces']\n",
    "# excludes 21 observations\n",
    "df = df[df['workclass'] != 'Without-pay']\n",
    "df.drop(['fnlwgt', 'educational-num', 'relationship', 'race', 'capital-gain', 'capital-loss'],\n",
    "            axis=1, inplace=True)\n",
    "df['workclass'].replace(['Local-gov', 'State-gov', 'Federal-gov'], 'Gov', inplace=True)\n",
    "df['workclass'].replace(['Private', 'Self-emp-not-inc', 'Self-emp-inc'], 'Private', inplace=True)\n",
    "df['occupation'].replace(\n",
    "    ['Craft-repair', 'Machine-op-inspct', 'Handlers-cleaners', 'Transport-moving', 'Adm-clerical',\n",
    "     'Farming-fishing'], 'BlueCollar', inplace=True)\n",
    "df['occupation'].replace(['Other-service', 'Protective-serv', 'Tech-support', 'Priv-house-serv'], 'Services',\n",
    "                         inplace=True)\n",
    "df['occupation'].replace(['Exec-managerial'], 'ExecManagerial', inplace=True)\n",
    "df['occupation'].replace(['Prof-specialty'], 'ProfSpecialty', inplace=True)\n",
    "df['education'].replace(['Prof-school'], 'ProfSchool', inplace=True)\n",
    "df['native-country'].replace(['Cambodia', 'Canada', 'China', 'Columbia', 'Cuba', 'Dominican-Republic', 'Ecuador', \\\n",
    "                              'El-Salvador', 'England', 'France', 'Germany', 'Greece', 'Guatemala', 'Haiti',\\\n",
    "                              'Holand-Netherlands', 'Honduras', 'Hong', 'Hungary', 'India', 'Iran', 'Ireland',\\\n",
    "                              'Italy', 'Jamaica', 'Japan', 'Mexico', 'Nicaragua', 'Outlying-US(Guam-USVI-etc)',\\\n",
    "                              'Peru', 'Philippines', 'Poland', 'Portugal', 'Puerto-Rico', 'Scotland', 'South',\\\n",
    "                              'Taiwan','Thailand', 'Trinadad&Tobago', 'Vietnam','Yugoslavia'], 'Non_US', inplace=True)\n",
    "df.rename(columns={'hours-per-week': 'hoursPerWeek'}, inplace=True)\n",
    "df.rename(columns={'marital-status': 'marital_status'}, inplace=True)\n",
    "df.rename(columns={'native-country': 'native_country'}, inplace=True)\n",
    "columns_titles = [\"age\",\"hoursPerWeek\",\"education\",\"marital_status\",\"occupation\",\"gender\",\"native_country\",\"income\"]\n",
    "df=df.reindex(columns=columns_titles)\n",
    "df = df[~df.duplicated()]\n",
    "X = df.copy()\n",
    "ord_enc = OrdinalEncoder()\n",
    "#X.iloc[:,[3,5,6,7]] = ord_enc.fit_transform(X.values[:,[3,5,6,7]]).astype(int)\n",
    "X.iloc[:,2:] = ord_enc.fit_transform(X.values[:,2:]).astype(int)\n",
    "std = MinMaxScaler(feature_range=(-1,1))\n",
    "X.iloc[:,:2] = std.fit_transform(X.values[:,:2])\n",
    "#hot_enc = OneHotEncoder(handle_unknown='ignore')\n",
    "#hot_enc.fit(X.iloc[:,[2,4]])\n",
    "#X[np.hstack(hot_enc.categories_).tolist()]=hot_enc.transform(X.iloc[:,[2,4]]).toarray().astype(int)\n",
    "#X.drop(['education'], axis=1, inplace=True)\n",
    "#X.drop(['occupation'], axis=1, inplace=True)\n",
    "X.drop(['income'], axis=1, inplace=True)\n",
    "y = df[\"income\"].apply(lambda x: \">50K\" in x).astype(int)\n",
    "\n",
    "X_train, X_test, y_train, y_test = train_test_split(X, y, test_size=0.2, stratify=y, random_state=rnd)"
   ]
  },
  {
   "cell_type": "markdown",
   "id": "16ef74ab",
   "metadata": {},
   "source": [
    "### XGBOOST"
   ]
  },
  {
   "cell_type": "code",
   "execution_count": 3,
   "id": "33baf3fb",
   "metadata": {},
   "outputs": [
    {
     "name": "stdout",
     "output_type": "stream",
     "text": [
      "XGBOOST\n",
      "train acc: 0.8020897357098955\n",
      "test acc: 0.7573746312684366\n"
     ]
    }
   ],
   "source": [
    "from xgboost import XGBClassifier\n",
    "clf_xgb = XGBClassifier(n_estimators=60, reg_lambda=3, use_label_encoder=False, eval_metric='logloss')\n",
    "clf_xgb.fit(X_train, y_train)\n",
    "pickle.dump(clf_xgb,open('./BlackBoxes/adult_xgboost.p','wb'))\n",
    "\n",
    "clf_xgb = pickle.load(open('./BlackBoxes/adult_xgboost.p','rb'))\n",
    "def predict(x, return_proba=False):\n",
    "    if return_proba:\n",
    "        return clf_xgb.predict_proba(x)[:,1].ravel()\n",
    "    else: return clf_xgb.predict(x).ravel().ravel()\n",
    "y_train_pred = predict(X_train)\n",
    "y_test_pred = predict(X_test)\n",
    "print('XGBOOST')\n",
    "print('train acc:',np.mean(np.round(y_train_pred)==y_train))\n",
    "print('test acc:',np.mean(np.round(y_test_pred)==y_test))"
   ]
  },
  {
   "cell_type": "markdown",
   "id": "4eee0d50",
   "metadata": {},
   "source": [
    "### RF"
   ]
  },
  {
   "cell_type": "code",
   "execution_count": 4,
   "id": "9184d565",
   "metadata": {},
   "outputs": [
    {
     "data": {
      "text/plain": [
       "RandomForestClassifier(max_depth=7, random_state=384)"
      ]
     },
     "execution_count": 4,
     "metadata": {},
     "output_type": "execute_result"
    }
   ],
   "source": [
    "from sklearn.ensemble import RandomForestClassifier\n",
    "\n",
    "clf_rf = RandomForestClassifier(max_depth=7,random_state=rnd)\n",
    "clf_rf.fit(X_train, y_train)\n",
    "\n",
    "pickle.dump(clf_rf,open('./BlackBoxes/adult_rf.p','wb'))\n",
    "clf_rf"
   ]
  },
  {
   "cell_type": "code",
   "execution_count": 5,
   "id": "275e38f8",
   "metadata": {},
   "outputs": [
    {
     "name": "stdout",
     "output_type": "stream",
     "text": [
      "train acc: 0.7719729563614014\n",
      "test acc: 0.7635201573254671\n"
     ]
    }
   ],
   "source": [
    "clf_rf = pickle.load(open('./BlackBoxes/adult_rf.p','rb'))\n",
    "\n",
    "def predict(x, return_proba=False):\n",
    "    if return_proba:\n",
    "        return clf_rf.predict_proba(x)[:,1].ravel()\n",
    "    else: return clf_rf.predict(x).ravel().ravel()\n",
    "\n",
    "y_test_pred = predict(X_test, return_proba=True)\n",
    "y_train_pred = predict(X_train, return_proba=True)\n",
    "print('train acc:',np.mean(np.round(y_train_pred)==y_train))\n",
    "print('test acc:',np.mean(np.round(y_test_pred)==y_test))"
   ]
  },
  {
   "cell_type": "markdown",
   "id": "1508d5a9",
   "metadata": {},
   "source": [
    "### SVC"
   ]
  },
  {
   "cell_type": "code",
   "execution_count": 7,
   "id": "357bb92c",
   "metadata": {},
   "outputs": [
    {
     "name": "stdout",
     "output_type": "stream",
     "text": [
      "SVC\n",
      "train acc: 0.7648432698217579\n",
      "test acc: 0.7625368731563422\n"
     ]
    }
   ],
   "source": [
    "#from sklearn.svm import SVC\n",
    "#clf_svc = SVC(gamma='auto', probability=True)\n",
    "#clf_svc.fit(X_train, y_train)\n",
    "#pickle.dump(clf_svc,open('./BlackBoxes/adult_svc.p','wb'))\n",
    "\n",
    "clf_svc = pickle.load(open('./BlackBoxes/adult_svc.p','rb'))\n",
    "\n",
    "def predict(x, return_proba=False):\n",
    "    if return_proba:\n",
    "        return clf_svc.predict_proba(x)[:,1].ravel()\n",
    "    else: return clf_svc.predict(x).ravel().ravel()\n",
    "\n",
    "y_train_pred = predict(X_train.values, return_proba=True)\n",
    "y_test_pred = predict(X_test.values, return_proba=True)\n",
    "print('SVC')\n",
    "print('train acc:',np.mean(np.round(y_train_pred)==y_train))\n",
    "print('test acc:',np.mean(np.round(y_test_pred)==y_test))"
   ]
  },
  {
   "cell_type": "markdown",
   "id": "4e800724",
   "metadata": {},
   "source": [
    "### NN"
   ]
  },
  {
   "cell_type": "code",
   "execution_count": 8,
   "id": "20607e82",
   "metadata": {},
   "outputs": [
    {
     "name": "stderr",
     "output_type": "stream",
     "text": [
      "2022-04-05 14:38:56.268437: I tensorflow/core/platform/cpu_feature_guard.cc:142] This TensorFlow binary is optimized with oneAPI Deep Neural Network Library (oneDNN) to use the following CPU instructions in performance-critical operations:  SSE4.2\n",
      "To enable them in other operations, rebuild TensorFlow with the appropriate compiler flags.\n",
      "2022-04-05 14:38:56.271537: I tensorflow/compiler/mlir/mlir_graph_optimization_pass.cc:258] None of the MLIR optimization passes are enabled (registered 0 passes)\n",
      "/Users/francescobodria/anaconda3/envs/latent_space/lib/python3.7/site-packages/tensorflow/python/keras/engine/training.py:2366: UserWarning: `Model.state_updates` will be removed in a future version. This property should not be used in TensorFlow 2.0, as `updates` are applied automatically.\n",
      "  warnings.warn('`Model.state_updates` will be removed in a future version. '\n"
     ]
    },
    {
     "data": {
      "image/png": "[encoded data removed]",
      "text/plain": [
       "<Figure size 432x288 with 1 Axes>"
      ]
     },
     "metadata": {
      "needs_background": "light"
     },
     "output_type": "display_data"
    },
    {
     "name": "stdout",
     "output_type": "stream",
     "text": [
      "NN\n",
      "0.7651505838967425\n",
      "0.755653883972468\n",
      "---------------\n"
     ]
    }
   ],
   "source": [
    "import tensorflow as tf\n",
    "from tensorflow import keras\n",
    "from tensorflow.keras.callbacks import EarlyStopping\n",
    "\n",
    "BATCH_SIZE = 1024\n",
    "train_dataset = tf.data.Dataset.from_tensor_slices((X_train, y_train)).shuffle(2048).batch(BATCH_SIZE)\n",
    "test_dataset = tf.data.Dataset.from_tensor_slices((X_test, y_test)).batch(BATCH_SIZE)\n",
    "\n",
    "clf_nn = keras.Sequential([\n",
    "    keras.layers.Dense(units=10, activation='relu'),\n",
    "    keras.layers.Dense(units=5, activation='relu'),\n",
    "    keras.layers.Dense(units=1, activation='sigmoid'),\n",
    "])\n",
    "\n",
    "early_stopping = EarlyStopping(patience=5)\n",
    "\n",
    "clf_nn.compile(optimizer='adam', \n",
    "              loss='binary_crossentropy',\n",
    "              metrics=['accuracy'])\n",
    "\n",
    "history = clf_nn.fit(\n",
    "    train_dataset,\n",
    "    validation_data=test_dataset,\n",
    "    epochs=1000,\n",
    "    callbacks=[early_stopping],\n",
    "    verbose=0\n",
    "    )\n",
    "\n",
    "def plot_metric(history, metric):\n",
    "    train_metrics = history.history[metric]\n",
    "    val_metrics = history.history['val_'+metric]\n",
    "    epochs = range(1, len(train_metrics) + 1)\n",
    "    plt.plot(epochs, train_metrics)\n",
    "    plt.plot(epochs, val_metrics)\n",
    "    plt.title('Training and validation '+ metric)\n",
    "    plt.xlabel(\"Epochs\")\n",
    "    plt.ylabel(metric)\n",
    "    plt.grid()\n",
    "    plt.legend([\"train_\"+metric, 'val_'+metric])\n",
    "    plt.show()\n",
    "\n",
    "plot_metric(history, 'loss')\n",
    "clf_nn.save_weights('./blackboxes/adult_tf_nn')\n",
    "\n",
    "from sklearn.metrics import accuracy_score\n",
    "clf_nn.load_weights('./blackboxes/adult_tf_nn')\n",
    "clf_nn.trainable = False\n",
    "\n",
    "def predict(x, return_proba=False):\n",
    "    if return_proba:\n",
    "        return clf_nn.predict(x).ravel()\n",
    "    else: return np.round(clf_nn.predict(x).ravel()).astype(int).ravel()\n",
    "\n",
    "print('NN')\n",
    "print(accuracy_score(np.round(predict(X_train, return_proba = True)),y_train))\n",
    "print(accuracy_score(np.round(predict(X_test, return_proba = True)),y_test))\n",
    "print('---------------')"
   ]
  },
  {
   "cell_type": "code",
   "execution_count": 9,
   "id": "6cd323dc",
   "metadata": {},
   "outputs": [],
   "source": [
    "black_box = 'xgb'\n",
    "\n",
    "if black_box=='xgb':\n",
    "    def predict(x, return_proba=False):\n",
    "        if return_proba:\n",
    "            return clf_xgb.predict_proba(x)[:,1].ravel()\n",
    "        else: return clf_xgb.predict(x).ravel().ravel()\n",
    "    y_test_pred = predict(X_test, return_proba=True)\n",
    "    y_train_pred = predict(X_train, return_proba=True)\n",
    "elif black_box=='rf':\n",
    "    def predict(x, return_proba=False):\n",
    "        if return_proba:\n",
    "            return clf_rf.predict_proba(x)[:,1].ravel()\n",
    "        else: return clf_rf.predict(x).ravel().ravel()\n",
    "    y_test_pred = predict(X_test, return_proba=True)\n",
    "    y_train_pred = predict(X_train, return_proba=True)\n",
    "elif black_box=='svc':\n",
    "    def predict(x, return_proba=False):\n",
    "        if return_proba:\n",
    "            return clf_svc.predict_proba(x)[:,1].ravel()\n",
    "        else: return clf_svc.predict(x).ravel().ravel()\n",
    "    y_test_pred = predict(X_test, return_proba=True)\n",
    "    y_train_pred = predict(X_train, return_proba=True)\n",
    "elif black_box=='nn':\n",
    "    def predict(x, return_proba=False):\n",
    "        if return_proba:\n",
    "            return clf_nn.predict(x).ravel()\n",
    "        else: return np.round(clf_nn.predict(x).ravel()).astype(int).ravel()\n",
    "    y_test_pred = predict(X_test, return_proba=True)\n",
    "    y_train_pred = predict(X_train, return_proba=True)"
   ]
  },
  {
   "cell_type": "markdown",
   "id": "a22029e8",
   "metadata": {},
   "source": [
    "# Latent Space"
   ]
  },
  {
   "cell_type": "code",
   "execution_count": 10,
   "id": "0138a28d",
   "metadata": {},
   "outputs": [],
   "source": [
    "X_train = np.hstack((X_train,y_train_pred.reshape(-1,1)))\n",
    "X_test = np.hstack((X_test,y_test_pred.reshape(-1,1)))"
   ]
  },
  {
   "cell_type": "code",
   "execution_count": 11,
   "id": "b33fe1e2-7f55-4af9-b03b-e96ccd62cec6",
   "metadata": {},
   "outputs": [],
   "source": [
    "latent_dim = 5\n",
    "alpha = 1.5\n",
    "batch_size = 1024\n",
    "sigma = 1\n",
    "max_epochs = 1000\n",
    "early_stopping = 3\n",
    "learning_rate = 1e-3\n",
    "idx_cat = [2,3,4,5,6]\n",
    "\n",
    "similarity_KLD = torch.nn.KLDivLoss(reduction='batchmean')\n",
    "\n",
    "def compute_similarity_Z(Z, sigma):\n",
    "    D = torch.cdist(Z,Z)\n",
    "    M = torch.exp((-D**2)/(2*sigma**2))\n",
    "    return M / (torch.ones([M.shape[0],M.shape[1]])*(torch.sum(M, axis = 0)-1)).transpose(0,1)\n",
    "\n",
    "def compute_similarity_X(X, sigma, alpha, idx_cat=None):\n",
    "    D_class = torch.cdist(X[:,-1].reshape(-1,1),X[:,-1].reshape(-1,1))\n",
    "    X = X[:, :-1]\n",
    "    if idx_cat:\n",
    "        X_cat = X[:, idx_cat]\n",
    "        X_cont = X[:, np.delete(range(X.shape[1]),idx_cat)]\n",
    "        h = X_cat.shape[1]\n",
    "        m = X.shape[1]\n",
    "        D_cont = torch.cdist(X_cont,X_cont)\n",
    "        D_cat = torch.cdist(X_cat, X_cat, p=0)/h\n",
    "        D = h/m * D_cat + ((m-h)/m) * D_cont + alpha * D_class\n",
    "    else:\n",
    "        D = torch.cdist(X,X) + alpha * D_class\n",
    "    M = torch.exp((-D**2)/(2*sigma**2))\n",
    "    return M / (torch.ones([M.shape[0],M.shape[1]])*(torch.sum(M, axis = 0)-1)).transpose(0,1)\n",
    "\n",
    "def loss_function(X, Z, idx_cat, sigma=1):\n",
    "    Sx = compute_similarity_X(X, sigma, alpha, idx_cat)\n",
    "    Sz = compute_similarity_Z(Z, 1)\n",
    "    loss = similarity_KLD(torch.log(Sx), Sz)\n",
    "    return loss\n",
    "\n",
    "class LinearModel(nn.Module):\n",
    "    def __init__(self, input_shape, latent_dim=2):\n",
    "        super(LinearModel, self).__init__()\n",
    "\n",
    "        # encoding components\n",
    "        self.fc1 = nn.Linear(input_shape, latent_dim)\n",
    "\n",
    "    def encode(self, x):\n",
    "        x = self.fc1(x)\n",
    "        return x\n",
    "\n",
    "    def forward(self, x):\n",
    "        z = self.encode(x)\n",
    "        return z\n",
    "\n",
    "# Create Model\n",
    "model = LinearModel(X_train.shape[1], latent_dim=latent_dim)"
   ]
  },
  {
   "cell_type": "code",
   "execution_count": 12,
   "id": "e9a2e8eb",
   "metadata": {},
   "outputs": [
    {
     "data": {
      "application/vnd.jupyter.widget-view+json": {
       "model_id": "5044ed0f0c33422aa190125d5ccc5097",
       "version_major": 2,
       "version_minor": 0
      },
      "text/plain": [
       "Epoch: 000 Train Sim Loss 0.00000 Test Sim Loss 0.00000 Early Stopping 0"
      ]
     },
     "metadata": {},
     "output_type": "display_data"
    }
   ],
   "source": [
    "train_dataset = TensorDataset(torch.tensor(X_train).float())\n",
    "train_loader = DataLoader(train_dataset, batch_size=batch_size, shuffle=True) \n",
    "test_dataset = TensorDataset(torch.tensor(X_test).float())\n",
    "test_loader = DataLoader(test_dataset, batch_size=batch_size, shuffle=False) \n",
    "\n",
    "def check_and_clear(dir_name):\n",
    "    if not os.path.exists(dir_name):\n",
    "        os.mkdir(dir_name)\n",
    "    else:\n",
    "        os.system('rm -r ' + dir_name)\n",
    "        os.mkdir(dir_name)\n",
    "\n",
    "check_and_clear('./models/weights')\n",
    "\n",
    "model_params = list(model.parameters())\n",
    "optimizer = torch.optim.Adam(model_params, lr=learning_rate)\n",
    "\n",
    "# record training process\n",
    "epoch_train_losses = []\n",
    "epoch_test_losses = []\n",
    "\n",
    "#validation parameters\n",
    "epoch = 1\n",
    "best = np.inf\n",
    "\n",
    "# progress bar\n",
    "pbar = tqdm(bar_format=\"{postfix[0]} {postfix[1][value]:03d} {postfix[2]} {postfix[3][value]:.5f} {postfix[4]} {postfix[5][value]:.5f} {postfix[6]} {postfix[7][value]:d}\",\n",
    "            postfix=[\"Epoch:\", {'value':0}, \"Train Sim Loss\", {'value':0}, \"Test Sim Loss\", {'value':0}, \"Early Stopping\", {\"value\":0}])\n",
    "\n",
    "# start training\n",
    "while epoch <= max_epochs:\n",
    "\n",
    "    # ------- TRAIN ------- #\n",
    "    # set model as training mode\n",
    "    model.train()\n",
    "    batch_loss = []\n",
    "\n",
    "    for batch, (X_batch,) in enumerate(train_loader):\n",
    "        optimizer.zero_grad()\n",
    "        Z_batch = model(X_batch)  #\n",
    "        loss  = loss_function(X_batch, Z_batch, idx_cat, sigma) \n",
    "        loss.backward()\n",
    "        optimizer.step()\n",
    "        batch_loss.append(loss.item())\n",
    "\n",
    "    # save result\n",
    "    epoch_train_losses.append(np.mean(batch_loss))\n",
    "    pbar.postfix[3][\"value\"] = np.mean(batch_loss)\n",
    "\n",
    "    # -------- VALIDATION --------\n",
    "\n",
    "    # set model as testing mode\n",
    "    model.eval()\n",
    "    batch_loss = []\n",
    "\n",
    "    with torch.no_grad():\n",
    "        for batch, (X_batch,) in enumerate(test_loader):\n",
    "            Z_batch = model(X_batch)\n",
    "            loss = loss_function(X_batch, Z_batch, idx_cat, sigma)\n",
    "            batch_loss.append(loss.item())\n",
    "\n",
    "    # save information\n",
    "    epoch_test_losses.append(np.mean(batch_loss))\n",
    "    pbar.postfix[5][\"value\"] = np.mean(batch_loss)\n",
    "    pbar.postfix[1][\"value\"] = epoch\n",
    "\n",
    "    if epoch_test_losses[-1] < best:\n",
    "        wait = 0\n",
    "        best = epoch_test_losses[-1]\n",
    "        best_epoch = epoch\n",
    "        torch.save(model.state_dict(), f'./models/weights/LinearTransparent_adult.pt')\n",
    "    else:\n",
    "        wait += 1\n",
    "    pbar.postfix[7][\"value\"] = wait\n",
    "    if wait == early_stopping:\n",
    "        break    \n",
    "    epoch += 1\n",
    "    pbar.update()\n",
    "\n",
    "model.load_state_dict(torch.load(f'./models/weights/LinearTransparent_adult.pt'))\n",
    "with torch.no_grad():\n",
    "    model.eval()\n",
    "    Z_train = model(torch.tensor(X_train).float()).cpu().detach().numpy()\n",
    "    Z_test = model(torch.tensor(X_test).float()).cpu().detach().numpy()\n",
    "\n",
    "torch.save(model.state_dict(), f'./models/adult_latent_{black_box}_{latent_dim}_{str(alpha).replace(\".\", \"\")}.pt')"
   ]
  },
  {
   "cell_type": "code",
   "execution_count": 13,
   "id": "d0569976-ce37-4a06-947a-b29d89dfbdbd",
   "metadata": {},
   "outputs": [],
   "source": [
    "model.load_state_dict(torch.load(f'./models/adult_latent_{black_box}_{latent_dim}_{str(alpha).replace(\".\", \"\")}.pt'))\n",
    "with torch.no_grad():\n",
    "    model.eval()\n",
    "    Z_train = model(torch.tensor(X_train).float()).cpu().detach().numpy()\n",
    "    Z_test = model(torch.tensor(X_test).float()).cpu().detach().numpy()"
   ]
  },
  {
   "cell_type": "code",
   "execution_count": null,
   "metadata": {},
   "outputs": [],
   "source": []
  }
 ],
 "metadata": {
  "interpreter": {
   "hash": "bbe59c975e204ea16b5438cc29498c66156cc1f3ecfcff94114e4056e991a222"
  },
  "kernelspec": {
   "display_name": "Python 3.7.12 ('latent_space')",
   "language": "python",
   "name": "python3"
  },
  "language_info": {
   "codemirror_mode": {
    "name": "ipython",
    "version": 3
   },
   "file_extension": ".py",
   "mimetype": "text/x-python",
   "name": "python",
   "nbconvert_exporter": "python",
   "pygments_lexer": "ipython3",
   "version": "3.7.12"
  },
  "orig_nbformat": 4
 },
 "nbformat": 4,
 "nbformat_minor": 2
}
