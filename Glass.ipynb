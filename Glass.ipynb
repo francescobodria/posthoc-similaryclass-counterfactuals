{
 "cells": [
  {
   "cell_type": "code",
   "execution_count": 1,
   "id": "2aa08d80-31c9-40a1-889c-dc6465739914",
   "metadata": {},
   "outputs": [
    {
     "data": {
      "text/plain": [
       "<torch._C.Generator at 0x7fcca9be4030>"
      ]
     },
     "execution_count": 1,
     "metadata": {},
     "output_type": "execute_result"
    }
   ],
   "source": [
    "import pandas as pd\n",
    "pd.set_option('display.max_columns', 500)\n",
    "import pickle\n",
    "import numpy as np\n",
    "import torch\n",
    "import torch.nn as nn\n",
    "import torch.nn.functional as F\n",
    "from torch.utils.data import TensorDataset, DataLoader\n",
    "from tqdm.notebook import tqdm\n",
    "import time\n",
    "import matplotlib.pyplot as plt\n",
    "import os\n",
    "\n",
    "rnd = 42\n",
    "np.random.seed(rnd)\n",
    "torch.manual_seed(rnd)"
   ]
  },
  {
   "cell_type": "code",
   "execution_count": 29,
   "id": "6392e3ab-2ef1-4409-b1db-9c09cb231175",
   "metadata": {},
   "outputs": [],
   "source": [
    "from sklearn.preprocessing import LabelEncoder, OneHotEncoder, MinMaxScaler\n",
    "from sklearn.model_selection import train_test_split\n",
    "\n",
    "dataset_name = 'Glass'\n",
    "dataset_path = './data/'\n",
    "\n",
    "df = pd.read_csv(dataset_path + dataset_name + '.data', delimiter=',', names=['id','Relfective_Index','Na','Mg','Al','Si','K','Ca','Ba','Fe','class'])\n",
    "df = df.drop(['id'],axis=1,inplace=False)\n",
    "df['class'] = df['class'].replace({5:4,6:5,7:6})\n",
    "y = df[\"class\"].astype(int)-1\n",
    "df = df.drop(['class'],axis=1,inplace=False)\n",
    "\n",
    "X = df.copy()\n",
    "std = MinMaxScaler(feature_range=(-1,1))\n",
    "X = std.fit_transform(X.values)\n",
    "\n",
    "X_train, X_test, y_train, y_test = train_test_split(X, y, test_size=0.2, stratify=y, random_state=rnd)"
   ]
  },
  {
   "cell_type": "code",
   "execution_count": 30,
   "id": "acd6ba53",
   "metadata": {},
   "outputs": [
    {
     "data": {
      "text/plain": [
       "array([0, 1, 2, 3, 4, 5])"
      ]
     },
     "execution_count": 30,
     "metadata": {},
     "output_type": "execute_result"
    }
   ],
   "source": [
    "np.unique(y_test)"
   ]
  },
  {
   "cell_type": "markdown",
   "id": "16ef74ab",
   "metadata": {},
   "source": [
    "### XGBOOST"
   ]
  },
  {
   "cell_type": "code",
   "execution_count": 32,
   "id": "33baf3fb",
   "metadata": {},
   "outputs": [
    {
     "name": "stdout",
     "output_type": "stream",
     "text": [
      "XGBOOST\n",
      "train acc: 1.0\n",
      "test acc: 0.7674418604651163\n"
     ]
    }
   ],
   "source": [
    "from xgboost import XGBClassifier\n",
    "clf_xgb = XGBClassifier(n_estimators=30, num_class=7, use_label_encoder=False, eval_metric='logloss', random_state=rnd)\n",
    "clf_xgb.fit(X_train, y_train)\n",
    "pickle.dump(clf_xgb,open('./BlackBoxes/glass_xgboost.p','wb'))\n",
    "\n",
    "clf_xgb = pickle.load(open('./BlackBoxes/glass_xgboost.p','rb'))\n",
    "def predict(x, return_proba=False):\n",
    "    if return_proba:\n",
    "        return clf_xgb.predict_proba(x)[:,1].ravel()\n",
    "    else: return clf_xgb.predict(x).ravel().ravel()\n",
    "y_train_pred = predict(X_train)\n",
    "y_test_pred = predict(X_test)\n",
    "print('XGBOOST')\n",
    "print('train acc:',np.mean(np.round(y_train_pred)==y_train))\n",
    "print('test acc:',np.mean(np.round(y_test_pred)==y_test))"
   ]
  },
  {
   "cell_type": "markdown",
   "id": "4eee0d50",
   "metadata": {},
   "source": [
    "### RF"
   ]
  },
  {
   "cell_type": "code",
   "execution_count": 5,
   "id": "9184d565",
   "metadata": {},
   "outputs": [
    {
     "data": {
      "text/plain": [
       "RandomForestClassifier(max_depth=12, random_state=384)"
      ]
     },
     "execution_count": 5,
     "metadata": {},
     "output_type": "execute_result"
    }
   ],
   "source": [
    "from sklearn.ensemble import RandomForestClassifier\n",
    "\n",
    "clf_rf = RandomForestClassifier(max_depth=12,random_state=rnd)\n",
    "clf_rf.fit(X_train, y_train)\n",
    "\n",
    "pickle.dump(clf_rf,open('./BlackBoxes/compas_rf.p','wb'))\n",
    "clf_rf"
   ]
  },
  {
   "cell_type": "code",
   "execution_count": 6,
   "id": "275e38f8",
   "metadata": {},
   "outputs": [
    {
     "name": "stdout",
     "output_type": "stream",
     "text": [
      "train acc: 0.9837925445705025\n",
      "test acc: 0.965991902834008\n"
     ]
    }
   ],
   "source": [
    "clf_rf = pickle.load(open('./BlackBoxes/compas_rf.p','rb'))\n",
    "\n",
    "def predict(x, return_proba=False):\n",
    "    if return_proba:\n",
    "        return clf_rf.predict_proba(x)[:,1].ravel()\n",
    "    else: return clf_rf.predict(x).ravel().ravel()\n",
    "\n",
    "y_test_pred = predict(X_test, return_proba=True)\n",
    "y_train_pred = predict(X_train, return_proba=True)\n",
    "print('train acc:',np.mean(np.round(y_train_pred)==y_train))\n",
    "print('test acc:',np.mean(np.round(y_test_pred)==y_test))"
   ]
  },
  {
   "cell_type": "markdown",
   "id": "1508d5a9",
   "metadata": {},
   "source": [
    "### SVC"
   ]
  },
  {
   "cell_type": "code",
   "execution_count": 7,
   "id": "357bb92c",
   "metadata": {},
   "outputs": [
    {
     "name": "stdout",
     "output_type": "stream",
     "text": [
      "SVC\n",
      "train acc: 0.9333468395461912\n",
      "test acc: 0.9441295546558705\n"
     ]
    }
   ],
   "source": [
    "from sklearn.svm import SVC\n",
    "clf_svc = SVC(gamma='auto', probability=True)\n",
    "clf_svc.fit(X_train, y_train)\n",
    "pickle.dump(clf_svc,open('./BlackBoxes/compas_svc.p','wb'))\n",
    "\n",
    "clf_svc = pickle.load(open('./BlackBoxes/compas_svc.p','rb'))\n",
    "\n",
    "def predict(x, return_proba=False):\n",
    "    if return_proba:\n",
    "        return clf_svc.predict_proba(x)[:,1].ravel()\n",
    "    else: return clf_svc.predict(x).ravel().ravel()\n",
    "\n",
    "y_train_pred = predict(X_train, return_proba=True)\n",
    "y_test_pred = predict(X_test, return_proba=True)\n",
    "print('SVC')\n",
    "print('train acc:',np.mean(np.round(y_train_pred)==y_train))\n",
    "print('test acc:',np.mean(np.round(y_test_pred)==y_test))"
   ]
  },
  {
   "cell_type": "markdown",
   "id": "4e800724",
   "metadata": {},
   "source": [
    "### NN"
   ]
  },
  {
   "cell_type": "code",
   "execution_count": 8,
   "id": "20607e82",
   "metadata": {},
   "outputs": [
    {
     "name": "stderr",
     "output_type": "stream",
     "text": [
      "2022-04-06 14:21:54.680572: I tensorflow/core/platform/cpu_feature_guard.cc:142] This TensorFlow binary is optimized with oneAPI Deep Neural Network Library (oneDNN) to use the following CPU instructions in performance-critical operations:  SSE4.2\n",
      "To enable them in other operations, rebuild TensorFlow with the appropriate compiler flags.\n",
      "2022-04-06 14:21:54.682152: I tensorflow/compiler/mlir/mlir_graph_optimization_pass.cc:258] None of the MLIR optimization passes are enabled (registered 0 passes)\n",
      "/Users/francescobodria/anaconda3/envs/latent_space/lib/python3.7/site-packages/tensorflow/python/keras/engine/training.py:2366: UserWarning: `Model.state_updates` will be removed in a future version. This property should not be used in TensorFlow 2.0, as `updates` are applied automatically.\n",
      "  warnings.warn('`Model.state_updates` will be removed in a future version. '\n"
     ]
    },
    {
     "data": {
      "image/png": "[encoded data removed]",
      "text/plain": [
       "<Figure size 432x288 with 1 Axes>"
      ]
     },
     "metadata": {
      "needs_background": "light"
     },
     "output_type": "display_data"
    },
    {
     "name": "stdout",
     "output_type": "stream",
     "text": [
      "NN\n",
      "0.9313209076175041\n",
      "0.9449392712550607\n",
      "---------------\n"
     ]
    }
   ],
   "source": [
    "import tensorflow as tf\n",
    "from tensorflow import keras\n",
    "from tensorflow.keras.callbacks import EarlyStopping\n",
    "\n",
    "BATCH_SIZE = 1024\n",
    "train_dataset = tf.data.Dataset.from_tensor_slices((X_train, y_train)).shuffle(2048).batch(BATCH_SIZE)\n",
    "test_dataset = tf.data.Dataset.from_tensor_slices((X_test, y_test)).batch(BATCH_SIZE)\n",
    "\n",
    "clf_nn = keras.Sequential([\n",
    "    keras.layers.Dense(units=10, activation='relu'),\n",
    "    keras.layers.Dense(units=5, activation='relu'),\n",
    "    keras.layers.Dense(units=1, activation='sigmoid'),\n",
    "])\n",
    "\n",
    "early_stopping = EarlyStopping(patience=5)\n",
    "\n",
    "clf_nn.compile(optimizer='adam', \n",
    "              loss='binary_crossentropy',\n",
    "              metrics=['accuracy'])\n",
    "\n",
    "history = clf_nn.fit(\n",
    "    train_dataset,\n",
    "    validation_data=test_dataset,\n",
    "    epochs=1000,\n",
    "    callbacks=[early_stopping],\n",
    "    verbose=0\n",
    "    )\n",
    "\n",
    "def plot_metric(history, metric):\n",
    "    train_metrics = history.history[metric]\n",
    "    val_metrics = history.history['val_'+metric]\n",
    "    epochs = range(1, len(train_metrics) + 1)\n",
    "    plt.plot(epochs, train_metrics)\n",
    "    plt.plot(epochs, val_metrics)\n",
    "    plt.title('Training and validation '+ metric)\n",
    "    plt.xlabel(\"Epochs\")\n",
    "    plt.ylabel(metric)\n",
    "    plt.grid()\n",
    "    plt.legend([\"train_\"+metric, 'val_'+metric])\n",
    "    plt.show()\n",
    "\n",
    "plot_metric(history, 'loss')\n",
    "clf_nn.save_weights('./blackboxes/compas_tf_nn')\n",
    "\n",
    "from sklearn.metrics import accuracy_score\n",
    "clf_nn.load_weights('./blackboxes/compas_tf_nn')\n",
    "clf_nn.trainable = False\n",
    "\n",
    "def predict(x, return_proba=False):\n",
    "    if return_proba:\n",
    "        return clf_nn.predict(x).ravel()\n",
    "    else: return np.round(clf_nn.predict(x).ravel()).astype(int).ravel()\n",
    "\n",
    "print('NN')\n",
    "print(accuracy_score(np.round(predict(X_train, return_proba = True)),y_train))\n",
    "print(accuracy_score(np.round(predict(X_test, return_proba = True)),y_test))\n",
    "print('---------------')"
   ]
  },
  {
   "cell_type": "code",
   "execution_count": 9,
   "id": "6cd323dc",
   "metadata": {},
   "outputs": [],
   "source": [
    "black_box = 'xgb'\n",
    "\n",
    "if black_box=='xgb':\n",
    "    def predict(x, return_proba=False):\n",
    "        if return_proba:\n",
    "            return clf_xgb.predict_proba(x)[:,1].ravel()\n",
    "        else: return clf_xgb.predict(x).ravel().ravel()\n",
    "    y_test_pred = predict(X_test, return_proba=True)\n",
    "    y_train_pred = predict(X_train, return_proba=True)\n",
    "elif black_box=='rf':\n",
    "    def predict(x, return_proba=False):\n",
    "        if return_proba:\n",
    "            return clf_rf.predict_proba(x)[:,1].ravel()\n",
    "        else: return clf_rf.predict(x).ravel().ravel()\n",
    "    y_test_pred = predict(X_test, return_proba=True)\n",
    "    y_train_pred = predict(X_train, return_proba=True)\n",
    "elif black_box=='svc':\n",
    "    def predict(x, return_proba=False):\n",
    "        if return_proba:\n",
    "            return clf_svc.predict_proba(x)[:,1].ravel()\n",
    "        else: return clf_svc.predict(x).ravel().ravel()\n",
    "    y_test_pred = predict(X_test, return_proba=True)\n",
    "    y_train_pred = predict(X_train, return_proba=True)\n",
    "elif black_box=='nn':\n",
    "    def predict(x, return_proba=False):\n",
    "        if return_proba:\n",
    "            return clf_nn.predict(x).ravel()\n",
    "        else: return np.round(clf_nn.predict(x).ravel()).astype(int).ravel()\n",
    "    y_test_pred = predict(X_test, return_proba=True)\n",
    "    y_train_pred = predict(X_train, return_proba=True)"
   ]
  },
  {
   "cell_type": "code",
   "execution_count": 10,
   "id": "e4a1c9fc",
   "metadata": {},
   "outputs": [
    {
     "data": {
      "text/plain": [
       "(4936, 33)"
      ]
     },
     "execution_count": 10,
     "metadata": {},
     "output_type": "execute_result"
    }
   ],
   "source": [
    "X_train.shape"
   ]
  },
  {
   "cell_type": "markdown",
   "id": "a22029e8",
   "metadata": {},
   "source": [
    "# Latent Space"
   ]
  },
  {
   "cell_type": "code",
   "execution_count": 12,
   "id": "0138a28d",
   "metadata": {},
   "outputs": [],
   "source": [
    "X_train = np.hstack((X_train,y_train_pred.reshape(-1,1)))\n",
    "X_test = np.hstack((X_test,y_test_pred.reshape(-1,1)))"
   ]
  },
  {
   "cell_type": "code",
   "execution_count": 205,
   "id": "b33fe1e2-7f55-4af9-b03b-e96ccd62cec6",
   "metadata": {},
   "outputs": [],
   "source": [
    "latent_dim = 10\n",
    "alpha = 1.5\n",
    "batch_size = 2048\n",
    "sigma = 1\n",
    "max_epochs = 1000\n",
    "early_stopping = 3\n",
    "learning_rate = 1e-3\n",
    "idx_cat = list(range(13,33,1))\n",
    "\n",
    "similarity_KLD = torch.nn.KLDivLoss(reduction='batchmean')\n",
    "\n",
    "def compute_similarity_Z(Z, sigma):\n",
    "    D = torch.cdist(Z,Z)\n",
    "    M = torch.exp((-D**2)/(2*sigma**2))\n",
    "    return M / (torch.ones([M.shape[0],M.shape[1]])*(torch.sum(M, axis = 0)-1)).transpose(0,1)\n",
    "\n",
    "def compute_similarity_X(X, sigma, alpha, idx_cat=None):\n",
    "    D_class = torch.cdist(X[:,-1].reshape(-1,1),X[:,-1].reshape(-1,1))\n",
    "    X = X[:, :-1]\n",
    "    if idx_cat:\n",
    "        X_cat = X[:, idx_cat]\n",
    "        X_cont = X[:, np.delete(range(X.shape[1]),idx_cat)]\n",
    "        h = X_cat.shape[1]\n",
    "        m = X.shape[1]\n",
    "        D_cont = torch.cdist(X_cont,X_cont)\n",
    "        D_cat = torch.cdist(X_cat, X_cat, p=0)/h\n",
    "        D = h/m * D_cat + ((m-h)/m) * D_cont + alpha * D_class\n",
    "    else:\n",
    "        D = torch.cdist(X,X) + alpha * D_class\n",
    "    M = torch.exp((-D**2)/(2*sigma**2))\n",
    "    return M / (torch.ones([M.shape[0],M.shape[1]])*(torch.sum(M, axis = 0)-1)).transpose(0,1)\n",
    "\n",
    "def loss_function(X, Z, idx_cat, sigma=1):\n",
    "    Sx = compute_similarity_X(X, sigma, alpha, idx_cat)\n",
    "    Sz = compute_similarity_Z(Z, 1)\n",
    "    loss = similarity_KLD(torch.log(Sx), Sz)\n",
    "    return loss\n",
    "\n",
    "class LinearModel(nn.Module):\n",
    "    def __init__(self, input_shape, latent_dim=2):\n",
    "        super(LinearModel, self).__init__()\n",
    "\n",
    "        # encoding components\n",
    "        self.fc1 = nn.Linear(input_shape, latent_dim)\n",
    "\n",
    "    def encode(self, x):\n",
    "        x = self.fc1(x)\n",
    "        return x\n",
    "\n",
    "    def forward(self, x):\n",
    "        z = self.encode(x)\n",
    "        return z\n",
    "\n",
    "# Create Model\n",
    "model = LinearModel(X_train.shape[1], latent_dim=latent_dim)"
   ]
  },
  {
   "cell_type": "code",
   "execution_count": 125,
   "id": "e9a2e8eb",
   "metadata": {},
   "outputs": [
    {
     "data": {
      "application/vnd.jupyter.widget-view+json": {
       "model_id": "57537eab40f84cb1b998503e80ca1d67",
       "version_major": 2,
       "version_minor": 0
      },
      "text/plain": [
       "Epoch: 000 Train Sim Loss 0.00000 Test Sim Loss 0.00000 Early Stopping 0"
      ]
     },
     "metadata": {},
     "output_type": "display_data"
    }
   ],
   "source": [
    "train_dataset = TensorDataset(torch.tensor(X_train).float())\n",
    "train_loader = DataLoader(train_dataset, batch_size=batch_size, shuffle=True) \n",
    "test_dataset = TensorDataset(torch.tensor(X_test).float())\n",
    "test_loader = DataLoader(test_dataset, batch_size=batch_size, shuffle=False) \n",
    "\n",
    "def check_and_clear(dir_name):\n",
    "    if not os.path.exists(dir_name):\n",
    "        os.mkdir(dir_name)\n",
    "    else:\n",
    "        os.system('rm -r ' + dir_name)\n",
    "        os.mkdir(dir_name)\n",
    "\n",
    "check_and_clear('./models/weights')\n",
    "\n",
    "model_params = list(model.parameters())\n",
    "optimizer = torch.optim.Adam(model_params, lr=learning_rate)\n",
    "\n",
    "# record training process\n",
    "epoch_train_losses = []\n",
    "epoch_test_losses = []\n",
    "\n",
    "#validation parameters\n",
    "epoch = 1\n",
    "best = np.inf\n",
    "\n",
    "# progress bar\n",
    "pbar = tqdm(bar_format=\"{postfix[0]} {postfix[1][value]:03d} {postfix[2]} {postfix[3][value]:.5f} {postfix[4]} {postfix[5][value]:.5f} {postfix[6]} {postfix[7][value]:d}\",\n",
    "            postfix=[\"Epoch:\", {'value':0}, \"Train Sim Loss\", {'value':0}, \"Test Sim Loss\", {'value':0}, \"Early Stopping\", {\"value\":0}])\n",
    "\n",
    "# start training\n",
    "while epoch <= max_epochs:\n",
    "\n",
    "    # ------- TRAIN ------- #\n",
    "    # set model as training mode\n",
    "    model.train()\n",
    "    batch_loss = []\n",
    "\n",
    "    for batch, (X_batch,) in enumerate(train_loader):\n",
    "        optimizer.zero_grad()\n",
    "        Z_batch = model(X_batch)  #\n",
    "        loss  = loss_function(X_batch, Z_batch, idx_cat, sigma) \n",
    "        loss.backward()\n",
    "        optimizer.step()\n",
    "        batch_loss.append(loss.item())\n",
    "\n",
    "    # save result\n",
    "    epoch_train_losses.append(np.mean(batch_loss))\n",
    "    pbar.postfix[3][\"value\"] = np.mean(batch_loss)\n",
    "\n",
    "    # -------- VALIDATION --------\n",
    "\n",
    "    # set model as testing mode\n",
    "    model.eval()\n",
    "    batch_loss = []\n",
    "\n",
    "    with torch.no_grad():\n",
    "        for batch, (X_batch,) in enumerate(test_loader):\n",
    "            Z_batch = model(X_batch)\n",
    "            loss = loss_function(X_batch, Z_batch, idx_cat, sigma)\n",
    "            batch_loss.append(loss.item())\n",
    "\n",
    "    # save information\n",
    "    epoch_test_losses.append(np.mean(batch_loss))\n",
    "    pbar.postfix[5][\"value\"] = np.mean(batch_loss)\n",
    "    pbar.postfix[1][\"value\"] = epoch\n",
    "\n",
    "    if epoch_test_losses[-1] < best:\n",
    "        wait = 0\n",
    "        best = epoch_test_losses[-1]\n",
    "        best_epoch = epoch\n",
    "        torch.save(model.state_dict(), f'./models/weights/LinearTransparent_compas.pt')\n",
    "    else:\n",
    "        wait += 1\n",
    "    pbar.postfix[7][\"value\"] = wait\n",
    "    if wait == early_stopping:\n",
    "        break    \n",
    "    epoch += 1\n",
    "    pbar.update()\n",
    "\n",
    "model.load_state_dict(torch.load(f'./models/weights/LinearTransparent_compas.pt'))\n",
    "with torch.no_grad():\n",
    "    model.eval()\n",
    "    Z_train = model(torch.tensor(X_train).float()).cpu().detach().numpy()\n",
    "    Z_test = model(torch.tensor(X_test).float()).cpu().detach().numpy()\n",
    "\n",
    "torch.save(model.state_dict(), f'./models/compas_latent_{black_box}_{latent_dim}_{str(alpha).replace(\".\", \"\")}.pt')"
   ]
  },
  {
   "cell_type": "code",
   "execution_count": 206,
   "id": "d0569976-ce37-4a06-947a-b29d89dfbdbd",
   "metadata": {},
   "outputs": [],
   "source": [
    "model.load_state_dict(torch.load(f'./models/compas_latent_{black_box}_{latent_dim}_{str(alpha).replace(\".\", \"\")}.pt'))\n",
    "with torch.no_grad():\n",
    "    model.eval()\n",
    "    Z_train = model(torch.tensor(X_train).float()).cpu().detach().numpy()\n",
    "    Z_test = model(torch.tensor(X_test).float()).cpu().detach().numpy()"
   ]
  },
  {
   "cell_type": "code",
   "execution_count": 207,
   "id": "bc840642",
   "metadata": {},
   "outputs": [
    {
     "data": {
      "image/png": "[encoded data removed]",
      "text/plain": [
       "<Figure size 432x288 with 1 Axes>"
      ]
     },
     "metadata": {
      "needs_background": "light"
     },
     "output_type": "display_data"
    }
   ],
   "source": [
    "idx = 0\n",
    "plt.scatter(Z_train[:,0],Z_train[:,1],c=y_train_pred,cmap='coolwarm')\n",
    "plt.plot(Z_test[idx,0],Z_test[idx,1],'kX',markersize=20)\n",
    "plt.grid()"
   ]
  },
  {
   "cell_type": "code",
   "execution_count": 208,
   "id": "3aa76917-497a-4070-8682-357bce7d2868",
   "metadata": {},
   "outputs": [
    {
     "data": {
      "text/plain": [
       "array([0.00038], dtype=float32)"
      ]
     },
     "execution_count": 208,
     "metadata": {},
     "output_type": "execute_result"
    }
   ],
   "source": [
    "idx = 0\n",
    "predict(X_test[idx:idx+1,:-1],return_proba=True)"
   ]
  },
  {
   "cell_type": "code",
   "execution_count": 209,
   "id": "c87db2a8",
   "metadata": {},
   "outputs": [],
   "source": [
    "y_contrib = model.fc1.weight.detach().numpy()[:,-1]"
   ]
  },
  {
   "cell_type": "code",
   "execution_count": 210,
   "id": "1820e664",
   "metadata": {},
   "outputs": [
    {
     "data": {
      "image/png": "[encoded data removed]",
      "text/plain": [
       "<Figure size 432x288 with 1 Axes>"
      ]
     },
     "metadata": {
      "needs_background": "light"
     },
     "output_type": "display_data"
    }
   ],
   "source": [
    "plt.scatter(Z_train[:,0], Z_train[:,1], c=y_train_pred, cmap='coolwarm')\n",
    "plt.plot(Z_test[idx,0], Z_test[idx,1], 'kX', markersize=20)\n",
    "m = +0.1\n",
    "plt.plot(Z_test[idx,0]+m*y_contrib[0], Z_test[idx,1]+m*y_contrib[1], 'rX', markersize=20)\n",
    "plt.quiver(Z_test[idx,0], Z_test[idx,1], m*y_contrib[0],m*y_contrib[1], angles='xy', scale_units='xy', scale=1, color='m')\n",
    "plt.grid()"
   ]
  },
  {
   "cell_type": "markdown",
   "id": "0ab344c7",
   "metadata": {},
   "source": [
    "### Counterfactual Explanation"
   ]
  },
  {
   "cell_type": "code",
   "execution_count": 211,
   "id": "14aa03bc",
   "metadata": {},
   "outputs": [
    {
     "data": {
      "text/plain": [
       "array([0.00038], dtype=float32)"
      ]
     },
     "execution_count": 211,
     "metadata": {},
     "output_type": "execute_result"
    }
   ],
   "source": [
    "q = X_test[0].copy()\n",
    "predict(q[:-1].reshape(1,-1),return_proba=True)"
   ]
  },
  {
   "cell_type": "code",
   "execution_count": 212,
   "id": "afc08d0b",
   "metadata": {},
   "outputs": [
    {
     "data": {
      "text/plain": [
       "(10, 34)"
      ]
     },
     "execution_count": 212,
     "metadata": {},
     "output_type": "execute_result"
    }
   ],
   "source": [
    "w = model.fc1.weight.detach().numpy()\n",
    "b = model.fc1.bias.detach().numpy()\n",
    "w.shape"
   ]
  },
  {
   "cell_type": "code",
   "execution_count": 213,
   "id": "fa4646d2",
   "metadata": {},
   "outputs": [],
   "source": [
    "def compute_cf(q, indexes, max_iter=500):\n",
    "    it = 0\n",
    "    q_pred = predict(q[:-1].reshape(1,-1),return_proba=True)\n",
    "    q_cf = q.copy()\n",
    "    q_cf_preds = []\n",
    "    q_cf_preds.append(float(predict(q_cf[:-1].reshape(1,-1),return_proba=True)))\n",
    "    if q_pred > 0.5:\n",
    "        m = -0.1\n",
    "    else:\n",
    "        m = +0.1\n",
    "    while np.round(q_pred) == np.round(q_cf_preds[-1]):\n",
    "        v = np.array(model(torch.tensor(q_cf).float()).detach().numpy()+m*y_contrib)\n",
    "        c_l = [v[l] - np.sum(q_cf*w[l,:]) - b[l] for l in range(latent_dim)]\n",
    "        M = []\n",
    "        for l in range(latent_dim):\n",
    "            M.append([np.sum(w[k,indexes]*w[l,indexes]) for k in range(latent_dim)])\n",
    "        M = np.vstack(M)\n",
    "        lambda_k = np.linalg.solve(M, c_l)\n",
    "        delta_i = [np.sum(lambda_k*w[:,i]) for i in indexes]\n",
    "        q_cf[indexes] += delta_i\n",
    "        if float(predict(q_cf[:-1].reshape(1,-1),return_proba=True)) in q_cf_preds:\n",
    "            return q_cf\n",
    "        q_cf_preds.append(float(predict(q_cf[:-1].reshape(1,-1),return_proba=True)))\n",
    "        q_cf[-1] = q_cf_preds[-1]\n",
    "        it += 1\n",
    "        if it == max_iter:\n",
    "            return q_cf\n",
    "    return q_cf"
   ]
  },
  {
   "cell_type": "code",
   "execution_count": 214,
   "id": "068d0d3e",
   "metadata": {},
   "outputs": [
    {
     "name": "stdout",
     "output_type": "stream",
     "text": [
      "[0.00038]\n"
     ]
    }
   ],
   "source": [
    "idx = 0\n",
    "q = X_test[idx,:].copy()\n",
    "print(predict(q[:-1].reshape(1,-1),return_proba=True))\n"
   ]
  },
  {
   "cell_type": "code",
   "execution_count": 215,
   "id": "d4fb1d74",
   "metadata": {},
   "outputs": [],
   "source": [
    "from itertools import combinations\n",
    "\n",
    "q = X_test[idx,:].copy()\n",
    "pred = int(predict(q[:-1].reshape(1,-1)))\n",
    "q_cfs = []\n",
    "l_i = []\n",
    "l_f = []\n",
    "\n",
    "for indexes in  list(combinations(list(range(34)),1)):    \n",
    "    q_cf = compute_cf(q, list(indexes))\n",
    "    q_cf_pred = predict(q_cf[:-1].reshape(1,-1),return_proba=True)\n",
    "    if pred:\n",
    "        if q_cf_pred<0.5:\n",
    "            q_cfs.append(q_cf)\n",
    "    else:\n",
    "        if q_cf_pred>0.5:\n",
    "            q_cfs.append(q_cf) \n",
    "\n",
    "for indexes in  list(combinations(list(range(34)),2)):    \n",
    "    q_cf = compute_cf(q, list(indexes))\n",
    "    q_cf_pred = predict(q_cf[:-1].reshape(1,-1),return_proba=True)\n",
    "    if pred:\n",
    "        if q_cf_pred<0.5:\n",
    "            q_cfs.append(q_cf)\n",
    "    else:\n",
    "        if q_cf_pred>0.5:\n",
    "            q_cfs.append(q_cf)\n",
    "    l_i.append([list(indexes),q_cf_pred])\n",
    "r = np.argsort(np.stack(np.array(l_i,dtype=object)[:,1]).ravel())[-10:]\n",
    "l_i = np.array(l_i,dtype=object)[r,0]\n",
    "\n",
    "while len(l_i[0])<6:\n",
    "    for e in l_i:\n",
    "        for i in list(np.delete(range(34),e)):\n",
    "            q_cf = compute_cf(q, e+[i])\n",
    "            q_cf_pred = predict(q_cf[:-1].reshape(1,-1),return_proba=True)\n",
    "            if pred:\n",
    "                if q_cf_pred<0.5:\n",
    "                    q_cfs.append(q_cf)\n",
    "            else:\n",
    "                if q_cf_pred>0.5:\n",
    "                    q_cfs.append(q_cf)\n",
    "            l_f.append([e+[i],q_cf_pred])\n",
    "    r = np.argsort(np.stack(np.array(l_f,dtype=object)[:,1]).ravel())[-10:]\n",
    "    l_f = np.array(l_f,dtype=object)[r,0]\n",
    "    l_i = l_f.copy()\n",
    "    l_f = []\n",
    "\n",
    "q_cfs = np.vstack(q_cfs)"
   ]
  },
  {
   "cell_type": "code",
   "execution_count": 216,
   "id": "f72a3670",
   "metadata": {},
   "outputs": [
    {
     "data": {
      "text/plain": [
       "(694, 34)"
      ]
     },
     "execution_count": 216,
     "metadata": {},
     "output_type": "execute_result"
    }
   ],
   "source": [
    "q_cfs.shape"
   ]
  },
  {
   "cell_type": "code",
   "execution_count": 217,
   "id": "96fc5c94",
   "metadata": {},
   "outputs": [
    {
     "name": "stdout",
     "output_type": "stream",
     "text": [
      "d_dist:  0.6987814639205783\n",
      "d_count:  2\n",
      "d_impl:  0.18423695566625875\n",
      "d_adv:  0.5871757925072046\n"
     ]
    }
   ],
   "source": [
    "from scipy.spatial.distance import cdist, euclidean\n",
    "\n",
    "print('d_dist: ', np.min(cdist(q_cfs[:,13:-1],q[13:-1].reshape(1,-1),metric='hamming') + cdist(q_cfs[:,:13],q[:13].reshape(1,-1),metric='euclidean')))\n",
    "print('d_count: ', np.min(np.sum(q_cfs[:,:-1]!=q[:-1],axis=1)))\n",
    "print('d_impl: ',np.min(cdist(q_cfs[:,13:-1],X_train[:,13:-1],metric='hamming') + cdist(q_cfs[:,:13],X_train[:,:13],metric='euclidean')))\n",
    "r = np.argsort(cdist(q_cfs[:,13:-1],X_train[:,13:-1],metric='hamming') + cdist(q_cfs[:,:13],X_train[:,:13],metric='euclidean'),axis=1)[:,:10]\n",
    "print('d_adv: ', np.mean(np.array([np.mean(predict(X_train[r,:-1][i,:])==pred) for i in range(q_cfs.shape[0])])))"
   ]
  },
  {
   "cell_type": "code",
   "execution_count": 218,
   "id": "447e58e9",
   "metadata": {},
   "outputs": [
    {
     "data": {
      "application/vnd.jupyter.widget-view+json": {
       "model_id": "887cab567db14800ad04c2a2e8804c0a",
       "version_major": 2,
       "version_minor": 0
      },
      "text/plain": [
       "  0%|          | 0/10 [00:00<?, ?it/s]"
      ]
     },
     "metadata": {},
     "output_type": "display_data"
    }
   ],
   "source": [
    "from itertools import combinations\n",
    "from tqdm.notebook import tqdm\n",
    "\n",
    "d_dist = []\n",
    "d_count = []\n",
    "d_impl = []\n",
    "d_adv = []\n",
    "\n",
    "for idx in tqdm(range(10)):\n",
    "    q = X_test[idx,:].copy()\n",
    "    q_pred = predict(q[:-1].reshape(1,-1),return_proba=False)\n",
    "    q_cfs = []\n",
    "    l_i = []\n",
    "    l_f = []\n",
    "\n",
    "    for indexes in  list(combinations(list(range(34)),1)):    \n",
    "        q_cf = compute_cf(q, list(indexes))\n",
    "        q_cf_pred = predict(q_cf[:-1].reshape(1,-1),return_proba=True)\n",
    "        if q_pred:\n",
    "            if q_cf_pred<0.5:\n",
    "                q_cfs.append(q_cf)\n",
    "        else:\n",
    "            if q_cf_pred>0.5:\n",
    "                q_cfs.append(q_cf) \n",
    "\n",
    "    for indexes in  list(combinations(list(range(34)),2)):    \n",
    "        q_cf = compute_cf(q, list(indexes))\n",
    "        q_cf_pred = predict(q_cf[:-1].reshape(1,-1),return_proba=True)\n",
    "        if q_pred:\n",
    "            if q_cf_pred<0.5:\n",
    "                q_cfs.append(q_cf)\n",
    "        else:\n",
    "            if q_cf_pred>0.5:\n",
    "                q_cfs.append(q_cf) \n",
    "        l_i.append([list(indexes),q_cf_pred])\n",
    "    r = np.argsort(np.stack(np.array(l_i,dtype=object)[:,1]).ravel())[-10:]\n",
    "    l_i = np.array(l_i,dtype=object)[r,0]\n",
    "\n",
    "    while len(l_i[0])<6:\n",
    "        for e in l_i:\n",
    "            for i in list(np.delete(range(34),e)):\n",
    "                q_cf = compute_cf(q, e+[i])\n",
    "                q_cf_pred = predict(q_cf[:-1].reshape(1,-1),return_proba=True)\n",
    "                if q_pred:\n",
    "                    if q_cf_pred<0.5:\n",
    "                        q_cfs.append(q_cf)\n",
    "                else:\n",
    "                    if q_cf_pred>0.5:\n",
    "                        q_cfs.append(q_cf) \n",
    "                l_f.append([e+[i],q_cf_pred])\n",
    "        r = np.argsort(np.stack(np.array(l_f,dtype=object)[:,1]).ravel())[-10:]\n",
    "        l_f = np.array(l_f,dtype=object)[r,0]\n",
    "        l_i = l_f.copy()\n",
    "        l_f = []\n",
    "    \n",
    "    if len(q_cfs)<1:\n",
    "        continue\n",
    "    else:\n",
    "        q_cfs = np.vstack(q_cfs)\n",
    "        d_dist.append(np.min(cdist(q_cfs[:,13:-1],q[13:-1].reshape(1,-1),metric='hamming') + cdist(q_cfs[:,:13],q[:13].reshape(1,-1),metric='euclidean')))\n",
    "        d_count.append(np.min(np.sum(q_cfs[:,:-1]!=q[:-1],axis=1)))\n",
    "        d_impl.append(np.min(cdist(q_cfs[:,13:-1],X_train[:,13:-1],metric='hamming') + cdist(q_cfs[:,:13],X_train[:,:13],metric='euclidean')))\n",
    "        r = np.argsort(cdist(q_cfs[:,13:-1],X_train[:,13:-1],metric='hamming') + cdist(q_cfs[:,:13],X_train[:,:13],metric='euclidean'),axis=1)[:,:10]\n",
    "        d_adv.append(np.mean(np.array([np.mean(predict(X_train[r,:-1][i,:])==q_pred) for i in range(q_cfs.shape[0])])))"
   ]
  },
  {
   "cell_type": "code",
   "execution_count": 219,
   "id": "c7b22f1f",
   "metadata": {},
   "outputs": [
    {
     "name": "stdout",
     "output_type": "stream",
     "text": [
      "d_dist:  0.5184364073046606\n",
      "d_count:  1.3\n",
      "d_impl:  0.3077058298427063\n",
      "d_adv:  0.388311808454712\n"
     ]
    }
   ],
   "source": [
    "print('d_dist: ',np.mean(np.array(d_dist)))\n",
    "print('d_count: ',np.mean(np.array(d_count)))\n",
    "print('d_impl: ',np.mean(np.array(d_impl)))\n",
    "print('d_adv: ',np.mean(np.array(d_adv)))"
   ]
  },
  {
   "cell_type": "code",
   "execution_count": 220,
   "id": "e697ac7a",
   "metadata": {},
   "outputs": [
    {
     "data": {
      "text/plain": [
       "10"
      ]
     },
     "execution_count": 220,
     "metadata": {},
     "output_type": "execute_result"
    }
   ],
   "source": [
    "len(d_dist)"
   ]
  },
  {
   "cell_type": "markdown",
   "id": "7fea2974",
   "metadata": {},
   "source": [
    "# Watcher"
   ]
  },
  {
   "cell_type": "code",
   "execution_count": 188,
   "id": "41ad8db5",
   "metadata": {},
   "outputs": [
    {
     "name": "stdout",
     "output_type": "stream",
     "text": [
      "pred:  [0]\n"
     ]
    }
   ],
   "source": [
    "from scipy.spatial.distance import cdist, euclidean, hamming\n",
    "from scipy.optimize import minimize\n",
    "from scipy import stats\n",
    "\n",
    "# initial conditions\n",
    "lamda = 0.1 \n",
    "x0 = np.zeros([1,X_train.shape[1]-1]) # initial guess for cf\n",
    "q = X_test[0:1,:-1]\n",
    "pred = predict(q,return_proba=False)\n",
    "print('pred: ', pred)\n",
    "\n",
    "def dist_mad(cf, eg):\n",
    "    manhat = [cdist(eg.T, cf.reshape(1,-1).T ,metric='cityblock')[i][i] for i in range(len(eg.T))]\n",
    "    mad = stats.median_abs_deviation(X_train[:,:-1])\n",
    "    mad[mad == 0] = 1\n",
    "    return sum(manhat)\n",
    "\n",
    "def loss_function_mad(x_dash):\n",
    "    target = 1-pred\n",
    "    if target == 0:\n",
    "        L = lamda*(predict(x_dash.reshape(1,-1),return_proba=True)-1)**2 + dist_mad(x_dash.reshape(1,-1), q)\n",
    "    else:\n",
    "        L = lamda*(1-predict(x_dash.reshape(1,-1),return_proba=True)-1)**2 + dist_mad(x_dash.reshape(1,-1), q) \n",
    "    return L\n",
    "\n",
    "res = minimize(loss_function_mad, x0, method='nelder-mead', options={'maxiter':100, 'xatol': 1e-6})\n",
    "cf = res.x.reshape(1, -1)\n",
    "cf[:,13:] = np.ceil(cf[:,13:])\n",
    "\n",
    "i=0\n",
    "while pred == predict(cf,return_proba=False):\n",
    "    lamda += 0.1\n",
    "    x0 = cf \n",
    "    res = minimize(loss_function_mad, x0, method='nelder-mead', options={'maxiter':100, 'xatol': 1e-6})\n",
    "    cf = res.x.reshape(1, -1)\n",
    "    cf[:,13:] = np.ceil(cf[:,13:])\n",
    "    i += 1\n",
    "    if i == 100:\n",
    "        print('Error condition not met after',i,'iterations')\n",
    "        break"
   ]
  },
  {
   "cell_type": "code",
   "execution_count": 193,
   "id": "97e35c6d",
   "metadata": {},
   "outputs": [
    {
     "data": {
      "application/vnd.jupyter.widget-view+json": {
       "model_id": "8ebbaa0bbb0d47578a3fa51724afb4c3",
       "version_major": 2,
       "version_minor": 0
      },
      "text/plain": [
       "  0%|          | 0/10 [00:00<?, ?it/s]"
      ]
     },
     "metadata": {},
     "output_type": "display_data"
    }
   ],
   "source": [
    "d_dist_watch = []\n",
    "d_count_watch = []\n",
    "d_impl_watch = []\n",
    "d_adv_watch = []\n",
    "\n",
    "for i in tqdm(range(10)):\n",
    "    # initial conditions\n",
    "    lamda = 0.1 \n",
    "    x0 = np.zeros([1,X_train.shape[1]-1]) # initial guess for cf\n",
    "    q = X_test[i:i+1,:-1]\n",
    "    pred = predict(q,return_proba=False)\n",
    "\n",
    "    def dist_mad(cf, eg):\n",
    "        manhat = [cdist(eg.T, cf.reshape(1,-1).T ,metric='cityblock')[i][i] for i in range(len(eg.T))]\n",
    "        #mad = stats.median_abs_deviation(X_train)\n",
    "        #mad[mad == 0] = 1\n",
    "        return sum(manhat)\n",
    "\n",
    "    def loss_function_mad(x_dash):\n",
    "        target = 1-pred\n",
    "        if target == 0:\n",
    "            L = lamda*(predict(x_dash.reshape(1,-1),return_proba=True)-1)**2 + dist_mad(x_dash.reshape(1,-1), q)\n",
    "        else:\n",
    "            L = lamda*(1-predict(x_dash.reshape(1,-1),return_proba=True)-1)**2 + dist_mad(x_dash.reshape(1,-1), q) \n",
    "        return L\n",
    "\n",
    "    res = minimize(loss_function_mad, x0, method='nelder-mead', options={'maxiter':100, 'xatol': 1e-6})\n",
    "    cf = res.x.reshape(1, -1)\n",
    "    cf[:,13:] = np.ceil(cf[:,13:])\n",
    "\n",
    "    i=0\n",
    "    while pred == predict(cf,return_proba=False):\n",
    "        lamda += 0.1\n",
    "        x0 = cf \n",
    "        res = minimize(loss_function_mad, x0, method='nelder-mead', options={'maxiter':100, 'xatol': 1e-6})\n",
    "        cf = res.x.reshape(1, -1)\n",
    "        cf[:,13:] = np.ceil(cf[:,13:])\n",
    "        i += 1\n",
    "        if i == 100:\n",
    "            break\n",
    "\n",
    "    if pred != predict(cf,return_proba=False):\n",
    "        d_dist_watch.append(float(hamming(cf[:,13:].ravel(),q[:,13:].ravel()) + euclidean(cf[:,:13].ravel(),q[:,:13].ravel())))\n",
    "        d_count_watch.append(np.sum(cf!=q))\n",
    "        d_impl_watch.append(np.min(cdist(cf[:,13:].reshape(1,-1),X_train[:,13:-1],metric='hamming') + cdist(cf[:,:13].reshape(1,-1),X_train[:,:13],metric='euclidean')))\n",
    "        r = np.argsort(cdist(cf[:,13:],X_train[:,13:-1],metric='hamming') + cdist(cf[:,:13],X_train[:,:13],metric='euclidean'),axis=1)[:,:10]\n",
    "        d_adv_watch.append(np.mean(np.array([np.mean(predict(X_train[r,:-1][i,:])==pred) for i in range(cf.shape[0])])))"
   ]
  },
  {
   "cell_type": "code",
   "execution_count": 195,
   "id": "cfd59bb6",
   "metadata": {},
   "outputs": [
    {
     "name": "stdout",
     "output_type": "stream",
     "text": [
      "d_dist: \t 3.38842 0.2321\n",
      "d_count: \t 22.16667 1.21335\n",
      "implicity: \t 2.4355 0.07327\n",
      "d_adv: \t \t 0.18333 0.10672\n"
     ]
    }
   ],
   "source": [
    "print('d_dist: \\t',    np.round(np.mean(d_dist_watch),5),   np.round(np.std(d_dist_watch),5))\n",
    "print('d_count: \\t',   np.round(np.mean(d_count_watch),5),  np.round(np.std(d_count_watch),5))\n",
    "print('implicity: \\t', np.round(np.mean(d_impl_watch),5),   np.round(np.std(d_impl_watch),5))\n",
    "print('d_adv: \\t \\t', np.round(np.mean(d_adv_watch),5),   np.round(np.std(d_adv_watch),5))"
   ]
  },
  {
   "cell_type": "markdown",
   "id": "2709a0cd",
   "metadata": {},
   "source": [
    "# Growing Spheres"
   ]
  },
  {
   "cell_type": "code",
   "execution_count": 196,
   "id": "64709340",
   "metadata": {},
   "outputs": [
    {
     "name": "stdout",
     "output_type": "stream",
     "text": [
      "pred:  0\n",
      "0 ennemies found in initial sphere. Zooming in...\n",
      "Exploring...\n",
      "Final number of iterations:  60\n",
      "Final radius:  (1.0720000000000005, 1.0900000000000005)\n",
      "Final number of ennemies:  1\n",
      "Feature selection...\n",
      "Reduced 29 coordinates\n",
      "[1]\n"
     ]
    }
   ],
   "source": [
    "from growingspheres import counterfactuals as cf\n",
    "\n",
    "idx = 0\n",
    "q = X_test[idx,:-1].reshape(1,-1).copy()\n",
    "pred = int(predict(q))\n",
    "print('pred: ', pred)\n",
    "\n",
    "CF = cf.CounterfactualExplanation(q, predict, method='GS')\n",
    "CF.fit(n_in_layer=2000, first_radius=0.1, dicrease_radius=10, sparse=True, verbose=True)\n",
    "q_cf_GS = CF.enemy\n",
    "print(predict(q_cf_GS.reshape(1,-1)))"
   ]
  },
  {
   "cell_type": "code",
   "execution_count": 197,
   "id": "784f6fa8",
   "metadata": {},
   "outputs": [
    {
     "data": {
      "text/html": [
       "<div>\n",
       "<style scoped>\n",
       "    .dataframe tbody tr th:only-of-type {\n",
       "        vertical-align: middle;\n",
       "    }\n",
       "\n",
       "    .dataframe tbody tr th {\n",
       "        vertical-align: top;\n",
       "    }\n",
       "\n",
       "    .dataframe thead th {\n",
       "        text-align: right;\n",
       "    }\n",
       "</style>\n",
       "<table border=\"1\" class=\"dataframe\">\n",
       "  <thead>\n",
       "    <tr style=\"text-align: right;\">\n",
       "      <th></th>\n",
       "      <th>age</th>\n",
       "      <th>juv_fel_count</th>\n",
       "      <th>decile_score</th>\n",
       "      <th>juv_misd_count</th>\n",
       "      <th>juv_other_count</th>\n",
       "      <th>priors_count</th>\n",
       "      <th>days_b_screening_arrest</th>\n",
       "      <th>c_days_from_compas</th>\n",
       "      <th>decile_score.1</th>\n",
       "      <th>v_decile_score</th>\n",
       "      <th>priors_count.1</th>\n",
       "      <th>start</th>\n",
       "      <th>end</th>\n",
       "      <th>Female</th>\n",
       "      <th>Male</th>\n",
       "      <th>African-American</th>\n",
       "      <th>Asian</th>\n",
       "      <th>Caucasian</th>\n",
       "      <th>Hispanic</th>\n",
       "      <th>Native American</th>\n",
       "      <th>Other</th>\n",
       "      <th>charge_degree_F</th>\n",
       "      <th>charge_degree_M</th>\n",
       "      <th>score_text_high</th>\n",
       "      <th>score_text_low</th>\n",
       "      <th>score_text_medium</th>\n",
       "      <th>v_score_text_high</th>\n",
       "      <th>v_score_text_low</th>\n",
       "      <th>v_score_text_medium</th>\n",
       "      <th>event_0</th>\n",
       "      <th>event_1</th>\n",
       "      <th>not_violent_recid</th>\n",
       "      <th>violent_recid</th>\n",
       "    </tr>\n",
       "  </thead>\n",
       "  <tbody>\n",
       "    <tr>\n",
       "      <th>0</th>\n",
       "      <td>-0.820513</td>\n",
       "      <td>-1.0</td>\n",
       "      <td>-0.777778</td>\n",
       "      <td>-1.0</td>\n",
       "      <td>-1.0</td>\n",
       "      <td>-1.0</td>\n",
       "      <td>0.0</td>\n",
       "      <td>-0.999789</td>\n",
       "      <td>-0.777778</td>\n",
       "      <td>-0.555556</td>\n",
       "      <td>-1.0</td>\n",
       "      <td>-1.000000</td>\n",
       "      <td>0.780776</td>\n",
       "      <td>0.0</td>\n",
       "      <td>1.0</td>\n",
       "      <td>0.0</td>\n",
       "      <td>0.0</td>\n",
       "      <td>1.0</td>\n",
       "      <td>0.0</td>\n",
       "      <td>0.0</td>\n",
       "      <td>0.0</td>\n",
       "      <td>1.0</td>\n",
       "      <td>0.0</td>\n",
       "      <td>0.0</td>\n",
       "      <td>1.0</td>\n",
       "      <td>0.0</td>\n",
       "      <td>0.0</td>\n",
       "      <td>1.0</td>\n",
       "      <td>0.0</td>\n",
       "      <td>1.000000</td>\n",
       "      <td>0.0</td>\n",
       "      <td>1.0</td>\n",
       "      <td>0.0</td>\n",
       "    </tr>\n",
       "    <tr>\n",
       "      <th>1</th>\n",
       "      <td>-0.920702</td>\n",
       "      <td>-1.0</td>\n",
       "      <td>-0.777778</td>\n",
       "      <td>-1.0</td>\n",
       "      <td>-1.0</td>\n",
       "      <td>-1.0</td>\n",
       "      <td>0.0</td>\n",
       "      <td>-0.999789</td>\n",
       "      <td>-0.777778</td>\n",
       "      <td>-0.555556</td>\n",
       "      <td>-1.0</td>\n",
       "      <td>-0.734723</td>\n",
       "      <td>0.358711</td>\n",
       "      <td>0.0</td>\n",
       "      <td>1.0</td>\n",
       "      <td>0.0</td>\n",
       "      <td>0.0</td>\n",
       "      <td>1.0</td>\n",
       "      <td>0.0</td>\n",
       "      <td>0.0</td>\n",
       "      <td>0.0</td>\n",
       "      <td>1.0</td>\n",
       "      <td>0.0</td>\n",
       "      <td>0.0</td>\n",
       "      <td>1.0</td>\n",
       "      <td>0.0</td>\n",
       "      <td>0.0</td>\n",
       "      <td>1.0</td>\n",
       "      <td>0.0</td>\n",
       "      <td>0.450482</td>\n",
       "      <td>0.0</td>\n",
       "      <td>1.0</td>\n",
       "      <td>0.0</td>\n",
       "    </tr>\n",
       "  </tbody>\n",
       "</table>\n",
       "</div>"
      ],
      "text/plain": [
       "        age  juv_fel_count  decile_score  juv_misd_count  juv_other_count  \\\n",
       "0 -0.820513           -1.0     -0.777778            -1.0             -1.0   \n",
       "1 -0.920702           -1.0     -0.777778            -1.0             -1.0   \n",
       "\n",
       "   priors_count  days_b_screening_arrest  c_days_from_compas  decile_score.1  \\\n",
       "0          -1.0                      0.0           -0.999789       -0.777778   \n",
       "1          -1.0                      0.0           -0.999789       -0.777778   \n",
       "\n",
       "   v_decile_score  priors_count.1     start       end  Female  Male  \\\n",
       "0       -0.555556            -1.0 -1.000000  0.780776     0.0   1.0   \n",
       "1       -0.555556            -1.0 -0.734723  0.358711     0.0   1.0   \n",
       "\n",
       "   African-American  Asian  Caucasian  Hispanic  Native American  Other  \\\n",
       "0               0.0    0.0        1.0       0.0              0.0    0.0   \n",
       "1               0.0    0.0        1.0       0.0              0.0    0.0   \n",
       "\n",
       "   charge_degree_F  charge_degree_M  score_text_high  score_text_low  \\\n",
       "0              1.0              0.0              0.0             1.0   \n",
       "1              1.0              0.0              0.0             1.0   \n",
       "\n",
       "   score_text_medium  v_score_text_high  v_score_text_low  \\\n",
       "0                0.0                0.0               1.0   \n",
       "1                0.0                0.0               1.0   \n",
       "\n",
       "   v_score_text_medium   event_0  event_1  not_violent_recid  violent_recid  \n",
       "0                  0.0  1.000000      0.0                1.0            0.0  \n",
       "1                  0.0  0.450482      0.0                1.0            0.0  "
      ]
     },
     "execution_count": 197,
     "metadata": {},
     "output_type": "execute_result"
    }
   ],
   "source": [
    "pd.DataFrame(np.vstack([q,q_cf_GS.reshape(1,-1)]), columns = X.columns)"
   ]
  },
  {
   "cell_type": "code",
   "execution_count": 199,
   "id": "d7c5ad06",
   "metadata": {},
   "outputs": [
    {
     "name": "stdout",
     "output_type": "stream",
     "text": [
      "d_dist:  0.5584768806937596\n",
      "d_count:  4\n",
      "d_impl:  0.34954767819924276\n",
      "d_adv:  1.0\n"
     ]
    }
   ],
   "source": [
    "from scipy.spatial.distance import cdist, euclidean\n",
    "\n",
    "print('d_dist: ', float(cdist(q_cf_GS[13:].reshape(1,-1),q[:,13:],metric='hamming') + cdist(q_cf_GS[:13].reshape(1,-1),q[:,:13],metric='euclidean')))\n",
    "print('d_count: ', int(np.sum(q_cf_GS!=q,axis=1)))\n",
    "print('d_impl: ', np.min(cdist(q_cf_GS[13:].reshape(1,-1),X_train[:,13:-1],metric='hamming') + cdist(q_cf_GS[:13].reshape(1,-1),X_train[:,:13],metric='euclidean')))\n",
    "r = np.argsort(cdist(q_cf_GS[13:].reshape(1,-1),X_train[:,13:-1],metric='hamming') + cdist(q_cf_GS[:13].reshape(1,-1),X_train[:,:13],metric='euclidean'),axis=1)[:,:10]\n",
    "print('d_adv: ', np.mean(np.array([np.mean(predict(X_train[r,:-1][i,:])==pred) for i in range(q_cf_GS.reshape(1,-1).shape[0])])))"
   ]
  },
  {
   "cell_type": "code",
   "execution_count": 200,
   "id": "27d07830",
   "metadata": {},
   "outputs": [
    {
     "data": {
      "application/vnd.jupyter.widget-view+json": {
       "model_id": "745801c7a94349319e21b016caa61d03",
       "version_major": 2,
       "version_minor": 0
      },
      "text/plain": [
       "  0%|          | 0/10 [00:00<?, ?it/s]"
      ]
     },
     "metadata": {},
     "output_type": "display_data"
    }
   ],
   "source": [
    "d_dist_GS = []\n",
    "d_count_GS = []\n",
    "d_impl_GS = []\n",
    "d_adv_GS = []\n",
    "\n",
    "for idx in tqdm(range(10)):\n",
    "    q = X_test[idx,:-1].reshape(1,-1).copy()\n",
    "    pred = int(predict(q))\n",
    "    CF = cf.CounterfactualExplanation(q, predict, method='GS')\n",
    "    CF.fit(n_in_layer=2000, first_radius=0.1, dicrease_radius=10, sparse=True, verbose=False)\n",
    "    q_cf_GS = CF.enemy\n",
    "    d_dist_GS.append(float(cdist(q_cf_GS[13:].reshape(1,-1),q[:,13:],metric='hamming') + cdist(q_cf_GS[:13].reshape(1,-1),q[:,:13],metric='euclidean')))\n",
    "    d_count_GS.append(int(np.sum(q_cf_GS!=q,axis=1)))\n",
    "    d_impl_GS.append(np.min(cdist(q_cf_GS[13:].reshape(1,-1),X_train[:,13:-1],metric='hamming') + cdist(q_cf_GS[:13].reshape(1,-1),X_train[:,:13],metric='euclidean')))\n",
    "    r = np.argsort(cdist(q_cf_GS[13:].reshape(1,-1),X_train[:,13:-1],metric='hamming') + cdist(q_cf_GS[:13].reshape(1,-1),X_train[:,:13],metric='euclidean'),axis=1)[:,:10]\n",
    "    d_adv_GS.append(np.mean(np.array([np.mean(predict(X_train[r,:-1][i,:])==pred) for i in range(q_cf_GS.reshape(1,-1).shape[0])])))"
   ]
  },
  {
   "cell_type": "code",
   "execution_count": 203,
   "id": "e280a734",
   "metadata": {},
   "outputs": [
    {
     "name": "stdout",
     "output_type": "stream",
     "text": [
      "d_dist_GS:  0.407651236744894\n",
      "d_count_GS:  2.8\n",
      "d_impl_GS:  0.43526640714115244\n",
      "d_adv:  0.84 0.16248\n"
     ]
    }
   ],
   "source": [
    "print('d_dist_GS: ',np.mean(np.array(d_dist_GS)))\n",
    "print('d_count_GS: ', np.mean(np.array(d_count_GS)))\n",
    "print('d_impl_GS: ',np.mean(np.array(d_impl_GS)))\n",
    "print('d_adv: ', np.round(np.mean(d_adv_GS),5),   np.round(np.std(d_adv_GS),5))"
   ]
  },
  {
   "cell_type": "code",
   "execution_count": 204,
   "id": "7b2bb395",
   "metadata": {},
   "outputs": [
    {
     "data": {
      "text/plain": [
       "10"
      ]
     },
     "execution_count": 204,
     "metadata": {},
     "output_type": "execute_result"
    }
   ],
   "source": [
    "len(d_dist_GS)"
   ]
  },
  {
   "cell_type": "code",
   "execution_count": 222,
   "id": "8dc567ff",
   "metadata": {},
   "outputs": [
    {
     "data": {
      "text/plain": [
       "(4936, 34)"
      ]
     },
     "execution_count": 222,
     "metadata": {},
     "output_type": "execute_result"
    }
   ],
   "source": [
    "X_train.shape"
   ]
  },
  {
   "cell_type": "markdown",
   "id": "b8e6a97f",
   "metadata": {},
   "source": [
    "# DICE"
   ]
  },
  {
   "cell_type": "code",
   "execution_count": 221,
   "id": "c8bb9d36",
   "metadata": {},
   "outputs": [
    {
     "ename": "TypeError",
     "evalue": "cannot concatenate object of type '<class 'numpy.ndarray'>'; only Series and DataFrame objs are valid",
     "output_type": "error",
     "traceback": [
      "\u001b[0;31m---------------------------------------------------------------------------\u001b[0m",
      "\u001b[0;31mTypeError\u001b[0m                                 Traceback (most recent call last)",
      "\u001b[0;32m/var/folders/rc/0_bzgrld5b90v2_xr8dfqd6c0000gn/T/ipykernel_47673/47854418.py\u001b[0m in \u001b[0;36m<module>\u001b[0;34m\u001b[0m\n\u001b[1;32m      1\u001b[0m \u001b[0;32mimport\u001b[0m \u001b[0mdice_ml\u001b[0m\u001b[0;34m\u001b[0m\u001b[0;34m\u001b[0m\u001b[0m\n\u001b[1;32m      2\u001b[0m \u001b[0;34m\u001b[0m\u001b[0m\n\u001b[0;32m----> 3\u001b[0;31m \u001b[0mdataset\u001b[0m \u001b[0;34m=\u001b[0m \u001b[0mpd\u001b[0m\u001b[0;34m.\u001b[0m\u001b[0mconcat\u001b[0m\u001b[0;34m(\u001b[0m\u001b[0;34m(\u001b[0m\u001b[0mX_train\u001b[0m\u001b[0;34m,\u001b[0m\u001b[0my_train\u001b[0m\u001b[0;34m)\u001b[0m\u001b[0;34m,\u001b[0m\u001b[0maxis\u001b[0m\u001b[0;34m=\u001b[0m\u001b[0;36m1\u001b[0m\u001b[0;34m)\u001b[0m\u001b[0;34m\u001b[0m\u001b[0;34m\u001b[0m\u001b[0m\n\u001b[0m\u001b[1;32m      4\u001b[0m \u001b[0md\u001b[0m \u001b[0;34m=\u001b[0m \u001b[0mdice_ml\u001b[0m\u001b[0;34m.\u001b[0m\u001b[0mData\u001b[0m\u001b[0;34m(\u001b[0m\u001b[0mdataframe\u001b[0m\u001b[0;34m=\u001b[0m\u001b[0mdataset\u001b[0m\u001b[0;34m,\u001b[0m \u001b[0mcontinuous_features\u001b[0m\u001b[0;34m=\u001b[0m\u001b[0;34m[\u001b[0m\u001b[0;34m'age'\u001b[0m\u001b[0;34m,\u001b[0m \u001b[0;34m'hoursPerWeek'\u001b[0m\u001b[0;34m]\u001b[0m\u001b[0;34m,\u001b[0m \u001b[0moutcome_name\u001b[0m\u001b[0;34m=\u001b[0m\u001b[0;34m'income'\u001b[0m\u001b[0;34m)\u001b[0m\u001b[0;34m\u001b[0m\u001b[0;34m\u001b[0m\u001b[0m\n",
      "\u001b[0;32m~/anaconda3/envs/latent_space/lib/python3.7/site-packages/pandas/util/_decorators.py\u001b[0m in \u001b[0;36mwrapper\u001b[0;34m(*args, **kwargs)\u001b[0m\n\u001b[1;32m    309\u001b[0m                     \u001b[0mstacklevel\u001b[0m\u001b[0;34m=\u001b[0m\u001b[0mstacklevel\u001b[0m\u001b[0;34m,\u001b[0m\u001b[0;34m\u001b[0m\u001b[0;34m\u001b[0m\u001b[0m\n\u001b[1;32m    310\u001b[0m                 )\n\u001b[0;32m--> 311\u001b[0;31m             \u001b[0;32mreturn\u001b[0m \u001b[0mfunc\u001b[0m\u001b[0;34m(\u001b[0m\u001b[0;34m*\u001b[0m\u001b[0margs\u001b[0m\u001b[0;34m,\u001b[0m \u001b[0;34m**\u001b[0m\u001b[0mkwargs\u001b[0m\u001b[0;34m)\u001b[0m\u001b[0;34m\u001b[0m\u001b[0;34m\u001b[0m\u001b[0m\n\u001b[0m\u001b[1;32m    312\u001b[0m \u001b[0;34m\u001b[0m\u001b[0m\n\u001b[1;32m    313\u001b[0m         \u001b[0;32mreturn\u001b[0m \u001b[0mwrapper\u001b[0m\u001b[0;34m\u001b[0m\u001b[0;34m\u001b[0m\u001b[0m\n",
      "\u001b[0;32m~/anaconda3/envs/latent_space/lib/python3.7/site-packages/pandas/core/reshape/concat.py\u001b[0m in \u001b[0;36mconcat\u001b[0;34m(objs, axis, join, ignore_index, keys, levels, names, verify_integrity, sort, copy)\u001b[0m\n\u001b[1;32m    302\u001b[0m         \u001b[0mverify_integrity\u001b[0m\u001b[0;34m=\u001b[0m\u001b[0mverify_integrity\u001b[0m\u001b[0;34m,\u001b[0m\u001b[0;34m\u001b[0m\u001b[0;34m\u001b[0m\u001b[0m\n\u001b[1;32m    303\u001b[0m         \u001b[0mcopy\u001b[0m\u001b[0;34m=\u001b[0m\u001b[0mcopy\u001b[0m\u001b[0;34m,\u001b[0m\u001b[0;34m\u001b[0m\u001b[0;34m\u001b[0m\u001b[0m\n\u001b[0;32m--> 304\u001b[0;31m         \u001b[0msort\u001b[0m\u001b[0;34m=\u001b[0m\u001b[0msort\u001b[0m\u001b[0;34m,\u001b[0m\u001b[0;34m\u001b[0m\u001b[0;34m\u001b[0m\u001b[0m\n\u001b[0m\u001b[1;32m    305\u001b[0m     )\n\u001b[1;32m    306\u001b[0m \u001b[0;34m\u001b[0m\u001b[0m\n",
      "\u001b[0;32m~/anaconda3/envs/latent_space/lib/python3.7/site-packages/pandas/core/reshape/concat.py\u001b[0m in \u001b[0;36m__init__\u001b[0;34m(self, objs, axis, join, keys, levels, names, ignore_index, verify_integrity, copy, sort)\u001b[0m\n\u001b[1;32m    382\u001b[0m                     \u001b[0;34m\"only Series and DataFrame objs are valid\"\u001b[0m\u001b[0;34m\u001b[0m\u001b[0;34m\u001b[0m\u001b[0m\n\u001b[1;32m    383\u001b[0m                 )\n\u001b[0;32m--> 384\u001b[0;31m                 \u001b[0;32mraise\u001b[0m \u001b[0mTypeError\u001b[0m\u001b[0;34m(\u001b[0m\u001b[0mmsg\u001b[0m\u001b[0;34m)\u001b[0m\u001b[0;34m\u001b[0m\u001b[0;34m\u001b[0m\u001b[0m\n\u001b[0m\u001b[1;32m    385\u001b[0m \u001b[0;34m\u001b[0m\u001b[0m\n\u001b[1;32m    386\u001b[0m             \u001b[0mndims\u001b[0m\u001b[0;34m.\u001b[0m\u001b[0madd\u001b[0m\u001b[0;34m(\u001b[0m\u001b[0mobj\u001b[0m\u001b[0;34m.\u001b[0m\u001b[0mndim\u001b[0m\u001b[0;34m)\u001b[0m\u001b[0;34m\u001b[0m\u001b[0;34m\u001b[0m\u001b[0m\n",
      "\u001b[0;31mTypeError\u001b[0m: cannot concatenate object of type '<class 'numpy.ndarray'>'; only Series and DataFrame objs are valid"
     ]
    }
   ],
   "source": [
    "import dice_ml\n",
    "\n",
    "dataset = pd.concat((X_train,y_train),axis=1)\n",
    "d = dice_ml.Data(dataframe=dataset, continuous_features=['age', 'hoursPerWeek'], outcome_name='income')"
   ]
  },
  {
   "cell_type": "code",
   "execution_count": 11,
   "id": "91a1a360",
   "metadata": {},
   "outputs": [],
   "source": [
    "m = dice_ml.Model(model=clf_rf, backend='sklearn')"
   ]
  },
  {
   "cell_type": "code",
   "execution_count": 12,
   "id": "56ee0364",
   "metadata": {},
   "outputs": [],
   "source": [
    "# initiate DiCE\n",
    "exp_random = dice_ml.Dice(d, m, method='random')"
   ]
  },
  {
   "cell_type": "code",
   "execution_count": 13,
   "id": "3a53be3a",
   "metadata": {},
   "outputs": [
    {
     "data": {
      "text/html": [
       "<div>\n",
       "<style scoped>\n",
       "    .dataframe tbody tr th:only-of-type {\n",
       "        vertical-align: middle;\n",
       "    }\n",
       "\n",
       "    .dataframe tbody tr th {\n",
       "        vertical-align: top;\n",
       "    }\n",
       "\n",
       "    .dataframe thead th {\n",
       "        text-align: right;\n",
       "    }\n",
       "</style>\n",
       "<table border=\"1\" class=\"dataframe\">\n",
       "  <thead>\n",
       "    <tr style=\"text-align: right;\">\n",
       "      <th></th>\n",
       "      <th>age</th>\n",
       "      <th>hoursPerWeek</th>\n",
       "      <th>marital_status</th>\n",
       "      <th>gender</th>\n",
       "      <th>native_country</th>\n",
       "      <th>Bachelors</th>\n",
       "      <th>CommunityCollege</th>\n",
       "      <th>Doctorate</th>\n",
       "      <th>HighGrad</th>\n",
       "      <th>Masters</th>\n",
       "      <th>ProfSchool</th>\n",
       "      <th>dropout</th>\n",
       "      <th>BlueCollar</th>\n",
       "      <th>ExecManagerial</th>\n",
       "      <th>ProfSpecialty</th>\n",
       "      <th>Sales</th>\n",
       "      <th>Services</th>\n",
       "      <th>income</th>\n",
       "    </tr>\n",
       "  </thead>\n",
       "  <tbody>\n",
       "    <tr>\n",
       "      <th>46220</th>\n",
       "      <td>0.342466</td>\n",
       "      <td>0.000000</td>\n",
       "      <td>0</td>\n",
       "      <td>1</td>\n",
       "      <td>1</td>\n",
       "      <td>0</td>\n",
       "      <td>0</td>\n",
       "      <td>0</td>\n",
       "      <td>0</td>\n",
       "      <td>0</td>\n",
       "      <td>0</td>\n",
       "      <td>1</td>\n",
       "      <td>0</td>\n",
       "      <td>1</td>\n",
       "      <td>0</td>\n",
       "      <td>0</td>\n",
       "      <td>0</td>\n",
       "      <td>0</td>\n",
       "    </tr>\n",
       "    <tr>\n",
       "      <th>15910</th>\n",
       "      <td>-0.534247</td>\n",
       "      <td>0.612245</td>\n",
       "      <td>0</td>\n",
       "      <td>1</td>\n",
       "      <td>1</td>\n",
       "      <td>0</td>\n",
       "      <td>1</td>\n",
       "      <td>0</td>\n",
       "      <td>0</td>\n",
       "      <td>0</td>\n",
       "      <td>0</td>\n",
       "      <td>0</td>\n",
       "      <td>0</td>\n",
       "      <td>0</td>\n",
       "      <td>0</td>\n",
       "      <td>0</td>\n",
       "      <td>1</td>\n",
       "      <td>0</td>\n",
       "    </tr>\n",
       "    <tr>\n",
       "      <th>2746</th>\n",
       "      <td>-0.726027</td>\n",
       "      <td>-0.367347</td>\n",
       "      <td>1</td>\n",
       "      <td>0</td>\n",
       "      <td>1</td>\n",
       "      <td>0</td>\n",
       "      <td>0</td>\n",
       "      <td>0</td>\n",
       "      <td>1</td>\n",
       "      <td>0</td>\n",
       "      <td>0</td>\n",
       "      <td>0</td>\n",
       "      <td>0</td>\n",
       "      <td>0</td>\n",
       "      <td>0</td>\n",
       "      <td>0</td>\n",
       "      <td>1</td>\n",
       "      <td>0</td>\n",
       "    </tr>\n",
       "    <tr>\n",
       "      <th>40636</th>\n",
       "      <td>-0.424658</td>\n",
       "      <td>0.204082</td>\n",
       "      <td>0</td>\n",
       "      <td>0</td>\n",
       "      <td>1</td>\n",
       "      <td>0</td>\n",
       "      <td>0</td>\n",
       "      <td>0</td>\n",
       "      <td>1</td>\n",
       "      <td>0</td>\n",
       "      <td>0</td>\n",
       "      <td>0</td>\n",
       "      <td>1</td>\n",
       "      <td>0</td>\n",
       "      <td>0</td>\n",
       "      <td>0</td>\n",
       "      <td>0</td>\n",
       "      <td>0</td>\n",
       "    </tr>\n",
       "    <tr>\n",
       "      <th>6931</th>\n",
       "      <td>-0.041096</td>\n",
       "      <td>0.693878</td>\n",
       "      <td>1</td>\n",
       "      <td>1</td>\n",
       "      <td>1</td>\n",
       "      <td>0</td>\n",
       "      <td>1</td>\n",
       "      <td>0</td>\n",
       "      <td>0</td>\n",
       "      <td>0</td>\n",
       "      <td>0</td>\n",
       "      <td>0</td>\n",
       "      <td>1</td>\n",
       "      <td>0</td>\n",
       "      <td>0</td>\n",
       "      <td>0</td>\n",
       "      <td>0</td>\n",
       "      <td>0</td>\n",
       "    </tr>\n",
       "    <tr>\n",
       "      <th>...</th>\n",
       "      <td>...</td>\n",
       "      <td>...</td>\n",
       "      <td>...</td>\n",
       "      <td>...</td>\n",
       "      <td>...</td>\n",
       "      <td>...</td>\n",
       "      <td>...</td>\n",
       "      <td>...</td>\n",
       "      <td>...</td>\n",
       "      <td>...</td>\n",
       "      <td>...</td>\n",
       "      <td>...</td>\n",
       "      <td>...</td>\n",
       "      <td>...</td>\n",
       "      <td>...</td>\n",
       "      <td>...</td>\n",
       "      <td>...</td>\n",
       "      <td>...</td>\n",
       "    </tr>\n",
       "    <tr>\n",
       "      <th>39461</th>\n",
       "      <td>-0.561644</td>\n",
       "      <td>-0.102041</td>\n",
       "      <td>0</td>\n",
       "      <td>1</td>\n",
       "      <td>1</td>\n",
       "      <td>0</td>\n",
       "      <td>0</td>\n",
       "      <td>0</td>\n",
       "      <td>0</td>\n",
       "      <td>0</td>\n",
       "      <td>0</td>\n",
       "      <td>1</td>\n",
       "      <td>1</td>\n",
       "      <td>0</td>\n",
       "      <td>0</td>\n",
       "      <td>0</td>\n",
       "      <td>0</td>\n",
       "      <td>0</td>\n",
       "    </tr>\n",
       "    <tr>\n",
       "      <th>16951</th>\n",
       "      <td>-0.150685</td>\n",
       "      <td>-0.204082</td>\n",
       "      <td>1</td>\n",
       "      <td>1</td>\n",
       "      <td>1</td>\n",
       "      <td>0</td>\n",
       "      <td>1</td>\n",
       "      <td>0</td>\n",
       "      <td>0</td>\n",
       "      <td>0</td>\n",
       "      <td>0</td>\n",
       "      <td>0</td>\n",
       "      <td>0</td>\n",
       "      <td>1</td>\n",
       "      <td>0</td>\n",
       "      <td>0</td>\n",
       "      <td>0</td>\n",
       "      <td>0</td>\n",
       "    </tr>\n",
       "    <tr>\n",
       "      <th>28487</th>\n",
       "      <td>-0.123288</td>\n",
       "      <td>0.000000</td>\n",
       "      <td>0</td>\n",
       "      <td>1</td>\n",
       "      <td>0</td>\n",
       "      <td>0</td>\n",
       "      <td>0</td>\n",
       "      <td>0</td>\n",
       "      <td>1</td>\n",
       "      <td>0</td>\n",
       "      <td>0</td>\n",
       "      <td>0</td>\n",
       "      <td>1</td>\n",
       "      <td>0</td>\n",
       "      <td>0</td>\n",
       "      <td>0</td>\n",
       "      <td>0</td>\n",
       "      <td>0</td>\n",
       "    </tr>\n",
       "    <tr>\n",
       "      <th>11005</th>\n",
       "      <td>-0.671233</td>\n",
       "      <td>-0.204082</td>\n",
       "      <td>1</td>\n",
       "      <td>0</td>\n",
       "      <td>1</td>\n",
       "      <td>0</td>\n",
       "      <td>0</td>\n",
       "      <td>0</td>\n",
       "      <td>0</td>\n",
       "      <td>0</td>\n",
       "      <td>0</td>\n",
       "      <td>1</td>\n",
       "      <td>1</td>\n",
       "      <td>0</td>\n",
       "      <td>0</td>\n",
       "      <td>0</td>\n",
       "      <td>0</td>\n",
       "      <td>0</td>\n",
       "    </tr>\n",
       "    <tr>\n",
       "      <th>952</th>\n",
       "      <td>-0.369863</td>\n",
       "      <td>-0.204082</td>\n",
       "      <td>0</td>\n",
       "      <td>0</td>\n",
       "      <td>1</td>\n",
       "      <td>0</td>\n",
       "      <td>0</td>\n",
       "      <td>0</td>\n",
       "      <td>1</td>\n",
       "      <td>0</td>\n",
       "      <td>0</td>\n",
       "      <td>0</td>\n",
       "      <td>1</td>\n",
       "      <td>0</td>\n",
       "      <td>0</td>\n",
       "      <td>0</td>\n",
       "      <td>0</td>\n",
       "      <td>0</td>\n",
       "    </tr>\n",
       "  </tbody>\n",
       "</table>\n",
       "<p>10169 rows × 18 columns</p>\n",
       "</div>"
      ],
      "text/plain": [
       "            age  hoursPerWeek  marital_status  gender  native_country  \\\n",
       "46220  0.342466      0.000000               0       1               1   \n",
       "15910 -0.534247      0.612245               0       1               1   \n",
       "2746  -0.726027     -0.367347               1       0               1   \n",
       "40636 -0.424658      0.204082               0       0               1   \n",
       "6931  -0.041096      0.693878               1       1               1   \n",
       "...         ...           ...             ...     ...             ...   \n",
       "39461 -0.561644     -0.102041               0       1               1   \n",
       "16951 -0.150685     -0.204082               1       1               1   \n",
       "28487 -0.123288      0.000000               0       1               0   \n",
       "11005 -0.671233     -0.204082               1       0               1   \n",
       "952   -0.369863     -0.204082               0       0               1   \n",
       "\n",
       "       Bachelors  CommunityCollege  Doctorate  HighGrad  Masters  ProfSchool  \\\n",
       "46220          0                 0          0         0        0           0   \n",
       "15910          0                 1          0         0        0           0   \n",
       "2746           0                 0          0         1        0           0   \n",
       "40636          0                 0          0         1        0           0   \n",
       "6931           0                 1          0         0        0           0   \n",
       "...          ...               ...        ...       ...      ...         ...   \n",
       "39461          0                 0          0         0        0           0   \n",
       "16951          0                 1          0         0        0           0   \n",
       "28487          0                 0          0         1        0           0   \n",
       "11005          0                 0          0         0        0           0   \n",
       "952            0                 0          0         1        0           0   \n",
       "\n",
       "       dropout  BlueCollar  ExecManagerial  ProfSpecialty  Sales  Services  \\\n",
       "46220        1           0               1              0      0         0   \n",
       "15910        0           0               0              0      0         1   \n",
       "2746         0           0               0              0      0         1   \n",
       "40636        0           1               0              0      0         0   \n",
       "6931         0           1               0              0      0         0   \n",
       "...        ...         ...             ...            ...    ...       ...   \n",
       "39461        1           1               0              0      0         0   \n",
       "16951        0           0               1              0      0         0   \n",
       "28487        0           1               0              0      0         0   \n",
       "11005        1           1               0              0      0         0   \n",
       "952          0           1               0              0      0         0   \n",
       "\n",
       "       income  \n",
       "46220       0  \n",
       "15910       0  \n",
       "2746        0  \n",
       "40636       0  \n",
       "6931        0  \n",
       "...       ...  \n",
       "39461       0  \n",
       "16951       0  \n",
       "28487       0  \n",
       "11005       0  \n",
       "952         0  \n",
       "\n",
       "[10169 rows x 18 columns]"
      ]
     },
     "execution_count": 13,
     "metadata": {},
     "output_type": "execute_result"
    }
   ],
   "source": [
    "dataset"
   ]
  },
  {
   "cell_type": "code",
   "execution_count": 14,
   "id": "f85720e6",
   "metadata": {},
   "outputs": [
    {
     "name": "stderr",
     "output_type": "stream",
     "text": [
      "100%|██████████| 1/1 [00:00<00:00, 10.11it/s]"
     ]
    },
    {
     "name": "stdout",
     "output_type": "stream",
     "text": [
      "Diverse Counterfactuals found! total time taken: 00 min 00 sec\n"
     ]
    },
    {
     "name": "stderr",
     "output_type": "stream",
     "text": [
      "\n"
     ]
    }
   ],
   "source": [
    "query_instances = dataset.iloc[0:1,:-1]\n",
    "\n",
    "# generate counterfactuals\n",
    "dice_exp_random = exp_random.generate_counterfactuals(query_instances, \n",
    "                                                      total_CFs=1, \n",
    "                                                      desired_class=\"opposite\", \n",
    "                                                      verbose=True,\n",
    "                                                      permitted_range={'age':[-1, 1], 'hoursPerWeek':[-1, 1]})\n",
    "\n",
    "#dice_exp_random.visualize_as_dataframe(show_only_changes=True)"
   ]
  },
  {
   "cell_type": "code",
   "execution_count": null,
   "id": "e7367517",
   "metadata": {},
   "outputs": [],
   "source": []
  }
 ],
 "metadata": {
  "kernelspec": {
   "display_name": "Python 3",
   "language": "python",
   "name": "python3"
  },
  "language_info": {
   "codemirror_mode": {
    "name": "ipython",
    "version": 3
   },
   "file_extension": ".py",
   "mimetype": "text/x-python",
   "name": "python",
   "nbconvert_exporter": "python",
   "pygments_lexer": "ipython3",
   "version": "3.7.12"
  }
 },
 "nbformat": 4,
 "nbformat_minor": 5
}
