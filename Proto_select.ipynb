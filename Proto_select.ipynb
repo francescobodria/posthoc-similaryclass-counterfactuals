{
 "cells": [
  {
   "cell_type": "code",
   "execution_count": 1,
   "metadata": {},
   "outputs": [
    {
     "name": "stdout",
     "output_type": "stream",
     "text": [
      "WARNING:tensorflow:From /Users/francescobodria/anaconda3/envs/latent/lib/python3.8/site-packages/tensorflow/python/compat/v2_compat.py:107: disable_resource_variables (from tensorflow.python.ops.variable_scope) is deprecated and will be removed in a future version.\n",
      "Instructions for updating:\n",
      "non-resource variables are not supported in the long term\n"
     ]
    },
    {
     "data": {
      "text/plain": [
       "<torch._C.Generator at 0x7fd5c277e050>"
      ]
     },
     "execution_count": 1,
     "metadata": {},
     "output_type": "execute_result"
    }
   ],
   "source": [
    "import tensorflow as tf\n",
    "tf.compat.v1.disable_v2_behavior()\n",
    "from tqdm.notebook import tqdm\n",
    "import matplotlib.pyplot as plt\n",
    "import numpy as np\n",
    "import pandas as pd\n",
    "import pickle\n",
    "pd.set_option('display.max_columns', None)\n",
    "import time\n",
    "import warnings\n",
    "warnings.filterwarnings(\"ignore\")\n",
    "\n",
    "import torch\n",
    "random_seed = 42\n",
    "torch.backends.cudnn.enabled = False\n",
    "torch.manual_seed(random_seed)"
   ]
  },
  {
   "cell_type": "code",
   "execution_count": 2,
   "metadata": {},
   "outputs": [],
   "source": [
    "# LOAD Dataset\n",
    "from exp.data_loader import load_image_data\n",
    "\n",
    "dataset_name = 'MNIST'\n",
    "\n",
    "X_train, X_test, Y_train, Y_test, _, _ = load_image_data(dataset_name,'.data/')"
   ]
  },
  {
   "cell_type": "code",
   "execution_count": 3,
   "metadata": {},
   "outputs": [],
   "source": [
    "X_train = X_train.reshape(-1,28,28,1)\n",
    "X_test = X_test.reshape(-1,28,28,1)\n",
    "Y_train = np.eye(10)[Y_train]\n",
    "Y_test = np.eye(10)[Y_test]"
   ]
  },
  {
   "cell_type": "code",
   "execution_count": 4,
   "metadata": {},
   "outputs": [
    {
     "name": "stderr",
     "output_type": "stream",
     "text": [
      "2022-08-03 14:38:05.751103: I tensorflow/core/platform/cpu_feature_guard.cc:193] This TensorFlow binary is optimized with oneAPI Deep Neural Network Library (oneDNN) to use the following CPU instructions in performance-critical operations:  AVX2 FMA\n",
      "To enable them in other operations, rebuild TensorFlow with the appropriate compiler flags.\n",
      "2022-08-03 14:38:06.157833: I tensorflow/compiler/mlir/mlir_graph_optimization_pass.cc:354] MLIR V1 optimization pass is not enabled\n"
     ]
    },
    {
     "name": "stdout",
     "output_type": "stream",
     "text": [
      "0.9973166666666666\n",
      "0.9911\n"
     ]
    }
   ],
   "source": [
    "# load Black Box\n",
    "\n",
    "#NN\n",
    "import tensorflow as tf\n",
    "from tensorflow import keras\n",
    "from tensorflow.keras.callbacks import EarlyStopping\n",
    "BATCH_SIZE = 1024\n",
    "train_dataset = tf.data.Dataset.from_tensor_slices((X_train, Y_train)).shuffle(2048).batch(BATCH_SIZE)\n",
    "test_dataset = tf.data.Dataset.from_tensor_slices((X_test, Y_test)).batch(BATCH_SIZE)\n",
    "\n",
    "##model building\n",
    "model = keras.Sequential([\n",
    "    keras.layers.Conv2D(32, kernel_size=(3, 3), activation='relu', input_shape=(28,28,1)),\n",
    "    keras.layers.Conv2D(64, (3, 3), activation='relu'),\n",
    "    keras.layers.MaxPooling2D(pool_size=(2, 2)),\n",
    "    keras.layers.Dropout(0.25),\n",
    "    keras.layers.Flatten(),\n",
    "    keras.layers.Dense(128, activation='relu'),\n",
    "    keras.layers.Dropout(0.5),\n",
    "    keras.layers.Dense(10, activation='softmax'),\n",
    "])\n",
    "\n",
    "early_stopping = EarlyStopping(patience=3)\n",
    "model.compile(optimizer='adam', \n",
    "              loss='binary_crossentropy',\n",
    "              metrics=['accuracy'])\n",
    "#history = model.fit(\n",
    "#    train_dataset,\n",
    "#    validation_data=test_dataset,\n",
    "#    epochs=100,\n",
    "#    callbacks=[early_stopping],\n",
    "#    verbose=2\n",
    "#)\n",
    "#def plot_metric(history, metric):\n",
    "#    train_metrics = history.history[metric]\n",
    "#    val_metrics = history.history['val_'+metric]\n",
    "#    epochs = range(1, len(train_metrics) + 1)\n",
    "#    plt.plot(epochs, train_metrics)\n",
    "#    plt.plot(epochs, val_metrics)\n",
    "#    plt.title('Training and validation '+ metric)\n",
    "#    plt.xlabel(\"Epochs\")\n",
    "#    plt.ylabel(metric)\n",
    "#    plt.grid()\n",
    "#    plt.legend([\"train_\"+metric, 'val_'+metric])\n",
    "#    plt.show()\n",
    "#plot_metric(history, 'loss')\n",
    "#model.save_weights(f'./blackboxes/{dataset_name}_tf_nn')\n",
    "from sklearn.metrics import accuracy_score\n",
    "model.load_weights(f'./blackboxes/{dataset_name}_tf_nn')\n",
    "model.trainable = False\n",
    "print(accuracy_score(np.argmax(model.predict(X_train),axis=1),np.argmax(Y_train,axis=1)))\n",
    "print(accuracy_score(np.argmax(model.predict(X_test),axis=1),np.argmax(Y_test,axis=1)))"
   ]
  },
  {
   "cell_type": "code",
   "execution_count": 5,
   "metadata": {},
   "outputs": [],
   "source": [
    "black_box = 'nn'\n",
    "def predict(x, return_proba=False):\n",
    "    if return_proba:\n",
    "        return model.predict(x)\n",
    "    else: return np.argmax(model.predict(x),axis=1).astype(int).ravel()\n",
    "y_test_pred = predict(X_test, return_proba=True)\n",
    "y_train_pred = predict(X_train, return_proba=True)"
   ]
  },
  {
   "cell_type": "code",
   "execution_count": 7,
   "metadata": {},
   "outputs": [],
   "source": [
    "from alibi.prototypes import ProtoSelect\n",
    "from alibi.utils.kernel import EuclideanDistance\n",
    "\n",
    "summariser = ProtoSelect(kernel_distance=EuclideanDistance(), eps=0.1)"
   ]
  },
  {
   "cell_type": "code",
   "execution_count": 10,
   "metadata": {},
   "outputs": [],
   "source": [
    "summariser = summariser.fit(X=X_train, y=np.where(Y_train==1)[1])"
   ]
  },
  {
   "cell_type": "code",
   "execution_count": 9,
   "metadata": {},
   "outputs": [
    {
     "data": {
      "text/plain": [
       "array([5, 0, 4, ..., 5, 6, 8])"
      ]
     },
     "execution_count": 9,
     "metadata": {},
     "output_type": "execute_result"
    }
   ],
   "source": []
  },
  {
   "cell_type": "code",
   "execution_count": null,
   "metadata": {},
   "outputs": [],
   "source": []
  }
 ],
 "metadata": {
  "kernelspec": {
   "display_name": "Python 3.8.13 ('latent')",
   "language": "python",
   "name": "python3"
  },
  "language_info": {
   "codemirror_mode": {
    "name": "ipython",
    "version": 3
   },
   "file_extension": ".py",
   "mimetype": "text/x-python",
   "name": "python",
   "nbconvert_exporter": "python",
   "pygments_lexer": "ipython3",
   "version": "3.8.13"
  },
  "orig_nbformat": 4,
  "vscode": {
   "interpreter": {
    "hash": "6e9c6dcfa319aa9ea9de230258f49566f969c41b33851045479650e13d4084a9"
   }
  }
 },
 "nbformat": 4,
 "nbformat_minor": 2
}
