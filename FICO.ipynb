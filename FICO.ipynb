{
 "cells": [
  {
   "cell_type": "code",
   "execution_count": 1,
   "id": "b690a58d-4976-488d-894d-8d7d16f912cd",
   "metadata": {},
   "outputs": [
    {
     "data": {
      "text/plain": [
       "<torch._C.Generator at 0x7fa3c9463a30>"
      ]
     },
     "execution_count": 1,
     "metadata": {},
     "output_type": "execute_result"
    }
   ],
   "source": [
    "import tensorflow as tf\n",
    "#tf.compat.v1.enable_eager_execution()\n",
    "from tqdm.notebook import tqdm\n",
    "import matplotlib.pyplot as plt\n",
    "import numpy as np\n",
    "import pandas as pd\n",
    "import pickle\n",
    "pd.set_option('display.max_columns', None)\n",
    "import time\n",
    "import warnings\n",
    "warnings.filterwarnings(\"ignore\")\n",
    "\n",
    "import torch\n",
    "random_seed = 42\n",
    "torch.backends.cudnn.enabled = False\n",
    "torch.manual_seed(random_seed)"
   ]
  },
  {
   "cell_type": "code",
   "execution_count": 2,
   "id": "c1100170-67be-4c11-91a4-0de0097382d9",
   "metadata": {},
   "outputs": [],
   "source": [
    "from sklearn.preprocessing import MinMaxScaler\n",
    "from sklearn.model_selection import train_test_split\n",
    "\n",
    "df = pd.read_csv('./data/heloc_dataset.csv')\n",
    "df['RiskPerformance']=(df.RiskPerformance=='Bad')+0\n",
    "\n",
    "scaler = MinMaxScaler((-1,1))\n",
    "X = scaler.fit_transform(df.values[:,1:])\n",
    "y = df['RiskPerformance'].values\n",
    "\n",
    "X_train, X_test, Y_train, Y_test = train_test_split(X, y, test_size=0.33, random_state=42)"
   ]
  },
  {
   "cell_type": "code",
   "execution_count": 3,
   "id": "5bdf3bb1-e828-4fd4-911d-e647e2b7086d",
   "metadata": {},
   "outputs": [
    {
     "data": {
      "text/html": [
       "<div>\n",
       "<style scoped>\n",
       "    .dataframe tbody tr th:only-of-type {\n",
       "        vertical-align: middle;\n",
       "    }\n",
       "\n",
       "    .dataframe tbody tr th {\n",
       "        vertical-align: top;\n",
       "    }\n",
       "\n",
       "    .dataframe thead th {\n",
       "        text-align: right;\n",
       "    }\n",
       "</style>\n",
       "<table border=\"1\" class=\"dataframe\">\n",
       "  <thead>\n",
       "    <tr style=\"text-align: right;\">\n",
       "      <th></th>\n",
       "      <th>RiskPerformance</th>\n",
       "      <th>ExternalRiskEstimate</th>\n",
       "      <th>MSinceOldestTradeOpen</th>\n",
       "      <th>MSinceMostRecentTradeOpen</th>\n",
       "      <th>AverageMInFile</th>\n",
       "      <th>NumSatisfactoryTrades</th>\n",
       "      <th>NumTrades60Ever2DerogPubRec</th>\n",
       "      <th>NumTrades90Ever2DerogPubRec</th>\n",
       "      <th>PercentTradesNeverDelq</th>\n",
       "      <th>MSinceMostRecentDelq</th>\n",
       "      <th>MaxDelq2PublicRecLast12M</th>\n",
       "      <th>MaxDelqEver</th>\n",
       "      <th>NumTotalTrades</th>\n",
       "      <th>NumTradesOpeninLast12M</th>\n",
       "      <th>PercentInstallTrades</th>\n",
       "      <th>MSinceMostRecentInqexcl7days</th>\n",
       "      <th>NumInqLast6M</th>\n",
       "      <th>NumInqLast6Mexcl7days</th>\n",
       "      <th>NetFractionRevolvingBurden</th>\n",
       "      <th>NetFractionInstallBurden</th>\n",
       "      <th>NumRevolvingTradesWBalance</th>\n",
       "      <th>NumInstallTradesWBalance</th>\n",
       "      <th>NumBank2NatlTradesWHighUtilization</th>\n",
       "      <th>PercentTradesWBalance</th>\n",
       "    </tr>\n",
       "  </thead>\n",
       "  <tbody>\n",
       "    <tr>\n",
       "      <th>0</th>\n",
       "      <td>1</td>\n",
       "      <td>55</td>\n",
       "      <td>144</td>\n",
       "      <td>4</td>\n",
       "      <td>84</td>\n",
       "      <td>20</td>\n",
       "      <td>3</td>\n",
       "      <td>0</td>\n",
       "      <td>83</td>\n",
       "      <td>2</td>\n",
       "      <td>3</td>\n",
       "      <td>5</td>\n",
       "      <td>23</td>\n",
       "      <td>1</td>\n",
       "      <td>43</td>\n",
       "      <td>0</td>\n",
       "      <td>0</td>\n",
       "      <td>0</td>\n",
       "      <td>33</td>\n",
       "      <td>-8</td>\n",
       "      <td>8</td>\n",
       "      <td>1</td>\n",
       "      <td>1</td>\n",
       "      <td>69</td>\n",
       "    </tr>\n",
       "    <tr>\n",
       "      <th>1</th>\n",
       "      <td>1</td>\n",
       "      <td>61</td>\n",
       "      <td>58</td>\n",
       "      <td>15</td>\n",
       "      <td>41</td>\n",
       "      <td>2</td>\n",
       "      <td>4</td>\n",
       "      <td>4</td>\n",
       "      <td>100</td>\n",
       "      <td>-7</td>\n",
       "      <td>0</td>\n",
       "      <td>8</td>\n",
       "      <td>7</td>\n",
       "      <td>0</td>\n",
       "      <td>67</td>\n",
       "      <td>0</td>\n",
       "      <td>0</td>\n",
       "      <td>0</td>\n",
       "      <td>0</td>\n",
       "      <td>-8</td>\n",
       "      <td>0</td>\n",
       "      <td>-8</td>\n",
       "      <td>-8</td>\n",
       "      <td>0</td>\n",
       "    </tr>\n",
       "    <tr>\n",
       "      <th>2</th>\n",
       "      <td>1</td>\n",
       "      <td>67</td>\n",
       "      <td>66</td>\n",
       "      <td>5</td>\n",
       "      <td>24</td>\n",
       "      <td>9</td>\n",
       "      <td>0</td>\n",
       "      <td>0</td>\n",
       "      <td>100</td>\n",
       "      <td>-7</td>\n",
       "      <td>7</td>\n",
       "      <td>8</td>\n",
       "      <td>9</td>\n",
       "      <td>4</td>\n",
       "      <td>44</td>\n",
       "      <td>0</td>\n",
       "      <td>4</td>\n",
       "      <td>4</td>\n",
       "      <td>53</td>\n",
       "      <td>66</td>\n",
       "      <td>4</td>\n",
       "      <td>2</td>\n",
       "      <td>1</td>\n",
       "      <td>86</td>\n",
       "    </tr>\n",
       "    <tr>\n",
       "      <th>3</th>\n",
       "      <td>1</td>\n",
       "      <td>66</td>\n",
       "      <td>169</td>\n",
       "      <td>1</td>\n",
       "      <td>73</td>\n",
       "      <td>28</td>\n",
       "      <td>1</td>\n",
       "      <td>1</td>\n",
       "      <td>93</td>\n",
       "      <td>76</td>\n",
       "      <td>6</td>\n",
       "      <td>6</td>\n",
       "      <td>30</td>\n",
       "      <td>3</td>\n",
       "      <td>57</td>\n",
       "      <td>0</td>\n",
       "      <td>5</td>\n",
       "      <td>4</td>\n",
       "      <td>72</td>\n",
       "      <td>83</td>\n",
       "      <td>6</td>\n",
       "      <td>4</td>\n",
       "      <td>3</td>\n",
       "      <td>91</td>\n",
       "    </tr>\n",
       "    <tr>\n",
       "      <th>4</th>\n",
       "      <td>1</td>\n",
       "      <td>81</td>\n",
       "      <td>333</td>\n",
       "      <td>27</td>\n",
       "      <td>132</td>\n",
       "      <td>12</td>\n",
       "      <td>0</td>\n",
       "      <td>0</td>\n",
       "      <td>100</td>\n",
       "      <td>-7</td>\n",
       "      <td>7</td>\n",
       "      <td>8</td>\n",
       "      <td>12</td>\n",
       "      <td>0</td>\n",
       "      <td>25</td>\n",
       "      <td>0</td>\n",
       "      <td>1</td>\n",
       "      <td>1</td>\n",
       "      <td>51</td>\n",
       "      <td>89</td>\n",
       "      <td>3</td>\n",
       "      <td>1</td>\n",
       "      <td>0</td>\n",
       "      <td>80</td>\n",
       "    </tr>\n",
       "    <tr>\n",
       "      <th>...</th>\n",
       "      <td>...</td>\n",
       "      <td>...</td>\n",
       "      <td>...</td>\n",
       "      <td>...</td>\n",
       "      <td>...</td>\n",
       "      <td>...</td>\n",
       "      <td>...</td>\n",
       "      <td>...</td>\n",
       "      <td>...</td>\n",
       "      <td>...</td>\n",
       "      <td>...</td>\n",
       "      <td>...</td>\n",
       "      <td>...</td>\n",
       "      <td>...</td>\n",
       "      <td>...</td>\n",
       "      <td>...</td>\n",
       "      <td>...</td>\n",
       "      <td>...</td>\n",
       "      <td>...</td>\n",
       "      <td>...</td>\n",
       "      <td>...</td>\n",
       "      <td>...</td>\n",
       "      <td>...</td>\n",
       "      <td>...</td>\n",
       "    </tr>\n",
       "    <tr>\n",
       "      <th>10454</th>\n",
       "      <td>0</td>\n",
       "      <td>73</td>\n",
       "      <td>131</td>\n",
       "      <td>5</td>\n",
       "      <td>57</td>\n",
       "      <td>21</td>\n",
       "      <td>0</td>\n",
       "      <td>0</td>\n",
       "      <td>95</td>\n",
       "      <td>80</td>\n",
       "      <td>6</td>\n",
       "      <td>6</td>\n",
       "      <td>21</td>\n",
       "      <td>5</td>\n",
       "      <td>19</td>\n",
       "      <td>7</td>\n",
       "      <td>0</td>\n",
       "      <td>0</td>\n",
       "      <td>26</td>\n",
       "      <td>-8</td>\n",
       "      <td>5</td>\n",
       "      <td>2</td>\n",
       "      <td>0</td>\n",
       "      <td>100</td>\n",
       "    </tr>\n",
       "    <tr>\n",
       "      <th>10455</th>\n",
       "      <td>1</td>\n",
       "      <td>65</td>\n",
       "      <td>147</td>\n",
       "      <td>39</td>\n",
       "      <td>68</td>\n",
       "      <td>11</td>\n",
       "      <td>0</td>\n",
       "      <td>0</td>\n",
       "      <td>92</td>\n",
       "      <td>28</td>\n",
       "      <td>6</td>\n",
       "      <td>6</td>\n",
       "      <td>12</td>\n",
       "      <td>0</td>\n",
       "      <td>42</td>\n",
       "      <td>1</td>\n",
       "      <td>1</td>\n",
       "      <td>1</td>\n",
       "      <td>86</td>\n",
       "      <td>53</td>\n",
       "      <td>2</td>\n",
       "      <td>2</td>\n",
       "      <td>1</td>\n",
       "      <td>80</td>\n",
       "    </tr>\n",
       "    <tr>\n",
       "      <th>10456</th>\n",
       "      <td>1</td>\n",
       "      <td>74</td>\n",
       "      <td>129</td>\n",
       "      <td>6</td>\n",
       "      <td>64</td>\n",
       "      <td>18</td>\n",
       "      <td>1</td>\n",
       "      <td>1</td>\n",
       "      <td>100</td>\n",
       "      <td>-7</td>\n",
       "      <td>6</td>\n",
       "      <td>8</td>\n",
       "      <td>18</td>\n",
       "      <td>1</td>\n",
       "      <td>33</td>\n",
       "      <td>3</td>\n",
       "      <td>4</td>\n",
       "      <td>4</td>\n",
       "      <td>6</td>\n",
       "      <td>-8</td>\n",
       "      <td>5</td>\n",
       "      <td>-8</td>\n",
       "      <td>0</td>\n",
       "      <td>56</td>\n",
       "    </tr>\n",
       "    <tr>\n",
       "      <th>10457</th>\n",
       "      <td>1</td>\n",
       "      <td>72</td>\n",
       "      <td>234</td>\n",
       "      <td>12</td>\n",
       "      <td>113</td>\n",
       "      <td>42</td>\n",
       "      <td>2</td>\n",
       "      <td>2</td>\n",
       "      <td>96</td>\n",
       "      <td>35</td>\n",
       "      <td>6</td>\n",
       "      <td>2</td>\n",
       "      <td>45</td>\n",
       "      <td>0</td>\n",
       "      <td>20</td>\n",
       "      <td>6</td>\n",
       "      <td>0</td>\n",
       "      <td>0</td>\n",
       "      <td>19</td>\n",
       "      <td>-8</td>\n",
       "      <td>4</td>\n",
       "      <td>1</td>\n",
       "      <td>0</td>\n",
       "      <td>38</td>\n",
       "    </tr>\n",
       "    <tr>\n",
       "      <th>10458</th>\n",
       "      <td>1</td>\n",
       "      <td>66</td>\n",
       "      <td>28</td>\n",
       "      <td>1</td>\n",
       "      <td>17</td>\n",
       "      <td>4</td>\n",
       "      <td>0</td>\n",
       "      <td>0</td>\n",
       "      <td>100</td>\n",
       "      <td>-7</td>\n",
       "      <td>7</td>\n",
       "      <td>8</td>\n",
       "      <td>5</td>\n",
       "      <td>2</td>\n",
       "      <td>60</td>\n",
       "      <td>3</td>\n",
       "      <td>3</td>\n",
       "      <td>2</td>\n",
       "      <td>67</td>\n",
       "      <td>-8</td>\n",
       "      <td>2</td>\n",
       "      <td>1</td>\n",
       "      <td>0</td>\n",
       "      <td>100</td>\n",
       "    </tr>\n",
       "  </tbody>\n",
       "</table>\n",
       "<p>10459 rows × 24 columns</p>\n",
       "</div>"
      ],
      "text/plain": [
       "       RiskPerformance  ExternalRiskEstimate  MSinceOldestTradeOpen  \\\n",
       "0                    1                    55                    144   \n",
       "1                    1                    61                     58   \n",
       "2                    1                    67                     66   \n",
       "3                    1                    66                    169   \n",
       "4                    1                    81                    333   \n",
       "...                ...                   ...                    ...   \n",
       "10454                0                    73                    131   \n",
       "10455                1                    65                    147   \n",
       "10456                1                    74                    129   \n",
       "10457                1                    72                    234   \n",
       "10458                1                    66                     28   \n",
       "\n",
       "       MSinceMostRecentTradeOpen  AverageMInFile  NumSatisfactoryTrades  \\\n",
       "0                              4              84                     20   \n",
       "1                             15              41                      2   \n",
       "2                              5              24                      9   \n",
       "3                              1              73                     28   \n",
       "4                             27             132                     12   \n",
       "...                          ...             ...                    ...   \n",
       "10454                          5              57                     21   \n",
       "10455                         39              68                     11   \n",
       "10456                          6              64                     18   \n",
       "10457                         12             113                     42   \n",
       "10458                          1              17                      4   \n",
       "\n",
       "       NumTrades60Ever2DerogPubRec  NumTrades90Ever2DerogPubRec  \\\n",
       "0                                3                            0   \n",
       "1                                4                            4   \n",
       "2                                0                            0   \n",
       "3                                1                            1   \n",
       "4                                0                            0   \n",
       "...                            ...                          ...   \n",
       "10454                            0                            0   \n",
       "10455                            0                            0   \n",
       "10456                            1                            1   \n",
       "10457                            2                            2   \n",
       "10458                            0                            0   \n",
       "\n",
       "       PercentTradesNeverDelq  MSinceMostRecentDelq  MaxDelq2PublicRecLast12M  \\\n",
       "0                          83                     2                         3   \n",
       "1                         100                    -7                         0   \n",
       "2                         100                    -7                         7   \n",
       "3                          93                    76                         6   \n",
       "4                         100                    -7                         7   \n",
       "...                       ...                   ...                       ...   \n",
       "10454                      95                    80                         6   \n",
       "10455                      92                    28                         6   \n",
       "10456                     100                    -7                         6   \n",
       "10457                      96                    35                         6   \n",
       "10458                     100                    -7                         7   \n",
       "\n",
       "       MaxDelqEver  NumTotalTrades  NumTradesOpeninLast12M  \\\n",
       "0                5              23                       1   \n",
       "1                8               7                       0   \n",
       "2                8               9                       4   \n",
       "3                6              30                       3   \n",
       "4                8              12                       0   \n",
       "...            ...             ...                     ...   \n",
       "10454            6              21                       5   \n",
       "10455            6              12                       0   \n",
       "10456            8              18                       1   \n",
       "10457            2              45                       0   \n",
       "10458            8               5                       2   \n",
       "\n",
       "       PercentInstallTrades  MSinceMostRecentInqexcl7days  NumInqLast6M  \\\n",
       "0                        43                             0             0   \n",
       "1                        67                             0             0   \n",
       "2                        44                             0             4   \n",
       "3                        57                             0             5   \n",
       "4                        25                             0             1   \n",
       "...                     ...                           ...           ...   \n",
       "10454                    19                             7             0   \n",
       "10455                    42                             1             1   \n",
       "10456                    33                             3             4   \n",
       "10457                    20                             6             0   \n",
       "10458                    60                             3             3   \n",
       "\n",
       "       NumInqLast6Mexcl7days  NetFractionRevolvingBurden  \\\n",
       "0                          0                          33   \n",
       "1                          0                           0   \n",
       "2                          4                          53   \n",
       "3                          4                          72   \n",
       "4                          1                          51   \n",
       "...                      ...                         ...   \n",
       "10454                      0                          26   \n",
       "10455                      1                          86   \n",
       "10456                      4                           6   \n",
       "10457                      0                          19   \n",
       "10458                      2                          67   \n",
       "\n",
       "       NetFractionInstallBurden  NumRevolvingTradesWBalance  \\\n",
       "0                            -8                           8   \n",
       "1                            -8                           0   \n",
       "2                            66                           4   \n",
       "3                            83                           6   \n",
       "4                            89                           3   \n",
       "...                         ...                         ...   \n",
       "10454                        -8                           5   \n",
       "10455                        53                           2   \n",
       "10456                        -8                           5   \n",
       "10457                        -8                           4   \n",
       "10458                        -8                           2   \n",
       "\n",
       "       NumInstallTradesWBalance  NumBank2NatlTradesWHighUtilization  \\\n",
       "0                             1                                   1   \n",
       "1                            -8                                  -8   \n",
       "2                             2                                   1   \n",
       "3                             4                                   3   \n",
       "4                             1                                   0   \n",
       "...                         ...                                 ...   \n",
       "10454                         2                                   0   \n",
       "10455                         2                                   1   \n",
       "10456                        -8                                   0   \n",
       "10457                         1                                   0   \n",
       "10458                         1                                   0   \n",
       "\n",
       "       PercentTradesWBalance  \n",
       "0                         69  \n",
       "1                          0  \n",
       "2                         86  \n",
       "3                         91  \n",
       "4                         80  \n",
       "...                      ...  \n",
       "10454                    100  \n",
       "10455                     80  \n",
       "10456                     56  \n",
       "10457                     38  \n",
       "10458                    100  \n",
       "\n",
       "[10459 rows x 24 columns]"
      ]
     },
     "execution_count": 3,
     "metadata": {},
     "output_type": "execute_result"
    }
   ],
   "source": [
    "df"
   ]
  },
  {
   "cell_type": "markdown",
   "id": "81e22033",
   "metadata": {},
   "source": [
    "# BlackBoxes"
   ]
  },
  {
   "cell_type": "markdown",
   "id": "9bb2edfa",
   "metadata": {},
   "source": [
    "### XGBOOST"
   ]
  },
  {
   "cell_type": "code",
   "execution_count": 4,
   "id": "bcd07d6a-51ac-4c20-8788-8c8005ad3ec6",
   "metadata": {},
   "outputs": [],
   "source": [
    "from xgboost import XGBClassifier\n",
    "\n",
    "clf_xgb = XGBClassifier(n_estimators=60, reg_lambda=3, use_label_encoder=False, eval_metric='logloss')"
   ]
  },
  {
   "cell_type": "code",
   "execution_count": 5,
   "id": "77d85cbc",
   "metadata": {},
   "outputs": [],
   "source": [
    "#clf_xgb.fit(X_train, Y_train)\n",
    "#clf_xgb.save_model('./BlackBoxes/fico_xgboost')"
   ]
  },
  {
   "cell_type": "code",
   "execution_count": 6,
   "id": "88a554fb",
   "metadata": {},
   "outputs": [
    {
     "name": "stdout",
     "output_type": "stream",
     "text": [
      "train acc: 0.8822605965463108\n",
      "test acc: 0.7045191193511008\n"
     ]
    }
   ],
   "source": [
    "clf_xgb.load_model('./BlackBoxes/fico_xgboost')\n",
    "y_train_pred = clf_xgb.predict(X_train)\n",
    "y_test_pred = clf_xgb.predict(X_test)\n",
    "print('train acc:',np.mean(np.round(y_train_pred)==Y_train))\n",
    "print('test acc:',np.mean(np.round(y_test_pred)==Y_test))\n"
   ]
  },
  {
   "cell_type": "markdown",
   "id": "0f19cee3",
   "metadata": {},
   "source": [
    "### Random Forest"
   ]
  },
  {
   "cell_type": "code",
   "execution_count": 7,
   "id": "9f3ba240",
   "metadata": {},
   "outputs": [],
   "source": [
    "#from sklearn.ensemble import RandomForestClassifier\n",
    "\n",
    "#clf_rf = RandomForestClassifier(random_state=random_seed)\n",
    "#clf_rf.fit(X_train, Y_train)\n",
    "\n",
    "#pickle.dump(clf_rf,open('./BlackBoxes/fico_rf.p','wb'))"
   ]
  },
  {
   "cell_type": "code",
   "execution_count": 8,
   "id": "69ed034f",
   "metadata": {},
   "outputs": [
    {
     "name": "stdout",
     "output_type": "stream",
     "text": [
      "train acc: 0.977022977022977\n",
      "test acc: 0.7117612977983777\n"
     ]
    }
   ],
   "source": [
    "clf_rf = pickle.load(open('./BlackBoxes/fico_rf.p','rb'))\n",
    "y_train_pred = clf_rf.predict(X_train)\n",
    "y_test_pred = clf_rf.predict(X_test)\n",
    "print('train acc:',np.mean(np.round(y_train_pred)==Y_train))\n",
    "print('test acc:',np.mean(np.round(y_test_pred)==Y_test))\n"
   ]
  },
  {
   "cell_type": "markdown",
   "id": "eff7cc32",
   "metadata": {},
   "source": [
    "### SVC"
   ]
  },
  {
   "cell_type": "code",
   "execution_count": 9,
   "id": "3e99161b",
   "metadata": {},
   "outputs": [],
   "source": [
    "#from sklearn.svm import SVC\n",
    "#clf_svc = SVC(gamma='auto', probability=True)\n",
    "#clf_svc.fit(X_train, Y_train)\n",
    "\n",
    "#pickle.dump(clf_svc,open('./BlackBoxes/fico_svc.p','wb'))"
   ]
  },
  {
   "cell_type": "code",
   "execution_count": 10,
   "id": "0349b957",
   "metadata": {},
   "outputs": [
    {
     "name": "stdout",
     "output_type": "stream",
     "text": [
      "train acc: 0.7285571571285857\n",
      "test acc: 0.7111819235225956\n"
     ]
    }
   ],
   "source": [
    "clf_svc = pickle.load(open('./BlackBoxes/fico_svc.p','rb'))\n",
    "y_train_pred = clf_svc.predict(X_train)\n",
    "y_test_pred = clf_svc.predict(X_test)\n",
    "print('train acc:',np.mean(np.round(y_train_pred)==Y_train))\n",
    "print('test acc:',np.mean(np.round(y_test_pred)==Y_test))"
   ]
  },
  {
   "cell_type": "markdown",
   "id": "49f0d7d5",
   "metadata": {},
   "source": [
    "### NN tf"
   ]
  },
  {
   "cell_type": "code",
   "execution_count": 11,
   "id": "ec7c867f",
   "metadata": {},
   "outputs": [],
   "source": [
    "import tensorflow as tf\n",
    "from tensorflow import keras\n",
    "from tensorflow.keras.callbacks import EarlyStopping\n",
    "\n",
    "BATCH_SIZE = 1024\n",
    "train_dataset = tf.data.Dataset.from_tensor_slices((X_train, Y_train)).shuffle(2048).batch(BATCH_SIZE)\n",
    "test_dataset = tf.data.Dataset.from_tensor_slices((X_test, Y_test)).batch(BATCH_SIZE)\n",
    "\n",
    "clf_nn = keras.Sequential([\n",
    "    keras.layers.Dense(units=10, activation='relu'),\n",
    "    keras.layers.Dense(units=5, activation='relu'),\n",
    "    keras.layers.Dense(units=1, activation='sigmoid'),\n",
    "])\n",
    "\n",
    "early_stopping = EarlyStopping(patience=5)\n",
    "\n",
    "clf_nn.compile(optimizer='adam', \n",
    "              loss='binary_crossentropy',\n",
    "              metrics=['accuracy'])\n",
    "\n",
    "#history = clf_nn.fit(\n",
    "#    train_dataset,\n",
    "#    validation_data=test_dataset,\n",
    "#    epochs=500,\n",
    "#    callbacks=[early_stopping],\n",
    "#    verbose=0\n",
    "#)\n",
    "\n",
    "def plot_metric(history, metric):\n",
    "    train_metrics = history.history[metric]\n",
    "    val_metrics = history.history['val_'+metric]\n",
    "    epochs = range(1, len(train_metrics) + 1)\n",
    "    plt.plot(epochs, train_metrics)\n",
    "    plt.plot(epochs, val_metrics)\n",
    "    plt.title('Training and validation '+ metric)\n",
    "    plt.xlabel(\"Epochs\")\n",
    "    plt.ylabel(metric)\n",
    "    plt.grid()\n",
    "    plt.legend([\"train_\"+metric, 'val_'+metric])\n",
    "    plt.show()\n",
    "\n",
    "#plot_metric(history, 'loss')\n",
    "#clf_nn.save_weights('./blackboxes/fico_tf_nn')"
   ]
  },
  {
   "cell_type": "code",
   "execution_count": 12,
   "id": "b4be9abf",
   "metadata": {},
   "outputs": [
    {
     "name": "stdout",
     "output_type": "stream",
     "text": [
      "0.7278435849864421\n",
      "0.7103128621089224\n"
     ]
    },
    {
     "name": "stderr",
     "output_type": "stream",
     "text": [
      "2022-03-24 11:07:47.561352: I tensorflow/core/platform/cpu_feature_guard.cc:142] This TensorFlow binary is optimized with oneAPI Deep Neural Network Library (oneDNN) to use the following CPU instructions in performance-critical operations:  SSE4.2\n",
      "To enable them in other operations, rebuild TensorFlow with the appropriate compiler flags.\n",
      "2022-03-24 11:07:47.574526: I tensorflow/compiler/mlir/mlir_graph_optimization_pass.cc:258] None of the MLIR optimization passes are enabled (registered 0 passes)\n"
     ]
    }
   ],
   "source": [
    "from sklearn.metrics import accuracy_score\n",
    "clf_nn.load_weights('./blackboxes/fico_tf_nn')\n",
    "clf_nn.trainable = False\n",
    "print(accuracy_score(np.round(clf_nn.predict(X_train)),Y_train))\n",
    "print(accuracy_score(np.round(clf_nn.predict(X_test)),Y_test))"
   ]
  },
  {
   "cell_type": "markdown",
   "id": "0c8d9918",
   "metadata": {},
   "source": [
    "### NN pt"
   ]
  },
  {
   "cell_type": "code",
   "execution_count": 13,
   "id": "1bb484bb",
   "metadata": {},
   "outputs": [],
   "source": [
    "#import torch.nn as nn\n",
    "#import torch.nn.functional as F\n",
    "#from torch.utils.data import TensorDataset, DataLoader\n",
    "#import pytorch_lightning as pl\n",
    "#\n",
    "#class DataModule(pl.LightningDataModule):\n",
    "#    def __init__(self, batch_size, X_train, Y_train, X_test, Y_test):\n",
    "#        self.batch_size = batch_size\n",
    "#        self.X_train = X_train\n",
    "#        self.Y_train = Y_train\n",
    "#        self.X_test = X_test\n",
    "#        self.Y_test = Y_test\n",
    "#\n",
    "#    def train_dataloader(self):\n",
    "#        train_dataset = TensorDataset(torch.tensor(self.X_train).float(),torch.tensor(self.Y_train,dtype=torch.long).float())\n",
    "#        return DataLoader(train_dataset, batch_size=self.batch_size, shuffle=True) \n",
    "#\n",
    "#    def val_dataloader(self):\n",
    "#        val_dataset = TensorDataset(torch.tensor(self.X_test).float(),torch.tensor(self.Y_test,dtype=torch.long).float())\n",
    "#        return DataLoader(val_dataset, batch_size=self.batch_size, shuffle=False) \n",
    "#\n",
    "#class Lit_Dense_Network(pl.LightningModule):\n",
    "#    def __init__(self):\n",
    "#        super().__init__()\n",
    "#        self.fc1 = nn.Linear(23, 10)\n",
    "#        self.b1 = nn.BatchNorm1d(10)\n",
    "#        self.fc2 = nn.Linear(10, 5)\n",
    "#        self.b2 = nn.BatchNorm1d(5)\n",
    "#        self.fc3 = nn.Linear(5,1)\n",
    "#\n",
    "#    def forward(self, x):\n",
    "#        if len(x.shape)==1:\n",
    "#            x = torch.reshape(x,[1,x.shape[0]])\n",
    "#        x = F.relu(self.fc1(x))\n",
    "#        x = self.b1(x)\n",
    "#        x = F.relu(self.fc2(x))\n",
    "#        x = self.b2(x)\n",
    "#        x = F.sigmoid(self.fc3(x))\n",
    "#        return x\n",
    "#        \n",
    "#    def training_step(self, batch, batch_idx):\n",
    "#        x, y = batch\n",
    "#        y_pred = self.forward(x)\n",
    "#        loss = F.binary_cross_entropy(y_pred, y)\n",
    "#        self.log('train_loss', loss)\n",
    "#        return loss\n",
    "#\n",
    "#    def validation_step(self, batch, batch_idx):\n",
    "#        x, y = batch\n",
    "#        y_pred = self.forward(x)\n",
    "#        loss = F.binary_cross_entropy(y_pred, y)\n",
    "#        self.log('val_loss', loss)\n",
    "#        return loss\n",
    "#\n",
    "#    def configure_optimizers(self):\n",
    "#        optimizer = torch.optim.Adam(self.parameters(), lr=1e-3)\n",
    "#        return optimizer"
   ]
  },
  {
   "cell_type": "code",
   "execution_count": 14,
   "id": "39574871",
   "metadata": {},
   "outputs": [],
   "source": [
    "#from pytorch_lightning.callbacks.early_stopping import EarlyStopping\n",
    "#from pytorch_lightning.callbacks.progress import TQDMProgressBar\n",
    "#from pytorch_lightning.loggers import TensorBoardLogger\n",
    "#\n",
    "#net = Lit_Dense_Network()\n",
    "#BATCH_SIZE = 1024\n",
    "#dm = DataModule(BATCH_SIZE, X_train, Y_train.reshape(-1,1), X_test, Y_test.reshape(-1,1))\n",
    "#bar = TQDMProgressBar(refresh_rate=20)\n",
    "#es = EarlyStopping(monitor=\"val_loss\", mode=\"min\", patience=5)\n",
    "#logger = TensorBoardLogger(\"lightning_logs\", name=\"FICO_model\", version=1)\n",
    "#trainer = pl.Trainer(callbacks=[bar, es], \n",
    "#                     max_epochs=100, \n",
    "#                     log_every_n_steps=10, \n",
    "#                     logger=logger, \n",
    "#                     enable_checkpointing=False)\n",
    "#\n",
    "#trainer.fit(net, dm)\n",
    "##trainer.save_checkpoint(\"fico_black_box.ckpt\")"
   ]
  },
  {
   "cell_type": "code",
   "execution_count": 15,
   "id": "bbe32960",
   "metadata": {},
   "outputs": [],
   "source": [
    "#clf_pt = Lit_Dense_Network()\n",
    "#clf_pt.eval()\n",
    "#clf_pt = clf_pt.load_from_checkpoint(checkpoint_path=\"./BlackBoxes/fico_pt_nn.ckpt\")"
   ]
  },
  {
   "cell_type": "code",
   "execution_count": 16,
   "id": "4187864b",
   "metadata": {},
   "outputs": [],
   "source": [
    "#from sklearn.metrics import accuracy_score\n",
    "#\n",
    "#print(accuracy_score(np.round(clf_pt(torch.tensor(X_train).float()).detach().numpy()),Y_train))\n",
    "#print(accuracy_score(np.round(clf_pt(torch.tensor(X_test).float()).detach().numpy()),Y_test))"
   ]
  },
  {
   "cell_type": "markdown",
   "id": "8ae72522",
   "metadata": {},
   "source": [
    "### Predict Functions"
   ]
  },
  {
   "cell_type": "code",
   "execution_count": 17,
   "id": "899eec65",
   "metadata": {},
   "outputs": [],
   "source": [
    "def predict_clf_xgboost(x, return_proba=False):\n",
    "    if return_proba:\n",
    "        return clf_xgb.predict_proba(x)[:,1].ravel()\n",
    "    else: return clf_xgb.predict(x).ravel().ravel()\n",
    "\n",
    "def predict_clf_rf(x, return_proba=False):\n",
    "    if return_proba:\n",
    "        return clf_rf.predict_proba(x)[:,1].ravel()\n",
    "    else: return clf_rf.predict(x).ravel().ravel()\n",
    "\n",
    "def predict_clf_svc(x, return_proba=False):\n",
    "    if return_proba:\n",
    "        return clf_svc.predict_proba(x)[:,1].ravel()\n",
    "    else: return clf_svc.predict(x).ravel().ravel()\n",
    "\n",
    "def predict_clf_nn(x, return_proba=False):\n",
    "    if return_proba:\n",
    "        return clf_nn.predict(x).ravel()\n",
    "    else: return np.round(clf_nn.predict(x).ravel()).astype(int).ravel()"
   ]
  },
  {
   "cell_type": "code",
   "execution_count": null,
   "id": "e6fa4a0a",
   "metadata": {},
   "outputs": [],
   "source": []
  },
  {
   "cell_type": "markdown",
   "id": "238208a9",
   "metadata": {},
   "source": [
    "# Latent Space"
   ]
  },
  {
   "cell_type": "code",
   "execution_count": 18,
   "id": "da08fb29",
   "metadata": {},
   "outputs": [],
   "source": [
    "y_test_pred = predict_clf_nn(X_test, return_proba=True)\n",
    "y_train_pred = predict_clf_nn(X_train, return_proba=True)\n",
    "X_train = np.hstack((X_train,y_train_pred.reshape(-1,1)))\n",
    "X_test = np.hstack((X_test,y_test_pred.reshape(-1,1)))"
   ]
  },
  {
   "cell_type": "code",
   "execution_count": 23,
   "id": "f5907d6b",
   "metadata": {},
   "outputs": [],
   "source": [
    "import torch.nn as nn\n",
    "import torch.nn.functional as F\n",
    "from torch.utils.data import TensorDataset, DataLoader\n",
    "\n",
    "latent_dim = 7\n",
    "batch_size = 512\n",
    "sigma = 1\n",
    "max_epochs = 1000\n",
    "early_stopping = 3\n",
    "learning_rate = 1e-3\n",
    "\n",
    "similarity_KLD = torch.nn.KLDivLoss(reduction='batchmean')\n",
    "\n",
    "def compute_similarity(X, sigma, idx_cat=None, alpha=1):\n",
    "    D_features = torch.cdist(X[:,:-1],X[:,:-1])\n",
    "    D_class = torch.cdist(X[:,-1].reshape(-1,1),X[:,-1].reshape(-1,1))\n",
    "    D = D_features + alpha * D_class\n",
    "    M = torch.exp((-D**2)/(2*sigma**2))\n",
    "    return M / (torch.ones([M.shape[0],M.shape[1]])*(torch.sum(M, axis = 0)-1)).transpose(0,1)\n",
    "\n",
    "def loss_function(X, Z, sigma=1, idx_cat=None ):\n",
    "    Sx = compute_similarity(X, sigma, idx_cat, alpha=2)\n",
    "    Sz = compute_similarity(Z, sigma=1, alpha=2)\n",
    "    loss = similarity_KLD(torch.log(Sx), Sz)\n",
    "    return loss\n",
    "\n",
    "class LinearModel(nn.Module):\n",
    "    def __init__(self, input_shape, latent_dim=2):\n",
    "        super(LinearModel, self).__init__()\n",
    "\n",
    "        # encoding components\n",
    "        self.fc1 = nn.Linear(input_shape, latent_dim)\n",
    "\n",
    "    def encode(self, x):\n",
    "        x = self.fc1(x)\n",
    "        return x\n",
    "\n",
    "    def forward(self, x):\n",
    "        z = self.encode(x)\n",
    "        return z\n",
    "\n",
    "# Create Model\n",
    "model = LinearModel(X_train.shape[1], latent_dim=latent_dim)"
   ]
  },
  {
   "cell_type": "code",
   "execution_count": 24,
   "id": "d8011802",
   "metadata": {},
   "outputs": [
    {
     "data": {
      "application/vnd.jupyter.widget-view+json": {
       "model_id": "6da2d3c386714be7bca3119e077e1260",
       "version_major": 2,
       "version_minor": 0
      },
      "text/plain": [
       "Epoch: 000 Train Sim Loss 0.00000 Test Sim Loss 0.00000 Early Stopping 0"
      ]
     },
     "metadata": {},
     "output_type": "display_data"
    }
   ],
   "source": [
    "train_dataset = TensorDataset(torch.tensor(X_train).float())\n",
    "train_loader = DataLoader(train_dataset, batch_size=batch_size, shuffle=True) \n",
    "test_dataset = TensorDataset(torch.tensor(X_test).float())\n",
    "test_loader = DataLoader(test_dataset, batch_size=batch_size, shuffle=False) \n",
    "\n",
    "def check_and_clear(dir_name):\n",
    "    if not os.path.exists(dir_name):\n",
    "        os.mkdir(dir_name)\n",
    "    else:\n",
    "        os.system('rm -r ' + dir_name)\n",
    "        os.mkdir(dir_name)\n",
    "\n",
    "check_and_clear('./models/weights')\n",
    "\n",
    "model_params = list(model.parameters())\n",
    "optimizer = torch.optim.Adam(model_params, lr=learning_rate)\n",
    "\n",
    "# record training process\n",
    "epoch_train_losses = []\n",
    "epoch_test_losses = []\n",
    "\n",
    "#validation parameters\n",
    "epoch = 1\n",
    "best = np.inf\n",
    "\n",
    "# progress bar\n",
    "pbar = tqdm(bar_format=\"{postfix[0]} {postfix[1][value]:03d} {postfix[2]} {postfix[3][value]:.5f} {postfix[4]} {postfix[5][value]:.5f} {postfix[6]} {postfix[7][value]:d}\",\n",
    "            postfix=[\"Epoch:\", {'value':0}, \"Train Sim Loss\", {'value':0}, \"Test Sim Loss\", {'value':0}, \"Early Stopping\", {\"value\":0}])\n",
    "\n",
    "# start training\n",
    "while epoch <= max_epochs:\n",
    "\n",
    "    # ------- TRAIN ------- #\n",
    "    # set model as training mode\n",
    "    model.train()\n",
    "    batch_loss = []\n",
    "\n",
    "    for batch, (X_batch,) in enumerate(train_loader):\n",
    "        optimizer.zero_grad()\n",
    "        Z_batch = model(X_batch)  #\n",
    "        loss  = loss_function(X_batch, Z_batch, sigma) \n",
    "        loss.backward()\n",
    "        optimizer.step()\n",
    "        batch_loss.append(loss.item())\n",
    "\n",
    "    # save result\n",
    "    epoch_train_losses.append(np.mean(batch_loss))\n",
    "    pbar.postfix[3][\"value\"] = np.mean(batch_loss)\n",
    "\n",
    "    # -------- VALIDATION --------\n",
    "\n",
    "    # set model as testing mode\n",
    "    model.eval()\n",
    "    batch_loss = []\n",
    "\n",
    "    with torch.no_grad():\n",
    "        for batch, (X_batch,) in enumerate(test_loader):\n",
    "            Z_batch = model(X_batch)\n",
    "            loss = loss_function(X_batch, Z_batch, sigma)\n",
    "            batch_loss.append(loss.item())\n",
    "\n",
    "    # save information\n",
    "    epoch_test_losses.append(np.mean(batch_loss))\n",
    "    pbar.postfix[5][\"value\"] = np.mean(batch_loss)\n",
    "    pbar.postfix[1][\"value\"] = epoch\n",
    "\n",
    "    if epoch_test_losses[-1] < best:\n",
    "        wait = 0\n",
    "        best = epoch_test_losses[-1]\n",
    "        best_epoch = epoch\n",
    "        torch.save(model.state_dict(), f'./models/weights/LinearTransparent.pt')\n",
    "    else:\n",
    "        wait += 1\n",
    "    pbar.postfix[7][\"value\"] = wait\n",
    "    if wait == early_stopping:\n",
    "        break    \n",
    "    epoch += 1\n",
    "    pbar.update()\n",
    "\n",
    "model.load_state_dict(torch.load(f'./models/weights/LinearTransparent.pt'))\n",
    "with torch.no_grad():\n",
    "    model.eval()\n",
    "    Z_train = model(torch.tensor(X_train).float()).cpu().detach().numpy()\n",
    "    Z_test = model(torch.tensor(X_test).float()).cpu().detach().numpy()\n",
    "\n",
    "torch.save(model.state_dict(), f'./models/fico_nn_{latent_dim}.pt')"
   ]
  },
  {
   "cell_type": "code",
   "execution_count": 25,
   "id": "c7ee12c8",
   "metadata": {},
   "outputs": [],
   "source": [
    "model.load_state_dict(torch.load(f'./models/fico_nn_{latent_dim}.pt'))\n",
    "with torch.no_grad():\n",
    "    model.eval()\n",
    "    Z_train = model(torch.tensor(X_train).float()).cpu().detach().numpy()\n",
    "    Z_test = model(torch.tensor(X_test).float()).cpu().detach().numpy()"
   ]
  },
  {
   "cell_type": "code",
   "execution_count": 26,
   "id": "e3dd6e78",
   "metadata": {},
   "outputs": [],
   "source": [
    "#import math\n",
    "#\n",
    "#p_in = Z_test[idx,:]\n",
    "#m = -2\n",
    "#p_fin = Z_test[idx,:]+m*y_contrib\n",
    "#\n",
    "#eps = 0.1\n",
    "#delta = math.sqrt((eps**2)/2)\n",
    "#\n",
    "#rule_1 = (Z_train[:,0]-(p_in[0]+delta))/(p_fin[0]-p_in[0])<(Z_train[:,1]-(p_in[1]+delta))/(p_fin[1]-p_in[1])\n",
    "#rule_2 = (Z_train[:,0]-(p_in[0]-delta))/(p_fin[0]-p_in[0])>(Z_train[:,1]-(p_in[1]-delta))/(p_fin[1]-p_in[1])\n",
    "#rule_3 = Z_train[:,1]<Z_train[:,0]-p_in[0]+p_in[1]\n",
    "#rule_4 = Z_train[:,1]>Z_train[:,0]-p_fin[0]+p_fin[1]\n",
    "#rule = rule_1*rule_2*rule_3*rule_4\n",
    "#neigh_eps_train = X_train[rule,:]\n",
    "#\n",
    "#plt.scatter(Z_train[rule,0], Z_train[rule,1], c=y_train_pred[rule], cmap='coolwarm')\n",
    "#plt.plot(p_in[0], p_in[1], 'kX', markersize=20)\n",
    "#plt.plot(p_fin[0], p_fin[1], 'mX', markersize=20)\n",
    "#plt.grid()\n",
    "#\n",
    "#rule_1 = (Z_test[:,0]-(p_in[0]+delta))/(p_fin[0]-p_in[0])<(Z_test[:,1]-(p_in[1]+delta))/(p_fin[1]-p_in[1])\n",
    "#rule_2 = (Z_test[:,0]-(p_in[0]-delta))/(p_fin[0]-p_in[0])>(Z_test[:,1]-(p_in[1]-delta))/(p_fin[1]-p_in[1])\n",
    "#rule_3 = Z_test[:,1]<Z_test[:,0]-p_in[0]+p_in[1]\n",
    "#rule_4 = Z_test[:,1]>Z_test[:,0]-p_fin[0]+p_fin[1]\n",
    "#rule = rule_1*rule_2*rule_3*rule_4\n",
    "#neigh_eps_test = X_test[rule,:]\n",
    "#"
   ]
  },
  {
   "cell_type": "code",
   "execution_count": 27,
   "id": "55056cf6",
   "metadata": {},
   "outputs": [],
   "source": [
    "#z_neigh_eps_train = model(torch.tensor(neigh_eps_train).float()).detach().numpy()"
   ]
  },
  {
   "cell_type": "code",
   "execution_count": 28,
   "id": "f9672fd2",
   "metadata": {},
   "outputs": [],
   "source": [
    "#cdist(p_in.reshape(1,-1), z_neigh_eps_train)"
   ]
  },
  {
   "cell_type": "code",
   "execution_count": 29,
   "id": "985ed530",
   "metadata": {},
   "outputs": [],
   "source": [
    "#cdist(p_in.reshape(1,-1), Z_test)"
   ]
  },
  {
   "cell_type": "code",
   "execution_count": 30,
   "id": "85355248",
   "metadata": {},
   "outputs": [],
   "source": [
    "#from sklearn.tree import DecisionTreeClassifier\n",
    "#from sklearn import tree\n",
    "#\n",
    "#clf = DecisionTreeClassifier(max_depth=5, min_samples_leaf=10)\n",
    "#clf.fit(neigh_eps_train[:,:-1],np.round(neigh_eps_train[:,-1]))\n",
    "#plt.figure(figsize=(30,5))\n",
    "#print('train acc:', clf.score(neigh_eps_train[:,:-1], np.round(neigh_eps_train[:,-1])))\n",
    "#print('test acc:', clf.score(neigh_eps_test[:,:-1], np.round(neigh_eps_test[:,-1])))\n",
    "#tree.plot_tree(clf,filled=True,rounded=True);"
   ]
  },
  {
   "cell_type": "code",
   "execution_count": 31,
   "id": "2ecf3644",
   "metadata": {},
   "outputs": [],
   "source": [
    "#q = X_test[idx,:-1].copy()\n",
    "#pd.DataFrame([q], columns = df.columns[1:])"
   ]
  },
  {
   "cell_type": "code",
   "execution_count": 32,
   "id": "f1f16cb6",
   "metadata": {},
   "outputs": [],
   "source": [
    "#print('original:', predict(q.reshape(1,-1),return_proba=True))\n",
    "#q_mod = q.copy()\n",
    "#q_mod[0] = 0.7\n",
    "#q_mod[4] = -0.4\n",
    "#q_mod[22] = 0.4\n",
    "#print('mod:', predict(q_mod.reshape(1,-1),return_proba=True))"
   ]
  },
  {
   "cell_type": "code",
   "execution_count": 33,
   "id": "9611a50e",
   "metadata": {},
   "outputs": [],
   "source": [
    "#q_mod = np.append(q_mod,predict(q_mod.reshape(1,-1)))\n",
    "#z_q_mod = model(torch.tensor(q_mod).float()).detach().numpy()\n",
    "#plt.scatter(Z_train[:,0], Z_train[:,1], c=y_train_pred, cmap='coolwarm')\n",
    "#plt.plot(Z_test[idx,0], Z_test[idx,1], 'kX', markersize=20)\n",
    "#m = -pred-1\n",
    "#plt.plot(Z_test[idx,0]+m*y_contrib[0], Z_test[idx,1]+m*y_contrib[1], 'mX', markersize=20)\n",
    "#plt.plot(z_q_mod[0], z_q_mod[1], 'gX', markersize=20)\n",
    "#plt.grid()"
   ]
  },
  {
   "cell_type": "markdown",
   "id": "988f1395",
   "metadata": {},
   "source": [
    "## Counter Exemplars"
   ]
  },
  {
   "cell_type": "code",
   "execution_count": 55,
   "id": "89ba4775",
   "metadata": {},
   "outputs": [],
   "source": [
    "w = model.fc1.weight.detach().numpy()\n",
    "b = model.fc1.bias.detach().numpy()\n",
    "y_contrib = model.fc1.weight.detach().numpy()[:,-1]"
   ]
  },
  {
   "cell_type": "code",
   "execution_count": 111,
   "id": "05379f16",
   "metadata": {},
   "outputs": [],
   "source": [
    "def compute_cf(q, indexes, debug=False):\n",
    "    q_pred = predict_clf_nn(q[:-1].reshape(1,-1),return_proba=True)\n",
    "    q_cf = q.copy()\n",
    "    q_cf_preds = []\n",
    "    q_cf_preds.append(q_pred)\n",
    "    if q_pred > 0.5:\n",
    "        m = -0.1\n",
    "    else:\n",
    "        m = 0.1\n",
    "    while np.round(q_pred) == np.round(q_cf_preds[-1]):\n",
    "        v = np.array(model(torch.tensor(q_cf).float()).detach().numpy()+m*y_contrib)\n",
    "        c_l = [v[l] - np.sum(q_cf*w[l,:]) - b[l] for l in range(latent_dim)]\n",
    "        M = []\n",
    "        for l in range(latent_dim):\n",
    "            M.append([np.sum(w[k,indexes]*w[l,indexes]) for k in range(latent_dim)])\n",
    "        M = np.vstack(M)\n",
    "        lambda_k = np.linalg.solve(M, c_l)\n",
    "        delta_i = [np.sum(lambda_k*w[:,i]) for i in indexes]\n",
    "        q_cf[indexes] += delta_i\n",
    "        q_cf = np.clip(q_cf,-1,1)\n",
    "        q_cf_new_pred = float(predict_clf_nn(q_cf[:-1].reshape(1,-1),return_proba=True))\n",
    "        if debug:\n",
    "            print(q_cf_new_pred)\n",
    "        if q_cf_new_pred in q_cf_preds:\n",
    "            return q_cf\n",
    "        q_cf_preds.append(q_cf_new_pred)\n",
    "        q_cf[-1] = q_cf_preds[-1]\n",
    "\n",
    "\n",
    "    return q_cf"
   ]
  },
  {
   "cell_type": "code",
   "execution_count": 112,
   "id": "52598d40",
   "metadata": {},
   "outputs": [
    {
     "name": "stdout",
     "output_type": "stream",
     "text": [
      "[0.58730996]\n",
      "0.5739080905914307\n",
      "0.581221342086792\n",
      "0.5896790027618408\n",
      "0.6007351279258728\n",
      "0.6145113110542297\n",
      "0.6235249638557434\n",
      "0.6288937926292419\n",
      "0.6342309713363647\n",
      "0.6108070611953735\n",
      "0.4887007772922516\n"
     ]
    }
   ],
   "source": [
    "idx = 3\n",
    "q = X_test[idx,:].copy()\n",
    "print(predict_clf_nn(q[:-1].reshape(1,-1),return_proba=True))\n",
    "#for i in [1,2,21,22,23]:\n",
    "#    for indexes in  list(combinations(range(23),i)):\n",
    "#        print(indexes)\n",
    "q_cf = compute_cf(q, list(range(23)), True)\n",
    "#q_cf[-1] = predict_clf_nn(q_cf[:-1].reshape(1,-1),return_proba=True) \n",
    "#print(predict_clf_nn(q_cf[:-1].reshape(1,-1),return_proba=True))\n",
    "#pd.DataFrame([q[:-1],q_cf[:-1]], columns = df.columns[1:])"
   ]
  },
  {
   "cell_type": "code",
   "execution_count": 113,
   "id": "63344a56",
   "metadata": {},
   "outputs": [
    {
     "data": {
      "application/vnd.jupyter.widget-view+json": {
       "model_id": "224551c9a10a49c2968900e602ccbbff",
       "version_major": 2,
       "version_minor": 0
      },
      "text/plain": [
       "  0%|          | 0/10 [00:00<?, ?it/s]"
      ]
     },
     "metadata": {},
     "output_type": "display_data"
    }
   ],
   "source": [
    "from itertools import combinations\n",
    "from tqdm.notebook import tqdm\n",
    "\n",
    "d_dist = []\n",
    "d_count = []\n",
    "d_impl = []\n",
    "num = []\n",
    "div_dist = []\n",
    "div_count = []\n",
    "\n",
    "for idx in tqdm(range(10)):\n",
    "    q = X_test[idx,:].copy()\n",
    "    q_pred = np.round(predict_clf_nn(q[:-1].reshape(1,-1),return_proba=True))\n",
    "    q_cfs = []\n",
    "    for i in [1,2,21,22,23]:\n",
    "        for indexes in  list(combinations(range(23),i)):    \n",
    "            q_cf = compute_cf(q, list(indexes))\n",
    "            q_cf_pred = predict_clf_nn(q_cf[:-1].reshape(1,-1),return_proba=True)\n",
    "            if q_pred:\n",
    "                if q_cf_pred < 0.5:\n",
    "                    q_cfs.append(q_cf)\n",
    "            else:\n",
    "                if q_cf_pred > 0.5:\n",
    "                    q_cfs.append(q_cf)\n",
    "    if len(q_cfs)<1:\n",
    "        continue\n",
    "    else:\n",
    "        q_cfs = np.vstack(q_cfs)\n",
    "        d_dist.append(np.min(cdist(q_cfs[:,:-1],q[:-1].reshape(1,-1))))\n",
    "        d_impl.append(np.min(cdist(q_cfs[:,:-1],X_train[:,:-1])))\n",
    "        #d_count.append(1/((q_cfs.shape[1]-1)*q_cfs.shape[0])*np.sum(q_cfs[:,:-1]!=q[:-1]))\n",
    "        d_count.append(np.min(np.sum(q_cfs[:,:-1]!=q[:-1],axis=1)))\n",
    "        num.append(len(q_cfs))\n",
    "        div_dist.append(1/(q_cfs.shape[0]**2)*np.sum(cdist(q_cfs[:,:-1],q_cfs[:,:-1])))\n",
    "        div_count.append(23/(q_cfs.shape[0]**2)*np.sum(cdist(q_cfs[:,:-1], q_cfs[:,:-1],metric='hamming')))\n",
    "\n"
   ]
  },
  {
   "cell_type": "code",
   "execution_count": 114,
   "id": "3ebf93df",
   "metadata": {},
   "outputs": [
    {
     "name": "stdout",
     "output_type": "stream",
     "text": [
      "d_dist: \t 0.68979 0.78896\n",
      "d_count: \t 1.7 2.1\n",
      "implicity: \t 0.60548 0.49881\n",
      "number: \t 348.4 \t 51.65888\n",
      "div_dist: \t 0.89605 0.31375\n",
      "div_count: \t 19.50946 2.4938\n",
      "success_rate: \t 1.0\n"
     ]
    }
   ],
   "source": [
    "print('d_dist: \\t',    np.round(np.mean(d_dist),5),   np.round(np.std(d_dist),5))\n",
    "print('d_count: \\t',   np.round(np.mean(d_count),5),  np.round(np.std(d_count),5))\n",
    "print('implicity: \\t', np.round(np.mean(d_impl),5),   np.round(np.std(d_impl),5))\n",
    "print('number: \\t',    np.round(np.mean(num),5),'\\t', np.round(np.std(num),5))\n",
    "print('div_dist: \\t',  np.round(np.mean(div_dist),5), np.round(np.std(div_dist),5))\n",
    "print('div_count: \\t', np.round(np.mean(div_count),5),np.round(np.std(div_count),5))\n",
    "\n",
    "print('success_rate: \\t', len(d_dist)/10)"
   ]
  },
  {
   "cell_type": "markdown",
   "id": "cfb6304e",
   "metadata": {},
   "source": [
    "# Growing Spheres"
   ]
  },
  {
   "cell_type": "code",
   "execution_count": 99,
   "id": "7404bd22",
   "metadata": {},
   "outputs": [
    {
     "name": "stdout",
     "output_type": "stream",
     "text": [
      "0\n",
      "1 ennemies found in initial sphere. Zooming in...\n",
      "0 ennemies found in initial sphere. Zooming in...\n",
      "Exploring...\n",
      "Final number of iterations:  50\n",
      "Final radius:  (0.08919999999999999, 0.09099999999999998)\n",
      "Final number of ennemies:  1\n",
      "Feature selection...\n",
      "Reduced 17 coordinates\n",
      "[1]\n"
     ]
    }
   ],
   "source": [
    "from growingspheres import counterfactuals as cf\n",
    "\n",
    "idx = 0\n",
    "q = X_test[idx,:-1].reshape(1,-1).copy()\n",
    "pred = int(predict_clf_nn(q))\n",
    "print(pred)\n",
    "\n",
    "CF = cf.CounterfactualExplanation(q, predict_clf_nn, method='GS')\n",
    "CF.fit(n_in_layer=2000, first_radius=0.1, dicrease_radius=10, sparse=True, verbose=True)\n",
    "q_cf_GS = CF.enemy\n",
    "print(predict_clf_nn(q_cf_GS.reshape(1,-1)))"
   ]
  },
  {
   "cell_type": "code",
   "execution_count": 100,
   "id": "71e2f496",
   "metadata": {},
   "outputs": [
    {
     "data": {
      "text/html": [
       "<div>\n",
       "<style scoped>\n",
       "    .dataframe tbody tr th:only-of-type {\n",
       "        vertical-align: middle;\n",
       "    }\n",
       "\n",
       "    .dataframe tbody tr th {\n",
       "        vertical-align: top;\n",
       "    }\n",
       "\n",
       "    .dataframe thead th {\n",
       "        text-align: right;\n",
       "    }\n",
       "</style>\n",
       "<table border=\"1\" class=\"dataframe\">\n",
       "  <thead>\n",
       "    <tr style=\"text-align: right;\">\n",
       "      <th></th>\n",
       "      <th>RiskPerformance</th>\n",
       "      <th>ExternalRiskEstimate</th>\n",
       "      <th>MSinceOldestTradeOpen</th>\n",
       "      <th>MSinceMostRecentTradeOpen</th>\n",
       "      <th>AverageMInFile</th>\n",
       "      <th>NumSatisfactoryTrades</th>\n",
       "      <th>NumTrades60Ever2DerogPubRec</th>\n",
       "      <th>NumTrades90Ever2DerogPubRec</th>\n",
       "      <th>PercentTradesNeverDelq</th>\n",
       "      <th>MSinceMostRecentDelq</th>\n",
       "      <th>MaxDelq2PublicRecLast12M</th>\n",
       "      <th>MaxDelqEver</th>\n",
       "      <th>NumTotalTrades</th>\n",
       "      <th>NumTradesOpeninLast12M</th>\n",
       "      <th>PercentInstallTrades</th>\n",
       "      <th>MSinceMostRecentInqexcl7days</th>\n",
       "      <th>NumInqLast6M</th>\n",
       "      <th>NumInqLast6Mexcl7days</th>\n",
       "      <th>NetFractionRevolvingBurden</th>\n",
       "      <th>NetFractionInstallBurden</th>\n",
       "      <th>NumRevolvingTradesWBalance</th>\n",
       "      <th>NumInstallTradesWBalance</th>\n",
       "      <th>NumBank2NatlTradesWHighUtilization</th>\n",
       "    </tr>\n",
       "  </thead>\n",
       "  <tbody>\n",
       "    <tr>\n",
       "      <th>0</th>\n",
       "      <td>0.514563</td>\n",
       "      <td>-0.6133</td>\n",
       "      <td>-0.933673</td>\n",
       "      <td>-0.617347</td>\n",
       "      <td>0.136364</td>\n",
       "      <td>-0.357143</td>\n",
       "      <td>-0.357143</td>\n",
       "      <td>1.000000</td>\n",
       "      <td>-0.956522</td>\n",
       "      <td>0.777778</td>\n",
       "      <td>1.0</td>\n",
       "      <td>-0.115044</td>\n",
       "      <td>-0.071429</td>\n",
       "      <td>-0.651376</td>\n",
       "      <td>-0.878788</td>\n",
       "      <td>-0.733333</td>\n",
       "      <td>-0.733333</td>\n",
       "      <td>-0.659751</td>\n",
       "      <td>-0.7125</td>\n",
       "      <td>-0.219512</td>\n",
       "      <td>-0.25</td>\n",
       "      <td>-0.259259</td>\n",
       "      <td>0.082569</td>\n",
       "    </tr>\n",
       "    <tr>\n",
       "      <th>1</th>\n",
       "      <td>0.483616</td>\n",
       "      <td>-0.6133</td>\n",
       "      <td>-0.933673</td>\n",
       "      <td>-0.637759</td>\n",
       "      <td>0.101557</td>\n",
       "      <td>-0.357143</td>\n",
       "      <td>-0.357143</td>\n",
       "      <td>0.980184</td>\n",
       "      <td>-0.956522</td>\n",
       "      <td>0.777778</td>\n",
       "      <td>1.0</td>\n",
       "      <td>-0.115044</td>\n",
       "      <td>-0.071429</td>\n",
       "      <td>-0.651376</td>\n",
       "      <td>-0.878788</td>\n",
       "      <td>-0.683572</td>\n",
       "      <td>-0.733333</td>\n",
       "      <td>-0.640371</td>\n",
       "      <td>-0.7125</td>\n",
       "      <td>-0.219512</td>\n",
       "      <td>-0.25</td>\n",
       "      <td>-0.259259</td>\n",
       "      <td>0.082569</td>\n",
       "    </tr>\n",
       "  </tbody>\n",
       "</table>\n",
       "</div>"
      ],
      "text/plain": [
       "   RiskPerformance  ExternalRiskEstimate  MSinceOldestTradeOpen  \\\n",
       "0         0.514563               -0.6133              -0.933673   \n",
       "1         0.483616               -0.6133              -0.933673   \n",
       "\n",
       "   MSinceMostRecentTradeOpen  AverageMInFile  NumSatisfactoryTrades  \\\n",
       "0                  -0.617347        0.136364              -0.357143   \n",
       "1                  -0.637759        0.101557              -0.357143   \n",
       "\n",
       "   NumTrades60Ever2DerogPubRec  NumTrades90Ever2DerogPubRec  \\\n",
       "0                    -0.357143                     1.000000   \n",
       "1                    -0.357143                     0.980184   \n",
       "\n",
       "   PercentTradesNeverDelq  MSinceMostRecentDelq  MaxDelq2PublicRecLast12M  \\\n",
       "0               -0.956522              0.777778                       1.0   \n",
       "1               -0.956522              0.777778                       1.0   \n",
       "\n",
       "   MaxDelqEver  NumTotalTrades  NumTradesOpeninLast12M  PercentInstallTrades  \\\n",
       "0    -0.115044       -0.071429               -0.651376             -0.878788   \n",
       "1    -0.115044       -0.071429               -0.651376             -0.878788   \n",
       "\n",
       "   MSinceMostRecentInqexcl7days  NumInqLast6M  NumInqLast6Mexcl7days  \\\n",
       "0                     -0.733333     -0.733333              -0.659751   \n",
       "1                     -0.683572     -0.733333              -0.640371   \n",
       "\n",
       "   NetFractionRevolvingBurden  NetFractionInstallBurden  \\\n",
       "0                     -0.7125                 -0.219512   \n",
       "1                     -0.7125                 -0.219512   \n",
       "\n",
       "   NumRevolvingTradesWBalance  NumInstallTradesWBalance  \\\n",
       "0                       -0.25                 -0.259259   \n",
       "1                       -0.25                 -0.259259   \n",
       "\n",
       "   NumBank2NatlTradesWHighUtilization  \n",
       "0                            0.082569  \n",
       "1                            0.082569  "
      ]
     },
     "execution_count": 100,
     "metadata": {},
     "output_type": "execute_result"
    }
   ],
   "source": [
    "pd.DataFrame(np.vstack([q,q_cf_GS.reshape(1,-1)]), columns = df.columns[:-1])"
   ]
  },
  {
   "cell_type": "code",
   "execution_count": 108,
   "id": "3e179aee",
   "metadata": {},
   "outputs": [
    {
     "name": "stdout",
     "output_type": "stream",
     "text": [
      "d_dist: 0.07635681600610537\n",
      "d_count: 0.2608695652173913\n",
      "impl: 0.4730768272887335\n"
     ]
    }
   ],
   "source": [
    "print('d_dist:',np.min(cdist(q_cf_GS.reshape(1,-1),q.reshape(1,-1))))\n",
    "print('d_count:',1/(q_cf_GS.shape[0])*np.sum(q_cf_GS!=q))\n",
    "print('impl:',np.min(cdist(q_cf_GS.reshape(1,-1),X_train[:,:-1])))"
   ]
  },
  {
   "cell_type": "code",
   "execution_count": 110,
   "id": "df8a37ec",
   "metadata": {},
   "outputs": [
    {
     "data": {
      "application/vnd.jupyter.widget-view+json": {
       "model_id": "8bbd11718faf4316933c87374aef4ecf",
       "version_major": 2,
       "version_minor": 0
      },
      "text/plain": [
       "  0%|          | 0/10 [00:00<?, ?it/s]"
      ]
     },
     "metadata": {},
     "output_type": "display_data"
    }
   ],
   "source": [
    "d_dist_GS = []\n",
    "d_count_GS = []\n",
    "d_impl_GS = []\n",
    "\n",
    "for idx in tqdm(range(10)):\n",
    "    q = X_test[idx,:-1].reshape(1,-1).copy()\n",
    "    CF = cf.CounterfactualExplanation(q, predict_clf_nn, method='GS')\n",
    "    CF.fit(n_in_layer=2000, first_radius=0.1, dicrease_radius=10, sparse=True, verbose=False)\n",
    "    q_cf_GS = CF.enemy\n",
    "    d_dist_GS.append(euclidean(q_cf_GS,q))\n",
    "    d_count.append(1/(q_cf_GS.shape[0])*np.sum(q_cf_GS!=q))\n",
    "    d_impl_GS.append(np.min(cdist(q_cf_GS.reshape(1,-1),X_train[:,:-1])))"
   ]
  },
  {
   "cell_type": "code",
   "execution_count": 111,
   "id": "4a7f11d4",
   "metadata": {},
   "outputs": [
    {
     "name": "stdout",
     "output_type": "stream",
     "text": [
      "d_dist: \t 0.44098 0.28471\n",
      "d_count: \t 0.5448 0.14465\n",
      "implicity: \t 0.47295 0.17419\n"
     ]
    }
   ],
   "source": [
    "print('d_dist: \\t',    np.round(np.mean(d_dist),5),   np.round(np.std(d_dist),5))\n",
    "print('d_count: \\t',   np.round(np.mean(d_count),5),  np.round(np.std(d_count),5))\n",
    "print('implicity: \\t', np.round(np.mean(d_impl),5),   np.round(np.std(d_impl),5))"
   ]
  },
  {
   "cell_type": "markdown",
   "id": "4d46bfb1",
   "metadata": {},
   "source": [
    "# DICE"
   ]
  },
  {
   "cell_type": "code",
   "execution_count": 18,
   "id": "39428fb7",
   "metadata": {},
   "outputs": [],
   "source": [
    "import dice_ml\n",
    "\n",
    "dataset = pd.DataFrame(np.hstack((Y_train.reshape(-1,1),X_train)), columns=list(df.columns))\n",
    "d = dice_ml.Data(dataframe=dataset, continuous_features=list(dataset.columns[1:]), outcome_name='RiskPerformance')"
   ]
  },
  {
   "cell_type": "code",
   "execution_count": 19,
   "id": "1000d94d",
   "metadata": {},
   "outputs": [
    {
     "data": {
      "text/html": [
       "<div>\n",
       "<style scoped>\n",
       "    .dataframe tbody tr th:only-of-type {\n",
       "        vertical-align: middle;\n",
       "    }\n",
       "\n",
       "    .dataframe tbody tr th {\n",
       "        vertical-align: top;\n",
       "    }\n",
       "\n",
       "    .dataframe thead th {\n",
       "        text-align: right;\n",
       "    }\n",
       "</style>\n",
       "<table border=\"1\" class=\"dataframe\">\n",
       "  <thead>\n",
       "    <tr style=\"text-align: right;\">\n",
       "      <th></th>\n",
       "      <th>RiskPerformance</th>\n",
       "      <th>ExternalRiskEstimate</th>\n",
       "      <th>MSinceOldestTradeOpen</th>\n",
       "      <th>MSinceMostRecentTradeOpen</th>\n",
       "      <th>AverageMInFile</th>\n",
       "      <th>NumSatisfactoryTrades</th>\n",
       "      <th>NumTrades60Ever2DerogPubRec</th>\n",
       "      <th>NumTrades90Ever2DerogPubRec</th>\n",
       "      <th>PercentTradesNeverDelq</th>\n",
       "      <th>MSinceMostRecentDelq</th>\n",
       "      <th>MaxDelq2PublicRecLast12M</th>\n",
       "      <th>MaxDelqEver</th>\n",
       "      <th>NumTotalTrades</th>\n",
       "      <th>NumTradesOpeninLast12M</th>\n",
       "      <th>PercentInstallTrades</th>\n",
       "      <th>MSinceMostRecentInqexcl7days</th>\n",
       "      <th>NumInqLast6M</th>\n",
       "      <th>NumInqLast6Mexcl7days</th>\n",
       "      <th>NetFractionRevolvingBurden</th>\n",
       "      <th>NetFractionInstallBurden</th>\n",
       "      <th>NumRevolvingTradesWBalance</th>\n",
       "      <th>NumInstallTradesWBalance</th>\n",
       "      <th>NumBank2NatlTradesWHighUtilization</th>\n",
       "      <th>PercentTradesWBalance</th>\n",
       "    </tr>\n",
       "  </thead>\n",
       "  <tbody>\n",
       "    <tr>\n",
       "      <th>0</th>\n",
       "      <td>1.0</td>\n",
       "      <td>0.533981</td>\n",
       "      <td>-0.600985</td>\n",
       "      <td>-0.918367</td>\n",
       "      <td>-0.551020</td>\n",
       "      <td>-0.068182</td>\n",
       "      <td>-0.357143</td>\n",
       "      <td>-0.357143</td>\n",
       "      <td>0.798165</td>\n",
       "      <td>-0.434783</td>\n",
       "      <td>0.555556</td>\n",
       "      <td>0.764706</td>\n",
       "      <td>-0.203540</td>\n",
       "      <td>-0.142857</td>\n",
       "      <td>-0.174312</td>\n",
       "      <td>-0.454545</td>\n",
       "      <td>-0.706667</td>\n",
       "      <td>-0.733333</td>\n",
       "      <td>-0.286307</td>\n",
       "      <td>-0.650000</td>\n",
       "      <td>-0.219512</td>\n",
       "      <td>-0.3750</td>\n",
       "      <td>-0.259259</td>\n",
       "      <td>0.798165</td>\n",
       "    </tr>\n",
       "    <tr>\n",
       "      <th>1</th>\n",
       "      <td>1.0</td>\n",
       "      <td>0.417476</td>\n",
       "      <td>-0.724138</td>\n",
       "      <td>-0.948980</td>\n",
       "      <td>-0.688776</td>\n",
       "      <td>-0.295455</td>\n",
       "      <td>-0.285714</td>\n",
       "      <td>-0.285714</td>\n",
       "      <td>0.779817</td>\n",
       "      <td>-0.239130</td>\n",
       "      <td>0.666667</td>\n",
       "      <td>0.764706</td>\n",
       "      <td>-0.415929</td>\n",
       "      <td>-0.142857</td>\n",
       "      <td>-0.137615</td>\n",
       "      <td>-0.393939</td>\n",
       "      <td>-0.626667</td>\n",
       "      <td>-0.626667</td>\n",
       "      <td>-0.684647</td>\n",
       "      <td>-0.641667</td>\n",
       "      <td>-0.365854</td>\n",
       "      <td>-0.2500</td>\n",
       "      <td>-0.185185</td>\n",
       "      <td>0.229358</td>\n",
       "    </tr>\n",
       "    <tr>\n",
       "      <th>2</th>\n",
       "      <td>1.0</td>\n",
       "      <td>0.786408</td>\n",
       "      <td>-0.460591</td>\n",
       "      <td>-0.938776</td>\n",
       "      <td>-0.576531</td>\n",
       "      <td>-0.250000</td>\n",
       "      <td>-0.357143</td>\n",
       "      <td>-0.357143</td>\n",
       "      <td>1.000000</td>\n",
       "      <td>-0.956522</td>\n",
       "      <td>0.777778</td>\n",
       "      <td>1.000000</td>\n",
       "      <td>-0.415929</td>\n",
       "      <td>-0.142857</td>\n",
       "      <td>-0.302752</td>\n",
       "      <td>-0.454545</td>\n",
       "      <td>-0.680000</td>\n",
       "      <td>-0.680000</td>\n",
       "      <td>-0.834025</td>\n",
       "      <td>-0.600000</td>\n",
       "      <td>-0.463415</td>\n",
       "      <td>-0.3125</td>\n",
       "      <td>-0.333333</td>\n",
       "      <td>-0.100917</td>\n",
       "    </tr>\n",
       "    <tr>\n",
       "      <th>3</th>\n",
       "      <td>0.0</td>\n",
       "      <td>0.708738</td>\n",
       "      <td>-0.633005</td>\n",
       "      <td>-0.928571</td>\n",
       "      <td>-0.617347</td>\n",
       "      <td>-0.500000</td>\n",
       "      <td>-0.357143</td>\n",
       "      <td>-0.357143</td>\n",
       "      <td>1.000000</td>\n",
       "      <td>-0.956522</td>\n",
       "      <td>0.777778</td>\n",
       "      <td>1.000000</td>\n",
       "      <td>-0.610619</td>\n",
       "      <td>-0.285714</td>\n",
       "      <td>-0.412844</td>\n",
       "      <td>0.636364</td>\n",
       "      <td>-0.760000</td>\n",
       "      <td>-0.760000</td>\n",
       "      <td>-0.618257</td>\n",
       "      <td>-0.579167</td>\n",
       "      <td>-0.512195</td>\n",
       "      <td>-0.3125</td>\n",
       "      <td>-0.259259</td>\n",
       "      <td>0.633028</td>\n",
       "    </tr>\n",
       "    <tr>\n",
       "      <th>4</th>\n",
       "      <td>1.0</td>\n",
       "      <td>0.864078</td>\n",
       "      <td>-0.549261</td>\n",
       "      <td>-0.943878</td>\n",
       "      <td>-0.653061</td>\n",
       "      <td>-0.431818</td>\n",
       "      <td>-0.357143</td>\n",
       "      <td>-0.357143</td>\n",
       "      <td>1.000000</td>\n",
       "      <td>-0.956522</td>\n",
       "      <td>0.777778</td>\n",
       "      <td>1.000000</td>\n",
       "      <td>-0.504425</td>\n",
       "      <td>-0.071429</td>\n",
       "      <td>-0.449541</td>\n",
       "      <td>-0.454545</td>\n",
       "      <td>-0.706667</td>\n",
       "      <td>-0.706667</td>\n",
       "      <td>-0.842324</td>\n",
       "      <td>-0.558333</td>\n",
       "      <td>-0.268293</td>\n",
       "      <td>-0.3125</td>\n",
       "      <td>-0.333333</td>\n",
       "      <td>0.798165</td>\n",
       "    </tr>\n",
       "    <tr>\n",
       "      <th>...</th>\n",
       "      <td>...</td>\n",
       "      <td>...</td>\n",
       "      <td>...</td>\n",
       "      <td>...</td>\n",
       "      <td>...</td>\n",
       "      <td>...</td>\n",
       "      <td>...</td>\n",
       "      <td>...</td>\n",
       "      <td>...</td>\n",
       "      <td>...</td>\n",
       "      <td>...</td>\n",
       "      <td>...</td>\n",
       "      <td>...</td>\n",
       "      <td>...</td>\n",
       "      <td>...</td>\n",
       "      <td>...</td>\n",
       "      <td>...</td>\n",
       "      <td>...</td>\n",
       "      <td>...</td>\n",
       "      <td>...</td>\n",
       "      <td>...</td>\n",
       "      <td>...</td>\n",
       "      <td>...</td>\n",
       "      <td>...</td>\n",
       "    </tr>\n",
       "    <tr>\n",
       "      <th>7002</th>\n",
       "      <td>1.0</td>\n",
       "      <td>0.436893</td>\n",
       "      <td>-0.517241</td>\n",
       "      <td>-0.923469</td>\n",
       "      <td>-0.515306</td>\n",
       "      <td>-0.090909</td>\n",
       "      <td>-0.357143</td>\n",
       "      <td>-0.357143</td>\n",
       "      <td>0.889908</td>\n",
       "      <td>-0.434783</td>\n",
       "      <td>0.666667</td>\n",
       "      <td>0.764706</td>\n",
       "      <td>-0.274336</td>\n",
       "      <td>-0.285714</td>\n",
       "      <td>-0.211009</td>\n",
       "      <td>-0.454545</td>\n",
       "      <td>-0.733333</td>\n",
       "      <td>-0.733333</td>\n",
       "      <td>-0.443983</td>\n",
       "      <td>-0.641667</td>\n",
       "      <td>-0.073171</td>\n",
       "      <td>-0.1875</td>\n",
       "      <td>-0.037037</td>\n",
       "      <td>0.871560</td>\n",
       "    </tr>\n",
       "    <tr>\n",
       "      <th>7003</th>\n",
       "      <td>0.0</td>\n",
       "      <td>0.728155</td>\n",
       "      <td>-0.635468</td>\n",
       "      <td>-0.948980</td>\n",
       "      <td>-0.750000</td>\n",
       "      <td>-0.522727</td>\n",
       "      <td>-0.357143</td>\n",
       "      <td>-0.357143</td>\n",
       "      <td>1.000000</td>\n",
       "      <td>-0.956522</td>\n",
       "      <td>0.777778</td>\n",
       "      <td>1.000000</td>\n",
       "      <td>-0.592920</td>\n",
       "      <td>-0.071429</td>\n",
       "      <td>-0.174312</td>\n",
       "      <td>-0.333333</td>\n",
       "      <td>-0.626667</td>\n",
       "      <td>-0.626667</td>\n",
       "      <td>-0.767635</td>\n",
       "      <td>-0.558333</td>\n",
       "      <td>-0.317073</td>\n",
       "      <td>-0.3125</td>\n",
       "      <td>-0.333333</td>\n",
       "      <td>0.779817</td>\n",
       "    </tr>\n",
       "    <tr>\n",
       "      <th>7004</th>\n",
       "      <td>0.0</td>\n",
       "      <td>0.864078</td>\n",
       "      <td>-0.411330</td>\n",
       "      <td>-0.948980</td>\n",
       "      <td>-0.530612</td>\n",
       "      <td>-0.295455</td>\n",
       "      <td>-0.357143</td>\n",
       "      <td>-0.357143</td>\n",
       "      <td>1.000000</td>\n",
       "      <td>-0.956522</td>\n",
       "      <td>0.777778</td>\n",
       "      <td>1.000000</td>\n",
       "      <td>-0.433628</td>\n",
       "      <td>-0.214286</td>\n",
       "      <td>-0.431193</td>\n",
       "      <td>-0.878788</td>\n",
       "      <td>-0.760000</td>\n",
       "      <td>-0.760000</td>\n",
       "      <td>-0.917012</td>\n",
       "      <td>-0.754167</td>\n",
       "      <td>-0.512195</td>\n",
       "      <td>-0.3125</td>\n",
       "      <td>-0.333333</td>\n",
       "      <td>-0.064220</td>\n",
       "    </tr>\n",
       "    <tr>\n",
       "      <th>7005</th>\n",
       "      <td>1.0</td>\n",
       "      <td>0.495146</td>\n",
       "      <td>-0.652709</td>\n",
       "      <td>-0.933673</td>\n",
       "      <td>-0.704082</td>\n",
       "      <td>-0.431818</td>\n",
       "      <td>-0.285714</td>\n",
       "      <td>-0.285714</td>\n",
       "      <td>0.889908</td>\n",
       "      <td>-0.391304</td>\n",
       "      <td>0.666667</td>\n",
       "      <td>0.764706</td>\n",
       "      <td>-0.557522</td>\n",
       "      <td>-0.285714</td>\n",
       "      <td>0.082569</td>\n",
       "      <td>-0.454545</td>\n",
       "      <td>-0.680000</td>\n",
       "      <td>-0.680000</td>\n",
       "      <td>-0.510373</td>\n",
       "      <td>-0.645833</td>\n",
       "      <td>-0.317073</td>\n",
       "      <td>-0.3125</td>\n",
       "      <td>-0.333333</td>\n",
       "      <td>0.779817</td>\n",
       "    </tr>\n",
       "    <tr>\n",
       "      <th>7006</th>\n",
       "      <td>1.0</td>\n",
       "      <td>0.533981</td>\n",
       "      <td>-0.657635</td>\n",
       "      <td>-0.928571</td>\n",
       "      <td>-0.515306</td>\n",
       "      <td>-0.545455</td>\n",
       "      <td>-0.214286</td>\n",
       "      <td>-0.285714</td>\n",
       "      <td>0.577982</td>\n",
       "      <td>-0.652174</td>\n",
       "      <td>0.444444</td>\n",
       "      <td>0.294118</td>\n",
       "      <td>-0.610619</td>\n",
       "      <td>-0.214286</td>\n",
       "      <td>-0.266055</td>\n",
       "      <td>-0.454545</td>\n",
       "      <td>-0.760000</td>\n",
       "      <td>-0.760000</td>\n",
       "      <td>-0.775934</td>\n",
       "      <td>-0.958333</td>\n",
       "      <td>-0.463415</td>\n",
       "      <td>-0.3750</td>\n",
       "      <td>-0.333333</td>\n",
       "      <td>0.541284</td>\n",
       "    </tr>\n",
       "  </tbody>\n",
       "</table>\n",
       "<p>7007 rows × 24 columns</p>\n",
       "</div>"
      ],
      "text/plain": [
       "      RiskPerformance  ExternalRiskEstimate  MSinceOldestTradeOpen  \\\n",
       "0                 1.0              0.533981              -0.600985   \n",
       "1                 1.0              0.417476              -0.724138   \n",
       "2                 1.0              0.786408              -0.460591   \n",
       "3                 0.0              0.708738              -0.633005   \n",
       "4                 1.0              0.864078              -0.549261   \n",
       "...               ...                   ...                    ...   \n",
       "7002              1.0              0.436893              -0.517241   \n",
       "7003              0.0              0.728155              -0.635468   \n",
       "7004              0.0              0.864078              -0.411330   \n",
       "7005              1.0              0.495146              -0.652709   \n",
       "7006              1.0              0.533981              -0.657635   \n",
       "\n",
       "      MSinceMostRecentTradeOpen  AverageMInFile  NumSatisfactoryTrades  \\\n",
       "0                     -0.918367       -0.551020              -0.068182   \n",
       "1                     -0.948980       -0.688776              -0.295455   \n",
       "2                     -0.938776       -0.576531              -0.250000   \n",
       "3                     -0.928571       -0.617347              -0.500000   \n",
       "4                     -0.943878       -0.653061              -0.431818   \n",
       "...                         ...             ...                    ...   \n",
       "7002                  -0.923469       -0.515306              -0.090909   \n",
       "7003                  -0.948980       -0.750000              -0.522727   \n",
       "7004                  -0.948980       -0.530612              -0.295455   \n",
       "7005                  -0.933673       -0.704082              -0.431818   \n",
       "7006                  -0.928571       -0.515306              -0.545455   \n",
       "\n",
       "      NumTrades60Ever2DerogPubRec  NumTrades90Ever2DerogPubRec  \\\n",
       "0                       -0.357143                    -0.357143   \n",
       "1                       -0.285714                    -0.285714   \n",
       "2                       -0.357143                    -0.357143   \n",
       "3                       -0.357143                    -0.357143   \n",
       "4                       -0.357143                    -0.357143   \n",
       "...                           ...                          ...   \n",
       "7002                    -0.357143                    -0.357143   \n",
       "7003                    -0.357143                    -0.357143   \n",
       "7004                    -0.357143                    -0.357143   \n",
       "7005                    -0.285714                    -0.285714   \n",
       "7006                    -0.214286                    -0.285714   \n",
       "\n",
       "      PercentTradesNeverDelq  MSinceMostRecentDelq  MaxDelq2PublicRecLast12M  \\\n",
       "0                   0.798165             -0.434783                  0.555556   \n",
       "1                   0.779817             -0.239130                  0.666667   \n",
       "2                   1.000000             -0.956522                  0.777778   \n",
       "3                   1.000000             -0.956522                  0.777778   \n",
       "4                   1.000000             -0.956522                  0.777778   \n",
       "...                      ...                   ...                       ...   \n",
       "7002                0.889908             -0.434783                  0.666667   \n",
       "7003                1.000000             -0.956522                  0.777778   \n",
       "7004                1.000000             -0.956522                  0.777778   \n",
       "7005                0.889908             -0.391304                  0.666667   \n",
       "7006                0.577982             -0.652174                  0.444444   \n",
       "\n",
       "      MaxDelqEver  NumTotalTrades  NumTradesOpeninLast12M  \\\n",
       "0        0.764706       -0.203540               -0.142857   \n",
       "1        0.764706       -0.415929               -0.142857   \n",
       "2        1.000000       -0.415929               -0.142857   \n",
       "3        1.000000       -0.610619               -0.285714   \n",
       "4        1.000000       -0.504425               -0.071429   \n",
       "...           ...             ...                     ...   \n",
       "7002     0.764706       -0.274336               -0.285714   \n",
       "7003     1.000000       -0.592920               -0.071429   \n",
       "7004     1.000000       -0.433628               -0.214286   \n",
       "7005     0.764706       -0.557522               -0.285714   \n",
       "7006     0.294118       -0.610619               -0.214286   \n",
       "\n",
       "      PercentInstallTrades  MSinceMostRecentInqexcl7days  NumInqLast6M  \\\n",
       "0                -0.174312                     -0.454545     -0.706667   \n",
       "1                -0.137615                     -0.393939     -0.626667   \n",
       "2                -0.302752                     -0.454545     -0.680000   \n",
       "3                -0.412844                      0.636364     -0.760000   \n",
       "4                -0.449541                     -0.454545     -0.706667   \n",
       "...                    ...                           ...           ...   \n",
       "7002             -0.211009                     -0.454545     -0.733333   \n",
       "7003             -0.174312                     -0.333333     -0.626667   \n",
       "7004             -0.431193                     -0.878788     -0.760000   \n",
       "7005              0.082569                     -0.454545     -0.680000   \n",
       "7006             -0.266055                     -0.454545     -0.760000   \n",
       "\n",
       "      NumInqLast6Mexcl7days  NetFractionRevolvingBurden  \\\n",
       "0                 -0.733333                   -0.286307   \n",
       "1                 -0.626667                   -0.684647   \n",
       "2                 -0.680000                   -0.834025   \n",
       "3                 -0.760000                   -0.618257   \n",
       "4                 -0.706667                   -0.842324   \n",
       "...                     ...                         ...   \n",
       "7002              -0.733333                   -0.443983   \n",
       "7003              -0.626667                   -0.767635   \n",
       "7004              -0.760000                   -0.917012   \n",
       "7005              -0.680000                   -0.510373   \n",
       "7006              -0.760000                   -0.775934   \n",
       "\n",
       "      NetFractionInstallBurden  NumRevolvingTradesWBalance  \\\n",
       "0                    -0.650000                   -0.219512   \n",
       "1                    -0.641667                   -0.365854   \n",
       "2                    -0.600000                   -0.463415   \n",
       "3                    -0.579167                   -0.512195   \n",
       "4                    -0.558333                   -0.268293   \n",
       "...                        ...                         ...   \n",
       "7002                 -0.641667                   -0.073171   \n",
       "7003                 -0.558333                   -0.317073   \n",
       "7004                 -0.754167                   -0.512195   \n",
       "7005                 -0.645833                   -0.317073   \n",
       "7006                 -0.958333                   -0.463415   \n",
       "\n",
       "      NumInstallTradesWBalance  NumBank2NatlTradesWHighUtilization  \\\n",
       "0                      -0.3750                           -0.259259   \n",
       "1                      -0.2500                           -0.185185   \n",
       "2                      -0.3125                           -0.333333   \n",
       "3                      -0.3125                           -0.259259   \n",
       "4                      -0.3125                           -0.333333   \n",
       "...                        ...                                 ...   \n",
       "7002                   -0.1875                           -0.037037   \n",
       "7003                   -0.3125                           -0.333333   \n",
       "7004                   -0.3125                           -0.333333   \n",
       "7005                   -0.3125                           -0.333333   \n",
       "7006                   -0.3750                           -0.333333   \n",
       "\n",
       "      PercentTradesWBalance  \n",
       "0                  0.798165  \n",
       "1                  0.229358  \n",
       "2                 -0.100917  \n",
       "3                  0.633028  \n",
       "4                  0.798165  \n",
       "...                     ...  \n",
       "7002               0.871560  \n",
       "7003               0.779817  \n",
       "7004              -0.064220  \n",
       "7005               0.779817  \n",
       "7006               0.541284  \n",
       "\n",
       "[7007 rows x 24 columns]"
      ]
     },
     "execution_count": 19,
     "metadata": {},
     "output_type": "execute_result"
    }
   ],
   "source": [
    "dataset"
   ]
  },
  {
   "cell_type": "code",
   "execution_count": 28,
   "id": "c81fb4a6",
   "metadata": {},
   "outputs": [],
   "source": [
    "#m = dice_ml.Model(model=clf_nn, backend='TF2')\n",
    "m = dice_ml.Model(model=clf_rf, backend='sklearn')\n",
    "#clf_pt.eval()\n",
    "#m = dice_ml.Model(model=clf_pt, backend='PYT')\n",
    "# initiate DiCE\n",
    "exp = dice_ml.Dice(d, m, method='random')"
   ]
  },
  {
   "cell_type": "code",
   "execution_count": 29,
   "id": "a083bc18",
   "metadata": {},
   "outputs": [
    {
     "name": "stderr",
     "output_type": "stream",
     "text": [
      "100%|██████████| 1/1 [00:00<00:00,  2.63it/s]\n"
     ]
    }
   ],
   "source": [
    "query_instances = dataset.iloc[0:1,1:]\n",
    "\n",
    "# generate counterfactuals\n",
    "dice_exp = exp.generate_counterfactuals(query_instances, \n",
    "                                        total_CFs=4, \n",
    "                                        desired_class=\"opposite\", \n",
    "                                        verbose=False)"
   ]
  },
  {
   "cell_type": "code",
   "execution_count": 30,
   "id": "be0a5366",
   "metadata": {},
   "outputs": [
    {
     "data": {
      "text/plain": [
       "(4, 24)"
      ]
     },
     "execution_count": 30,
     "metadata": {},
     "output_type": "execute_result"
    }
   ],
   "source": [
    "q_cfs_dice = dice_exp.cf_examples_list[0].final_cfs_df.values\n",
    "q_cfs_dice.shape"
   ]
  },
  {
   "cell_type": "code",
   "execution_count": 18,
   "id": "dcb89b8b",
   "metadata": {},
   "outputs": [
    {
     "data": {
      "application/vnd.jupyter.widget-view+json": {
       "model_id": "aef9327f25cd4842b232bfc82ccd0f20",
       "version_major": 2,
       "version_minor": 0
      },
      "text/plain": [
       "  0%|          | 0/10 [00:00<?, ?it/s]"
      ]
     },
     "metadata": {},
     "output_type": "display_data"
    },
    {
     "name": "stderr",
     "output_type": "stream",
     "text": [
      "WARNING:root: MAD for feature NumTrades60Ever2DerogPubRec is 0, so replacing it with 1.0 to avoid error.\n",
      "WARNING:root: MAD for feature NumTrades90Ever2DerogPubRec is 0, so replacing it with 1.0 to avoid error.\n",
      "WARNING:root: MAD for feature NumTrades60Ever2DerogPubRec is 0, so replacing it with 1.0 to avoid error.\n",
      "WARNING:root: MAD for feature NumTrades90Ever2DerogPubRec is 0, so replacing it with 1.0 to avoid error.\n"
     ]
    },
    {
     "name": "stdout",
     "output_type": "stream",
     "text": [
      "Diverse Counterfactuals found! total time taken: 00 min 22 sec\n"
     ]
    },
    {
     "name": "stderr",
     "output_type": "stream",
     "text": [
      "WARNING:root: MAD for feature NumTrades60Ever2DerogPubRec is 0, so replacing it with 1.0 to avoid error.\n",
      "WARNING:root: MAD for feature NumTrades90Ever2DerogPubRec is 0, so replacing it with 1.0 to avoid error.\n"
     ]
    },
    {
     "name": "stdout",
     "output_type": "stream",
     "text": [
      "Diverse Counterfactuals found! total time taken: 01 min 36 sec\n"
     ]
    },
    {
     "name": "stderr",
     "output_type": "stream",
     "text": [
      "WARNING:root: MAD for feature NumTrades60Ever2DerogPubRec is 0, so replacing it with 1.0 to avoid error.\n",
      "WARNING:root: MAD for feature NumTrades90Ever2DerogPubRec is 0, so replacing it with 1.0 to avoid error.\n"
     ]
    },
    {
     "name": "stdout",
     "output_type": "stream",
     "text": [
      "Diverse Counterfactuals found! total time taken: 00 min 45 sec\n"
     ]
    },
    {
     "name": "stderr",
     "output_type": "stream",
     "text": [
      "WARNING:root: MAD for feature NumTrades60Ever2DerogPubRec is 0, so replacing it with 1.0 to avoid error.\n",
      "WARNING:root: MAD for feature NumTrades90Ever2DerogPubRec is 0, so replacing it with 1.0 to avoid error.\n"
     ]
    },
    {
     "name": "stdout",
     "output_type": "stream",
     "text": [
      "Diverse Counterfactuals found! total time taken: 00 min 30 sec\n"
     ]
    },
    {
     "name": "stderr",
     "output_type": "stream",
     "text": [
      "WARNING:root: MAD for feature NumTrades60Ever2DerogPubRec is 0, so replacing it with 1.0 to avoid error.\n",
      "WARNING:root: MAD for feature NumTrades90Ever2DerogPubRec is 0, so replacing it with 1.0 to avoid error.\n"
     ]
    },
    {
     "name": "stdout",
     "output_type": "stream",
     "text": [
      "Diverse Counterfactuals found! total time taken: 00 min 44 sec\n"
     ]
    },
    {
     "name": "stderr",
     "output_type": "stream",
     "text": [
      "WARNING:root: MAD for feature NumTrades60Ever2DerogPubRec is 0, so replacing it with 1.0 to avoid error.\n",
      "WARNING:root: MAD for feature NumTrades90Ever2DerogPubRec is 0, so replacing it with 1.0 to avoid error.\n"
     ]
    },
    {
     "name": "stdout",
     "output_type": "stream",
     "text": [
      "Diverse Counterfactuals found! total time taken: 00 min 23 sec\n"
     ]
    },
    {
     "name": "stderr",
     "output_type": "stream",
     "text": [
      "WARNING:root: MAD for feature NumTrades60Ever2DerogPubRec is 0, so replacing it with 1.0 to avoid error.\n",
      "WARNING:root: MAD for feature NumTrades90Ever2DerogPubRec is 0, so replacing it with 1.0 to avoid error.\n"
     ]
    },
    {
     "name": "stdout",
     "output_type": "stream",
     "text": [
      "Diverse Counterfactuals found! total time taken: 00 min 41 sec\n"
     ]
    },
    {
     "name": "stderr",
     "output_type": "stream",
     "text": [
      "WARNING:root: MAD for feature NumTrades60Ever2DerogPubRec is 0, so replacing it with 1.0 to avoid error.\n",
      "WARNING:root: MAD for feature NumTrades90Ever2DerogPubRec is 0, so replacing it with 1.0 to avoid error.\n"
     ]
    },
    {
     "name": "stdout",
     "output_type": "stream",
     "text": [
      "Diverse Counterfactuals found! total time taken: 00 min 20 sec\n"
     ]
    },
    {
     "name": "stderr",
     "output_type": "stream",
     "text": [
      "WARNING:root: MAD for feature NumTrades60Ever2DerogPubRec is 0, so replacing it with 1.0 to avoid error.\n",
      "WARNING:root: MAD for feature NumTrades90Ever2DerogPubRec is 0, so replacing it with 1.0 to avoid error.\n"
     ]
    },
    {
     "name": "stdout",
     "output_type": "stream",
     "text": [
      "Diverse Counterfactuals found! total time taken: 00 min 20 sec\n",
      "Diverse Counterfactuals found! total time taken: 00 min 25 sec\n"
     ]
    }
   ],
   "source": [
    "from scipy.spatial.distance import cdist\n",
    "\n",
    "d_dist_dice = []\n",
    "d_count_dice = []\n",
    "d_impl_dice = []\n",
    "num_dice = []\n",
    "div_dist_dice = []\n",
    "div_count_dice = []\n",
    "\n",
    "for i in tqdm(range(10)):\n",
    "    query_instances = dataset.iloc[i:i+1,1:]\n",
    "\n",
    "    dice_exp = exp.generate_counterfactuals(query_instances, \n",
    "                                            total_CFs=4, \n",
    "                                            desired_class=\"opposite\", \n",
    "                                            verbose=False)\n",
    "    q_cfs_dice = dice_exp.cf_examples_list[0].final_cfs_df.values\n",
    "    \n",
    "    d_dist_dice.append(np.min(cdist(q_cfs_dice[:,:-1],query_instances.values)))\n",
    "    d_count_dice.append(1/(q_cfs_dice.shape[1]*q_cfs_dice.shape[0])*np.sum(q_cfs_dice[:,:-1]!=query_instances.values))\n",
    "    d_impl_dice.append(np.min(cdist(q_cfs_dice[:,:-1],X_train)))\n",
    "    num_dice.append(len(q_cfs_dice))\n",
    "    div_dist_dice.append(1/(q_cfs_dice.shape[0]**2)*np.sum(cdist(q_cfs_dice[:,:-1],q_cfs_dice[:,:-1])))\n",
    "    div_count_dice.append(23/(q_cfs_dice.shape[0]**2)*np.sum(cdist(q_cfs_dice[:,:-1], q_cfs_dice[:,:-1],metric='hamming')))\n",
    "    "
   ]
  },
  {
   "cell_type": "code",
   "execution_count": 19,
   "id": "b7b9e741",
   "metadata": {},
   "outputs": [
    {
     "name": "stdout",
     "output_type": "stream",
     "text": [
      "d_dist: \t 2.20078 0.33072\n",
      "d_count: \t 0.85417 0.20215\n",
      "implicity: \t 1.74571 0.29195\n",
      "number: \t 4.0 \t 0.0\n",
      "div_dist: \t 0.90989 0.23642\n",
      "div_count: \t 11.075 2.09404\n",
      "success_rate: \t 1.0\n"
     ]
    }
   ],
   "source": [
    "print('d_dist: \\t',    np.round(np.mean(d_dist_dice),5),   np.round(np.std(d_dist_dice),5))\n",
    "print('d_count: \\t',   np.round(np.mean(d_count_dice),5),  np.round(np.std(d_count_dice),5))\n",
    "print('implicity: \\t', np.round(np.mean(d_impl_dice),5),   np.round(np.std(d_impl_dice),5))\n",
    "print('number: \\t',    np.round(np.mean(num_dice),5),'\\t', np.round(np.std(num_dice),5))\n",
    "print('div_dist: \\t',  np.round(np.mean(div_dist_dice),5), np.round(np.std(div_dist_dice),5))\n",
    "print('div_count: \\t', np.round(np.mean(div_count_dice),5),np.round(np.std(div_count_dice),5))\n",
    "\n",
    "print('success_rate: \\t', len(d_dist_dice)/10)"
   ]
  },
  {
   "cell_type": "markdown",
   "id": "2b29b5b8",
   "metadata": {},
   "source": [
    "# Watcher (FAT-Forensic)"
   ]
  },
  {
   "cell_type": "code",
   "execution_count": 20,
   "id": "5a889fa4",
   "metadata": {},
   "outputs": [
    {
     "data": {
      "text/plain": [
       "<bound method Model.predict of <tensorflow.python.keras.engine.sequential.Sequential object at 0x7f8d0a854210>>"
      ]
     },
     "execution_count": 20,
     "metadata": {},
     "output_type": "execute_result"
    }
   ],
   "source": [
    "clf_nn.predict"
   ]
  },
  {
   "cell_type": "code",
   "execution_count": 25,
   "id": "563a8ff5",
   "metadata": {},
   "outputs": [
    {
     "data": {
      "text/plain": [
       "array([1, 1, 0, ..., 0, 1, 1])"
      ]
     },
     "execution_count": 25,
     "metadata": {},
     "output_type": "execute_result"
    }
   ],
   "source": [
    "fat_model.predict(X_train)"
   ]
  },
  {
   "cell_type": "code",
   "execution_count": 33,
   "id": "3d2fa3bc",
   "metadata": {},
   "outputs": [],
   "source": [
    "import fatf.utils.data.datasets as fatf_datasets\n",
    "import fatf.utils.models as fatf_models\n",
    "\n",
    "import fatf.transparency.predictions.counterfactuals as fatf_cf\n",
    "\n",
    "class FAT_wrapper():\n",
    "    def __init__(self,model):\n",
    "        self.model = model\n",
    "\n",
    "    def predict(self,x):\n",
    "        return np.round(self.model.predict(x).ravel()).astype(int).ravel()\n",
    "\n",
    "    def fit(self, x, y):\n",
    "        pass\n",
    "\n",
    "    def predict_proba(self,x):\n",
    "        return self.model.predict(x).ravel()\n",
    "\n",
    "fat_model = FAT_wrapper(clf_nn)\n",
    "\n",
    "# Create a Counterfactual Explainer\n",
    "cf_explainer = fatf_cf.CounterfactualExplainer(\n",
    "    model=fat_model,\n",
    "    dataset=X_train,\n",
    "    categorical_indices=[],\n",
    "    default_numerical_step_size=0.1)"
   ]
  },
  {
   "cell_type": "code",
   "execution_count": 38,
   "id": "9cdfdb68",
   "metadata": {},
   "outputs": [],
   "source": [
    "dp_1_cf_tuple = cf_explainer.explain_instance(X_test[0])\n",
    "dp_1_cfs, dp_1_cfs_distances, dp_1_cfs_predictions = dp_1_cf_tuple"
   ]
  },
  {
   "cell_type": "code",
   "execution_count": 39,
   "id": "d8b2a2c8",
   "metadata": {},
   "outputs": [
    {
     "data": {
      "text/plain": [
       "array([[0.4551267]], dtype=float32)"
      ]
     },
     "execution_count": 39,
     "metadata": {},
     "output_type": "execute_result"
    }
   ],
   "source": [
    "clf_nn.predict(X_test[0:1])"
   ]
  },
  {
   "cell_type": "code",
   "execution_count": 40,
   "id": "ba779b4f",
   "metadata": {},
   "outputs": [
    {
     "data": {
      "text/plain": [
       "array([1, 1, 1, 1, 1, 1, 1, 1, 1, 1, 1, 1, 1, 1, 1, 1, 1, 1, 1, 1, 1, 1,\n",
       "       1, 1, 1, 1, 1, 1, 1, 1, 1, 1, 1, 1, 1, 1, 1, 1, 1, 1, 1, 1, 1, 1,\n",
       "       1, 1, 1, 1, 1, 1, 1, 1, 1, 1, 1, 1, 1, 1, 1, 1, 1, 1, 1, 1, 1, 1,\n",
       "       1, 1, 1, 1, 1, 1, 1, 1, 1, 1, 1, 1, 1, 1, 1, 1, 1, 1, 1, 1, 1, 1,\n",
       "       1, 1, 1, 1, 1, 1, 1, 1, 1, 1, 1, 1, 1, 1, 1, 1, 1, 1, 1, 1, 1, 1,\n",
       "       1, 1, 1, 1, 1, 1, 1, 1, 1, 1, 1, 1, 1, 1, 1, 1, 1, 1, 1, 1, 1, 1,\n",
       "       1, 1, 1, 1, 1, 1, 1, 1, 1, 1, 1, 1, 1, 1, 1, 1, 1, 1, 1, 1, 1, 1,\n",
       "       1, 1, 1, 1, 1, 1, 1, 1, 1, 1, 1, 1, 1, 1, 1, 1, 1, 1, 1, 1, 1, 1,\n",
       "       1, 1, 1, 1, 1, 1, 1, 1, 1, 1, 1, 1, 1, 1, 1, 1, 1, 1, 1, 1, 1, 1,\n",
       "       1, 1, 1, 1, 1, 1, 1, 1, 1, 1, 1, 1, 1, 1, 1, 1, 1, 1, 1, 1, 1, 1,\n",
       "       1, 1, 1, 1, 1, 1, 1, 1, 1, 1, 1, 1, 1, 1, 1, 1, 1, 1, 1, 1, 1, 1,\n",
       "       1, 1, 1, 1, 1, 1, 1, 1, 1, 1, 1, 1, 1, 1, 1, 1, 1, 1, 1, 1, 1, 1,\n",
       "       1, 1, 1, 1, 1, 1, 1, 1, 1, 1, 1, 1, 1, 1, 1, 1, 1, 1, 1])"
      ]
     },
     "execution_count": 40,
     "metadata": {},
     "output_type": "execute_result"
    }
   ],
   "source": [
    "dp_1_cfs_predictions"
   ]
  },
  {
   "cell_type": "code",
   "execution_count": 42,
   "id": "9eeb53e1",
   "metadata": {},
   "outputs": [
    {
     "data": {
      "text/plain": [
       "(283, 23)"
      ]
     },
     "execution_count": 42,
     "metadata": {},
     "output_type": "execute_result"
    }
   ],
   "source": [
    "dp_1_cfs.shape"
   ]
  },
  {
   "cell_type": "code",
   "execution_count": 44,
   "id": "4a8875e9",
   "metadata": {},
   "outputs": [
    {
     "data": {
      "text/plain": [
       "(1, 23)"
      ]
     },
     "execution_count": 44,
     "metadata": {},
     "output_type": "execute_result"
    }
   ],
   "source": [
    "q.reshape(1,-1).shape"
   ]
  },
  {
   "cell_type": "markdown",
   "id": "39a04665",
   "metadata": {},
   "source": [
    "# CEM"
   ]
  },
  {
   "cell_type": "code",
   "execution_count": 9,
   "id": "4c937588",
   "metadata": {},
   "outputs": [
    {
     "name": "stdout",
     "output_type": "stream",
     "text": [
      "TF version:  2.5.0\n",
      "Eager execution enabled:  False\n"
     ]
    }
   ],
   "source": [
    "import tensorflow as tf\n",
    "tf.get_logger().setLevel(40) # suppress deprecation messages\n",
    "tf.compat.v1.disable_v2_behavior() # disable TF2 behaviour as alibi code still relies on TF1 constructs\n",
    "from tensorflow.keras.layers import Dense, Input\n",
    "from tensorflow.keras.models import Model, load_model\n",
    "from tensorflow.keras.utils import to_categorical\n",
    "\n",
    "import matplotlib\n",
    "import matplotlib.pyplot as plt\n",
    "import numpy as np\n",
    "import os\n",
    "import pandas as pd\n",
    "import seaborn as sns\n",
    "from alibi.explainers import CEM\n",
    "\n",
    "print('TF version: ', tf.__version__)\n",
    "print('Eager execution enabled: ', tf.executing_eagerly()) # False"
   ]
  },
  {
   "cell_type": "code",
   "execution_count": 11,
   "id": "4ac26336",
   "metadata": {},
   "outputs": [
    {
     "name": "stdout",
     "output_type": "stream",
     "text": [
      "Prediction probabilities for each class on the instance: [[0.8737931]]\n"
     ]
    }
   ],
   "source": [
    "idx = 2\n",
    "X = X_test[idx].reshape(1,-1)\n",
    "print(f'Prediction probabilities for each class on the instance: {clf_nn.predict(X)}')"
   ]
  },
  {
   "cell_type": "code",
   "execution_count": 12,
   "id": "b9563865",
   "metadata": {},
   "outputs": [],
   "source": [
    "mode = 'PN'  # 'PN' (pertinent negative) or 'PP' (pertinent positive)\n",
    "shape = (1,) + X_train.shape[1:]  # instance shape\n",
    "kappa = .2  # minimum difference needed between the prediction probability for the perturbed instance on the\n",
    "            # class predicted by the original instance and the max probability on the other classes\n",
    "            # in order for the first loss term to be minimized\n",
    "beta = .1  # weight of the L1 loss term\n",
    "c_init = 5.  # initial weight c of the loss term encouraging to predict a different class (PN) or\n",
    "              # the same class (PP) for the perturbed instance compared to the original instance to be explained\n",
    "c_steps = 10  # nb of updates for c\n",
    "max_iterations = 1000  # nb of iterations per value of c\n",
    "feature_range = (X_train.min(axis=0).reshape(shape),  # feature range for the perturbed instance\n",
    "                 X_train.max(axis=0).reshape(shape))  # can be either a float or array of shape (1xfeatures)\n",
    "clip = (-1000.,1000.)  # gradient clipping\n",
    "lr_init = 1e-2  # initial learning rate"
   ]
  },
  {
   "cell_type": "code",
   "execution_count": 13,
   "id": "2632bc70",
   "metadata": {},
   "outputs": [
    {
     "name": "stderr",
     "output_type": "stream",
     "text": [
      "No PN found!\n"
     ]
    }
   ],
   "source": [
    "# initialize CEM explainer and explain instance\n",
    "cem = CEM(clf_nn, mode, shape, kappa=kappa, beta=beta, feature_range=feature_range,\n",
    "          max_iterations=max_iterations, c_init=c_init, c_steps=c_steps,\n",
    "          learning_rate_init=lr_init, clip=clip)\n",
    "cem.fit(X_train, no_info_type='median')  # we need to define what feature values contain the least\n",
    "                                         # info wrt predictions\n",
    "                                         # here we will naively assume that the feature-wise median\n",
    "                                         # contains no info; domain knowledge helps!\n",
    "explanation = cem.explain(X, verbose=False)"
   ]
  },
  {
   "cell_type": "code",
   "execution_count": 27,
   "id": "d4b8dc9f",
   "metadata": {},
   "outputs": [],
   "source": [
    "mode = 'PP'\n",
    "\n",
    "# initialize CEM explainer and explain instance\n",
    "cem = CEM(clf_nn, mode, shape, kappa=kappa, beta=beta, feature_range=feature_range,\n",
    "          max_iterations=max_iterations, c_init=c_init, c_steps=c_steps,\n",
    "          learning_rate_init=lr_init, clip=clip)\n",
    "cem.fit(X_train, no_info_type='median')\n",
    "explanation = cem.explain(X, verbose=False)"
   ]
  },
  {
   "cell_type": "code",
   "execution_count": 32,
   "id": "b82deb86",
   "metadata": {},
   "outputs": [
    {
     "data": {
      "text/html": [
       "<div>\n",
       "<style scoped>\n",
       "    .dataframe tbody tr th:only-of-type {\n",
       "        vertical-align: middle;\n",
       "    }\n",
       "\n",
       "    .dataframe tbody tr th {\n",
       "        vertical-align: top;\n",
       "    }\n",
       "\n",
       "    .dataframe thead th {\n",
       "        text-align: right;\n",
       "    }\n",
       "</style>\n",
       "<table border=\"1\" class=\"dataframe\">\n",
       "  <thead>\n",
       "    <tr style=\"text-align: right;\">\n",
       "      <th></th>\n",
       "      <th>0</th>\n",
       "      <th>1</th>\n",
       "      <th>2</th>\n",
       "      <th>3</th>\n",
       "      <th>4</th>\n",
       "      <th>5</th>\n",
       "      <th>6</th>\n",
       "      <th>7</th>\n",
       "      <th>8</th>\n",
       "      <th>9</th>\n",
       "      <th>10</th>\n",
       "      <th>11</th>\n",
       "      <th>12</th>\n",
       "      <th>13</th>\n",
       "      <th>14</th>\n",
       "      <th>15</th>\n",
       "      <th>16</th>\n",
       "      <th>17</th>\n",
       "      <th>18</th>\n",
       "      <th>19</th>\n",
       "      <th>20</th>\n",
       "      <th>21</th>\n",
       "      <th>22</th>\n",
       "    </tr>\n",
       "  </thead>\n",
       "  <tbody>\n",
       "    <tr>\n",
       "      <th>0</th>\n",
       "      <td>-8.101602e-09</td>\n",
       "      <td>1.335966e-08</td>\n",
       "      <td>2.919411e-08</td>\n",
       "      <td>-1.094779e-08</td>\n",
       "      <td>8.127906e-09</td>\n",
       "      <td>8.514949e-09</td>\n",
       "      <td>8.514949e-09</td>\n",
       "      <td>0.0</td>\n",
       "      <td>1.036603e-08</td>\n",
       "      <td>-1.324548e-08</td>\n",
       "      <td>0.0</td>\n",
       "      <td>2.109899e-09</td>\n",
       "      <td>2.128737e-09</td>\n",
       "      <td>4.784777e-09</td>\n",
       "      <td>1.354651e-08</td>\n",
       "      <td>-9.536743e-09</td>\n",
       "      <td>-9.536743e-09</td>\n",
       "      <td>2.324828e-08</td>\n",
       "      <td>-1.192093e-08</td>\n",
       "      <td>8.722631e-09</td>\n",
       "      <td>0.0</td>\n",
       "      <td>-5.518949e-09</td>\n",
       "      <td>4.237945e-09</td>\n",
       "    </tr>\n",
       "  </tbody>\n",
       "</table>\n",
       "</div>"
      ],
      "text/plain": [
       "             0             1             2             3             4   \\\n",
       "0 -8.101602e-09  1.335966e-08  2.919411e-08 -1.094779e-08  8.127906e-09   \n",
       "\n",
       "             5             6    7             8             9    10  \\\n",
       "0  8.514949e-09  8.514949e-09  0.0  1.036603e-08 -1.324548e-08  0.0   \n",
       "\n",
       "             11            12            13            14            15  \\\n",
       "0  2.109899e-09  2.128737e-09  4.784777e-09  1.354651e-08 -9.536743e-09   \n",
       "\n",
       "             16            17            18            19   20            21  \\\n",
       "0 -9.536743e-09  2.324828e-08 -1.192093e-08  8.722631e-09  0.0 -5.518949e-09   \n",
       "\n",
       "             22  \n",
       "0  4.237945e-09  "
      ]
     },
     "execution_count": 32,
     "metadata": {},
     "output_type": "execute_result"
    }
   ],
   "source": [
    "pd.DataFrame(explanation.PP)"
   ]
  },
  {
   "cell_type": "code",
   "execution_count": null,
   "id": "e1db2e41",
   "metadata": {},
   "outputs": [],
   "source": []
  },
  {
   "cell_type": "markdown",
   "id": "04712bcb",
   "metadata": {},
   "source": [
    "# Guided Prototypes"
   ]
  },
  {
   "cell_type": "code",
   "execution_count": 14,
   "id": "d48cadee",
   "metadata": {},
   "outputs": [
    {
     "name": "stdout",
     "output_type": "stream",
     "text": [
      "TF version:  2.5.0\n",
      "Eager execution enabled:  False\n"
     ]
    }
   ],
   "source": [
    "import tensorflow as tf\n",
    "tf.get_logger().setLevel(40) # suppress deprecation messages\n",
    "tf.compat.v1.disable_v2_behavior() # disable TF2 behaviour as alibi code still relies on TF1 constructs\n",
    "from tensorflow.keras.layers import Dense, Input\n",
    "from tensorflow.keras.models import Model, load_model\n",
    "from tensorflow.keras.utils import to_categorical\n",
    "import matplotlib\n",
    "import matplotlib.pyplot as plt\n",
    "import numpy as np\n",
    "import os\n",
    "from alibi.explainers import CounterfactualProto\n",
    "\n",
    "print('TF version: ', tf.__version__)\n",
    "print('Eager execution enabled: ', tf.executing_eagerly()) # False"
   ]
  },
  {
   "cell_type": "code",
   "execution_count": 17,
   "id": "01fa1b13",
   "metadata": {},
   "outputs": [],
   "source": [
    "idx = 0\n",
    "X = X_test[idx].reshape((1,) + X_test[idx].shape)\n",
    "shape = X.shape"
   ]
  },
  {
   "cell_type": "code",
   "execution_count": 22,
   "id": "e84eff34",
   "metadata": {},
   "outputs": [
    {
     "name": "stderr",
     "output_type": "stream",
     "text": [
      "No counterfactual found!\n"
     ]
    }
   ],
   "source": [
    "# initialize explainer, fit and generate counterfactual\n",
    "cf = CounterfactualProto(clf_nn, shape, use_kdtree=False, theta=10., max_iterations=1000,\n",
    "                         feature_range=(X_train.min(axis=0), X_train.max(axis=0)),\n",
    "                         c_init=1., c_steps=10)\n",
    "\n",
    "cf.fit(X_train)\n",
    "explanation = cf.explain(X)"
   ]
  },
  {
   "cell_type": "code",
   "execution_count": 21,
   "id": "514864ce",
   "metadata": {},
   "outputs": [
    {
     "data": {
      "text/plain": [
       "array([ 0.98058252,  1.        ,  1.        ,  1.        ,  1.        ,\n",
       "        0.85714286,  0.78571429,  1.        ,  1.        ,  1.        ,\n",
       "        1.        ,  1.        ,  1.        ,  1.        ,  1.        ,\n",
       "        1.        ,  1.        ,  0.4439834 , -0.14583333,  1.        ,\n",
       "        0.75      ,  1.        ,  1.        ])"
      ]
     },
     "execution_count": 21,
     "metadata": {},
     "output_type": "execute_result"
    }
   ],
   "source": [
    "X_train.max(axis=0)"
   ]
  },
  {
   "cell_type": "code",
   "execution_count": null,
   "id": "0cd74136",
   "metadata": {},
   "outputs": [],
   "source": []
  }
 ],
 "metadata": {
  "kernelspec": {
   "display_name": "Python 3",
   "language": "python",
   "name": "python3"
  },
  "language_info": {
   "codemirror_mode": {
    "name": "ipython",
    "version": 3
   },
   "file_extension": ".py",
   "mimetype": "text/x-python",
   "name": "python",
   "nbconvert_exporter": "python",
   "pygments_lexer": "ipython3",
   "version": "3.7.12"
  }
 },
 "nbformat": 4,
 "nbformat_minor": 5
}
